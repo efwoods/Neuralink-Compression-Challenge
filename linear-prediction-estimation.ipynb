{
 "cells": [
  {
   "cell_type": "code",
   "execution_count": 27,
   "metadata": {},
   "outputs": [
    {
     "ename": "IndentationError",
     "evalue": "unexpected indent (3627298524.py, line 4)",
     "output_type": "error",
     "traceback": [
      "\u001b[0;36m  Cell \u001b[0;32mIn[27], line 4\u001b[0;36m\u001b[0m\n\u001b[0;31m    \"\"\"Use linear prediction estimation to create residuals from the prediction of the input wave file.\u001b[0m\n\u001b[0m    ^\u001b[0m\n\u001b[0;31mIndentationError\u001b[0m\u001b[0;31m:\u001b[0m unexpected indent\n"
     ]
    }
   ],
   "source": [
    "# Linear prediction estimation: https://www.youtube.com/watch?v=NtTYdYffalY\n",
    "# https://www.youtube.com/watch?v=ZqpSb5p1xQo\n",
    "\n",
    "\"\"\"Use linear prediction estimation to predict values of a sample. \n",
    "Identify the residuals of the difference between this prediction and\n",
    "the original sample. Write the coefficients of the prediction and the\n",
    "residuals as the output. The residuals should be encoded using \n",
    "Exponential Golomb encoding \n",
    "(https://www.youtube.com/watch?v=roGtuW4pNac). This encoding method will\n",
    "use less bits for values that are smaller. If the residuals are often small, \n",
    "this will result in a greater compression ratio potentially. \n",
    "\"\"\""
   ]
  },
  {
   "cell_type": "code",
   "execution_count": 2,
   "metadata": {},
   "outputs": [],
   "source": [
    "import librosa\n",
    "import scipy\n",
    "import numpy as np\n",
    "import logging\n",
    "from importlib.util import spec_from_loader, module_from_spec\n",
    "from importlib.machinery import SourceFileLoader\n",
    "\n",
    "# import encode \n",
    "spec = spec_from_loader(\"encode\", SourceFileLoader(\"encode\", \"./encode\"))\n",
    "encode = module_from_spec(spec)\n",
    "spec.loader.exec_module(encode)\n",
    "\n",
    "file = 'data/0ab237b7-fb12-4687-afed-8d1e2070d621.wav'\n",
    "\n",
    "input_wav = encode.read_file(file)\n",
    "lpc_order = 10\n"
   ]
  },
  {
   "cell_type": "code",
   "execution_count": 12,
   "metadata": {},
   "outputs": [],
   "source": [
    "y, sr = librosa.load(file)"
   ]
  },
  {
   "cell_type": "code",
   "execution_count": 16,
   "metadata": {},
   "outputs": [
    {
     "data": {
      "text/plain": [
       "array([0.04933495, 0.05901925, 0.04806332, ..., 0.04215939, 0.04258398,\n",
       "       0.        ], dtype=float32)"
      ]
     },
     "execution_count": 16,
     "metadata": {},
     "output_type": "execute_result"
    }
   ],
   "source": [
    "y"
   ]
  },
  {
   "cell_type": "code",
   "execution_count": 17,
   "metadata": {},
   "outputs": [],
   "source": [
    "a = librosa.lpc(y=y, order=lpc_order)"
   ]
  },
  {
   "cell_type": "code",
   "execution_count": 18,
   "metadata": {},
   "outputs": [
    {
     "data": {
      "text/plain": [
       "array([ 1.        , -1.3745602 ,  1.0743389 , -1.2038124 ,  1.2227042 ,\n",
       "       -1.2176883 ,  1.0748787 , -0.9384279 ,  0.7152793 , -0.52670133,\n",
       "        0.19240542], dtype=float32)"
      ]
     },
     "execution_count": 18,
     "metadata": {},
     "output_type": "execute_result"
    }
   ],
   "source": [
    "a"
   ]
  },
  {
   "cell_type": "code",
   "execution_count": 26,
   "metadata": {},
   "outputs": [
    {
     "data": {
      "text/plain": [
       "array([ 1.        , -1.3745602 ,  1.0743389 , -1.2038124 ,  1.2227042 ,\n",
       "       -1.2176883 ,  1.0748787 , -0.9384279 ,  0.7152793 , -0.52670133,\n",
       "        0.19240542], dtype=float32)"
      ]
     },
     "execution_count": 26,
     "metadata": {},
     "output_type": "execute_result"
    }
   ],
   "source": [
    "a"
   ]
  },
  {
   "cell_type": "code",
   "execution_count": 22,
   "metadata": {},
   "outputs": [
    {
     "name": "stdout",
     "output_type": "stream",
     "text": [
      "[ 1.         -1.3745602   1.0743389  -1.2038124   1.2227042  -1.2176883\n",
      "  1.0748787  -0.9384279   0.7152793  -0.52670133  0.19240542]\n",
      "[ 0.06781386  0.02812305  0.06204928 ...  0.05086675  0.0320873\n",
      " -0.00855744]\n",
      "[-0.00879461  0.01994027 -0.01460078 ...  0.01806241 -0.00828277\n",
      " -0.0320873 ]\n"
     ]
    }
   ],
   "source": [
    "\n",
    "print(a)\n",
    "s_hat = scipy.signal.lfilter([0] + -1*a[1:], [1], y)\n",
    "s_err = y[1:] - s_hat[:-1]\n",
    "print(s_hat)\n",
    "print(s_err)"
   ]
  },
  {
   "cell_type": "code",
   "execution_count": 24,
   "metadata": {},
   "outputs": [
    {
     "name": "stdout",
     "output_type": "stream",
     "text": [
      "111476\n"
     ]
    },
    {
     "data": {
      "text/plain": [
       "numpy.ndarray"
      ]
     },
     "execution_count": 24,
     "metadata": {},
     "output_type": "execute_result"
    }
   ],
   "source": [
    "print(len(s_err))\n",
    "type(s_err)"
   ]
  },
  {
   "cell_type": "code",
   "execution_count": null,
   "metadata": {},
   "outputs": [],
   "source": []
  }
 ],
 "metadata": {
  "kernelspec": {
   "display_name": "py_encoding_env",
   "language": "python",
   "name": "python3"
  },
  "language_info": {
   "codemirror_mode": {
    "name": "ipython",
    "version": 3
   },
   "file_extension": ".py",
   "mimetype": "text/x-python",
   "name": "python",
   "nbconvert_exporter": "python",
   "pygments_lexer": "ipython3",
   "version": "3.12.3"
  }
 },
 "nbformat": 4,
 "nbformat_minor": 2
}
