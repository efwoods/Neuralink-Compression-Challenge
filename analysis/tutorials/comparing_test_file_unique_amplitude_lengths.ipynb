{
 "cells": [
  {
   "cell_type": "code",
   "execution_count": 2,
   "metadata": {},
   "outputs": [],
   "source": [
    "from scipy.io import wavfile\n",
    "from signal_processing_utilities import process_signal\n",
    "import numpy as np\n",
    "import os"
   ]
  },
  {
   "cell_type": "code",
   "execution_count": 3,
   "metadata": {},
   "outputs": [],
   "source": [
    "current_file = \"../../data/102b47d9-371e-412a-8995-0dc6115ab2bb.wav\"\n",
    "debug_file = \"../../data/0052503c-2849-4f41-ab51-db382103690c.wav\"\n",
    "\n",
    "current_compressed_file = current_file + \".brainwire\"\n",
    "debug_compressed_file = debug_file + \".brainwire\""
   ]
  },
  {
   "cell_type": "code",
   "execution_count": 4,
   "metadata": {},
   "outputs": [],
   "source": [
    "dir_path = \"../../\"\n",
    "file = dir_path + \"data/0ab237b7-fb12-4687-afed-8d1e2070d621.wav\"\n",
    "compressed_file_path = dir_path + (\n",
    "    \"data/0ab237b7-fb12-4687-afed-8d1e2070d621.wav.brainwire\"\n",
    ")\n",
    "debug_file = dir_path + \"data/0052503c-2849-4f41-ab51-db382103690c.wav\"\n",
    "debug_compressed_file_path = dir_path + (\n",
    "        \"data/0052503c-2849-4f41-ab51-db382103690c.wav.brainwire\"\n",
    ")"
   ]
  },
  {
   "cell_type": "code",
   "execution_count": 5,
   "metadata": {},
   "outputs": [],
   "source": [
    "def print_num_of_unique_amplitudes(file_path: str):\n",
    "    \"\"\"This function will print the number of unique amplitudes \n",
    "    associated with a given file.\n",
    "\n",
    "    Args:\n",
    "        file_path (str): This is the path to the file to be analyzed.\n",
    "    \"\"\"\n",
    "    sr, data = wavfile.read(file_path)\n",
    "    print(f\"File Name: {os.path.basename(file_path)}\")\n",
    "    print(f\"Number of unique amplitudes: {len(np.unique(data))}\\n\")\n",
    "    "
   ]
  },
  {
   "cell_type": "code",
   "execution_count": 6,
   "metadata": {},
   "outputs": [
    {
     "name": "stdout",
     "output_type": "stream",
     "text": [
      "File Name: 0ab237b7-fb12-4687-afed-8d1e2070d621.wav\n",
      "Number of unique amplitudes: 126\n",
      "\n",
      "File Name: 0052503c-2849-4f41-ab51-db382103690c.wav\n",
      "Number of unique amplitudes: 266\n",
      "\n"
     ]
    }
   ],
   "source": [
    "print_num_of_unique_amplitudes(file)\n",
    "\n",
    "print_num_of_unique_amplitudes(debug_file)"
   ]
  }
 ],
 "metadata": {
  "kernelspec": {
   "display_name": "py_encoding_env",
   "language": "python",
   "name": "python3"
  },
  "language_info": {
   "codemirror_mode": {
    "name": "ipython",
    "version": 3
   },
   "file_extension": ".py",
   "mimetype": "text/x-python",
   "name": "python",
   "nbconvert_exporter": "python",
   "pygments_lexer": "ipython3",
   "version": "3.11.5"
  }
 },
 "nbformat": 4,
 "nbformat_minor": 2
}
