{
 "cells": [
  {
   "cell_type": "markdown",
   "metadata": {},
   "source": [
    "# Testing Run Length Encoding\n"
   ]
  },
  {
   "cell_type": "markdown",
   "metadata": {},
   "source": [
    "## Imports\n"
   ]
  },
  {
   "cell_type": "code",
   "execution_count": 159,
   "metadata": {},
   "outputs": [],
   "source": [
    "from importlib.util import spec_from_loader, module_from_spec\n",
    "from importlib.machinery import SourceFileLoader\n",
    "from scipy.io import wavfile\n",
    "from glob import glob\n",
    "import numpy as np\n",
    "import sys\n",
    "\n",
    "# Import Encode\n",
    "spec = spec_from_loader(\"encode\", SourceFileLoader(\"encode\", \"../../encode\"))\n",
    "encode = module_from_spec(spec)\n",
    "spec.loader.exec_module(encode)\n",
    "\n",
    "# Import Decode\n",
    "spec = spec_from_loader(\"decode\", SourceFileLoader(\"decode\", \"../../decode\"))\n",
    "decode = module_from_spec(spec)\n",
    "spec.loader.exec_module(decode)"
   ]
  },
  {
   "cell_type": "markdown",
   "metadata": {},
   "source": [
    "## Function Definitions\n"
   ]
  },
  {
   "cell_type": "code",
   "execution_count": 160,
   "metadata": {},
   "outputs": [],
   "source": [
    "def encode_via_rle(rle_l_raw: list):\n",
    "    \"\"\"This algorithm will search for contiguous values within the\n",
    "       array. When the rle_location_count is greater than the value\n",
    "       65530, the count is reduced by this value in order to\n",
    "       prevent an overflow of an unsigned 16-bit integer. This allows\n",
    "       for the data to be stored with 2 bytes when the format of the\n",
    "       array is a known value in advance of decoding this format. The\n",
    "       choice of integer 65530 is an arbitrary value less than that of\n",
    "       the maximum value of an unsigned 16-bit integer (65536).\n",
    "\n",
    "    Args:\n",
    "        rle_l_raw (list): This is a list of integer values to be\n",
    "                          encoded.\n",
    "\n",
    "    Returns:\n",
    "\n",
    "        index_array (list): This is the list of run length encoded\n",
    "                            values.\n",
    "        rle_locations (list): This is a list of locations of elements\n",
    "                              that are repeated that are present in the\n",
    "                              array of indices.\n",
    "    \"\"\"\n",
    "    initial_index = 0\n",
    "    second_index = 1\n",
    "    count = 0\n",
    "    index_array = []\n",
    "    rle_locations = []\n",
    "    rle_location_count = 0\n",
    "\n",
    "    while second_index < len(rle_l_raw):\n",
    "        if rle_l_raw[initial_index] == rle_l_raw[second_index]:\n",
    "            index_array.append(rle_l_raw[initial_index])\n",
    "            rle_locations.append(rle_location_count)\n",
    "\n",
    "            # continue searching the breadth of the array; increasing\n",
    "            # count\n",
    "            while (\n",
    "                second_index <= len(rle_l_raw)\n",
    "                and rle_l_raw[initial_index] == rle_l_raw[second_index]\n",
    "            ):\n",
    "                count += 1\n",
    "                second_index += 1\n",
    "            index_array.append(count)\n",
    "            if rle_location_count > 65530:\n",
    "                rle_location_count -= 65530\n",
    "            rle_location_count += 2\n",
    "        else:\n",
    "            index_array.append(rle_l_raw[initial_index])\n",
    "            if rle_location_count > 65530:\n",
    "                rle_location_count -= 65530\n",
    "            rle_location_count += 1\n",
    "        count = 0\n",
    "        initial_index = second_index\n",
    "        second_index += 1\n",
    "    if rle_l_raw[-1] != index_array[-2]:\n",
    "        index_array.append(rle_l_raw[-1])\n",
    "    return index_array, rle_locations"
   ]
  },
  {
   "cell_type": "code",
   "execution_count": 161,
   "metadata": {},
   "outputs": [],
   "source": [
    "def identify_index_split(rle_locations, verbose=False):\n",
    "    \"\"\"This will identify where the rle_location values reset to a value\n",
    "       that is below 65530.\n",
    "    Args:\n",
    "        rle_locations (list): This is a list of locations of values that\n",
    "                              are encoded in the index_array.\n",
    "\n",
    "    Returns:\n",
    "        split_indices (list): This is a list of indices where the values\n",
    "                              are reset in the rle_locations_array.\n",
    "    \"\"\"\n",
    "    split_indices = []\n",
    "    for index, value in enumerate(rle_locations):\n",
    "        if index == 0:\n",
    "            prev_value = value\n",
    "            continue\n",
    "        if value > prev_value:\n",
    "            prev_value = value\n",
    "        else:\n",
    "            if verbose:\n",
    "                print(f\"index: {index}\")\n",
    "                print(f\"prev_value: {prev_value}\")\n",
    "                print(f\"value: {value}\")\n",
    "            split_indices.append(index)\n",
    "            prev_value = value\n",
    "    return split_indices"
   ]
  },
  {
   "cell_type": "code",
   "execution_count": 162,
   "metadata": {},
   "outputs": [],
   "source": [
    "# Expand RLE Algorithm\n",
    "def decode_rle(rle_locations: list, index_array: list):\n",
    "    \"\"\"This will expand the index array where the values have been\n",
    "       compressed by run-length-encoding.\n",
    "\n",
    "    Args:\n",
    "        rle_locations (list): This is a list of locations in the\n",
    "                              index_array where the locations have been\n",
    "                              run-length-encoded. The subsequent values\n",
    "                              of these locations are frequencies of the\n",
    "                              run-length-encoded values.\n",
    "        index_array (list): This is a list of values which contain\n",
    "                            either signular values or run-length-encoded\n",
    "                            values followed by the frequency of the\n",
    "                            run-length-encoded value.\n",
    "    \"\"\"\n",
    "    reconstructed_array = []\n",
    "    rle_index = 0\n",
    "    continue_current_index_past_frequency_value = False\n",
    "\n",
    "    for current_index in range(0, len(index_array)):\n",
    "        if continue_current_index_past_frequency_value:\n",
    "            continue_current_index_past_frequency_value = False\n",
    "            continue\n",
    "        if rle_index <= (len(rle_locations) - 1):\n",
    "            if current_index > 131060:  # twice the cutoff value of 65530\n",
    "                rle_location_index = rle_locations[rle_index] + 131060\n",
    "            elif current_index > 65530 and current_index <= 131060:\n",
    "                rle_location_index = rle_locations[rle_index] + 65530\n",
    "            else:  # current_index is below 65530\n",
    "                rle_location_index = rle_locations[rle_index]\n",
    "        if current_index != rle_location_index:\n",
    "            reconstructed_array.append(index_array[current_index])\n",
    "        else:\n",
    "            if rle_index <= (len(rle_locations) - 1):\n",
    "                run_length_expanded_l = [\n",
    "                    index_array[rle_location_index]\n",
    "                    for x in range((index_array[rle_location_index + 1]) + 1)\n",
    "                ]\n",
    "                reconstructed_array.extend(run_length_expanded_l)\n",
    "                rle_index += 1\n",
    "                continue_current_index_past_frequency_value = True\n",
    "    return reconstructed_array"
   ]
  },
  {
   "cell_type": "code",
   "execution_count": 163,
   "metadata": {},
   "outputs": [],
   "source": [
    "def format_encoded_rle_to_bytes(index_array: list, rle_locations: list):\n",
    "    \"\"\"This is the encoding driver of the run_length_encoded array.\n",
    "\n",
    "    Args:\n",
    "        index_array (list): This is the compressed list of values which\n",
    "                            include run-length-encoded values followed\n",
    "                            by their frequency.\n",
    "        rle_locations (list): This is a list of index locations that are\n",
    "                              run-length-encoded in the index array.\n",
    "                              The frequency of the run-length-encoded\n",
    "                              value is defined as the\n",
    "                              index_array[rle_locations[current_rle_index] + 1]\n",
    "                              or the subsequent value from the\n",
    "                              run-length-encoded value in the\n",
    "                              index_array.\n",
    "\n",
    "    Returns:\n",
    "        format_encoded_rle_bytes (bytes): This is the string of bytes of\n",
    "                                          the formatted\n",
    "                                          run-length-encoded array.\n",
    "    \"\"\"\n",
    "    format_encoded_rle = [len(rle_locations)]\n",
    "    format_encoded_rle.extend(rle_locations)\n",
    "    format_encoded_rle.extend(index_array)\n",
    "    format_encoded_rle = np.array(format_encoded_rle, dtype=np.uint16)\n",
    "    format_encoded_rle_bytes = format_encoded_rle.tobytes()\n",
    "    return format_encoded_rle_bytes"
   ]
  },
  {
   "cell_type": "code",
   "execution_count": 164,
   "metadata": {},
   "outputs": [],
   "source": [
    "def parse_formatted_rle_bytes(format_encoded_rle_bytes: bytes):\n",
    "    \"\"\"This is the encoding driver of the run_length_encoded array.\n",
    "\n",
    "    Args:\n",
    "        format_encoded_rle_bytes (bytes): This is the compressed list of\n",
    "                                          values in the form of a byte\n",
    "                                          array. The order of the values\n",
    "                                          is as following: length of the\n",
    "                                          run-length-encoded locations\n",
    "                                          array, the run-length-encoded\n",
    "                                          locations array, and the\n",
    "                                          index_array.\n",
    "\n",
    "    Returns:\n",
    "        rle_locations (list): This is a list of unsigned 16-bit\n",
    "                              integers.\n",
    "        index_array (list): This is a list of unsigned 16-bit integers.\n",
    "                            These values contain run-length-encoded\n",
    "                            sequences where the run-length-encoded-value\n",
    "                            is followed by the frequency of the value.\n",
    "    \"\"\"\n",
    "    encoded_rle = np.frombuffer(format_encoded_rle_bytes, dtype=np.uint16)\n",
    "    len_rle_locations = encoded_rle[0]\n",
    "\n",
    "    # +1 to skip over the rle_locations length in the line below:\n",
    "    rle_locations = encoded_rle[1 : len_rle_locations + 1]\n",
    "\n",
    "    index_array = encoded_rle[(len_rle_locations + 1) :]\n",
    "    return rle_locations, index_array"
   ]
  },
  {
   "cell_type": "markdown",
   "metadata": {},
   "source": [
    "## Import Data & Huffman Encode Values\n"
   ]
  },
  {
   "cell_type": "code",
   "execution_count": 322,
   "metadata": {},
   "outputs": [],
   "source": [
    "data_dir = \"../../data/\"\n",
    "data_file_l = glob(data_dir + \"*.wav\")\n",
    "current_file = data_file_l[0]\n",
    "\n",
    "rate, data = wavfile.read(current_file)\n",
    "\n",
    "data_bytes = data.tobytes()\n",
    "\n",
    "compressed_file_path = \"../../data/102b47d9-371e-412a-8995-0dc6115ab2bb.wav.brainwire\"\n",
    "\n",
    "encode.huffman_encoding(\n",
    "    input_data=data_bytes,\n",
    "    compressed_file_path=\"../../data/102b47d9-371e-412a-8995-0dc6115ab2bb.wav.brainwire\",\n",
    ")\n",
    "\n",
    "with open(compressed_file_path, \"rb\") as fp:\n",
    "    data_huffman_encoded_bytes = fp.read()\n",
    "    fp.close()\n",
    "\n",
    "# type(data_huffman_encoded_bytes)"
   ]
  },
  {
   "cell_type": "markdown",
   "metadata": {},
   "source": [
    "## Testing Compressing a substring of the larger dataset\n"
   ]
  },
  {
   "cell_type": "code",
   "execution_count": 324,
   "metadata": {},
   "outputs": [
    {
     "data": {
      "text/plain": [
       "12"
      ]
     },
     "execution_count": 324,
     "metadata": {},
     "output_type": "execute_result"
    }
   ],
   "source": [
    "len(data_huffman_encoded_bytes_sub_string)"
   ]
  },
  {
   "cell_type": "code",
   "execution_count": 325,
   "metadata": {},
   "outputs": [
    {
     "data": {
      "text/plain": [
       "45"
      ]
     },
     "execution_count": 325,
     "metadata": {},
     "output_type": "execute_result"
    }
   ],
   "source": [
    "sys.getsizeof(data_huffman_encoded_bytes_sub_string)"
   ]
  },
  {
   "cell_type": "code",
   "execution_count": 327,
   "metadata": {},
   "outputs": [
    {
     "data": {
      "text/plain": [
       "b'\\x80\\x04\\x95\\x87\\x05\\x00\\x00\\x00\\x00\\x00\\x00}'"
      ]
     },
     "execution_count": 327,
     "metadata": {},
     "output_type": "execute_result"
    }
   ],
   "source": [
    "data_huffman_encoded_bytes_sub_string"
   ]
  },
  {
   "cell_type": "code",
   "execution_count": 269,
   "metadata": {},
   "outputs": [
    {
     "data": {
      "text/plain": [
       "[128, 4, 149, 135, 5, 0, 0, 0, 0, 0, 0, 125]"
      ]
     },
     "execution_count": 269,
     "metadata": {},
     "output_type": "execute_result"
    }
   ],
   "source": [
    "data_huffman_encoded_bytes_sub_string = data_huffman_encoded_bytes[:12]\n",
    "\n",
    "rle_l_raw = []\n",
    "for index, data in enumerate(data_huffman_encoded_bytes_sub_string):\n",
    "    rle_l_raw.append(data)\n",
    "rle_l_raw"
   ]
  },
  {
   "cell_type": "code",
   "execution_count": 329,
   "metadata": {},
   "outputs": [
    {
     "data": {
      "text/plain": [
       "12"
      ]
     },
     "execution_count": 329,
     "metadata": {},
     "output_type": "execute_result"
    }
   ],
   "source": [
    "len(rle_l_raw)"
   ]
  },
  {
   "cell_type": "code",
   "execution_count": 330,
   "metadata": {},
   "outputs": [
    {
     "data": {
      "text/plain": [
       "184"
      ]
     },
     "execution_count": 330,
     "metadata": {},
     "output_type": "execute_result"
    }
   ],
   "source": [
    "sys.getsizeof(rle_l_raw)"
   ]
  },
  {
   "cell_type": "code",
   "execution_count": 271,
   "metadata": {},
   "outputs": [
    {
     "data": {
      "text/plain": [
       "28"
      ]
     },
     "execution_count": 271,
     "metadata": {},
     "output_type": "execute_result"
    }
   ],
   "source": [
    "sys.getsizeof(rle_l_raw[0])"
   ]
  },
  {
   "cell_type": "code",
   "execution_count": 274,
   "metadata": {},
   "outputs": [
    {
     "data": {
      "text/plain": [
       "int"
      ]
     },
     "execution_count": 274,
     "metadata": {},
     "output_type": "execute_result"
    }
   ],
   "source": [
    "type(rle_l_raw[0])"
   ]
  },
  {
   "cell_type": "code",
   "execution_count": 275,
   "metadata": {},
   "outputs": [],
   "source": [
    "index_array, rle_locations = encode_via_rle(rle_l_raw)\n",
    "reconstructed_array = decode_rle(rle_locations, index_array)"
   ]
  },
  {
   "cell_type": "code",
   "execution_count": 276,
   "metadata": {},
   "outputs": [
    {
     "data": {
      "text/plain": [
       "152"
      ]
     },
     "execution_count": 276,
     "metadata": {},
     "output_type": "execute_result"
    }
   ],
   "source": [
    "sys.getsizeof(reconstructed_array)"
   ]
  },
  {
   "cell_type": "code",
   "execution_count": 277,
   "metadata": {},
   "outputs": [
    {
     "data": {
      "text/plain": [
       "28"
      ]
     },
     "execution_count": 277,
     "metadata": {},
     "output_type": "execute_result"
    }
   ],
   "source": [
    "sys.getsizeof(reconstructed_array[0])"
   ]
  },
  {
   "cell_type": "code",
   "execution_count": 278,
   "metadata": {},
   "outputs": [
    {
     "data": {
      "text/plain": [
       "int"
      ]
     },
     "execution_count": 278,
     "metadata": {},
     "output_type": "execute_result"
    }
   ],
   "source": [
    "type(reconstructed_array[0])"
   ]
  },
  {
   "cell_type": "code",
   "execution_count": 280,
   "metadata": {},
   "outputs": [
    {
     "data": {
      "text/plain": [
       "128"
      ]
     },
     "execution_count": 280,
     "metadata": {},
     "output_type": "execute_result"
    }
   ],
   "source": [
    "reconstructed_array[0]"
   ]
  },
  {
   "cell_type": "code",
   "execution_count": 334,
   "metadata": {},
   "outputs": [
    {
     "data": {
      "text/plain": [
       "array([128,   4, 149, 135,   5,   0,   0,   0,   0,   0,   0, 125],\n",
       "      dtype=int16)"
      ]
     },
     "execution_count": 334,
     "metadata": {},
     "output_type": "execute_result"
    }
   ],
   "source": [
    "np.array(rle_l_raw, dtype=np.int16)"
   ]
  },
  {
   "cell_type": "code",
   "execution_count": 281,
   "metadata": {},
   "outputs": [
    {
     "name": "stdout",
     "output_type": "stream",
     "text": [
      "Arrays are equivalent.\n"
     ]
    }
   ],
   "source": [
    "# Test for equality in reconstructed array\n",
    "not_equal = False\n",
    "for index in range(0, len(rle_l_raw)):\n",
    "    if rle_l_raw[index] != reconstructed_array[index]:\n",
    "        not_equal = True\n",
    "        print(f\"Reconstructed Array is unequal at position: {index}\")\n",
    "\n",
    "if not_equal:\n",
    "    print(f\"Arrays are not equivalent.\")\n",
    "else:\n",
    "    print(f\"Arrays are equivalent.\")"
   ]
  },
  {
   "cell_type": "code",
   "execution_count": 282,
   "metadata": {},
   "outputs": [],
   "source": [
    "formatted_encoded_rle_bytes = format_encoded_rle_to_bytes(index_array, rle_locations)"
   ]
  },
  {
   "cell_type": "code",
   "execution_count": 283,
   "metadata": {},
   "outputs": [],
   "source": [
    "encoded_rle = np.frombuffer(formatted_encoded_rle_bytes, dtype=np.uint16)"
   ]
  },
  {
   "cell_type": "code",
   "execution_count": 285,
   "metadata": {},
   "outputs": [],
   "source": [
    "rle_locations, index_array = parse_formatted_rle_bytes(formatted_encoded_rle_bytes)"
   ]
  },
  {
   "cell_type": "code",
   "execution_count": 286,
   "metadata": {},
   "outputs": [],
   "source": [
    "reconstructed_array = decode_rle(rle_locations, index_array)"
   ]
  },
  {
   "cell_type": "code",
   "execution_count": 321,
   "metadata": {},
   "outputs": [],
   "source": [
    "# Test for equality in reconstructed array\n",
    "for index in range(0, len(rle_l_raw)):\n",
    "    if rle_l_raw[index] != reconstructed_array[index]:\n",
    "        print(f\"Reconstructed Array is unequal at position: {index}\")"
   ]
  },
  {
   "cell_type": "code",
   "execution_count": 288,
   "metadata": {},
   "outputs": [
    {
     "data": {
      "text/plain": [
       "20"
      ]
     },
     "execution_count": 288,
     "metadata": {},
     "output_type": "execute_result"
    }
   ],
   "source": [
    "len(formatted_encoded_rle_bytes)"
   ]
  },
  {
   "cell_type": "code",
   "execution_count": 289,
   "metadata": {},
   "outputs": [
    {
     "data": {
      "text/plain": [
       "12"
      ]
     },
     "execution_count": 289,
     "metadata": {},
     "output_type": "execute_result"
    }
   ],
   "source": [
    "len(data_huffman_encoded_bytes[:12])"
   ]
  },
  {
   "cell_type": "code",
   "execution_count": null,
   "metadata": {},
   "outputs": [
    {
     "data": {
      "text/plain": [
       "b'\\x01\\x00\\x05\\x00\\x80\\x00\\x04\\x00\\x95\\x00\\x87\\x00\\x05\\x00\\x00\\x00\\x05\\x00}\\x00'"
      ]
     },
     "metadata": {},
     "output_type": "display_data"
    }
   ],
   "source": [
    "formatted_encoded_rle_bytes"
   ]
  },
  {
   "cell_type": "code",
   "execution_count": 311,
   "metadata": {},
   "outputs": [],
   "source": [
    "import pandas as pd"
   ]
  },
  {
   "cell_type": "code",
   "execution_count": 312,
   "metadata": {},
   "outputs": [
    {
     "name": "stdout",
     "output_type": "stream",
     "text": [
      "index: 0\n",
      "data: 1\n",
      "\n",
      "index: 1\n",
      "data: 0\n",
      "\n",
      "index: 2\n",
      "data: 5\n",
      "\n",
      "index: 3\n",
      "data: 0\n",
      "\n",
      "index: 4\n",
      "data: 128\n",
      "\n",
      "index: 5\n",
      "data: 0\n",
      "\n",
      "index: 6\n",
      "data: 4\n",
      "\n",
      "index: 7\n",
      "data: 0\n",
      "\n",
      "index: 8\n",
      "data: 149\n",
      "\n",
      "index: 9\n",
      "data: 0\n",
      "\n",
      "index: 10\n",
      "data: 135\n",
      "\n",
      "index: 11\n",
      "data: 0\n",
      "\n",
      "index: 12\n",
      "data: 5\n",
      "\n",
      "index: 13\n",
      "data: 0\n",
      "\n",
      "index: 14\n",
      "data: 0\n",
      "\n",
      "index: 15\n",
      "data: 0\n",
      "\n",
      "index: 16\n",
      "data: 5\n",
      "\n",
      "index: 17\n",
      "data: 0\n",
      "\n",
      "index: 18\n",
      "data: 125\n",
      "\n",
      "index: 19\n",
      "data: 0\n",
      "\n"
     ]
    }
   ],
   "source": [
    "data_array = []\n",
    "for index, data in enumerate(formatted_encoded_rle_bytes):\n",
    "    data_array.append(data)\n",
    "    print(f\"index: {index}\\ndata: {data}\\n\")\n",
    "formatted_encoded_rle_bytes_pd = pd.DataFrame(data_array)"
   ]
  },
  {
   "cell_type": "code",
   "execution_count": 316,
   "metadata": {},
   "outputs": [],
   "source": [
    "formatted_encoded_rle_bytes_pd.columns = [\"value\"]"
   ]
  },
  {
   "cell_type": "code",
   "execution_count": 317,
   "metadata": {},
   "outputs": [],
   "source": [
    "formatted_encoded_rle_bytes_pd.index.name = \"row\""
   ]
  },
  {
   "cell_type": "code",
   "execution_count": 319,
   "metadata": {},
   "outputs": [
    {
     "data": {
      "text/html": [
       "<div>\n",
       "<style scoped>\n",
       "    .dataframe tbody tr th:only-of-type {\n",
       "        vertical-align: middle;\n",
       "    }\n",
       "\n",
       "    .dataframe tbody tr th {\n",
       "        vertical-align: top;\n",
       "    }\n",
       "\n",
       "    .dataframe thead th {\n",
       "        text-align: right;\n",
       "    }\n",
       "</style>\n",
       "<table border=\"1\" class=\"dataframe\">\n",
       "  <thead>\n",
       "    <tr style=\"text-align: right;\">\n",
       "      <th></th>\n",
       "      <th>value</th>\n",
       "    </tr>\n",
       "    <tr>\n",
       "      <th>row</th>\n",
       "      <th></th>\n",
       "    </tr>\n",
       "  </thead>\n",
       "  <tbody>\n",
       "    <tr>\n",
       "      <th>0</th>\n",
       "      <td>1</td>\n",
       "    </tr>\n",
       "    <tr>\n",
       "      <th>1</th>\n",
       "      <td>0</td>\n",
       "    </tr>\n",
       "    <tr>\n",
       "      <th>2</th>\n",
       "      <td>5</td>\n",
       "    </tr>\n",
       "    <tr>\n",
       "      <th>3</th>\n",
       "      <td>0</td>\n",
       "    </tr>\n",
       "    <tr>\n",
       "      <th>4</th>\n",
       "      <td>128</td>\n",
       "    </tr>\n",
       "    <tr>\n",
       "      <th>5</th>\n",
       "      <td>0</td>\n",
       "    </tr>\n",
       "    <tr>\n",
       "      <th>6</th>\n",
       "      <td>4</td>\n",
       "    </tr>\n",
       "    <tr>\n",
       "      <th>7</th>\n",
       "      <td>0</td>\n",
       "    </tr>\n",
       "    <tr>\n",
       "      <th>8</th>\n",
       "      <td>149</td>\n",
       "    </tr>\n",
       "    <tr>\n",
       "      <th>9</th>\n",
       "      <td>0</td>\n",
       "    </tr>\n",
       "    <tr>\n",
       "      <th>10</th>\n",
       "      <td>135</td>\n",
       "    </tr>\n",
       "    <tr>\n",
       "      <th>11</th>\n",
       "      <td>0</td>\n",
       "    </tr>\n",
       "    <tr>\n",
       "      <th>12</th>\n",
       "      <td>5</td>\n",
       "    </tr>\n",
       "    <tr>\n",
       "      <th>13</th>\n",
       "      <td>0</td>\n",
       "    </tr>\n",
       "    <tr>\n",
       "      <th>14</th>\n",
       "      <td>0</td>\n",
       "    </tr>\n",
       "    <tr>\n",
       "      <th>15</th>\n",
       "      <td>0</td>\n",
       "    </tr>\n",
       "    <tr>\n",
       "      <th>16</th>\n",
       "      <td>5</td>\n",
       "    </tr>\n",
       "    <tr>\n",
       "      <th>17</th>\n",
       "      <td>0</td>\n",
       "    </tr>\n",
       "    <tr>\n",
       "      <th>18</th>\n",
       "      <td>125</td>\n",
       "    </tr>\n",
       "    <tr>\n",
       "      <th>19</th>\n",
       "      <td>0</td>\n",
       "    </tr>\n",
       "  </tbody>\n",
       "</table>\n",
       "</div>"
      ],
      "text/plain": [
       "     value\n",
       "row       \n",
       "0        1\n",
       "1        0\n",
       "2        5\n",
       "3        0\n",
       "4      128\n",
       "5        0\n",
       "6        4\n",
       "7        0\n",
       "8      149\n",
       "9        0\n",
       "10     135\n",
       "11       0\n",
       "12       5\n",
       "13       0\n",
       "14       0\n",
       "15       0\n",
       "16       5\n",
       "17       0\n",
       "18     125\n",
       "19       0"
      ]
     },
     "execution_count": 319,
     "metadata": {},
     "output_type": "execute_result"
    }
   ],
   "source": [
    "formatted_encoded_rle_bytes_pd"
   ]
  },
  {
   "cell_type": "code",
   "execution_count": 320,
   "metadata": {},
   "outputs": [
    {
     "data": {
      "text/plain": [
       "[128, 4, 149, 135, 5, 0, 0, 0, 0, 0, 0, 125]"
      ]
     },
     "execution_count": 320,
     "metadata": {},
     "output_type": "execute_result"
    }
   ],
   "source": [
    "rle_l_raw"
   ]
  },
  {
   "cell_type": "code",
   "execution_count": 291,
   "metadata": {},
   "outputs": [
    {
     "data": {
      "text/plain": [
       "b'\\x80\\x04\\x95\\x87\\x05\\x00\\x00\\x00\\x00\\x00\\x00}'"
      ]
     },
     "execution_count": 291,
     "metadata": {},
     "output_type": "execute_result"
    }
   ],
   "source": [
    "data_huffman_encoded_bytes[:12]"
   ]
  },
  {
   "cell_type": "code",
   "execution_count": 292,
   "metadata": {},
   "outputs": [],
   "source": [
    "data_array = []\n",
    "for data in data_huffman_encoded_bytes:\n",
    "    data_array.append(data)"
   ]
  },
  {
   "cell_type": "code",
   "execution_count": 293,
   "metadata": {},
   "outputs": [
    {
     "data": {
      "text/plain": [
       "28"
      ]
     },
     "execution_count": 293,
     "metadata": {},
     "output_type": "execute_result"
    }
   ],
   "source": [
    "sys.getsizeof(data_array[0])"
   ]
  },
  {
   "cell_type": "code",
   "execution_count": 294,
   "metadata": {},
   "outputs": [
    {
     "data": {
      "text/plain": [
       "255"
      ]
     },
     "execution_count": 294,
     "metadata": {},
     "output_type": "execute_result"
    }
   ],
   "source": [
    "max(data_array)"
   ]
  },
  {
   "cell_type": "code",
   "execution_count": 296,
   "metadata": {},
   "outputs": [],
   "source": [
    "data_array = np.array(data_array, dtype=np.int16)"
   ]
  },
  {
   "cell_type": "code",
   "execution_count": 297,
   "metadata": {},
   "outputs": [
    {
     "data": {
      "text/plain": [
       "array([128,   4, 149, ..., 101,  46,  28], dtype=int16)"
      ]
     },
     "execution_count": 297,
     "metadata": {},
     "output_type": "execute_result"
    }
   ],
   "source": [
    "data_array"
   ]
  },
  {
   "cell_type": "code",
   "execution_count": 298,
   "metadata": {},
   "outputs": [
    {
     "data": {
      "text/plain": [
       "128"
      ]
     },
     "execution_count": 298,
     "metadata": {},
     "output_type": "execute_result"
    }
   ],
   "source": [
    "data_array[0]"
   ]
  },
  {
   "cell_type": "code",
   "execution_count": 299,
   "metadata": {},
   "outputs": [
    {
     "name": "stdout",
     "output_type": "stream",
     "text": [
      "Ratio of the formatted_encoded_rle_bytes to data_huffman_encoded_bytes: 1.6666666666666667\n"
     ]
    }
   ],
   "source": [
    "print(f\"Ratio of the formatted_encoded_rle_bytes \", end=\"\")\n",
    "print(f\"to data_huffman_encoded_bytes: \", end=\"\")\n",
    "print(f\"{len(formatted_encoded_rle_bytes) / len(data_huffman_encoded_bytes[:12])}\")"
   ]
  },
  {
   "cell_type": "markdown",
   "metadata": {},
   "source": [
    "#### Principal Components Example of the Run-Length-Encoded Problem\n"
   ]
  },
  {
   "cell_type": "code",
   "execution_count": 194,
   "metadata": {},
   "outputs": [],
   "source": [
    "# Original file size: 197 KB\n",
    "# Huffman Encoded Compressed File Size: 130 KB\n",
    "# RLE Encoded Version of the Huffman Encoded Compressed File is of Size: 272 KB"
   ]
  },
  {
   "cell_type": "code",
   "execution_count": 300,
   "metadata": {},
   "outputs": [],
   "source": [
    "data_dir = \"../../data/\"\n",
    "data_file_l = glob(data_dir + \"*.wav\")\n",
    "current_file = data_file_l[0]"
   ]
  },
  {
   "cell_type": "code",
   "execution_count": 301,
   "metadata": {},
   "outputs": [],
   "source": [
    "rate, data = wavfile.read(current_file)\n",
    "\n",
    "data_bytes = data.tobytes()\n",
    "\n",
    "compressed_file_path = \"../../data/102b47d9-371e-412a-8995-0dc6115ab2bb.wav.brainwire\"\n",
    "\n",
    "encode.huffman_encoding(\n",
    "    input_data=data_bytes,\n",
    "    compressed_file_path=\"../../data/102b47d9-371e-412a-8995-0dc6115ab2bb.wav.brainwire\",\n",
    ")\n",
    "\n",
    "with open(compressed_file_path, \"rb\") as fp:\n",
    "    data_huffman_encoded_bytes = fp.read()\n",
    "    fp.close()"
   ]
  },
  {
   "cell_type": "code",
   "execution_count": 302,
   "metadata": {},
   "outputs": [
    {
     "data": {
      "text/plain": [
       "197510"
      ]
     },
     "execution_count": 302,
     "metadata": {},
     "output_type": "execute_result"
    }
   ],
   "source": [
    "sys.getsizeof(data)"
   ]
  },
  {
   "cell_type": "code",
   "execution_count": 303,
   "metadata": {},
   "outputs": [
    {
     "data": {
      "text/plain": [
       "197431"
      ]
     },
     "execution_count": 303,
     "metadata": {},
     "output_type": "execute_result"
    }
   ],
   "source": [
    "sys.getsizeof(data_bytes)"
   ]
  }
 ],
 "metadata": {
  "kernelspec": {
   "display_name": "py_encoding_env",
   "language": "python",
   "name": "python3"
  },
  "language_info": {
   "codemirror_mode": {
    "name": "ipython",
    "version": 3
   },
   "file_extension": ".py",
   "mimetype": "text/x-python",
   "name": "python",
   "nbconvert_exporter": "python",
   "pygments_lexer": "ipython3",
   "version": "3.11.5"
  }
 },
 "nbformat": 4,
 "nbformat_minor": 2
}
