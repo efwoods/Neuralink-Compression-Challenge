{
 "cells": [
  {
   "cell_type": "markdown",
   "metadata": {},
   "source": [
    "# Testing Run Length Encoding\n"
   ]
  },
  {
   "cell_type": "markdown",
   "metadata": {},
   "source": [
    "## Imports\n"
   ]
  },
  {
   "cell_type": "code",
   "execution_count": 1,
   "metadata": {},
   "outputs": [],
   "source": [
    "from collections import deque\n",
    "from importlib.util import spec_from_loader, module_from_spec\n",
    "from importlib.machinery import SourceFileLoader\n",
    "from scipy.io import wavfile\n",
    "from glob import glob\n",
    "import numpy as np\n",
    "\n",
    "# Import Encode\n",
    "spec = spec_from_loader(\"encode\", SourceFileLoader(\"encode\", \"../../encode\"))\n",
    "encode = module_from_spec(spec)\n",
    "spec.loader.exec_module(encode)\n",
    "\n",
    "# Import Decode\n",
    "spec = spec_from_loader(\"decode\", SourceFileLoader(\"decode\", \"../../decode\"))\n",
    "decode = module_from_spec(spec)\n",
    "spec.loader.exec_module(decode)"
   ]
  },
  {
   "cell_type": "code",
   "execution_count": 2,
   "metadata": {},
   "outputs": [],
   "source": [
    "data_dir = \"../../data/\"\n",
    "data_file_l = glob(data_dir + \"*.wav\")\n",
    "current_file = data_file_l[0]"
   ]
  },
  {
   "cell_type": "code",
   "execution_count": 3,
   "metadata": {},
   "outputs": [],
   "source": [
    "rate, data = wavfile.read(current_file)"
   ]
  },
  {
   "cell_type": "code",
   "execution_count": 4,
   "metadata": {},
   "outputs": [],
   "source": [
    "data_bytes = data.tobytes()"
   ]
  },
  {
   "cell_type": "code",
   "execution_count": 5,
   "metadata": {},
   "outputs": [],
   "source": [
    "compressed_file_path = \"../../data/102b47d9-371e-412a-8995-0dc6115ab2bb.wav.brainwire\""
   ]
  },
  {
   "cell_type": "code",
   "execution_count": 6,
   "metadata": {},
   "outputs": [],
   "source": [
    "encode.huffman_encoding(\n",
    "    input_data=data_bytes,\n",
    "    compressed_file_path=\"../../data/102b47d9-371e-412a-8995-0dc6115ab2bb.wav.brainwire\",\n",
    ")"
   ]
  },
  {
   "cell_type": "code",
   "execution_count": 7,
   "metadata": {},
   "outputs": [],
   "source": [
    "with open(compressed_file_path, \"rb\") as fp:\n",
    "    data_huffman_encoded_bytes = fp.read()\n",
    "    fp.close()"
   ]
  },
  {
   "cell_type": "code",
   "execution_count": 8,
   "metadata": {},
   "outputs": [
    {
     "data": {
      "text/plain": [
       "bytes"
      ]
     },
     "execution_count": 8,
     "metadata": {},
     "output_type": "execute_result"
    }
   ],
   "source": [
    "type(data_huffman_encoded_bytes)"
   ]
  },
  {
   "cell_type": "code",
   "execution_count": 9,
   "metadata": {},
   "outputs": [
    {
     "name": "stdout",
     "output_type": "stream",
     "text": [
      "128\n",
      "4\n",
      "149\n",
      "135\n",
      "5\n",
      "0\n",
      "0\n",
      "0\n",
      "0\n",
      "0\n",
      "0\n",
      "125\n"
     ]
    }
   ],
   "source": [
    "for byte in data_huffman_encoded_bytes[:12]:\n",
    "    print(byte)"
   ]
  },
  {
   "cell_type": "code",
   "execution_count": 10,
   "metadata": {},
   "outputs": [],
   "source": [
    "data_huffman_encoded_bytes_sub_string = data_huffman_encoded_bytes[:12]"
   ]
  },
  {
   "cell_type": "code",
   "execution_count": 11,
   "metadata": {},
   "outputs": [],
   "source": [
    "rle_l_raw = []\n",
    "for data in data_huffman_encoded_bytes_sub_string:\n",
    "    rle_l_raw.append(data)\n",
    "rle_l_raw = deque(rle_l_raw)"
   ]
  },
  {
   "cell_type": "code",
   "execution_count": 12,
   "metadata": {},
   "outputs": [],
   "source": [
    "rle_l_encoded = []"
   ]
  },
  {
   "cell_type": "code",
   "execution_count": 13,
   "metadata": {},
   "outputs": [
    {
     "data": {
      "text/plain": [
       "deque([128, 4, 149, 135, 5, 0, 0, 0, 0, 0, 0, 125])"
      ]
     },
     "execution_count": 13,
     "metadata": {},
     "output_type": "execute_result"
    }
   ],
   "source": [
    "rle_l_raw"
   ]
  },
  {
   "cell_type": "code",
   "execution_count": 14,
   "metadata": {},
   "outputs": [],
   "source": [
    "# Run Length Encoding\n",
    "current_index = 0\n",
    "second_index = 0\n",
    "while current_index < len(rle_l_raw):\n",
    "    number_of_occurances = 1\n",
    "    current_value = rle_l_raw[current_index]\n",
    "    second_index = current_index\n",
    "    while second_index < (len(rle_l_raw) - 1):\n",
    "        if rle_l_raw[second_index] == rle_l_raw[second_index + 1]:\n",
    "            number_of_occurances += 1\n",
    "        else:\n",
    "            break\n",
    "    rle_l_encoded.append(current_value)\n",
    "    if number_of_occurances > 1:\n",
    "        rle_l_encoded.append(number_of_occurances)\n",
    "    current_index = second_index"
   ]
  },
  {
   "cell_type": "code",
   "execution_count": null,
   "metadata": {},
   "outputs": [],
   "source": [
    "# RLE with at least two elements\n",
    "if len(rle_l_raw) > 1:\n",
    "    initial_item = rle_l_raw.popleft()\n",
    "    second_item = rle_l_raw.popleft()\n",
    "\n",
    "\n",
    "while len(rle_l_raw) > 0 and (initial_item != second_item):\n",
    "    rle_l_encoded.append(initial_item)\n",
    "    initial_item = second_item\n",
    "    second_item = rle_l_raw.popleft()"
   ]
  },
  {
   "cell_type": "code",
   "execution_count": null,
   "metadata": {},
   "outputs": [],
   "source": [
    "# RLE with at least three elements in a row\n",
    "while len(rle_l_raw) > 0:\n",
    "    initial_item = rle_l_raw.popleft()\n",
    "    if (len(rle_l_raw)) == 0:\n",
    "        rle_l_encoded.append(initial_item)\n",
    "    else:\n",
    "        second_item = rle_l_raw.popleft()\n",
    "        while((len(rle_l_raw) >= 0) and (initial_item != second_item)):\n",
    "            if(len(rle_l_raw)) == 0:\n",
    "                rle_l_encoded.append(initial_item)\n",
    "                rle_l_encoded.append(second_item)\n",
    "                break\n",
    "        else:\n",
    "            third_item = rle_l_raw[0]\n",
    "            if initial_item == second_item and second_item == third_item:\n",
    "                # search next item or write λ, item, item_count\n",
    "            elif initial_item == second_item and second_item != third_item:\n",
    "                rle_l_encoded.append(initial_item)\n",
    "                rle_l_encoded.append(second_item)\n",
    "                # third_item becomes the first item when the loop is\n",
    "                # broken and the list is popped.\n",
    "            elif initial_item != second_item and second_item == third_item\n",
    "            \n",
    "            if initial_item != third_item and second_item != third_item:\n",
    "                rle_l_encoded.append(initial_item)\n",
    "                rle_l_encoded.append(second_item)\n",
    "                rle_l_encoded.append(third_item)\n",
    "            elif \n",
    "            while (len(rle_l_raw) > 0) and (current_item == next_item):\n",
    "                next_item = rle_l_raw.popleft()\n",
    "                if current_item == next_item:\n",
    "                    count += 1\n",
    "                elif count == 2:\n",
    "                    rle_l_encoded.append(current_item)\n",
    "                    rle_l_encoded.append(current_item)\n",
    "\n",
    "                    rle_l_encoded.append(\"λ\")\n",
    "                    rle_l_encoded.append(current_item)\n",
    "                    rle_l_encoded.append(count)\n",
    "                    break\n",
    "for item_index in range(0, len(rle_l_raw)):\n",
    "    current_item = rle_l_raw[item_index]\n",
    "    current_item_count = 1\n",
    "    current_search_position = item_index + 1\n",
    "    if current_search_position > len(rle_l_raw):\n",
    "        break\n",
    "        rle_l_encoded.append(current_item)\n",
    "        rle_l_encoded.append(current_item_count)\n",
    "    while rle_l_raw[item_index] == rle_l_raw[current_search_position]:\n",
    "        current_item_count += 1"
   ]
  },
  {
   "cell_type": "code",
   "execution_count": null,
   "metadata": {},
   "outputs": [],
   "source": [
    "# Run Length Encoding\n",
    "def rle_encode(message):\n",
    "    encoded_message = \"\"\n",
    "    i = 0\n",
    "\n",
    "    while i <= len(message) - 1:\n",
    "        count = 1\n",
    "        ch = message[i]\n",
    "        j = i\n",
    "        while j < len(message) - 1:\n",
    "            if message[j] == message[j + 1]:\n",
    "                count = count + 1\n",
    "                j = j + 1\n",
    "            else:\n",
    "                break\n",
    "        encoded_message = encoded_message + str(count) + ch\n",
    "        i = j + 1\n",
    "    return encoded_message"
   ]
  },
  {
   "cell_type": "code",
   "execution_count": null,
   "metadata": {},
   "outputs": [],
   "source": [
    "message = \"ABBBBCCCCCCCCCCCAB\""
   ]
  },
  {
   "cell_type": "code",
   "execution_count": null,
   "metadata": {},
   "outputs": [],
   "source": [
    "rle_encode(message)"
   ]
  },
  {
   "cell_type": "code",
   "execution_count": null,
   "metadata": {},
   "outputs": [],
   "source": []
  }
 ],
 "metadata": {
  "kernelspec": {
   "display_name": "py_encoding_env",
   "language": "python",
   "name": "python3"
  },
  "language_info": {
   "codemirror_mode": {
    "name": "ipython",
    "version": 3
   },
   "file_extension": ".py",
   "mimetype": "text/x-python",
   "name": "python",
   "nbconvert_exporter": "python",
   "pygments_lexer": "ipython3",
   "version": "3.11.7"
  }
 },
 "nbformat": 4,
 "nbformat_minor": 2
}
