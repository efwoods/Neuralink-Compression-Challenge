{
 "cells": [
  {
   "cell_type": "markdown",
   "metadata": {},
   "source": [
    "# Testing Run Length Encoding\n"
   ]
  },
  {
   "cell_type": "markdown",
   "metadata": {},
   "source": [
    "## Imports\n"
   ]
  },
  {
   "cell_type": "code",
   "execution_count": 1,
   "metadata": {},
   "outputs": [],
   "source": [
    "from collections import deque\n",
    "from importlib.util import spec_from_loader, module_from_spec\n",
    "from importlib.machinery import SourceFileLoader\n",
    "from scipy.io import wavfile\n",
    "from glob import glob\n",
    "import numpy as np\n",
    "\n",
    "# Import Encode\n",
    "spec = spec_from_loader(\"encode\", SourceFileLoader(\"encode\", \"../../encode\"))\n",
    "encode = module_from_spec(spec)\n",
    "spec.loader.exec_module(encode)\n",
    "\n",
    "# Import Decode\n",
    "spec = spec_from_loader(\"decode\", SourceFileLoader(\"decode\", \"../../decode\"))\n",
    "decode = module_from_spec(spec)\n",
    "spec.loader.exec_module(decode)"
   ]
  },
  {
   "cell_type": "code",
   "execution_count": 2,
   "metadata": {},
   "outputs": [],
   "source": [
    "data_dir = \"../../data/\"\n",
    "data_file_l = glob(data_dir + \"*.wav\")\n",
    "current_file = data_file_l[0]"
   ]
  },
  {
   "cell_type": "code",
   "execution_count": 3,
   "metadata": {},
   "outputs": [],
   "source": [
    "rate, data = wavfile.read(current_file)"
   ]
  },
  {
   "cell_type": "code",
   "execution_count": 4,
   "metadata": {},
   "outputs": [],
   "source": [
    "data_bytes = data.tobytes()"
   ]
  },
  {
   "cell_type": "code",
   "execution_count": 5,
   "metadata": {},
   "outputs": [],
   "source": [
    "compressed_file_path = \"../../data/102b47d9-371e-412a-8995-0dc6115ab2bb.wav.brainwire\""
   ]
  },
  {
   "cell_type": "code",
   "execution_count": 6,
   "metadata": {},
   "outputs": [],
   "source": [
    "encode.huffman_encoding(\n",
    "    input_data=data_bytes,\n",
    "    compressed_file_path=\"../../data/102b47d9-371e-412a-8995-0dc6115ab2bb.wav.brainwire\",\n",
    ")"
   ]
  },
  {
   "cell_type": "code",
   "execution_count": 7,
   "metadata": {},
   "outputs": [],
   "source": [
    "with open(compressed_file_path, \"rb\") as fp:\n",
    "    data_huffman_encoded_bytes = fp.read()\n",
    "    fp.close()"
   ]
  },
  {
   "cell_type": "code",
   "execution_count": 8,
   "metadata": {},
   "outputs": [
    {
     "data": {
      "text/plain": [
       "bytes"
      ]
     },
     "execution_count": 8,
     "metadata": {},
     "output_type": "execute_result"
    }
   ],
   "source": [
    "type(data_huffman_encoded_bytes)"
   ]
  },
  {
   "cell_type": "code",
   "execution_count": 9,
   "metadata": {},
   "outputs": [
    {
     "name": "stdout",
     "output_type": "stream",
     "text": [
      "128\n",
      "4\n",
      "149\n",
      "135\n",
      "5\n",
      "0\n",
      "0\n",
      "0\n",
      "0\n",
      "0\n",
      "0\n",
      "125\n"
     ]
    }
   ],
   "source": [
    "for byte in data_huffman_encoded_bytes[:12]:\n",
    "    print(byte)"
   ]
  },
  {
   "cell_type": "code",
   "execution_count": 10,
   "metadata": {},
   "outputs": [],
   "source": [
    "data_huffman_encoded_bytes_sub_string = data_huffman_encoded_bytes[:12]"
   ]
  },
  {
   "cell_type": "code",
   "execution_count": 11,
   "metadata": {},
   "outputs": [],
   "source": [
    "rle_l_raw = []\n",
    "for data in data_huffman_encoded_bytes_sub_string:\n",
    "    rle_l_raw.append(data)\n",
    "rle_l_raw = deque(rle_l_raw)"
   ]
  },
  {
   "cell_type": "code",
   "execution_count": 12,
   "metadata": {},
   "outputs": [],
   "source": [
    "rle_l_encoded = []"
   ]
  },
  {
   "cell_type": "code",
   "execution_count": 13,
   "metadata": {},
   "outputs": [
    {
     "data": {
      "text/plain": [
       "deque([128, 4, 149, 135, 5, 0, 0, 0, 0, 0, 0, 125])"
      ]
     },
     "execution_count": 13,
     "metadata": {},
     "output_type": "execute_result"
    }
   ],
   "source": [
    "rle_l_raw"
   ]
  },
  {
   "cell_type": "code",
   "execution_count": 14,
   "metadata": {},
   "outputs": [],
   "source": [
    "def rle_algorithm(rle_l_raw: list):\n",
    "    \"\"\"This algorithm will search for contiguous values within the\n",
    "       array.\n",
    "\n",
    "    Args:\n",
    "        rle_l_raw (list): This is a list of integer values to be\n",
    "                          encoded.\n",
    "\n",
    "    Returns:\n",
    "        index_array (list): This is the list of run length encoded\n",
    "                            values.\n",
    "    \"\"\"\n",
    "    initial_index = 0\n",
    "    second_index = 1\n",
    "    count = 0\n",
    "    index_array = []\n",
    "\n",
    "    while second_index < len(rle_l_raw):\n",
    "        if rle_l_raw[initial_index] == rle_l_raw[second_index]:\n",
    "            index_array.append(rle_l_raw[initial_index])\n",
    "            # continue searching the breadth of the array; increasing count\n",
    "            while (\n",
    "                second_index <= len(rle_l_raw)\n",
    "                and rle_l_raw[initial_index] == rle_l_raw[second_index]\n",
    "            ):\n",
    "                count += 1\n",
    "                second_index += 1\n",
    "            index_array.append(count)\n",
    "        else:\n",
    "            index_array.append(rle_l_raw[initial_index])\n",
    "            index_array.append(1)\n",
    "        count = 0\n",
    "        initial_index = second_index\n",
    "        second_index += 1\n",
    "    if rle_l_raw[-1] != index_array[-2]:\n",
    "        index_array.append(rle_l_raw[-1])\n",
    "        index_array.append(1)\n",
    "    return index_array"
   ]
  },
  {
   "cell_type": "code",
   "execution_count": 17,
   "metadata": {},
   "outputs": [],
   "source": [
    "index_array = rle_algorithm(rle_l_raw)"
   ]
  },
  {
   "cell_type": "code",
   "execution_count": 16,
   "metadata": {},
   "outputs": [
    {
     "data": {
      "text/plain": [
       "[128, 1, 4, 1, 149, 1, 135, 1, 5, 1, 0, 5, 125, 1]"
      ]
     },
     "execution_count": 16,
     "metadata": {},
     "output_type": "execute_result"
    }
   ],
   "source": [
    "index_array"
   ]
  }
 ],
 "metadata": {
  "kernelspec": {
   "display_name": "py_encoding_env",
   "language": "python",
   "name": "python3"
  },
  "language_info": {
   "codemirror_mode": {
    "name": "ipython",
    "version": 3
   },
   "file_extension": ".py",
   "mimetype": "text/x-python",
   "name": "python",
   "nbconvert_exporter": "python",
   "pygments_lexer": "ipython3",
   "version": "3.11.5"
  }
 },
 "nbformat": 4,
 "nbformat_minor": 2
}
