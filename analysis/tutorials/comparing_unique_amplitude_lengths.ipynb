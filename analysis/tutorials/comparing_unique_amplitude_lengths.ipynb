{
 "cells": [
  {
   "cell_type": "code",
   "execution_count": 6,
   "metadata": {},
   "outputs": [],
   "source": [
    "from glob import glob\n",
    "from scipy.io import wavfile\n",
    "import numpy as np"
   ]
  },
  {
   "cell_type": "code",
   "execution_count": 4,
   "metadata": {},
   "outputs": [],
   "source": [
    "data_dir = \"../../data/\"\n",
    "data_file_l = glob(data_dir + \"*.wav\")\n",
    "current_file = data_file_l[0]"
   ]
  },
  {
   "cell_type": "code",
   "execution_count": 7,
   "metadata": {},
   "outputs": [],
   "source": [
    "unique_len_l = []\n",
    "for file in data_file_l:\n",
    "    sr, data = wavfile.read(file)\n",
    "    unique_len = len(np.unique(data))\n",
    "    unique_len_l.append(unique_len)"
   ]
  },
  {
   "cell_type": "code",
   "execution_count": 15,
   "metadata": {},
   "outputs": [],
   "source": [
    "unique_len_l = np.array(unique_len_l)"
   ]
  },
  {
   "cell_type": "code",
   "execution_count": 19,
   "metadata": {},
   "outputs": [
    {
     "data": {
      "text/plain": [
       "112"
      ]
     },
     "execution_count": 19,
     "metadata": {},
     "output_type": "execute_result"
    }
   ],
   "source": [
    "len(unique_len_l[unique_len_l > 256])"
   ]
  },
  {
   "cell_type": "code",
   "execution_count": 20,
   "metadata": {},
   "outputs": [
    {
     "data": {
      "text/plain": [
       "array([ 694,  262,  285,  273,  287,  278,  353,  282,  323,  271,  829,\n",
       "        452,  351,  308,  399,  821,  443,  569,  300,  261, 1016,  275,\n",
       "        979,  260,  502,  308,  357,  281,  381,  299,  305,  676,  288,\n",
       "        304,  292,  685,  362,  295,  264,  285,  270,  311,  317,  259,\n",
       "        333,  279,  259,  399,  258,  905,  275,  649,  482,  759, 1016,\n",
       "        273,  432,  387,  907,  287,  275,  299,  972,  276, 1017,  264,\n",
       "        978,  393,  386,  297,  337,  286,  373,  273,  325,  285,  473,\n",
       "        323,  389,  497,  313,  292,  304,  313,  277,  414,  493,  350,\n",
       "        264,  504,  411,  292,  346,  259,  285,  281,  510,  474,  342,\n",
       "        274,  327,  270,  816,  258,  266,  920,  270,  643,  345,  382,\n",
       "        301, 1019])"
      ]
     },
     "execution_count": 20,
     "metadata": {},
     "output_type": "execute_result"
    }
   ],
   "source": [
    "unique_len_l[unique_len_l > 256]"
   ]
  }
 ],
 "metadata": {
  "kernelspec": {
   "display_name": "py_encoding_env",
   "language": "python",
   "name": "python3"
  },
  "language_info": {
   "codemirror_mode": {
    "name": "ipython",
    "version": 3
   },
   "file_extension": ".py",
   "mimetype": "text/x-python",
   "name": "python",
   "nbconvert_exporter": "python",
   "pygments_lexer": "ipython3",
   "version": "3.11.5"
  }
 },
 "nbformat": 4,
 "nbformat_minor": 2
}
