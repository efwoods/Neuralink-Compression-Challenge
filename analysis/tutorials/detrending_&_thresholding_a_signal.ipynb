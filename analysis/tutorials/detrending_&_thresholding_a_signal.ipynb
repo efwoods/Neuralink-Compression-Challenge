{
 "cells": [
  {
   "cell_type": "markdown",
   "metadata": {},
   "source": [
    "## Plotting a Detrended Signal"
   ]
  },
  {
   "cell_type": "code",
   "execution_count": 1,
   "metadata": {},
   "outputs": [],
   "source": [
    "import matplotlib.pyplot as plt\n",
    "import scipy.signal"
   ]
  },
  {
   "cell_type": "code",
   "execution_count": 2,
   "metadata": {},
   "outputs": [
    {
     "ename": "NameError",
     "evalue": "name 'signal_array' is not defined",
     "output_type": "error",
     "traceback": [
      "\u001b[0;31m---------------------------------------------------------------------------\u001b[0m",
      "\u001b[0;31mNameError\u001b[0m                                 Traceback (most recent call last)",
      "Cell \u001b[0;32mIn[2], line 2\u001b[0m\n\u001b[1;32m      1\u001b[0m \u001b[38;5;66;03m# It appears there is a trend in the data that is non-zero\u001b[39;00m\n\u001b[0;32m----> 2\u001b[0m detrend_y \u001b[38;5;241m=\u001b[39m scipy\u001b[38;5;241m.\u001b[39msignal\u001b[38;5;241m.\u001b[39mdetrend(\u001b[43msignal_array\u001b[49m)\n\u001b[1;32m      4\u001b[0m \u001b[38;5;66;03m# Plotting the Detrended Signal\u001b[39;00m\n\u001b[1;32m      5\u001b[0m plt\u001b[38;5;241m.\u001b[39mfigure(figsize\u001b[38;5;241m=\u001b[39m(\u001b[38;5;241m12\u001b[39m, \u001b[38;5;241m4\u001b[39m))\n",
      "\u001b[0;31mNameError\u001b[0m: name 'signal_array' is not defined"
     ]
    }
   ],
   "source": [
    "# It appears there is a trend in the data that is non-zero\n",
    "detrend_y = scipy.signal.detrend(signal_array)\n",
    "\n",
    "# Plotting the Detrended Signal\n",
    "plt.figure(figsize=(12, 4))\n",
    "plt.plot(time_array, detrend_y, label='Detrended Signal')\n",
    "plt.plot(time_array, signal_array, label='Raw Signal')\n",
    "plt.title('Detrended Neural Signal vs. Raw Signal')\n",
    "plt.xlabel('Time [s]')\n",
    "plt.ylabel('Amplitude')\n",
    "plt.legend()\n",
    "plt.show()\n"
   ]
  }
 ],
 "metadata": {
  "kernelspec": {
   "display_name": "py_encoding_env",
   "language": "python",
   "name": "python3"
  },
  "language_info": {
   "codemirror_mode": {
    "name": "ipython",
    "version": 3
   },
   "file_extension": ".py",
   "mimetype": "text/x-python",
   "name": "python",
   "nbconvert_exporter": "python",
   "pygments_lexer": "ipython3",
   "version": "3.12.3"
  }
 },
 "nbformat": 4,
 "nbformat_minor": 2
}
