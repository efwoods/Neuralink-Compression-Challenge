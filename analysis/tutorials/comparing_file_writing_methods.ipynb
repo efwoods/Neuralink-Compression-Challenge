{
 "cells": [
  {
   "cell_type": "markdown",
   "metadata": {},
   "source": [
    "# Comparing Pickle File Size Against Manually Writing File as Bytes\n"
   ]
  },
  {
   "cell_type": "code",
   "execution_count": 1,
   "metadata": {},
   "outputs": [],
   "source": [
    "import os\n",
    "from signal_processing_utilities import process_signal\n",
    "import pickle\n",
    "import numpy as np"
   ]
  },
  {
   "cell_type": "code",
   "execution_count": 2,
   "metadata": {},
   "outputs": [],
   "source": [
    "file_path = os.getcwd() + \"/data/test_file.txt\""
   ]
  },
  {
   "cell_type": "code",
   "execution_count": 3,
   "metadata": {},
   "outputs": [
    {
     "data": {
      "text/plain": [
       "'/Volumes/T7/Github/Neuralink-Compression-Challenge/analysis/tutorials/data/test_file.txt'"
      ]
     },
     "execution_count": 3,
     "metadata": {},
     "output_type": "execute_result"
    }
   ],
   "source": [
    "file_path"
   ]
  },
  {
   "cell_type": "code",
   "execution_count": 4,
   "metadata": {},
   "outputs": [],
   "source": [
    "test_data = [65536, 65537, 65538]"
   ]
  },
  {
   "cell_type": "code",
   "execution_count": 5,
   "metadata": {},
   "outputs": [],
   "source": [
    "with open(file_path, \"wb+\") as fp:\n",
    "    return_value = fp.write(pickle.dumps(test_data))\n",
    "    fp.close()"
   ]
  },
  {
   "cell_type": "code",
   "execution_count": 6,
   "metadata": {},
   "outputs": [
    {
     "name": "stdout",
     "output_type": "stream",
     "text": [
      "File Name: \"test_file.txt\".\n",
      "Size: 31 Bytes.\n"
     ]
    },
    {
     "data": {
      "text/plain": [
       "31"
      ]
     },
     "execution_count": 6,
     "metadata": {},
     "output_type": "execute_result"
    }
   ],
   "source": [
    "process_signal.print_file_size(file_path)"
   ]
  },
  {
   "cell_type": "code",
   "execution_count": 7,
   "metadata": {},
   "outputs": [
    {
     "data": {
      "text/plain": [
       "31"
      ]
     },
     "execution_count": 7,
     "metadata": {},
     "output_type": "execute_result"
    }
   ],
   "source": [
    "return_value"
   ]
  },
  {
   "cell_type": "code",
   "execution_count": 8,
   "metadata": {},
   "outputs": [
    {
     "data": {
      "text/plain": [
       "b'\\x1f'"
      ]
     },
     "execution_count": 8,
     "metadata": {},
     "output_type": "execute_result"
    }
   ],
   "source": [
    "return_value.to_bytes(1, \"big\")"
   ]
  },
  {
   "cell_type": "code",
   "execution_count": 9,
   "metadata": {},
   "outputs": [],
   "source": [
    "with open(file_path, \"wb+\") as fp:\n",
    "    return_value_l = [fp.write(data.to_bytes(4, \"big\")) for data in test_data]"
   ]
  },
  {
   "cell_type": "code",
   "execution_count": 10,
   "metadata": {},
   "outputs": [
    {
     "data": {
      "text/plain": [
       "[4, 4, 4]"
      ]
     },
     "execution_count": 10,
     "metadata": {},
     "output_type": "execute_result"
    }
   ],
   "source": [
    "return_value_l"
   ]
  },
  {
   "cell_type": "code",
   "execution_count": 11,
   "metadata": {},
   "outputs": [
    {
     "data": {
      "text/plain": [
       "12"
      ]
     },
     "execution_count": 11,
     "metadata": {},
     "output_type": "execute_result"
    }
   ],
   "source": [
    "sum(return_value_l)"
   ]
  },
  {
   "cell_type": "code",
   "execution_count": 12,
   "metadata": {},
   "outputs": [
    {
     "name": "stdout",
     "output_type": "stream",
     "text": [
      "File Name: \"test_file.txt\".\n",
      "Size: 12 Bytes.\n"
     ]
    },
    {
     "data": {
      "text/plain": [
       "12"
      ]
     },
     "execution_count": 12,
     "metadata": {},
     "output_type": "execute_result"
    }
   ],
   "source": [
    "process_signal.print_file_size(file_path)"
   ]
  },
  {
   "cell_type": "code",
   "execution_count": 13,
   "metadata": {},
   "outputs": [
    {
     "data": {
      "text/plain": [
       "b'\\x00\\x01\\x00\\x00\\x00\\x01\\x00\\x01\\x00\\x01\\x00\\x02'"
      ]
     },
     "execution_count": 13,
     "metadata": {},
     "output_type": "execute_result"
    }
   ],
   "source": [
    "byte_string = process_signal.read_file_bytes(file_path)\n",
    "byte_string"
   ]
  },
  {
   "cell_type": "code",
   "execution_count": 14,
   "metadata": {},
   "outputs": [],
   "source": [
    "# Reconstruct the array from the byte_string\n",
    "\n",
    "reconstructed_array = []\n",
    "byte_size = 4\n",
    "for index in range(0, len(byte_string), byte_size):\n",
    "    reconstructed_array.append(\n",
    "        int.from_bytes(byte_string[index : index + byte_size], byteorder=\"big\")\n",
    "    )"
   ]
  },
  {
   "cell_type": "code",
   "execution_count": 15,
   "metadata": {},
   "outputs": [
    {
     "data": {
      "text/plain": [
       "[65536, 65537, 65538]"
      ]
     },
     "execution_count": 15,
     "metadata": {},
     "output_type": "execute_result"
    }
   ],
   "source": [
    "reconstructed_array"
   ]
  },
  {
   "cell_type": "code",
   "execution_count": 16,
   "metadata": {},
   "outputs": [
    {
     "data": {
      "text/plain": [
       "37548.38709677419"
      ]
     },
     "execution_count": 16,
     "metadata": {},
     "output_type": "execute_result"
    }
   ],
   "source": [
    "(12 / 31) * 97000"
   ]
  },
  {
   "cell_type": "markdown",
   "metadata": {},
   "source": [
    "#### Node Mapping Dictionary\n"
   ]
  },
  {
   "cell_type": "code",
   "execution_count": 17,
   "metadata": {},
   "outputs": [],
   "source": [
    "node_mapping_dict_list = [\n",
    "    (\"e0\", \"000000000\"),\n",
    "    (\"b8\", \"000000001\"),\n",
    "    (\"7d\", \"000000010\"),\n",
    "    (\"ed\", \"000000011\"),\n",
    "    (\"a7\", \"000000100\"),\n",
    "    (\"2b\", \"000000101\"),\n",
    "    (\"21\", \"000000110\"),\n",
    "    (\"90\", \"000000111\"),\n",
    "    (\"bc\", \"000001000\"),\n",
    "    (\"e2\", \"000001001\"),\n",
    "    (\"a6\", \"000001010\"),\n",
    "    (\"3e\", \"000001011\"),\n",
    "    (\"ec\", \"000001100\"),\n",
    "    (\"f8\", \"000001101\"),\n",
    "    (\"03\", \"00000111\"),\n",
    "    (\"a5\", \"000010000\"),\n",
    "    (\"a4\", \"000010001\"),\n",
    "    (\"e6\", \"000010010\"),\n",
    "    (\"b9\", \"000010011\"),\n",
    "    (\"c3\", \"000010100\"),\n",
    "    (\"da\", \"000010101\"),\n",
    "    (\"c6\", \"000010110\"),\n",
    "    (\"e7\", \"000010111\"),\n",
    "    (\"4d\", \"000011000\"),\n",
    "    (\"85\", \"000011001\"),\n",
    "    (\"cd\", \"000011010\"),\n",
    "    (\"bd\", \"000011011\"),\n",
    "    (\"b1\", \"000011100\"),\n",
    "    (\"94\", \"000011101\"),\n",
    "    (\"e3\", \"000011110\"),\n",
    "    (\"1d\", \"000011111\"),\n",
    "    (\"0f\", \"00010000\"),\n",
    "    (\"54\", \"000100010\"),\n",
    "    (\"d5\", \"000100011\"),\n",
    "    (\"8c\", \"000100100\"),\n",
    "    (\"1a\", \"000100101\"),\n",
    "    (\"10\", \"00010011\"),\n",
    "    (\"d6\", \"000101000\"),\n",
    "    (\"ad\", \"000101001\"),\n",
    "    (\"d1\", \"000101010\"),\n",
    "    (\"f9\", \"000101011\"),\n",
    "    (\"71\", \"000101100\"),\n",
    "    (\"c0\", \"000101101\"),\n",
    "    (\"66\", \"000101110\"),\n",
    "    (\"33\", \"000101111\"),\n",
    "    (\"de\", \"000110000\"),\n",
    "    (\"d9\", \"000110001\"),\n",
    "    (\"84\", \"000110010\"),\n",
    "    (\"f0\", \"000110011\"),\n",
    "    (\"45\", \"000110100\"),\n",
    "    (\"ef\", \"000110101\"),\n",
    "    (\"69\", \"000110110\"),\n",
    "    (\"9c\", \"000110111\"),\n",
    "    (\"8e\", \"000111000\"),\n",
    "    (\"a3\", \"000111001\"),\n",
    "    (\"70\", \"000111010\"),\n",
    "    (\"ee\", \"000111011\"),\n",
    "    (\"4a\", \"000111100\"),\n",
    "    (\"59\", \"000111101\"),\n",
    "]"
   ]
  },
  {
   "cell_type": "code",
   "execution_count": 18,
   "metadata": {},
   "outputs": [
    {
     "data": {
      "text/plain": [
       "b'e0'"
      ]
     },
     "execution_count": 18,
     "metadata": {},
     "output_type": "execute_result"
    }
   ],
   "source": [
    "bytes(node_mapping_dict_list[0][0], encoding=\"utf-8\")"
   ]
  },
  {
   "cell_type": "code",
   "execution_count": 19,
   "metadata": {},
   "outputs": [],
   "source": [
    "bit_string_test = bytes(node_mapping_dict_list[0][1], encoding=\"utf-8\")"
   ]
  },
  {
   "cell_type": "code",
   "execution_count": 20,
   "metadata": {},
   "outputs": [
    {
     "data": {
      "text/plain": [
       "'e0'"
      ]
     },
     "execution_count": 20,
     "metadata": {},
     "output_type": "execute_result"
    }
   ],
   "source": [
    "node_mapping_dict_list[0][0]"
   ]
  },
  {
   "cell_type": "code",
   "execution_count": 21,
   "metadata": {},
   "outputs": [
    {
     "data": {
      "text/plain": [
       "b'000000000'"
      ]
     },
     "execution_count": 21,
     "metadata": {},
     "output_type": "execute_result"
    }
   ],
   "source": [
    "bit_string_test"
   ]
  },
  {
   "cell_type": "code",
   "execution_count": 22,
   "metadata": {},
   "outputs": [
    {
     "data": {
      "text/plain": [
       "b'000000000'"
      ]
     },
     "execution_count": 22,
     "metadata": {},
     "output_type": "execute_result"
    }
   ],
   "source": [
    "bytes(bit_string_test)"
   ]
  },
  {
   "cell_type": "code",
   "execution_count": 23,
   "metadata": {},
   "outputs": [
    {
     "data": {
      "text/plain": [
       "9"
      ]
     },
     "execution_count": 23,
     "metadata": {},
     "output_type": "execute_result"
    }
   ],
   "source": [
    "len(bit_string_test)"
   ]
  },
  {
   "cell_type": "code",
   "execution_count": 24,
   "metadata": {},
   "outputs": [],
   "source": [
    "final_byte_string = b\"\""
   ]
  },
  {
   "cell_type": "code",
   "execution_count": 25,
   "metadata": {},
   "outputs": [],
   "source": [
    "final_byte_string += bit_string_test"
   ]
  },
  {
   "cell_type": "code",
   "execution_count": 26,
   "metadata": {},
   "outputs": [
    {
     "data": {
      "text/plain": [
       "b'000000000'"
      ]
     },
     "execution_count": 26,
     "metadata": {},
     "output_type": "execute_result"
    }
   ],
   "source": [
    "final_byte_string"
   ]
  },
  {
   "cell_type": "code",
   "execution_count": 27,
   "metadata": {},
   "outputs": [
    {
     "data": {
      "text/plain": [
       "b'000000000'"
      ]
     },
     "execution_count": 27,
     "metadata": {},
     "output_type": "execute_result"
    }
   ],
   "source": [
    "bit_string_test"
   ]
  },
  {
   "cell_type": "code",
   "execution_count": 28,
   "metadata": {},
   "outputs": [
    {
     "data": {
      "text/plain": [
       "0"
      ]
     },
     "execution_count": 28,
     "metadata": {},
     "output_type": "execute_result"
    }
   ],
   "source": [
    "int(bit_string_test[0:8], base=2)"
   ]
  },
  {
   "cell_type": "code",
   "execution_count": 29,
   "metadata": {},
   "outputs": [
    {
     "data": {
      "text/plain": [
       "0"
      ]
     },
     "execution_count": 29,
     "metadata": {},
     "output_type": "execute_result"
    }
   ],
   "source": [
    "int(bit_string_test[0:8], base=2)"
   ]
  },
  {
   "cell_type": "markdown",
   "metadata": {},
   "source": [
    "## Examining RLE Byte String\n"
   ]
  },
  {
   "cell_type": "code",
   "execution_count": 30,
   "metadata": {},
   "outputs": [],
   "source": [
    "byte_string = b\"0000000000000000010000000100000000110000001000000001010000001100000001110000010000000010010000010100000010110000011000000011010000011100000011110000100000000100010000100100000100110000101000000101010000101100000101110000110000000110010000110100000110110000111000001111000001111100010010000000010000010010000100010000110010001000010001010010001100010001110010010000010010010010010100010010110010011000010011010010011100010011110010100000010100010010100100010100110010101000010101010010101100010101110010110000010110010010110100101110000101110100101111000101111100110000000110000100110001000110001100110010000110010100110011000110011100110100000110100100110101000110101100110110000110110100110111000110111100111000000111000100111001000111001100111010000111010100111011000111011100111100000111100100111101000111101100111110000111110100111111000111111101000000001000000101000001001000001101000010001000010101000011001000011101000100010001010010001011010001100010001101010001110010001111010010000010010001010010010010010011010010100010010101010010110010010111010011000010011001010011010010011011010011100010011101010011110010011111010100000010100001010100010010100011010100100010100101010100110010100111010101000010101001010101010010101011010101100010101101010101110010101111010110000010110001010110010010110011010110100010110101010110110010110111010111000010111001010111010010111011010111100010111101010111110010111111011000000011000001011000010011000011011000100011000101011000110011000111011001000011001001011001010011001011011001100011001101011001110011001111011010000011010001011010010110101000110101010110101100110101110110110000110110010110110100110110110110111000110111010110111100110111110111000000111000010111000100111000110111001000111001010111001100111001110111010111100000111100010111100101111010111110000111110010111110101111110001111110101111111001111111110110000000110000001110000010110000011110000100110000101110000110110000111110001000110001001110001010110001011110001101100011111001110111101111000011110001111100100111100101111100111111011111100011111001011111001101111100111111110100011111010011111101010111110101111111011001111101101111110111011111011111111110011111101001111110101111111011111111100111111101011111110111111111100111111110111111111101111111111\""
   ]
  },
  {
   "cell_type": "code",
   "execution_count": 31,
   "metadata": {},
   "outputs": [
    {
     "data": {
      "text/plain": [
       "b'0000000000000000010000000100000000110000001000000001010000001100000001110000010000000010010000010100000010110000011000000011010000011100000011110000100000000100010000100100000100110000101000000101010000101100000101110000110000000110010000110100000110110000111000001111000001111100010010000000010000010010000100010000110010001000010001010010001100010001110010010000010010010010010100010010110010011000010011010010011100010011110010100000010100010010100100010100110010101000010101010010101100010101110010110000010110010010110100101110000101110100101111000101111100110000000110000100110001000110001100110010000110010100110011000110011100110100000110100100110101000110101100110110000110110100110111000110111100111000000111000100111001000111001100111010000111010100111011000111011100111100000111100100111101000111101100111110000111110100111111000111111101000000001000000101000001001000001101000010001000010101000011001000011101000100010001010010001011010001100010001101010001110010001111010010000010010001010010010010010011010010100010010101010010110010010111010011000010011001010011010010011011010011100010011101010011110010011111010100000010100001010100010010100011010100100010100101010100110010100111010101000010101001010101010010101011010101100010101101010101110010101111010110000010110001010110010010110011010110100010110101010110110010110111010111000010111001010111010010111011010111100010111101010111110010111111011000000011000001011000010011000011011000100011000101011000110011000111011001000011001001011001010011001011011001100011001101011001110011001111011010000011010001011010010110101000110101010110101100110101110110110000110110010110110100110110110110111000110111010110111100110111110111000000111000010111000100111000110111001000111001010111001100111001110111010111100000111100010111100101111010111110000111110010111110101111110001111110101111111001111111110110000000110000001110000010110000011110000100110000101110000110110000111110001000110001001110001010110001011110001101100011111001110111101111000011110001111100100111100101111100111111011111100011111001011111001101111100111111110100011111010011111101010111110101111111011001111101101111110111011111011111111110011111101001111110101111111011111111100111111101011111110111111111100111111110111111111101111111111'"
      ]
     },
     "execution_count": 31,
     "metadata": {},
     "output_type": "execute_result"
    }
   ],
   "source": [
    "byte_string"
   ]
  },
  {
   "cell_type": "code",
   "execution_count": 32,
   "metadata": {},
   "outputs": [
    {
     "data": {
      "text/plain": [
       "2275"
      ]
     },
     "execution_count": 32,
     "metadata": {},
     "output_type": "execute_result"
    }
   ],
   "source": [
    "len(byte_string)"
   ]
  },
  {
   "cell_type": "code",
   "execution_count": 33,
   "metadata": {},
   "outputs": [
    {
     "data": {
      "text/plain": [
       "'/Volumes/T7/Github/Neuralink-Compression-Challenge/analysis/tutorials/data/test_file.txt'"
      ]
     },
     "execution_count": 33,
     "metadata": {},
     "output_type": "execute_result"
    }
   ],
   "source": [
    "file_path"
   ]
  },
  {
   "cell_type": "code",
   "execution_count": 34,
   "metadata": {},
   "outputs": [
    {
     "name": "stdout",
     "output_type": "stream",
     "text": [
      "File Name: \"test_file.txt\".\n",
      "Size: 2275 Bytes.\n"
     ]
    },
    {
     "data": {
      "text/plain": [
       "2275"
      ]
     },
     "execution_count": 34,
     "metadata": {},
     "output_type": "execute_result"
    }
   ],
   "source": [
    "# byte_string = bit_string_test\n",
    "\n",
    "with open(file_path, \"wb+\") as fp:\n",
    "    fp.write(byte_string)\n",
    "    fp.close()\n",
    "process_signal.print_file_size(file_path)"
   ]
  },
  {
   "cell_type": "code",
   "execution_count": 35,
   "metadata": {},
   "outputs": [],
   "source": [
    "byte_string = \"0x\""
   ]
  },
  {
   "cell_type": "code",
   "execution_count": 36,
   "metadata": {},
   "outputs": [],
   "source": [
    "byte_string = bytes(byte_string, encoding=\"utf-8\")"
   ]
  },
  {
   "cell_type": "code",
   "execution_count": 37,
   "metadata": {},
   "outputs": [
    {
     "data": {
      "text/plain": [
       "b'0x'"
      ]
     },
     "execution_count": 37,
     "metadata": {},
     "output_type": "execute_result"
    }
   ],
   "source": [
    "byte_string"
   ]
  },
  {
   "cell_type": "code",
   "execution_count": 38,
   "metadata": {},
   "outputs": [
    {
     "data": {
      "text/plain": [
       "2"
      ]
     },
     "execution_count": 38,
     "metadata": {},
     "output_type": "execute_result"
    }
   ],
   "source": [
    "len(byte_string)"
   ]
  },
  {
   "cell_type": "code",
   "execution_count": 39,
   "metadata": {},
   "outputs": [],
   "source": [
    "## compressing the byte string\n",
    "byte_string = b\"0000000000000000010000000100000000110000001000000001010000001100000001110000010000000010010000010100000010110000011000000011010000011100000011110000100000000100010000100100000100110000101000000101010000101100000101110000110000000110010000110100000110110000111000001111000001111100010010000000010000010010000100010000110010001000010001010010001100010001110010010000010010010010010100010010110010011000010011010010011100010011110010100000010100010010100100010100110010101000010101010010101100010101110010110000010110010010110100101110000101110100101111000101111100110000000110000100110001000110001100110010000110010100110011000110011100110100000110100100110101000110101100110110000110110100110111000110111100111000000111000100111001000111001100111010000111010100111011000111011100111100000111100100111101000111101100111110000111110100111111000111111101000000001000000101000001001000001101000010001000010101000011001000011101000100010001010010001011010001100010001101010001110010001111010010000010010001010010010010010011010010100010010101010010110010010111010011000010011001010011010010011011010011100010011101010011110010011111010100000010100001010100010010100011010100100010100101010100110010100111010101000010101001010101010010101011010101100010101101010101110010101111010110000010110001010110010010110011010110100010110101010110110010110111010111000010111001010111010010111011010111100010111101010111110010111111011000000011000001011000010011000011011000100011000101011000110011000111011001000011001001011001010011001011011001100011001101011001110011001111011010000011010001011010010110101000110101010110101100110101110110110000110110010110110100110110110110111000110111010110111100110111110111000000111000010111000100111000110111001000111001010111001100111001110111010111100000111100010111100101111010111110000111110010111110101111110001111110101111111001111111110110000000110000001110000010110000011110000100110000101110000110110000111110001000110001001110001010110001011110001101100011111001110111101111000011110001111100100111100101111100111111011111100011111001011111001101111100111111110100011111010011111101010111110101111111011001111101101111110111011111011111111110011111101001111110101111111011111111100111111101011111110111111111100111111110111111111101111111111\""
   ]
  },
  {
   "cell_type": "code",
   "execution_count": 40,
   "metadata": {},
   "outputs": [],
   "source": [
    "byte_string_str = str(byte_string).lstrip(\"b'\").rstrip(\"'\")"
   ]
  },
  {
   "cell_type": "code",
   "execution_count": 41,
   "metadata": {},
   "outputs": [
    {
     "data": {
      "text/plain": [
       "'0'"
      ]
     },
     "execution_count": 41,
     "metadata": {},
     "output_type": "execute_result"
    }
   ],
   "source": [
    "byte_string_str[0]"
   ]
  },
  {
   "cell_type": "code",
   "execution_count": 42,
   "metadata": {},
   "outputs": [],
   "source": [
    "# RLE\n",
    "def rle_bit_compression(byte_string: bytes, compress=True):\n",
    "    byte_string_str = str(byte_string).lstrip(\"b'\").rstrip(\"'\")\n",
    "    if compress == True:\n",
    "        # Convert byte string to string of bits\n",
    "\n",
    "        initial_index = 0\n",
    "        second_index = 1\n",
    "        frequency = 0\n",
    "        rle_compression = []\n",
    "\n",
    "        while second_index < len(byte_string_str):\n",
    "            if byte_string_str[initial_index] == byte_string_str[second_index]:\n",
    "                rle_compression.append(int(byte_string_str[initial_index]))\n",
    "                frequency += 1\n",
    "                while byte_string_str[initial_index] == byte_string_str[second_index]:\n",
    "                    second_index += 1\n",
    "                    frequency += 1\n",
    "                    if second_index >= len(byte_string_str):\n",
    "                        break\n",
    "                rle_compression.append(frequency)\n",
    "            else:\n",
    "                rle_compression.append(byte_string_str[initial_index])\n",
    "                rle_compression.append(-1)\n",
    "            frequency = 0\n",
    "            initial_index = second_index\n",
    "            second_index += 1\n",
    "        rle_compression = \"\".join(rle_compression)\n",
    "        rle_compressed_bytes = bytes(rle_compression, encoding=\"utf-8\")\n",
    "\n",
    "        return rle_compressed_bytes"
   ]
  },
  {
   "cell_type": "code",
   "execution_count": 43,
   "metadata": {},
   "outputs": [
    {
     "data": {
      "text/plain": [
       "b'000000000'"
      ]
     },
     "execution_count": 43,
     "metadata": {},
     "output_type": "execute_result"
    }
   ],
   "source": [
    "bit_string_test"
   ]
  },
  {
   "cell_type": "code",
   "execution_count": 44,
   "metadata": {},
   "outputs": [
    {
     "ename": "TypeError",
     "evalue": "sequence item 0: expected str instance, int found",
     "output_type": "error",
     "traceback": [
      "\u001b[0;31m---------------------------------------------------------------------------\u001b[0m",
      "\u001b[0;31mTypeError\u001b[0m                                 Traceback (most recent call last)",
      "Cell \u001b[0;32mIn[44], line 1\u001b[0m\n\u001b[0;32m----> 1\u001b[0m bit_string_test_compressed \u001b[38;5;241m=\u001b[39m \u001b[43mrle_bit_compression\u001b[49m\u001b[43m(\u001b[49m\u001b[43mbit_string_test\u001b[49m\u001b[43m)\u001b[49m\n",
      "Cell \u001b[0;32mIn[42], line 28\u001b[0m, in \u001b[0;36mrle_bit_compression\u001b[0;34m(byte_string, compress)\u001b[0m\n\u001b[1;32m     26\u001b[0m     initial_index \u001b[38;5;241m=\u001b[39m second_index\n\u001b[1;32m     27\u001b[0m     second_index \u001b[38;5;241m+\u001b[39m\u001b[38;5;241m=\u001b[39m \u001b[38;5;241m1\u001b[39m\n\u001b[0;32m---> 28\u001b[0m rle_compression \u001b[38;5;241m=\u001b[39m \u001b[38;5;124;43m\"\u001b[39;49m\u001b[38;5;124;43m\"\u001b[39;49m\u001b[38;5;241;43m.\u001b[39;49m\u001b[43mjoin\u001b[49m\u001b[43m(\u001b[49m\u001b[43mrle_compression\u001b[49m\u001b[43m)\u001b[49m\n\u001b[1;32m     29\u001b[0m rle_compressed_bytes \u001b[38;5;241m=\u001b[39m \u001b[38;5;28mbytes\u001b[39m(rle_compression, encoding\u001b[38;5;241m=\u001b[39m\u001b[38;5;124m\"\u001b[39m\u001b[38;5;124mutf-8\u001b[39m\u001b[38;5;124m\"\u001b[39m)\n\u001b[1;32m     31\u001b[0m \u001b[38;5;28;01mreturn\u001b[39;00m rle_compressed_bytes\n",
      "\u001b[0;31mTypeError\u001b[0m: sequence item 0: expected str instance, int found"
     ]
    }
   ],
   "source": [
    "bit_string_test_compressed = rle_bit_compression(bit_string_test)"
   ]
  },
  {
   "cell_type": "code",
   "execution_count": 97,
   "metadata": {},
   "outputs": [
    {
     "data": {
      "text/plain": [
       "2"
      ]
     },
     "execution_count": 97,
     "metadata": {},
     "output_type": "execute_result"
    }
   ],
   "source": [
    "len(bit_string_test_compressed)"
   ]
  },
  {
   "cell_type": "code",
   "execution_count": 98,
   "metadata": {},
   "outputs": [
    {
     "name": "stdout",
     "output_type": "stream",
     "text": [
      "File Name: \"test_file.txt\".\n",
      "Size: 2 Bytes.\n"
     ]
    },
    {
     "data": {
      "text/plain": [
       "2"
      ]
     },
     "execution_count": 98,
     "metadata": {},
     "output_type": "execute_result"
    }
   ],
   "source": [
    "with open(file_path, \"wb+\") as fp:\n",
    "    fp.write(bit_string_test_compressed)\n",
    "    fp.close()\n",
    "process_signal.print_file_size(file_path)"
   ]
  },
  {
   "cell_type": "code",
   "execution_count": 99,
   "metadata": {},
   "outputs": [
    {
     "data": {
      "text/plain": [
       "b'000000000'"
      ]
     },
     "execution_count": 99,
     "metadata": {},
     "output_type": "execute_result"
    }
   ],
   "source": [
    "bit_string_test"
   ]
  },
  {
   "cell_type": "code",
   "execution_count": 103,
   "metadata": {},
   "outputs": [
    {
     "data": {
      "text/plain": [
       "2275"
      ]
     },
     "execution_count": 103,
     "metadata": {},
     "output_type": "execute_result"
    }
   ],
   "source": [
    "len(byte_string)"
   ]
  },
  {
   "cell_type": "code",
   "execution_count": 111,
   "metadata": {},
   "outputs": [],
   "source": [
    "byte_string_compressed = rle_bit_compression(byte_string)"
   ]
  },
  {
   "cell_type": "code",
   "execution_count": 112,
   "metadata": {},
   "outputs": [
    {
     "data": {
      "text/plain": [
       "b'0171x071x0812061x081x0x1x06120713051x081x021x051x0x1x061x0x12051207120x1x05130614041x081x031x041x021x051x0212041x0x1x061x0x1x0x1x041x0x12051x0x1304120712021x04120x1x05120x12041305140515031x021x081x051x021x041x031x0412021x031x041x031x0x1x021x0312031x0313021x021x051x021x021x021x021x0x1x031x021x0x12021x0212041x02120x1x021x0213031x0214021x0x1x061x0x1x031x021x0x1x021x031x0x1x0212021x0x1x0x1x041x0x1x0x1x0x1x021x0x1x0x12031x0x1x0x13021x0x12051x0x12021x021x0x120x1x021x0x13041x0x130x1x021x0x14031x0x1502120712041x0212031x031203120212021x0412021x0x1x021202120312021302120x1x05120x1x021x02120x1x0x1x03120x1x0x1202120x1204120x120x1x02120x1303120x1402130613031x0213021x0313021202130x1x04130x1x0x1x02130x1203130x1302140514021x02140x1x03140x12021504150x1x021603170x1x081x061x0x1x051x021x05120x1x041x031x041x0x1x0x1x0412021x04130x1x031x031x031x0x1x021x031x0x120x1x0312031x03120x1x0x1x0313021x03140x1x021x051x021x031x0x1x021x021x021x021x02120x1x021x0x1x031x021x0x1x0x1x0x1x021x0x12021x021x0x130x1x0212041x0212021x0x1x02120x1x021x02120x120x1x0213031x02130x1x0x1x0214021x02150x1x0x1x061x0x1x041x0x1x0x1x031x021x0x1x03120x1x0x1x021x031x0x1x021x0x1x0x1x0x1x0212021x0x1x02130x1x0x1x0x1x041x0x1x0x1x021x0x1x0x1x0x1x0x1x021x0x1x0x1x0x120x1x0x1x0x12031x0x1x0x120x1x0x1x0x1x0x13021x0x1x0x140x1x0x12051x0x12031x0x1x0x12021x021x0x1202120x1x0x120x1x031x0x120x1x0x1x0x1x0x120x12021x0x120x130x1x0x13041x0x13021x0x1x0x130x1x021x0x130x120x1x0x14031x0x140x1x0x1x0x15021x0x160x120712051x0x12041x021204120x12031x0312031x0x1x0x120312021203130x12021x0412021x021x0x12021x0x1x0212021x0x120x120212031202120x1x0x120213021202140x120x1x05120x1x031x0x120x1x021x0x120x1x0x1x03120x1x0x1x0x1x0x120x1x0x1202120x1x0x130x120x1204120x12021x0x120x120x1x02120x120x120x120x1303120x130x1x0x120x1402120x150x130613041x0x13031x021303120x13021x0313021x0x1x0x130212021302130x130x1x0x140514031x0x14021x0x140x1x0x150415021x0x150x1x0x1603160x1x0x1702190x1207120613051x0x120514041x0212041x0x1304120x120415031x0312031x0213031x0x1x0x12031x0x1403120x12031502130x140x1404140315021x0214021x0x1502160x160315021x0x1502120x1502180x1x03150x1x02160x1x0x1x0x150x1x0x170x1202150x120x160x130x150x11002160x1x02160x1x0x170x1902170x1x0x170x11002180x1100x110'"
      ]
     },
     "execution_count": 112,
     "metadata": {},
     "output_type": "execute_result"
    }
   ],
   "source": [
    "byte_string_compressed"
   ]
  },
  {
   "cell_type": "code",
   "execution_count": 113,
   "metadata": {},
   "outputs": [
    {
     "name": "stdout",
     "output_type": "stream",
     "text": [
      "File Name: \"test_file.txt\".\n",
      "Size: 2181 Bytes.\n"
     ]
    },
    {
     "data": {
      "text/plain": [
       "2181"
      ]
     },
     "execution_count": 113,
     "metadata": {},
     "output_type": "execute_result"
    }
   ],
   "source": [
    "with open(file_path, \"wb+\") as fp:\n",
    "    fp.write(byte_string_compressed)\n",
    "    fp.close()\n",
    "process_signal.print_file_size(file_path)"
   ]
  },
  {
   "cell_type": "code",
   "execution_count": 110,
   "metadata": {},
   "outputs": [
    {
     "data": {
      "text/plain": [
       "b'0171x071x0812061x081x0x1x06120713051x081x021x051x0x1x061x0x12051207120x1x05130614041x081x031x041x021x051x0212041x0x1x061x0x1x0x1x041x0x12051x0x1304120712021x04120x1x05120x12041305140515031x021x081x051x021x041x031x0412021x031x041x031x0x1x021x0312031x0313021x021x051x021x021x021x021x0x1x031x021x0x12021x0212041x02120x1x021x0213031x0214021x0x1x061x0x1x031x021x0x1x021x031x0x1x0212021x0x1x0x1x041x0x1x0x1x0x1x021x0x1x0x12031x0x1x0x13021x0x12051x0x12021x021x0x120x1x021x0x13041x0x130x1x021x0x14031x0x1502120712041x0212031x031203120212021x0412021x0x1x021202120312021302120x1x05120x1x021x02120x1x0x1x03120x1x0x1202120x1204120x120x1x02120x1303120x1402130613031x0213021x0313021202130x1x04130x1x0x1x02130x1203130x1302140514021x02140x1x03140x12021504150x1x021603170x1x081x061x0x1x051x021x05120x1x041x031x041x0x1x0x1x0412021x04130x1x031x031x031x0x1x021x031x0x120x1x0312031x03120x1x0x1x0313021x03140x1x021x051x021x031x0x1x021x021x021x021x02120x1x021x0x1x031x021x0x1x0x1x0x1x021x0x12021x021x0x130x1x0212041x0212021x0x1x02120x1x021x02120x120x1x0213031x02130x1x0x1x0214021x02150x1x0x1x061x0x1x041x0x1x0x1x031x021x0x1x03120x1x0x1x021x031x0x1x021x0x1x0x1x0x1x0212021x0x1x02130x1x0x1x0x1x041x0x1x0x1x021x0x1x0x1x0x1x0x1x021x0x1x0x1x0x120x1x0x1x0x12031x0x1x0x120x1x0x1x0x1x0x13021x0x1x0x140x1x0x12051x0x12031x0x1x0x12021x021x0x1202120x1x0x120x1x031x0x120x1x0x1x0x1x0x120x12021x0x120x130x1x0x13041x0x13021x0x1x0x130x1x021x0x130x120x1x0x14031x0x140x1x0x1x0x15021x0x160x120712051x0x12041x021204120x12031x0312031x0x1x0x120312021203130x12021x0412021x021x0x12021x0x1x0212021x0x120x120212031202120x1x0x120213021202140x120x1x05120x1x031x0x120x1x021x0x120x1x0x1x03120x1x0x1x0x1x0x120x1x0x1202120x1x0x130x120x1204120x12021x0x120x120x1x02120x120x120x120x1303120x130x1x0x120x1402120x150x130613041x0x13031x021303120x13021x0313021x0x1x0x130212021302130x130x1x0x140514031x0x14021x0x140x1x0x150415021x0x150x1x0x1603160x1x0x1702190x1207120613051x0x120514041x0212041x0x1304120x120415031x0312031x0213031x0x1x0x12031x0x1403120x12031502130x140x1404140315021x0214021x0x1502160x160315021x0x1502120x1502180x1x03150x1x02160x1x0x1x0x150x1x0x170x1202150x120x160x130x150x11002160x1x02160x1x0x170x1902170x1x0x170x11002180x1100x110'"
      ]
     },
     "execution_count": 110,
     "metadata": {},
     "output_type": "execute_result"
    }
   ],
   "source": [
    "rle_bit_compression(byte_string)"
   ]
  },
  {
   "cell_type": "code",
   "execution_count": 114,
   "metadata": {},
   "outputs": [],
   "source": [
    "with open(file_path, \"rb+\") as fp:\n",
    "    byte_string_compressed_bytes = fp.read()\n",
    "    fp.close()"
   ]
  },
  {
   "cell_type": "code",
   "execution_count": 118,
   "metadata": {},
   "outputs": [],
   "source": [
    "byte_string_compressed_string = (\n",
    "    str(byte_string_compressed_bytes).lstrip(\"b'\").rstrip(\"'\")\n",
    ")"
   ]
  },
  {
   "cell_type": "code",
   "execution_count": 151,
   "metadata": {},
   "outputs": [
    {
     "data": {
      "text/plain": [
       "'1'"
      ]
     },
     "execution_count": 151,
     "metadata": {},
     "output_type": "execute_result"
    }
   ],
   "source": [
    "byte_string_compressed_string[1]"
   ]
  },
  {
   "cell_type": "code",
   "execution_count": 122,
   "metadata": {},
   "outputs": [
    {
     "ename": "TypeError",
     "evalue": "'str' object cannot be interpreted as an integer",
     "output_type": "error",
     "traceback": [
      "\u001b[0;31m---------------------------------------------------------------------------\u001b[0m",
      "\u001b[0;31mTypeError\u001b[0m                                 Traceback (most recent call last)",
      "Cell \u001b[0;32mIn[122], line 5\u001b[0m\n\u001b[1;32m      1\u001b[0m expanded_byte_string \u001b[38;5;241m=\u001b[39m []\n\u001b[1;32m      2\u001b[0m \u001b[38;5;28;01mfor\u001b[39;00m index \u001b[38;5;129;01min\u001b[39;00m \u001b[38;5;28mrange\u001b[39m(\u001b[38;5;241m0\u001b[39m, \u001b[38;5;28mlen\u001b[39m(byte_string_compressed_string), \u001b[38;5;241m2\u001b[39m):\n\u001b[1;32m      3\u001b[0m     byte_sub_string \u001b[38;5;241m=\u001b[39m [\n\u001b[1;32m      4\u001b[0m         byte_string_compressed_string[index]\n\u001b[0;32m----> 5\u001b[0m         \u001b[38;5;28;01mfor\u001b[39;00m value \u001b[38;5;129;01min\u001b[39;00m \u001b[38;5;28;43mrange\u001b[39;49m\u001b[43m(\u001b[49m\u001b[43mbyte_string_compressed_string\u001b[49m\u001b[43m[\u001b[49m\u001b[43mindex\u001b[49m\u001b[43m \u001b[49m\u001b[38;5;241;43m+\u001b[39;49m\u001b[43m \u001b[49m\u001b[38;5;241;43m1\u001b[39;49m\u001b[43m]\u001b[49m\u001b[43m)\u001b[49m\n\u001b[1;32m      6\u001b[0m     ]\n\u001b[1;32m      7\u001b[0m     expanded_byte_string\u001b[38;5;241m.\u001b[39mextend(byte_sub_string)\n",
      "\u001b[0;31mTypeError\u001b[0m: 'str' object cannot be interpreted as an integer"
     ]
    }
   ],
   "source": [
    "expanded_byte_string = []\n",
    "for index in range(0, len(byte_string_compressed_string), 2):\n",
    "    byte_sub_string = [\n",
    "        byte_string_compressed_string[index]\n",
    "        for value in range(byte_string_compressed_string[index + 1])\n",
    "    ]\n",
    "    expanded_byte_string.extend(byte_sub_string)"
   ]
  },
  {
   "cell_type": "code",
   "execution_count": 145,
   "metadata": {},
   "outputs": [],
   "source": [
    "bit_string_test = b\"000000000000\""
   ]
  },
  {
   "cell_type": "code",
   "execution_count": 148,
   "metadata": {},
   "outputs": [
    {
     "data": {
      "text/plain": [
       "b'000000000000'"
      ]
     },
     "execution_count": 148,
     "metadata": {},
     "output_type": "execute_result"
    }
   ],
   "source": [
    "bit_string_test"
   ]
  }
 ],
 "metadata": {
  "kernelspec": {
   "display_name": "Python 3",
   "language": "python",
   "name": "python3"
  },
  "language_info": {
   "codemirror_mode": {
    "name": "ipython",
    "version": 3
   },
   "file_extension": ".py",
   "mimetype": "text/x-python",
   "name": "python",
   "nbconvert_exporter": "python",
   "pygments_lexer": "ipython3",
   "version": "3.11.5"
  }
 },
 "nbformat": 4,
 "nbformat_minor": 2
}
