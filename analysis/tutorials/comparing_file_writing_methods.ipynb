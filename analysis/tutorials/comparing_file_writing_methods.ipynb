{
 "cells": [
  {
   "cell_type": "markdown",
   "metadata": {},
   "source": [
    "# Comparing Pickle File Size Against Manually Writing File as Bytes\n"
   ]
  },
  {
   "cell_type": "code",
   "execution_count": 1,
   "metadata": {},
   "outputs": [],
   "source": [
    "import os\n",
    "from signal_processing_utilities import process_signal\n",
    "import pickle\n",
    "import numpy as np"
   ]
  },
  {
   "cell_type": "code",
   "execution_count": 2,
   "metadata": {},
   "outputs": [],
   "source": [
    "file_path = os.getcwd() + \"/data/test_file.txt\""
   ]
  },
  {
   "cell_type": "code",
   "execution_count": 3,
   "metadata": {},
   "outputs": [
    {
     "data": {
      "text/plain": [
       "'/Volumes/T7/Github/Neuralink-Compression-Challenge/analysis/tutorials/data/test_file.txt'"
      ]
     },
     "execution_count": 3,
     "metadata": {},
     "output_type": "execute_result"
    }
   ],
   "source": [
    "file_path"
   ]
  },
  {
   "cell_type": "code",
   "execution_count": 4,
   "metadata": {},
   "outputs": [],
   "source": [
    "test_data = [65536, 65537, 65538]"
   ]
  },
  {
   "cell_type": "code",
   "execution_count": 5,
   "metadata": {},
   "outputs": [],
   "source": [
    "with open(file_path, \"wb+\") as fp:\n",
    "    return_value = fp.write(pickle.dumps(test_data))\n",
    "    fp.close()"
   ]
  },
  {
   "cell_type": "code",
   "execution_count": 6,
   "metadata": {},
   "outputs": [
    {
     "name": "stdout",
     "output_type": "stream",
     "text": [
      "File Name: \"test_file.txt\".\n",
      "Size: 31 Bytes.\n"
     ]
    },
    {
     "data": {
      "text/plain": [
       "31"
      ]
     },
     "execution_count": 6,
     "metadata": {},
     "output_type": "execute_result"
    }
   ],
   "source": [
    "process_signal.print_file_size(file_path)"
   ]
  },
  {
   "cell_type": "code",
   "execution_count": 7,
   "metadata": {},
   "outputs": [
    {
     "data": {
      "text/plain": [
       "31"
      ]
     },
     "execution_count": 7,
     "metadata": {},
     "output_type": "execute_result"
    }
   ],
   "source": [
    "return_value"
   ]
  },
  {
   "cell_type": "code",
   "execution_count": 8,
   "metadata": {},
   "outputs": [
    {
     "data": {
      "text/plain": [
       "b'\\x1f'"
      ]
     },
     "execution_count": 8,
     "metadata": {},
     "output_type": "execute_result"
    }
   ],
   "source": [
    "return_value.to_bytes(1, \"big\")"
   ]
  },
  {
   "cell_type": "code",
   "execution_count": 9,
   "metadata": {},
   "outputs": [],
   "source": [
    "with open(file_path, \"wb+\") as fp:\n",
    "    return_value_l = [fp.write(data.to_bytes(4, \"big\")) for data in test_data]"
   ]
  },
  {
   "cell_type": "code",
   "execution_count": 10,
   "metadata": {},
   "outputs": [
    {
     "data": {
      "text/plain": [
       "[4, 4, 4]"
      ]
     },
     "execution_count": 10,
     "metadata": {},
     "output_type": "execute_result"
    }
   ],
   "source": [
    "return_value_l"
   ]
  },
  {
   "cell_type": "code",
   "execution_count": 11,
   "metadata": {},
   "outputs": [
    {
     "data": {
      "text/plain": [
       "12"
      ]
     },
     "execution_count": 11,
     "metadata": {},
     "output_type": "execute_result"
    }
   ],
   "source": [
    "sum(return_value_l)"
   ]
  },
  {
   "cell_type": "code",
   "execution_count": 12,
   "metadata": {},
   "outputs": [
    {
     "name": "stdout",
     "output_type": "stream",
     "text": [
      "File Name: \"test_file.txt\".\n",
      "Size: 12 Bytes.\n"
     ]
    },
    {
     "data": {
      "text/plain": [
       "12"
      ]
     },
     "execution_count": 12,
     "metadata": {},
     "output_type": "execute_result"
    }
   ],
   "source": [
    "process_signal.print_file_size(file_path)"
   ]
  },
  {
   "cell_type": "code",
   "execution_count": 13,
   "metadata": {},
   "outputs": [
    {
     "data": {
      "text/plain": [
       "b'\\x00\\x01\\x00\\x00\\x00\\x01\\x00\\x01\\x00\\x01\\x00\\x02'"
      ]
     },
     "execution_count": 13,
     "metadata": {},
     "output_type": "execute_result"
    }
   ],
   "source": [
    "byte_string = process_signal.read_file_bytes(file_path)\n",
    "byte_string"
   ]
  },
  {
   "cell_type": "code",
   "execution_count": 14,
   "metadata": {},
   "outputs": [],
   "source": [
    "# Reconstruct the array from the byte_string\n",
    "\n",
    "reconstructed_array = []\n",
    "byte_size = 4\n",
    "for index in range(0, len(byte_string), byte_size):\n",
    "    reconstructed_array.append(\n",
    "        int.from_bytes(byte_string[index : index + byte_size], byteorder=\"big\")\n",
    "    )"
   ]
  },
  {
   "cell_type": "code",
   "execution_count": 15,
   "metadata": {},
   "outputs": [
    {
     "data": {
      "text/plain": [
       "[65536, 65537, 65538]"
      ]
     },
     "execution_count": 15,
     "metadata": {},
     "output_type": "execute_result"
    }
   ],
   "source": [
    "reconstructed_array"
   ]
  },
  {
   "cell_type": "code",
   "execution_count": 16,
   "metadata": {},
   "outputs": [
    {
     "data": {
      "text/plain": [
       "37548.38709677419"
      ]
     },
     "execution_count": 16,
     "metadata": {},
     "output_type": "execute_result"
    }
   ],
   "source": [
    "(12 / 31) * 97000"
   ]
  },
  {
   "cell_type": "markdown",
   "metadata": {},
   "source": [
    "#### Node Mapping Dictionary\n"
   ]
  },
  {
   "cell_type": "code",
   "execution_count": 17,
   "metadata": {},
   "outputs": [],
   "source": [
    "node_mapping_dict_list = [\n",
    "    (\"e0\", \"000000000\"),\n",
    "    (\"b8\", \"000000001\"),\n",
    "    (\"7d\", \"000000010\"),\n",
    "    (\"ed\", \"000000011\"),\n",
    "    (\"a7\", \"000000100\"),\n",
    "    (\"2b\", \"000000101\"),\n",
    "    (\"21\", \"000000110\"),\n",
    "    (\"90\", \"000000111\"),\n",
    "    (\"bc\", \"000001000\"),\n",
    "    (\"e2\", \"000001001\"),\n",
    "    (\"a6\", \"000001010\"),\n",
    "    (\"3e\", \"000001011\"),\n",
    "    (\"ec\", \"000001100\"),\n",
    "    (\"f8\", \"000001101\"),\n",
    "    (\"03\", \"00000111\"),\n",
    "    (\"a5\", \"000010000\"),\n",
    "    (\"a4\", \"000010001\"),\n",
    "    (\"e6\", \"000010010\"),\n",
    "    (\"b9\", \"000010011\"),\n",
    "    (\"c3\", \"000010100\"),\n",
    "    (\"da\", \"000010101\"),\n",
    "    (\"c6\", \"000010110\"),\n",
    "    (\"e7\", \"000010111\"),\n",
    "    (\"4d\", \"000011000\"),\n",
    "    (\"85\", \"000011001\"),\n",
    "    (\"cd\", \"000011010\"),\n",
    "    (\"bd\", \"000011011\"),\n",
    "    (\"b1\", \"000011100\"),\n",
    "    (\"94\", \"000011101\"),\n",
    "    (\"e3\", \"000011110\"),\n",
    "    (\"1d\", \"000011111\"),\n",
    "    (\"0f\", \"00010000\"),\n",
    "    (\"54\", \"000100010\"),\n",
    "    (\"d5\", \"000100011\"),\n",
    "    (\"8c\", \"000100100\"),\n",
    "    (\"1a\", \"000100101\"),\n",
    "    (\"10\", \"00010011\"),\n",
    "    (\"d6\", \"000101000\"),\n",
    "    (\"ad\", \"000101001\"),\n",
    "    (\"d1\", \"000101010\"),\n",
    "    (\"f9\", \"000101011\"),\n",
    "    (\"71\", \"000101100\"),\n",
    "    (\"c0\", \"000101101\"),\n",
    "    (\"66\", \"000101110\"),\n",
    "    (\"33\", \"000101111\"),\n",
    "    (\"de\", \"000110000\"),\n",
    "    (\"d9\", \"000110001\"),\n",
    "    (\"84\", \"000110010\"),\n",
    "    (\"f0\", \"000110011\"),\n",
    "    (\"45\", \"000110100\"),\n",
    "    (\"ef\", \"000110101\"),\n",
    "    (\"69\", \"000110110\"),\n",
    "    (\"9c\", \"000110111\"),\n",
    "    (\"8e\", \"000111000\"),\n",
    "    (\"a3\", \"000111001\"),\n",
    "    (\"70\", \"000111010\"),\n",
    "    (\"ee\", \"000111011\"),\n",
    "    (\"4a\", \"000111100\"),\n",
    "    (\"59\", \"000111101\"),\n",
    "]"
   ]
  },
  {
   "cell_type": "code",
   "execution_count": 43,
   "metadata": {},
   "outputs": [
    {
     "data": {
      "text/plain": [
       "b'e0'"
      ]
     },
     "execution_count": 43,
     "metadata": {},
     "output_type": "execute_result"
    }
   ],
   "source": [
    "bytes(node_mapping_dict_list[0][0], encoding=\"utf-8\")"
   ]
  },
  {
   "cell_type": "code",
   "execution_count": 37,
   "metadata": {},
   "outputs": [],
   "source": [
    "bit_string_test = bytes(node_mapping_dict_list[0][1], encoding=\"utf-8\")"
   ]
  },
  {
   "cell_type": "code",
   "execution_count": 41,
   "metadata": {},
   "outputs": [
    {
     "data": {
      "text/plain": [
       "'e0'"
      ]
     },
     "execution_count": 41,
     "metadata": {},
     "output_type": "execute_result"
    }
   ],
   "source": [
    "node_mapping_dict_list[0][0]"
   ]
  },
  {
   "cell_type": "code",
   "execution_count": 49,
   "metadata": {},
   "outputs": [
    {
     "data": {
      "text/plain": [
       "b'000000000'"
      ]
     },
     "execution_count": 49,
     "metadata": {},
     "output_type": "execute_result"
    }
   ],
   "source": [
    "bit_string_test"
   ]
  },
  {
   "cell_type": "code",
   "execution_count": 51,
   "metadata": {},
   "outputs": [
    {
     "data": {
      "text/plain": [
       "b'000000000'"
      ]
     },
     "execution_count": 51,
     "metadata": {},
     "output_type": "execute_result"
    }
   ],
   "source": [
    "bytes(bit_string_test)"
   ]
  },
  {
   "cell_type": "code",
   "execution_count": 38,
   "metadata": {},
   "outputs": [
    {
     "data": {
      "text/plain": [
       "9"
      ]
     },
     "execution_count": 38,
     "metadata": {},
     "output_type": "execute_result"
    }
   ],
   "source": [
    "len(bit_string_test)"
   ]
  },
  {
   "cell_type": "code",
   "execution_count": 26,
   "metadata": {},
   "outputs": [],
   "source": [
    "final_byte_string = b\"\""
   ]
  },
  {
   "cell_type": "code",
   "execution_count": 32,
   "metadata": {},
   "outputs": [],
   "source": [
    "final_byte_string += bit_string_test"
   ]
  },
  {
   "cell_type": "code",
   "execution_count": 35,
   "metadata": {},
   "outputs": [
    {
     "data": {
      "text/plain": [
       "b'000000000000000000000000000'"
      ]
     },
     "execution_count": 35,
     "metadata": {},
     "output_type": "execute_result"
    }
   ],
   "source": [
    "final_byte_string"
   ]
  },
  {
   "cell_type": "code",
   "execution_count": 22,
   "metadata": {},
   "outputs": [
    {
     "data": {
      "text/plain": [
       "b'000000000'"
      ]
     },
     "execution_count": 22,
     "metadata": {},
     "output_type": "execute_result"
    }
   ],
   "source": [
    "bit_string_test"
   ]
  },
  {
   "cell_type": "code",
   "execution_count": 20,
   "metadata": {},
   "outputs": [
    {
     "data": {
      "text/plain": [
       "0"
      ]
     },
     "execution_count": 20,
     "metadata": {},
     "output_type": "execute_result"
    }
   ],
   "source": [
    "int(bit_string_test[0:8], base=2)"
   ]
  },
  {
   "cell_type": "code",
   "execution_count": 21,
   "metadata": {},
   "outputs": [
    {
     "data": {
      "text/plain": [
       "0"
      ]
     },
     "execution_count": 21,
     "metadata": {},
     "output_type": "execute_result"
    }
   ],
   "source": [
    "int(bit_string_test[0:8], base=2)"
   ]
  }
 ],
 "metadata": {
  "kernelspec": {
   "display_name": "Python 3",
   "language": "python",
   "name": "python3"
  },
  "language_info": {
   "codemirror_mode": {
    "name": "ipython",
    "version": 3
   },
   "file_extension": ".py",
   "mimetype": "text/x-python",
   "name": "python",
   "nbconvert_exporter": "python",
   "pygments_lexer": "ipython3",
   "version": "3.11.5"
  }
 },
 "nbformat": 4,
 "nbformat_minor": 2
}
