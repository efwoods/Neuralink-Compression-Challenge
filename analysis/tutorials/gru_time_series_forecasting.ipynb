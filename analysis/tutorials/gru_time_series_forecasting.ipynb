{
 "cells": [
  {
   "cell_type": "markdown",
   "metadata": {},
   "source": [
    "# GRU Time Series Forecasting\n"
   ]
  },
  {
   "cell_type": "markdown",
   "metadata": {
    "vscode": {
     "languageId": "plaintext"
    }
   },
   "source": [
    "## Imports\n"
   ]
  },
  {
   "cell_type": "code",
   "execution_count": 1,
   "metadata": {},
   "outputs": [],
   "source": [
    "import os\n",
    "import matplotlib.pyplot as plt\n",
    "import numpy as np\n",
    "import pandas as pd\n",
    "import seaborn as sns\n",
    "import tensorflow as tf\n",
    "from glob import glob\n",
    "import scipy.io\n",
    "import IPython\n",
    "import time\n",
    "import seaborn as sns\n",
    "from sklearn.preprocessing import MinMaxScaler\n",
    "from sklearn.metrics import mean_squared_error\n",
    "import torch\n",
    "import torch.nn as nn\n",
    "import math\n",
    "from scipy.io import wavfile"
   ]
  },
  {
   "cell_type": "markdown",
   "metadata": {},
   "source": [
    "### Function Definitions\n"
   ]
  },
  {
   "cell_type": "code",
   "execution_count": 2,
   "metadata": {},
   "outputs": [],
   "source": [
    "def create_train_test_set(data, window_size):\n",
    "    raw_data = data.to_numpy()  # convert to numpy array\n",
    "    data = []\n",
    "\n",
    "    # create all possible sequences of length window_size\n",
    "    for current_index in range(len(raw_data) - window_size):\n",
    "        data.append(raw_data[current_index : current_index + window_size])\n",
    "\n",
    "    data = np.array(data)\n",
    "    test_set_size = int(np.round(0.2 * data.shape[0]))\n",
    "    train_set_size = data.shape[0] - (test_set_size)\n",
    "\n",
    "    x_train = data[:train_set_size, :-1, :]\n",
    "    y_train = data[:train_set_size, -1, :]\n",
    "\n",
    "    x_test = data[train_set_size, :-1]\n",
    "    y_test = data[train_set_size, -1, :]\n",
    "\n",
    "    return [x_train, y_train, x_test, y_test]"
   ]
  },
  {
   "cell_type": "code",
   "execution_count": 3,
   "metadata": {},
   "outputs": [],
   "source": [
    "class GRU(nn.Module):\n",
    "    def __init__(self, input_dim, hidden_dim, num_layers, output_dim):\n",
    "        super(GRU, self).__init__()\n",
    "        self.hidden_dim = hidden_dim\n",
    "        self.num_layers = num_layers\n",
    "\n",
    "        self.gru = nn.GRU(input_dim, hidden_dim, num_layers, batch_first=True)\n",
    "        self.output_layer = nn.Linear(hidden_dim, output_dim)\n",
    "\n",
    "    def forward(self, x):\n",
    "        h0 = torch.zeros(self.num_layers, x.size(0), self.hidden_dim).requires_grad_()\n",
    "        out, (hn) = self.gru(x, (h0.detach()))\n",
    "        out = self.output_layer(out[:, -1, :])\n",
    "        return out"
   ]
  },
  {
   "cell_type": "markdown",
   "metadata": {},
   "source": [
    "## Multi-layer Gated Recurrent Unit Recurrent Neural Network (GRU)\n"
   ]
  },
  {
   "cell_type": "markdown",
   "metadata": {},
   "source": [
    "### Importing Data & Normalizing the Neural Data\n"
   ]
  },
  {
   "cell_type": "code",
   "execution_count": 53,
   "metadata": {},
   "outputs": [],
   "source": [
    "data_dir = \"../../data/\"\n",
    "data_file_l = glob(data_dir + \"*.wav\")\n",
    "rate, data = wavfile.read(data_file_l[0])\n",
    "df = pd.DataFrame(data, columns=[\"Amplitude\"])\n",
    "df.index.name = \"Sample\""
   ]
  },
  {
   "cell_type": "code",
   "execution_count": 54,
   "metadata": {},
   "outputs": [],
   "source": [
    "# The values are normalized between -1 and 1\n",
    "scaler = MinMaxScaler(feature_range=(-1, 1))\n",
    "df[\"Amplitude\"] = scaler.fit_transform(df[\"Amplitude\"].values.reshape(-1, 1))"
   ]
  },
  {
   "cell_type": "markdown",
   "metadata": {},
   "source": [
    "### Splitting the Data into Training & Testing Sets\n"
   ]
  },
  {
   "cell_type": "code",
   "execution_count": 55,
   "metadata": {},
   "outputs": [],
   "source": [
    "x_train, y_train, x_test, y_test = create_train_test_set(df, window_size=20)"
   ]
  },
  {
   "cell_type": "code",
   "execution_count": 8,
   "metadata": {},
   "outputs": [],
   "source": [
    "x_train = torch.from_numpy(x_train).type(torch.Tensor)\n",
    "x_test = torch.from_numpy(x_test).type(torch.Tensor)\n",
    "y_train = torch.from_numpy(y_train).type(torch.Tensor)\n",
    "y_test = torch.from_numpy(y_test).type(torch.Tensor)"
   ]
  },
  {
   "cell_type": "markdown",
   "metadata": {},
   "source": [
    "#### Defining the Neural Network\n"
   ]
  },
  {
   "cell_type": "code",
   "execution_count": 9,
   "metadata": {},
   "outputs": [],
   "source": [
    "input_dim = 1\n",
    "hidden_dim = 32\n",
    "num_layers = 2\n",
    "output_dim = 1\n",
    "num_epochs = 100\n",
    "\n",
    "model = GRU(\n",
    "    input_dim=input_dim,\n",
    "    hidden_dim=hidden_dim,\n",
    "    output_dim=output_dim,\n",
    "    num_layers=num_layers,\n",
    ")\n",
    "\n",
    "criterion = nn.MSELoss(reduction=\"mean\")\n",
    "optimiser = torch.optim.Adam(model.parameters(), lr=0.01)"
   ]
  },
  {
   "cell_type": "markdown",
   "metadata": {},
   "source": [
    "#### Training the Neural Network\n"
   ]
  },
  {
   "cell_type": "code",
   "execution_count": 10,
   "metadata": {},
   "outputs": [],
   "source": [
    "hist = np.zeros(num_epochs)"
   ]
  },
  {
   "cell_type": "code",
   "execution_count": 11,
   "metadata": {},
   "outputs": [
    {
     "name": "stdout",
     "output_type": "stream",
     "text": [
      "Epoch  0 MSE:  0.08051182329654694\n",
      "Epoch  1 MSE:  0.07728022336959839\n",
      "Epoch  2 MSE:  0.06322275847196579\n",
      "Epoch  3 MSE:  0.04830668494105339\n",
      "Epoch  4 MSE:  0.04263068735599518\n",
      "Epoch  5 MSE:  0.04042736068367958\n",
      "Epoch  6 MSE:  0.030609171837568283\n",
      "Epoch  7 MSE:  0.017245925962924957\n",
      "Epoch  8 MSE:  0.01267309207469225\n",
      "Epoch  9 MSE:  0.015718255192041397\n",
      "Epoch  10 MSE:  0.02012903243303299\n",
      "Epoch  11 MSE:  0.014976720325648785\n",
      "Epoch  12 MSE:  0.008343742229044437\n",
      "Epoch  13 MSE:  0.008398642763495445\n",
      "Epoch  14 MSE:  0.010536055080592632\n",
      "Epoch  15 MSE:  0.011786387301981449\n",
      "Epoch  16 MSE:  0.011929882690310478\n",
      "Epoch  17 MSE:  0.011466299183666706\n",
      "Epoch  18 MSE:  0.010615473613142967\n",
      "Epoch  19 MSE:  0.009261364117264748\n",
      "Epoch  20 MSE:  0.007580666337162256\n",
      "Epoch  21 MSE:  0.006444071885198355\n",
      "Epoch  22 MSE:  0.006639488041400909\n",
      "Epoch  23 MSE:  0.007644901517778635\n",
      "Epoch  24 MSE:  0.008144857361912727\n",
      "Epoch  25 MSE:  0.007854542694985867\n",
      "Epoch  26 MSE:  0.007282943930476904\n",
      "Epoch  27 MSE:  0.006587568670511246\n",
      "Epoch  28 MSE:  0.005971186328679323\n",
      "Epoch  29 MSE:  0.005830212030559778\n",
      "Epoch  30 MSE:  0.006136125419288874\n",
      "Epoch  31 MSE:  0.006473437882959843\n",
      "Epoch  32 MSE:  0.006543138530105352\n",
      "Epoch  33 MSE:  0.0063712638802826405\n",
      "Epoch  34 MSE:  0.006131297908723354\n",
      "Epoch  35 MSE:  0.005901775788515806\n",
      "Epoch  36 MSE:  0.005662357434630394\n",
      "Epoch  37 MSE:  0.0054800729267299175\n",
      "Epoch  38 MSE:  0.005499488208442926\n",
      "Epoch  39 MSE:  0.005683062598109245\n",
      "Epoch  40 MSE:  0.005794808268547058\n",
      "Epoch  41 MSE:  0.005727996584028006\n",
      "Epoch  42 MSE:  0.005598301067948341\n",
      "Epoch  43 MSE:  0.00549224391579628\n",
      "Epoch  44 MSE:  0.005396759603172541\n",
      "Epoch  45 MSE:  0.005342958495020866\n",
      "Epoch  46 MSE:  0.005380322691053152\n",
      "Epoch  47 MSE:  0.00546186463907361\n",
      "Epoch  48 MSE:  0.005494896322488785\n",
      "Epoch  49 MSE:  0.005460001528263092\n",
      "Epoch  50 MSE:  0.0054070306941866875\n",
      "Epoch  51 MSE:  0.005365198478102684\n",
      "Epoch  52 MSE:  0.005325922742486\n",
      "Epoch  53 MSE:  0.005302492994815111\n",
      "Epoch  54 MSE:  0.005323154851794243\n",
      "Epoch  55 MSE:  0.005364762619137764\n",
      "Epoch  56 MSE:  0.005375734064728022\n",
      "Epoch  57 MSE:  0.005353768356144428\n",
      "Epoch  58 MSE:  0.005330309271812439\n",
      "Epoch  59 MSE:  0.005311779212206602\n",
      "Epoch  60 MSE:  0.005295082461088896\n",
      "Epoch  61 MSE:  0.005294522270560265\n",
      "Epoch  62 MSE:  0.005312108434736729\n",
      "Epoch  63 MSE:  0.005324662197381258\n",
      "Epoch  64 MSE:  0.00531915994361043\n",
      "Epoch  65 MSE:  0.005306763108819723\n",
      "Epoch  66 MSE:  0.0052966042421758175\n",
      "Epoch  67 MSE:  0.005286413710564375\n",
      "Epoch  68 MSE:  0.00528019480407238\n",
      "Epoch  69 MSE:  0.005284916143864393\n",
      "Epoch  70 MSE:  0.005292687565088272\n",
      "Epoch  71 MSE:  0.0052918484434485435\n",
      "Epoch  72 MSE:  0.0052851419895887375\n",
      "Epoch  73 MSE:  0.00527913449332118\n",
      "Epoch  74 MSE:  0.005273236893117428\n",
      "Epoch  75 MSE:  0.005268831737339497\n",
      "Epoch  76 MSE:  0.005269969813525677\n",
      "Epoch  77 MSE:  0.005273367278277874\n",
      "Epoch  78 MSE:  0.0052729155868291855\n",
      "Epoch  79 MSE:  0.005269422195851803\n",
      "Epoch  80 MSE:  0.005266142543405294\n",
      "Epoch  81 MSE:  0.005262863822281361\n",
      "Epoch  82 MSE:  0.005260238889604807\n",
      "Epoch  83 MSE:  0.005260530859231949\n",
      "Epoch  84 MSE:  0.005262074526399374\n",
      "Epoch  85 MSE:  0.005261595826596022\n",
      "Epoch  86 MSE:  0.00525967963039875\n",
      "Epoch  87 MSE:  0.005257904063910246\n",
      "Epoch  88 MSE:  0.005256029777228832\n",
      "Epoch  89 MSE:  0.00525472778826952\n",
      "Epoch  90 MSE:  0.005254988558590412\n",
      "Epoch  91 MSE:  0.005255465395748615\n",
      "Epoch  92 MSE:  0.005254794843494892\n",
      "Epoch  93 MSE:  0.005253649782389402\n",
      "Epoch  94 MSE:  0.00525255873799324\n",
      "Epoch  95 MSE:  0.005251375958323479\n",
      "Epoch  96 MSE:  0.005250709597021341\n",
      "Epoch  97 MSE:  0.005250777117908001\n",
      "Epoch  98 MSE:  0.005250613670796156\n",
      "Epoch  99 MSE:  0.005249883979558945\n",
      "CPU times: user 10min 43s, sys: 4min 9s, total: 14min 53s\n",
      "Wall time: 4min 11s\n"
     ]
    }
   ],
   "source": [
    "%%time\n",
    "gru = []\n",
    "\n",
    "for t in range(num_epochs):\n",
    "    y_train_pred = model(x_train)\n",
    "    \n",
    "    loss = criterion(y_train_pred, y_train)\n",
    "    print('Epoch ', t, 'MSE: ', loss.item())\n",
    "    hist[t] = loss.item()\n",
    "    \n",
    "    optimiser.zero_grad()\n",
    "    loss.backward()\n",
    "    optimiser.step()"
   ]
  },
  {
   "cell_type": "markdown",
   "metadata": {},
   "source": [
    "#### Reformatting the Data\n"
   ]
  },
  {
   "cell_type": "code",
   "execution_count": 12,
   "metadata": {},
   "outputs": [],
   "source": [
    "predict = pd.DataFrame(scaler.inverse_transform(y_train_pred.detach().numpy()))\n",
    "original = pd.DataFrame(scaler.inverse_transform(y_train.detach().numpy()))"
   ]
  },
  {
   "cell_type": "code",
   "execution_count": 19,
   "metadata": {},
   "outputs": [],
   "source": [
    "result_df = pd.concat([original, predict], axis=1)"
   ]
  },
  {
   "cell_type": "code",
   "execution_count": 20,
   "metadata": {},
   "outputs": [],
   "source": [
    "result_df.columns = [\"Truth\", \"Pred\"]"
   ]
  },
  {
   "cell_type": "code",
   "execution_count": 23,
   "metadata": {},
   "outputs": [],
   "source": [
    "result_df.index.name = \"Sample\""
   ]
  },
  {
   "cell_type": "code",
   "execution_count": 26,
   "metadata": {},
   "outputs": [],
   "source": [
    "result_df[\"Residuals\"] = result_df[\"Truth\"] - result_df[\"Pred\"]"
   ]
  },
  {
   "cell_type": "code",
   "execution_count": 38,
   "metadata": {},
   "outputs": [
    {
     "data": {
      "text/html": [
       "<div>\n",
       "<style scoped>\n",
       "    .dataframe tbody tr th:only-of-type {\n",
       "        vertical-align: middle;\n",
       "    }\n",
       "\n",
       "    .dataframe tbody tr th {\n",
       "        vertical-align: top;\n",
       "    }\n",
       "\n",
       "    .dataframe thead th {\n",
       "        text-align: right;\n",
       "    }\n",
       "</style>\n",
       "<table border=\"1\" class=\"dataframe\">\n",
       "  <thead>\n",
       "    <tr style=\"text-align: right;\">\n",
       "      <th></th>\n",
       "      <th>Truth</th>\n",
       "      <th>Pred</th>\n",
       "      <th>Residuals</th>\n",
       "    </tr>\n",
       "    <tr>\n",
       "      <th>Sample</th>\n",
       "      <th></th>\n",
       "      <th></th>\n",
       "      <th></th>\n",
       "    </tr>\n",
       "  </thead>\n",
       "  <tbody>\n",
       "    <tr>\n",
       "      <th>0</th>\n",
       "      <td>736.0</td>\n",
       "      <td>1226.996338</td>\n",
       "      <td>-490.996338</td>\n",
       "    </tr>\n",
       "    <tr>\n",
       "      <th>1</th>\n",
       "      <td>672.0</td>\n",
       "      <td>814.898682</td>\n",
       "      <td>-142.898682</td>\n",
       "    </tr>\n",
       "    <tr>\n",
       "      <th>2</th>\n",
       "      <td>1376.0</td>\n",
       "      <td>746.503967</td>\n",
       "      <td>629.496033</td>\n",
       "    </tr>\n",
       "    <tr>\n",
       "      <th>3</th>\n",
       "      <td>1120.0</td>\n",
       "      <td>1299.970459</td>\n",
       "      <td>-179.970459</td>\n",
       "    </tr>\n",
       "    <tr>\n",
       "      <th>4</th>\n",
       "      <td>1376.0</td>\n",
       "      <td>1093.922485</td>\n",
       "      <td>282.077515</td>\n",
       "    </tr>\n",
       "  </tbody>\n",
       "</table>\n",
       "</div>"
      ],
      "text/plain": [
       "         Truth         Pred   Residuals\n",
       "Sample                                 \n",
       "0        736.0  1226.996338 -490.996338\n",
       "1        672.0   814.898682 -142.898682\n",
       "2       1376.0   746.503967  629.496033\n",
       "3       1120.0  1299.970459 -179.970459\n",
       "4       1376.0  1093.922485  282.077515"
      ]
     },
     "execution_count": 38,
     "metadata": {},
     "output_type": "execute_result"
    }
   ],
   "source": [
    "result_df.head()"
   ]
  },
  {
   "cell_type": "code",
   "execution_count": 45,
   "metadata": {},
   "outputs": [
    {
     "data": {
      "text/html": [
       "<div>\n",
       "<style scoped>\n",
       "    .dataframe tbody tr th:only-of-type {\n",
       "        vertical-align: middle;\n",
       "    }\n",
       "\n",
       "    .dataframe tbody tr th {\n",
       "        vertical-align: top;\n",
       "    }\n",
       "\n",
       "    .dataframe thead th {\n",
       "        text-align: right;\n",
       "    }\n",
       "</style>\n",
       "<table border=\"1\" class=\"dataframe\">\n",
       "  <thead>\n",
       "    <tr style=\"text-align: right;\">\n",
       "      <th></th>\n",
       "      <th>Truth</th>\n",
       "      <th>Pred</th>\n",
       "      <th>Residuals</th>\n",
       "    </tr>\n",
       "    <tr>\n",
       "      <th>Sample</th>\n",
       "      <th></th>\n",
       "      <th></th>\n",
       "      <th></th>\n",
       "    </tr>\n",
       "  </thead>\n",
       "  <tbody>\n",
       "    <tr>\n",
       "      <th>49</th>\n",
       "      <td>415.000000</td>\n",
       "      <td>420.628479</td>\n",
       "      <td>-5.628479</td>\n",
       "    </tr>\n",
       "    <tr>\n",
       "      <th>78</th>\n",
       "      <td>1697.000000</td>\n",
       "      <td>1696.457520</td>\n",
       "      <td>0.542480</td>\n",
       "    </tr>\n",
       "    <tr>\n",
       "      <th>97</th>\n",
       "      <td>95.000023</td>\n",
       "      <td>94.155479</td>\n",
       "      <td>0.844543</td>\n",
       "    </tr>\n",
       "    <tr>\n",
       "      <th>194</th>\n",
       "      <td>159.000015</td>\n",
       "      <td>160.301590</td>\n",
       "      <td>-1.301575</td>\n",
       "    </tr>\n",
       "    <tr>\n",
       "      <th>210</th>\n",
       "      <td>-1762.000122</td>\n",
       "      <td>-1756.588379</td>\n",
       "      <td>-5.411743</td>\n",
       "    </tr>\n",
       "    <tr>\n",
       "      <th>...</th>\n",
       "      <td>...</td>\n",
       "      <td>...</td>\n",
       "      <td>...</td>\n",
       "    </tr>\n",
       "    <tr>\n",
       "      <th>78656</th>\n",
       "      <td>-545.000061</td>\n",
       "      <td>-542.686218</td>\n",
       "      <td>-2.313843</td>\n",
       "    </tr>\n",
       "    <tr>\n",
       "      <th>78679</th>\n",
       "      <td>223.000015</td>\n",
       "      <td>224.538132</td>\n",
       "      <td>-1.538116</td>\n",
       "    </tr>\n",
       "    <tr>\n",
       "      <th>78750</th>\n",
       "      <td>1569.000000</td>\n",
       "      <td>1565.498657</td>\n",
       "      <td>3.501343</td>\n",
       "    </tr>\n",
       "    <tr>\n",
       "      <th>78803</th>\n",
       "      <td>1569.000000</td>\n",
       "      <td>1563.124756</td>\n",
       "      <td>5.875244</td>\n",
       "    </tr>\n",
       "    <tr>\n",
       "      <th>78809</th>\n",
       "      <td>2081.000000</td>\n",
       "      <td>2072.008301</td>\n",
       "      <td>8.991699</td>\n",
       "    </tr>\n",
       "  </tbody>\n",
       "</table>\n",
       "<p>1694 rows × 3 columns</p>\n",
       "</div>"
      ],
      "text/plain": [
       "              Truth         Pred  Residuals\n",
       "Sample                                     \n",
       "49       415.000000   420.628479  -5.628479\n",
       "78      1697.000000  1696.457520   0.542480\n",
       "97        95.000023    94.155479   0.844543\n",
       "194      159.000015   160.301590  -1.301575\n",
       "210    -1762.000122 -1756.588379  -5.411743\n",
       "...             ...          ...        ...\n",
       "78656   -545.000061  -542.686218  -2.313843\n",
       "78679    223.000015   224.538132  -1.538116\n",
       "78750   1569.000000  1565.498657   3.501343\n",
       "78803   1569.000000  1563.124756   5.875244\n",
       "78809   2081.000000  2072.008301   8.991699\n",
       "\n",
       "[1694 rows x 3 columns]"
      ]
     },
     "execution_count": 45,
     "metadata": {},
     "output_type": "execute_result"
    }
   ],
   "source": [
    "result_df.loc[(result_df[\"Residuals\"] > -10) & (result_df[\"Residuals\"] < 10)]"
   ]
  },
  {
   "cell_type": "code",
   "execution_count": 37,
   "metadata": {},
   "outputs": [
    {
     "data": {
      "image/png": "[encoded data removed]",
      "text/plain": [
       "<Figure size 640x480 with 1 Axes>"
      ]
     },
     "metadata": {},
     "output_type": "display_data"
    }
   ],
   "source": [
    "result_df.head(1000).plot()\n",
    "plt.axhline(y=0)\n",
    "plt.show()"
   ]
  }
 ],
 "metadata": {
  "kernelspec": {
   "display_name": "py_encoding_env",
   "language": "python",
   "name": "python3"
  },
  "language_info": {
   "codemirror_mode": {
    "name": "ipython",
    "version": 3
   },
   "file_extension": ".py",
   "mimetype": "text/x-python",
   "name": "python",
   "nbconvert_exporter": "python",
   "pygments_lexer": "ipython3",
   "version": "3.11.5"
  }
 },
 "nbformat": 4,
 "nbformat_minor": 2
}
