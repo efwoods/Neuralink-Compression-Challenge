{
 "cells": [
  {
   "cell_type": "markdown",
   "metadata": {},
   "source": [
    "# Comparing and Contrasting Different Compression Methods\n"
   ]
  },
  {
   "cell_type": "markdown",
   "metadata": {},
   "source": [
    "## Library Imports\n"
   ]
  },
  {
   "cell_type": "code",
   "execution_count": 1,
   "metadata": {},
   "outputs": [],
   "source": [
    "# Imports\n",
    "from glob import glob\n",
    "from scipy.io import wavfile\n",
    "from signal_processing_utilities import process_signal\n",
    "import time\n",
    "import os\n",
    "import numpy as np\n",
    "\n",
    "import zlib\n",
    "import gzip\n",
    "import bz2\n",
    "import lzma\n",
    "\n",
    "from importlib.util import spec_from_loader, module_from_spec\n",
    "from importlib.machinery import SourceFileLoader\n",
    "\n",
    "import pandas as pd\n",
    "import matplotlib.pyplot as plt\n",
    "\n",
    "# Import encode\n",
    "spec = spec_from_loader(\"encode\", SourceFileLoader(\"encode\", \"../.././encode\"))\n",
    "encode = module_from_spec(spec)\n",
    "spec.loader.exec_module(encode)\n",
    "\n",
    "# Import decode\n",
    "spec = spec_from_loader(\"decode\", SourceFileLoader(\"decode\", \"../.././decode\"))\n",
    "decode = module_from_spec(spec)\n",
    "spec.loader.exec_module(decode)"
   ]
  },
  {
   "cell_type": "markdown",
   "metadata": {},
   "source": [
    "## Function Definitions\n"
   ]
  },
  {
   "cell_type": "code",
   "execution_count": 14,
   "metadata": {},
   "outputs": [],
   "source": [
    "def compare_compression_ratio(file, compressed_file: str, method: str = None):\n",
    "    \"\"\"This function prints the compression ratio of two files.\n",
    "\n",
    "    Args:\n",
    "        file (numpy.ndarray): This is the array of amplitudes before\n",
    "                              compression.\n",
    "        compressed_file (str): This is the compressed representation of\n",
    "                               the amplitudes after the method of\n",
    "                               compression has been applied.\n",
    "        method (str):  This is the string representing the method of\n",
    "                       compression. Defaults to None.\n",
    "    \"\"\"\n",
    "    percent_compression = (1 - (len(compressed_file) / len(file.tobytes()))) * 100\n",
    "    if method != None:\n",
    "        print(f\"\\nMethod of Compression: {method}\")\n",
    "    else:\n",
    "        print(\"\\n\")\n",
    "    print(f\"Initial file size: {len(file.tobytes())} bytes.\")\n",
    "    print(f\"Compressed File Size: {len(compressed_file)} bytes.\")\n",
    "    print(f\"Percent of Compression: {percent_compression:.2f}%\")\n",
    "    print(f\"\\n\")"
   ]
  },
  {
   "cell_type": "code",
   "execution_count": 15,
   "metadata": {},
   "outputs": [],
   "source": [
    "def print_compression_efficiency_metrics_wrapper(\n",
    "    file: str, compressed_file: str, start_time: int, stop_time: int, method: str\n",
    "):\n",
    "    \"\"\"This is a wrapper function to print the start and stop times as\n",
    "       well as the ratio of compression.\n",
    "\n",
    "    Args:\n",
    "        file (str): This is the array of amplitudes before compression\n",
    "        compressed_file (str): This is the compressed representation of\n",
    "                               the amplitudes after the method of\n",
    "                               compression has been applied.\n",
    "        start_time (int): This is the initial starting time in\n",
    "                          nanoseconds.\n",
    "        stop_time (int): This is the final time in nanoseconds of the\n",
    "                         chosen method of compression.\n",
    "        method (str): This is the string representing the\n",
    "                                method of compression.\n",
    "    \"\"\"\n",
    "    compare_compression_ratio(file=file, compressed_file=compressed_file, method=method)\n",
    "    process_signal.print_time_each_function_takes_to_complete_processing(\n",
    "        start_time=start_time, stop_time=stop_time, executed_line=method\n",
    "    )"
   ]
  },
  {
   "cell_type": "markdown",
   "metadata": {},
   "source": [
    "## Data Import & Formatting\n"
   ]
  },
  {
   "cell_type": "code",
   "execution_count": 16,
   "metadata": {},
   "outputs": [],
   "source": [
    "data_dir = \"../../data/\"\n",
    "data_file_list = glob(data_dir + \"*.wav\")\n",
    "# current_file = data_file_list[0]"
   ]
  },
  {
   "cell_type": "code",
   "execution_count": 17,
   "metadata": {},
   "outputs": [],
   "source": [
    "current_file = \"../../data/102b47d9-371e-412a-8995-0dc6115ab2bb.wav\"\n",
    "debug_file = \"../../data/0052503c-2849-4f41-ab51-db382103690c.wav\"\n",
    "\n",
    "current_compressed_file = current_file + \".brainwire\"\n",
    "debug_compressed_file = debug_file + \".brainwire\""
   ]
  },
  {
   "cell_type": "code",
   "execution_count": 18,
   "metadata": {},
   "outputs": [
    {
     "name": "stdout",
     "output_type": "stream",
     "text": [
      "current_file: \n",
      "\t../../data/102b47d9-371e-412a-8995-0dc6115ab2bb.wav\n",
      "\n",
      "Number of unique elements: \n",
      "158\n",
      "\n",
      "debug_file: \n",
      "\t../../data/0052503c-2849-4f41-ab51-db382103690c.wav\n",
      "\n",
      "Number of unique elements: \n",
      "266\n",
      "\n"
     ]
    }
   ],
   "source": [
    "# Current file has less than 256 elements:\n",
    "print(f\"current_file: \\n\\t{current_file}\\n\")\n",
    "sr, current_file_data = wavfile.read(current_file)\n",
    "print(f\"Number of unique elements: \\n{len(np.unique(current_file_data))}\\n\")\n",
    "\n",
    "# Debug file has more than 256 elements:\n",
    "print(f\"debug_file: \\n\\t{debug_file}\\n\")\n",
    "sr, debug_file_data = wavfile.read(debug_file)\n",
    "print(f\"Number of unique elements: \\n{len(np.unique(debug_file_data))}\\n\")"
   ]
  },
  {
   "cell_type": "markdown",
   "metadata": {},
   "source": [
    "## Brainwire\n"
   ]
  },
  {
   "cell_type": "markdown",
   "metadata": {},
   "source": [
    "### Testing methods of compression where the unique amplitudes are > 256.\n"
   ]
  },
  {
   "cell_type": "code",
   "execution_count": null,
   "metadata": {},
   "outputs": [],
   "source": [
    "# Debug_data: The number of unique amplitudes are > 256.\n",
    "# method_of_compression == 'w'\n",
    "start_time = time.time_ns()\n",
    "data_brainwire = encode.compress(debug_file, quick=True)\n",
    "stop_time = time.time_ns()\n",
    "\n",
    "process_signal.print_compression_efficiency_metrics_wrapper(\n",
    "    start_time=start_time,\n",
    "    stop_time=stop_time,\n",
    "    original_data=current_file_data,\n",
    "    compressed_data=data_brainwire,\n",
    "    method=\"unique_amplitudes_l > 256; encode.compress(debug_file)\",\n",
    ")"
   ]
  },
  {
   "cell_type": "code",
   "execution_count": null,
   "metadata": {},
   "outputs": [],
   "source": [
    "# Debug_data: The number of unique amplitudes are > 256.\n",
    "# method_of_compression == 'n'\n",
    "\n",
    "start_time = time.time_ns()\n",
    "parser = encode.initialize_argument_parser()\n",
    "args = parser.parse_args([debug_file, debug_compressed_file, \"-m=n\"])\n",
    "encode.main(args)\n",
    "stop_time = time.time_ns()\n",
    "\n",
    "\n",
    "with open(debug_compressed_file, \"rb+\") as fp:\n",
    "    debug_compressed_file_data = fp.read()\n",
    "    fp.close()\n",
    "\n",
    "\n",
    "process_signal.print_compression_efficiency_metrics_wrapper(\n",
    "    start_time=start_time,\n",
    "    stop_time=stop_time,\n",
    "    original_data=debug_file_data,\n",
    "    compressed_data=debug_compressed_file_data,\n",
    "    method=\"unique_amplitudes_l > 256; encode.compress(debug_file)\",\n",
    ")"
   ]
  },
  {
   "cell_type": "markdown",
   "metadata": {},
   "source": [
    "### Testing methods of compression where the unique amplitudes are < 256.\n"
   ]
  },
  {
   "cell_type": "code",
   "execution_count": null,
   "metadata": {},
   "outputs": [],
   "source": [
    "# Unique Amplitudes are < 256.\n",
    "# Method of compression == 'u'\n",
    "\n",
    "start_time = time.time_ns()\n",
    "current_file_data_brainwire = encode.compress(current_file)\n",
    "stop_time = time.time_ns()\n",
    "process_signal.print_compression_efficiency_metrics_wrapper(\n",
    "    start_time=start_time,\n",
    "    stop_time=stop_time,\n",
    "    original_data=current_file_data,\n",
    "    compressed_data=current_file_data_brainwire,\n",
    "    method=\"unique_amplitudes_l < 256; encode.compress(current_file_data)\",\n",
    ")"
   ]
  },
  {
   "cell_type": "code",
   "execution_count": null,
   "metadata": {},
   "outputs": [],
   "source": [
    "# Unique Amplitudes are < 256\n",
    "# Method of Compression == 'n'\n",
    "\n",
    "start_time = time.time_ns()\n",
    "parser = encode.initialize_argument_parser()\n",
    "compressed_file = current_file + \".brainwire\"\n",
    "args = parser.parse_args([current_file, compressed_file, \"-m=n\"])\n",
    "encode.main(args)\n",
    "\n",
    "with open(current_file + \".brainwire\", \"rb+\") as fp:\n",
    "    compressed_file_data = fp.read()\n",
    "    fp.close()\n",
    "stop_time = time.time_ns()\n",
    "process_signal.print_compression_efficiency_metrics_wrapper(\n",
    "    start_time=start_time,\n",
    "    stop_time=stop_time,\n",
    "    original_data=current_file_data,\n",
    "    compressed_data=compressed_file_data,\n",
    "    method=\"unique_amplitudes_l < 256; encode.main(); method of compression = 'n'\",\n",
    ")"
   ]
  },
  {
   "cell_type": "code",
   "execution_count": null,
   "metadata": {},
   "outputs": [],
   "source": [
    "start_time = time.time_ns()\n",
    "parser = encode.initialize_argument_parser()\n",
    "compressed_file = current_file + \".brainwire\"\n",
    "args = parser.parse_args([current_file, compressed_file, \"-m=h\"])\n",
    "encode.main(args)\n",
    "\n",
    "with open(current_file + \".brainwire\", \"rb+\") as fp:\n",
    "    compressed_file_data = fp.read()\n",
    "    fp.close()\n",
    "stop_time = time.time_ns()\n",
    "process_signal.print_compression_efficiency_metrics_wrapper(\n",
    "    start_time=start_time,\n",
    "    stop_time=stop_time,\n",
    "    original_data=current_file_data,\n",
    "    compressed_data=compressed_file_data,\n",
    "    method=\"unique_amplitudes_l < 256; encode.compress(current_file_data)\",\n",
    ")"
   ]
  },
  {
   "cell_type": "code",
   "execution_count": null,
   "metadata": {},
   "outputs": [],
   "source": [
    "start_time = time.time_ns()\n",
    "parser = encode.initialize_argument_parser()\n",
    "compressed_file = current_file + \".brainwire\"\n",
    "args = parser.parse_args([current_file, compressed_file, \"-m=u\"])\n",
    "encode.main(args)\n",
    "\n",
    "with open(current_file + \".brainwire\", \"rb+\") as fp:\n",
    "    compressed_file_data = fp.read()\n",
    "    fp.close()\n",
    "stop_time = time.time_ns()\n",
    "process_signal.print_compression_efficiency_metrics_wrapper(\n",
    "    start_time=start_time,\n",
    "    stop_time=stop_time,\n",
    "    original_data=current_file_data,\n",
    "    compressed_data=compressed_file_data,\n",
    "    method=\"unique_amplitudes_l < 256; encode.compress(current_file_data)\",\n",
    ")"
   ]
  },
  {
   "cell_type": "code",
   "execution_count": 14,
   "metadata": {},
   "outputs": [],
   "source": [
    "start_time = time.time_ns()\n",
    "sample_rate, data_brainwire_amplitude_current_file = decode.decompress(\n",
    "    current_file_data_brainwire\n",
    ")\n",
    "stop_time = time.time_ns()"
   ]
  },
  {
   "cell_type": "code",
   "execution_count": null,
   "metadata": {},
   "outputs": [],
   "source": [
    "not_equal = False\n",
    "for index, value in enumerate(current_file_data):\n",
    "    if data_brainwire_amplitude_current_file[index] != value:\n",
    "        not_equal = True\n",
    "\n",
    "print(not_equal)"
   ]
  },
  {
   "cell_type": "code",
   "execution_count": 16,
   "metadata": {},
   "outputs": [],
   "source": [
    "data_brainwire_amplitude_pd = pd.DataFrame(\n",
    "    data_brainwire_amplitude_current_file, columns=[\"Amplitude\"]\n",
    ")"
   ]
  },
  {
   "cell_type": "code",
   "execution_count": null,
   "metadata": {},
   "outputs": [],
   "source": [
    "# Plotting the reconstructed neural current_file_data and the original raw neural current_file_data.\n",
    "\n",
    "plt.figure(figsize=(12, 4))\n",
    "plt.style.use(\"ggplot\")\n",
    "\n",
    "plt.title(\"Reconstructed Compressed Neural Data of Detected Neural Spikes\")\n",
    "plt.plot(current_file_data, color=\"purple\", linewidth=1, label=\"Raw Neural Data\")\n",
    "plt.plot(\n",
    "    data_brainwire_amplitude_pd,\n",
    "    linewidth=0.5,\n",
    "    color=\"teal\",\n",
    "    label=\"Decompressed Neural Data\",\n",
    ")\n",
    "plt.grid(True)\n",
    "plt.xlabel(\"Sample\")\n",
    "plt.ylabel(\"Amplitude\")\n",
    "plt.legend()\n",
    "plt.axhline(y=0, color=\"black\")\n",
    "plt.show()"
   ]
  },
  {
   "cell_type": "code",
   "execution_count": 18,
   "metadata": {},
   "outputs": [],
   "source": [
    "file_path = os.getcwd() + \"/data/test_compression.brainwire\""
   ]
  },
  {
   "cell_type": "code",
   "execution_count": 19,
   "metadata": {},
   "outputs": [],
   "source": [
    "with open(file_path, \"wb+\") as fp:\n",
    "    written_data = fp.write(data_brainwire)\n",
    "    fp.close()"
   ]
  },
  {
   "cell_type": "code",
   "execution_count": null,
   "metadata": {},
   "outputs": [],
   "source": [
    "written_data"
   ]
  },
  {
   "cell_type": "markdown",
   "metadata": {},
   "source": [
    "## zlib\n"
   ]
  },
  {
   "cell_type": "code",
   "execution_count": null,
   "metadata": {},
   "outputs": [],
   "source": [
    "start_time = time.time_ns()\n",
    "data_zlib = zlib.compress(current_file_data)\n",
    "stop_time = time.time_ns()\n",
    "\n",
    "print_compression_efficiency_metrics_wrapper(\n",
    "    start_time=start_time,\n",
    "    stop_time=stop_time,\n",
    "    file=current_file_data,\n",
    "    compressed_file=data_zlib,\n",
    "    method=\"zlib.compress(current_file_data)\",\n",
    ")"
   ]
  },
  {
   "cell_type": "markdown",
   "metadata": {},
   "source": [
    "## Gzip\n"
   ]
  },
  {
   "cell_type": "code",
   "execution_count": null,
   "metadata": {},
   "outputs": [],
   "source": [
    "start_time = time.time_ns()\n",
    "data_gz = gzip.compress(current_file_data)\n",
    "stop_time = time.time_ns()\n",
    "\n",
    "print_compression_efficiency_metrics_wrapper(\n",
    "    start_time=start_time,\n",
    "    stop_time=stop_time,\n",
    "    file=current_file_data,\n",
    "    compressed_file=data_gz,\n",
    "    method=\"gzip.compress(current_file_data)\",\n",
    ")"
   ]
  },
  {
   "cell_type": "markdown",
   "metadata": {},
   "source": [
    "## bz2\n"
   ]
  },
  {
   "cell_type": "code",
   "execution_count": null,
   "metadata": {},
   "outputs": [],
   "source": [
    "start_time = time.time_ns()\n",
    "data_bz2 = bz2.compress(current_file_data)\n",
    "stop_time = time.time_ns()\n",
    "\n",
    "print_compression_efficiency_metrics_wrapper(\n",
    "    start_time=start_time,\n",
    "    stop_time=stop_time,\n",
    "    file=current_file_data,\n",
    "    compressed_file=data_bz2,\n",
    "    method=\"bz2.compress(current_file_data)\",\n",
    ")"
   ]
  },
  {
   "cell_type": "markdown",
   "metadata": {},
   "source": [
    "## lzma\n"
   ]
  },
  {
   "cell_type": "code",
   "execution_count": null,
   "metadata": {},
   "outputs": [],
   "source": [
    "start_time = time.time_ns()\n",
    "data_lzma = lzma.compress(current_file_data)\n",
    "stop_time = time.time_ns()\n",
    "\n",
    "print_compression_efficiency_metrics_wrapper(\n",
    "    start_time=start_time,\n",
    "    stop_time=stop_time,\n",
    "    file=current_file_data,\n",
    "    compressed_file=data_bz2,\n",
    "    method=\"lzma.compress(current_file_data)\",\n",
    ")"
   ]
  }
 ],
 "metadata": {
  "kernelspec": {
   "display_name": "py_encoding_env",
   "language": "python",
   "name": "python3"
  },
  "language_info": {
   "codemirror_mode": {
    "name": "ipython",
    "version": 3
   },
   "file_extension": ".py",
   "mimetype": "text/x-python",
   "name": "python",
   "nbconvert_exporter": "python",
   "pygments_lexer": "ipython3",
   "version": "3.11.5"
  }
 },
 "nbformat": 4,
 "nbformat_minor": 2
}
