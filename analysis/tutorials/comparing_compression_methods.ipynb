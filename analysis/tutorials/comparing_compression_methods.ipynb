{
 "cells": [
  {
   "cell_type": "markdown",
   "metadata": {},
   "source": [
    "# Comparing and Contrasting Different Compression Methods\n"
   ]
  },
  {
   "cell_type": "code",
   "execution_count": 2,
   "metadata": {},
   "outputs": [],
   "source": [
    "# Imports\n",
    "from glob import glob\n",
    "from scipy.io import wavfile\n",
    "from signal_processing_utilities import process_signal\n",
    "import time\n",
    "import os\n",
    "\n",
    "import zlib\n",
    "import gzip\n",
    "import bz2\n",
    "import lzma\n",
    "\n",
    "from importlib.util import spec_from_loader, module_from_spec\n",
    "from importlib.machinery import SourceFileLoader\n",
    "\n",
    "# Import encode\n",
    "spec = spec_from_loader(\"encode\", SourceFileLoader(\"encode\", \"../.././encode\"))\n",
    "encode = module_from_spec(spec)\n",
    "spec.loader.exec_module(encode)"
   ]
  },
  {
   "cell_type": "code",
   "execution_count": 3,
   "metadata": {},
   "outputs": [],
   "source": [
    "def compare_compression_ratio(file, compressed_file: str, method: str = None):\n",
    "    \"\"\"This function prints the compression ratio of two files.\n",
    "\n",
    "    Args:\n",
    "        file (numpy.ndarray): This is the array of amplitudes before\n",
    "                              compression.\n",
    "        compressed_file (str): This is the compressed representation of\n",
    "                               the amplitudes after the method of\n",
    "                               compression has been applied.\n",
    "        method (str):  This is the string representing the method of\n",
    "                       compression. Defaults to None.\n",
    "    \"\"\"\n",
    "    percent_compression = (1 - (len(compressed_file) / len(file.tobytes()))) * 100\n",
    "    if method != None:\n",
    "        print(f\"\\nMethod of Compression: {method}\")\n",
    "    else:\n",
    "        print(\"\\n\")\n",
    "    print(f\"Initial file size: {len(file.tobytes())} bytes.\")\n",
    "    print(f\"Compressed File Size: {len(compressed_file)} bytes.\")\n",
    "    print(f\"Percent of Compression: {percent_compression:.2f}%\")\n",
    "    print(f\"\\n\")"
   ]
  },
  {
   "cell_type": "code",
   "execution_count": 4,
   "metadata": {},
   "outputs": [],
   "source": [
    "def print_compression_efficiency_metrics_wrapper(\n",
    "    file: str, compressed_file: str, start_time: int, stop_time: int, method: str\n",
    "):\n",
    "    \"\"\"This is a wrapper function to print the start and stop times as\n",
    "       well as the ratio of compression.\n",
    "\n",
    "    Args:\n",
    "        file (str): This is the array of amplitudes before compression\n",
    "        compressed_file (str): This is the compressed representation of\n",
    "                               the amplitudes after the method of\n",
    "                               compression has been applied.\n",
    "        start_time (int): This is the initial starting time in\n",
    "                          nanoseconds.\n",
    "        stop_time (int): This is the final time in nanoseconds of the\n",
    "                         chosen method of compression.\n",
    "        method (str): This is the string representing the\n",
    "                                method of compression.\n",
    "    \"\"\"\n",
    "    compare_compression_ratio(file=file, compressed_file=compressed_file, method=method)\n",
    "    process_signal.print_time_each_function_takes_to_complete_processing(\n",
    "        start_time=start_time, stop_time=stop_time, executed_line=method\n",
    "    )"
   ]
  },
  {
   "cell_type": "code",
   "execution_count": 5,
   "metadata": {},
   "outputs": [],
   "source": [
    "data_dir = \"../../data\"\n",
    "data_file_list = glob(data_dir + \"/*.wav\")"
   ]
  },
  {
   "cell_type": "code",
   "execution_count": 6,
   "metadata": {},
   "outputs": [],
   "source": [
    "current_file = data_file_list[0]"
   ]
  },
  {
   "cell_type": "code",
   "execution_count": 7,
   "metadata": {},
   "outputs": [
    {
     "data": {
      "text/plain": [
       "'../../data/102b47d9-371e-412a-8995-0dc6115ab2bb.wav'"
      ]
     },
     "execution_count": 7,
     "metadata": {},
     "output_type": "execute_result"
    }
   ],
   "source": [
    "current_file"
   ]
  },
  {
   "cell_type": "code",
   "execution_count": 8,
   "metadata": {},
   "outputs": [],
   "source": [
    "rate, data = wavfile.read(current_file)"
   ]
  },
  {
   "cell_type": "markdown",
   "metadata": {},
   "source": [
    "## Brainwire\n"
   ]
  },
  {
   "cell_type": "code",
   "execution_count": 9,
   "metadata": {},
   "outputs": [
    {
     "ename": "NameError",
     "evalue": "name 'write_file' is not defined",
     "output_type": "error",
     "traceback": [
      "\u001b[0;31m---------------------------------------------------------------------------\u001b[0m",
      "\u001b[0;31mNameError\u001b[0m                                 Traceback (most recent call last)",
      "Cell \u001b[0;32mIn[9], line 2\u001b[0m\n\u001b[1;32m      1\u001b[0m start_time \u001b[38;5;241m=\u001b[39m time\u001b[38;5;241m.\u001b[39mtime_ns()\n\u001b[0;32m----> 2\u001b[0m data_brainwire \u001b[38;5;241m=\u001b[39m \u001b[43mencode\u001b[49m\u001b[38;5;241;43m.\u001b[39;49m\u001b[43mcompress\u001b[49m\u001b[43m(\u001b[49m\u001b[43mcurrent_file\u001b[49m\u001b[43m)\u001b[49m\n\u001b[1;32m      3\u001b[0m stop_time \u001b[38;5;241m=\u001b[39m time\u001b[38;5;241m.\u001b[39mtime_ns()\n\u001b[1;32m      5\u001b[0m print_compression_efficiency_metrics_wrapper(\n\u001b[1;32m      6\u001b[0m     start_time\u001b[38;5;241m=\u001b[39mstart_time,\n\u001b[1;32m      7\u001b[0m     stop_time\u001b[38;5;241m=\u001b[39mstop_time,\n\u001b[0;32m   (...)\u001b[0m\n\u001b[1;32m     10\u001b[0m     method\u001b[38;5;241m=\u001b[39m\u001b[38;5;124m\"\u001b[39m\u001b[38;5;124mencode.compress(data)\u001b[39m\u001b[38;5;124m\"\u001b[39m,\n\u001b[1;32m     11\u001b[0m )\n",
      "File \u001b[0;32m/Volumes/T7/Github/Neuralink-Compression-Challenge/encode:370\u001b[0m, in \u001b[0;36mcompress\u001b[0;34m(file)\u001b[0m\n\u001b[1;32m    361\u001b[0m spike_train_time_index_list \u001b[38;5;241m=\u001b[39m process_signal\u001b[38;5;241m.\u001b[39mdetect_neural_spikes(\n\u001b[1;32m    362\u001b[0m     filtered_data_bandpass\n\u001b[1;32m    363\u001b[0m )\n\u001b[1;32m    364\u001b[0m encoded_data \u001b[38;5;241m=\u001b[39m process_signal\u001b[38;5;241m.\u001b[39mcreate_encoded_data(\n\u001b[1;32m    365\u001b[0m     sample_rate\u001b[38;5;241m=\u001b[39msample_rate,\n\u001b[1;32m    366\u001b[0m     number_of_samples\u001b[38;5;241m=\u001b[39m\u001b[38;5;28mlen\u001b[39m(filtered_data_bandpass),\n\u001b[1;32m    367\u001b[0m     spike_train_time_index_list\u001b[38;5;241m=\u001b[39mspike_train_time_index_list,\n\u001b[1;32m    368\u001b[0m     neural_data\u001b[38;5;241m=\u001b[39mfiltered_data_bandpass,\n\u001b[1;32m    369\u001b[0m )\n\u001b[0;32m--> 370\u001b[0m encoded_data_byte_string \u001b[38;5;241m=\u001b[39m \u001b[43mprocess_signal\u001b[49m\u001b[38;5;241;43m.\u001b[39;49m\u001b[43mconvert_encoded_data_to_byte_string\u001b[49m\u001b[43m(\u001b[49m\n\u001b[1;32m    371\u001b[0m \u001b[43m    \u001b[49m\u001b[43mencoded_data\u001b[49m\n\u001b[1;32m    372\u001b[0m \u001b[43m\u001b[49m\u001b[43m)\u001b[49m\n\u001b[1;32m    373\u001b[0m byte_string \u001b[38;5;241m=\u001b[39m huffman_encoding(\n\u001b[1;32m    374\u001b[0m     input_data\u001b[38;5;241m=\u001b[39mencoded_data_byte_string, compressed_file_path\u001b[38;5;241m=\u001b[39m(file \u001b[38;5;241m+\u001b[39m \u001b[38;5;124m\"\u001b[39m\u001b[38;5;124m.brainwire\u001b[39m\u001b[38;5;124m\"\u001b[39m)\n\u001b[1;32m    375\u001b[0m )\n\u001b[1;32m    376\u001b[0m \u001b[38;5;28;01mreturn\u001b[39;00m byte_string\n",
      "File \u001b[0;32m/Volumes/T7/Github/Neuralink-Compression-Challenge/encode:254\u001b[0m, in \u001b[0;36mhuffman_encoding\u001b[0;34m(input_data, compressed_file_path)\u001b[0m\n\u001b[1;32m    248\u001b[0m bitString, endZeroPadding \u001b[38;5;241m=\u001b[39m convertHexToBit(\n\u001b[1;32m    249\u001b[0m     input_data \u001b[38;5;28;01mif\u001b[39;00m \u001b[38;5;28mtype\u001b[39m(input_data) \u001b[38;5;241m==\u001b[39m \u001b[38;5;28mbytes\u001b[39m \u001b[38;5;28;01melse\u001b[39;00m input_data\u001b[38;5;241m.\u001b[39mtobytes(),\n\u001b[1;32m    250\u001b[0m     nodeMappingDict,\n\u001b[1;32m    251\u001b[0m )\n\u001b[1;32m    253\u001b[0m \u001b[38;5;66;03m# The bits are written by using single bytes of integers\u001b[39;00m\n\u001b[0;32m--> 254\u001b[0m byte_string \u001b[38;5;241m=\u001b[39m create_byte_string(\n\u001b[1;32m    255\u001b[0m     nodeMappingDict,\n\u001b[1;32m    256\u001b[0m     bitString,\n\u001b[1;32m    257\u001b[0m     endZeroPadding,\n\u001b[1;32m    258\u001b[0m )\n\u001b[1;32m    260\u001b[0m \u001b[38;5;28;01mreturn\u001b[39;00m byte_string\n",
      "\u001b[0;31mNameError\u001b[0m: name 'write_file' is not defined"
     ]
    }
   ],
   "source": [
    "start_time = time.time_ns()\n",
    "data_brainwire = encode.compress(current_file)\n",
    "stop_time = time.time_ns()\n",
    "\n",
    "print_compression_efficiency_metrics_wrapper(\n",
    "    start_time=start_time,\n",
    "    stop_time=stop_time,\n",
    "    file=data,\n",
    "    compressed_file=data_brainwire,\n",
    "    method=\"encode.compress(data)\",\n",
    ")"
   ]
  },
  {
   "cell_type": "code",
   "execution_count": 25,
   "metadata": {},
   "outputs": [],
   "source": [
    "file_path = os.getcwd() + \"/data/test_compression.brainwire\""
   ]
  },
  {
   "cell_type": "code",
   "execution_count": 26,
   "metadata": {},
   "outputs": [],
   "source": [
    "with open(file_path, \"wb+\") as fp:\n",
    "    written_data = fp.write(data_brainwire)\n",
    "    fp.close()"
   ]
  },
  {
   "cell_type": "code",
   "execution_count": 27,
   "metadata": {},
   "outputs": [
    {
     "data": {
      "text/plain": [
       "87862"
      ]
     },
     "execution_count": 27,
     "metadata": {},
     "output_type": "execute_result"
    }
   ],
   "source": [
    "written_data"
   ]
  },
  {
   "cell_type": "markdown",
   "metadata": {},
   "source": [
    "## zlib\n"
   ]
  },
  {
   "cell_type": "code",
   "execution_count": 19,
   "metadata": {},
   "outputs": [
    {
     "name": "stdout",
     "output_type": "stream",
     "text": [
      "\n",
      "Method of Compression: zlib.compress(data)\n",
      "Initial file size: 197398 bytes.\n",
      "Compressed File Size: 87243 bytes.\n",
      "Percent of Compression: 55.80%\n",
      "\n",
      "\n",
      "\n",
      "Executed Line: zlib.compress(data)...\n",
      "Time Δ Nanoseconds: 44358000\n",
      "Time Δ Microseconds: 44358.0\n",
      "Time Δ Milliseconds: 44.358\n",
      "Time Δ Seconds: 0.044358\n",
      "\n",
      "\n"
     ]
    }
   ],
   "source": [
    "start_time = time.time_ns()\n",
    "data_zlib = zlib.compress(data)\n",
    "stop_time = time.time_ns()\n",
    "\n",
    "print_compression_efficiency_metrics_wrapper(\n",
    "    start_time=start_time,\n",
    "    stop_time=stop_time,\n",
    "    file=data,\n",
    "    compressed_file=data_zlib,\n",
    "    method=\"zlib.compress(data)\",\n",
    ")"
   ]
  },
  {
   "cell_type": "markdown",
   "metadata": {},
   "source": [
    "## Gzip\n"
   ]
  },
  {
   "cell_type": "code",
   "execution_count": 20,
   "metadata": {},
   "outputs": [
    {
     "name": "stdout",
     "output_type": "stream",
     "text": [
      "\n",
      "Method of Compression: gzip.compress(data)\n",
      "Initial file size: 197398 bytes.\n",
      "Compressed File Size: 86176 bytes.\n",
      "Percent of Compression: 56.34%\n",
      "\n",
      "\n",
      "\n",
      "Executed Line: gzip.compress(data)...\n",
      "Time Δ Nanoseconds: 59341000\n",
      "Time Δ Microseconds: 59341.0\n",
      "Time Δ Milliseconds: 59.341\n",
      "Time Δ Seconds: 0.059341\n",
      "\n",
      "\n"
     ]
    }
   ],
   "source": [
    "start_time = time.time_ns()\n",
    "data_gz = gzip.compress(data)\n",
    "stop_time = time.time_ns()\n",
    "\n",
    "print_compression_efficiency_metrics_wrapper(\n",
    "    start_time=start_time,\n",
    "    stop_time=stop_time,\n",
    "    file=data,\n",
    "    compressed_file=data_gz,\n",
    "    method=\"gzip.compress(data)\",\n",
    ")"
   ]
  },
  {
   "cell_type": "markdown",
   "metadata": {},
   "source": [
    "## bz2\n"
   ]
  },
  {
   "cell_type": "code",
   "execution_count": 21,
   "metadata": {},
   "outputs": [
    {
     "name": "stdout",
     "output_type": "stream",
     "text": [
      "\n",
      "Method of Compression: bz2.compress(data)\n",
      "Initial file size: 197398 bytes.\n",
      "Compressed File Size: 63435 bytes.\n",
      "Percent of Compression: 67.86%\n",
      "\n",
      "\n",
      "\n",
      "Executed Line: bz2.compress(data)...\n",
      "Time Δ Nanoseconds: 22897000\n",
      "Time Δ Microseconds: 22897.0\n",
      "Time Δ Milliseconds: 22.897\n",
      "Time Δ Seconds: 0.022897\n",
      "\n",
      "\n"
     ]
    }
   ],
   "source": [
    "start_time = time.time_ns()\n",
    "data_bz2 = bz2.compress(data)\n",
    "stop_time = time.time_ns()\n",
    "\n",
    "print_compression_efficiency_metrics_wrapper(\n",
    "    start_time=start_time,\n",
    "    stop_time=stop_time,\n",
    "    file=data,\n",
    "    compressed_file=data_bz2,\n",
    "    method=\"bz2.compress(data)\",\n",
    ")"
   ]
  },
  {
   "cell_type": "markdown",
   "metadata": {},
   "source": [
    "## lzma\n"
   ]
  },
  {
   "cell_type": "code",
   "execution_count": 23,
   "metadata": {},
   "outputs": [
    {
     "name": "stdout",
     "output_type": "stream",
     "text": [
      "\n",
      "Method of Compression: lzma.compress(data)\n",
      "Initial file size: 197398 bytes.\n",
      "Compressed File Size: 63435 bytes.\n",
      "Percent of Compression: 67.86%\n",
      "\n",
      "\n",
      "\n",
      "Executed Line: lzma.compress(data)...\n",
      "Time Δ Nanoseconds: 59806000\n",
      "Time Δ Microseconds: 59806.0\n",
      "Time Δ Milliseconds: 59.806\n",
      "Time Δ Seconds: 0.059806\n",
      "\n",
      "\n"
     ]
    }
   ],
   "source": [
    "start_time = time.time_ns()\n",
    "data_lzma = lzma.compress(data)\n",
    "stop_time = time.time_ns()\n",
    "\n",
    "print_compression_efficiency_metrics_wrapper(\n",
    "    start_time=start_time,\n",
    "    stop_time=stop_time,\n",
    "    file=data,\n",
    "    compressed_file=data_bz2,\n",
    "    method=\"lzma.compress(data)\",\n",
    ")"
   ]
  }
 ],
 "metadata": {
  "kernelspec": {
   "display_name": "py_encoding_env",
   "language": "python",
   "name": "python3"
  },
  "language_info": {
   "codemirror_mode": {
    "name": "ipython",
    "version": 3
   },
   "file_extension": ".py",
   "mimetype": "text/x-python",
   "name": "python",
   "nbconvert_exporter": "python",
   "pygments_lexer": "ipython3",
   "version": "3.11.5"
  }
 },
 "nbformat": 4,
 "nbformat_minor": 2
}
