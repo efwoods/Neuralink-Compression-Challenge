{
 "cells": [
  {
   "cell_type": "markdown",
   "metadata": {},
   "source": [
    "# Comparing and Contrasting Different Compression Methods\n"
   ]
  },
  {
   "cell_type": "markdown",
   "metadata": {},
   "source": [
    "## Library Imports\n"
   ]
  },
  {
   "cell_type": "code",
   "execution_count": 1,
   "metadata": {},
   "outputs": [],
   "source": [
    "# Imports\n",
    "from glob import glob\n",
    "from scipy.io import wavfile\n",
    "from signal_processing_utilities import process_signal\n",
    "import time\n",
    "import os\n",
    "import numpy as np\n",
    "\n",
    "import zlib\n",
    "import gzip\n",
    "import bz2\n",
    "import lzma\n",
    "\n",
    "from importlib.util import spec_from_loader, module_from_spec\n",
    "from importlib.machinery import SourceFileLoader\n",
    "\n",
    "import pandas as pd\n",
    "import matplotlib.pyplot as plt\n",
    "\n",
    "# Import encode\n",
    "spec = spec_from_loader(\"encode\", SourceFileLoader(\"encode\", \"../.././encode\"))\n",
    "encode = module_from_spec(spec)\n",
    "spec.loader.exec_module(encode)\n",
    "\n",
    "# Import decode\n",
    "spec = spec_from_loader(\"decode\", SourceFileLoader(\"decode\", \"../.././decode\"))\n",
    "decode = module_from_spec(spec)\n",
    "spec.loader.exec_module(decode)"
   ]
  },
  {
   "cell_type": "markdown",
   "metadata": {},
   "source": [
    "## Function Definitions\n"
   ]
  },
  {
   "cell_type": "code",
   "execution_count": 2,
   "metadata": {},
   "outputs": [],
   "source": [
    "def compare_compression_ratio(file, compressed_file: str, method: str = None):\n",
    "    \"\"\"This function prints the compression ratio of two files.\n",
    "\n",
    "    Args:\n",
    "        file (numpy.ndarray): This is the array of amplitudes before\n",
    "                              compression.\n",
    "        compressed_file (str): This is the compressed representation of\n",
    "                               the amplitudes after the method of\n",
    "                               compression has been applied.\n",
    "        method (str):  This is the string representing the method of\n",
    "                       compression. Defaults to None.\n",
    "    \"\"\"\n",
    "    percent_compression = (1 - (len(compressed_file) / len(file.tobytes()))) * 100\n",
    "    if method != None:\n",
    "        print(f\"\\nMethod of Compression: {method}\")\n",
    "    else:\n",
    "        print(\"\\n\")\n",
    "    print(f\"Initial file size: {len(file.tobytes())} bytes.\")\n",
    "    print(f\"Compressed File Size: {len(compressed_file)} bytes.\")\n",
    "    print(f\"Percent of Compression: {percent_compression:.2f}%\")\n",
    "    print(f\"\\n\")"
   ]
  },
  {
   "cell_type": "code",
   "execution_count": 3,
   "metadata": {},
   "outputs": [],
   "source": [
    "def print_compression_efficiency_metrics_wrapper(\n",
    "    file: str, compressed_file: str, start_time: int, stop_time: int, method: str\n",
    "):\n",
    "    \"\"\"This is a wrapper function to print the start and stop times as\n",
    "       well as the ratio of compression.\n",
    "\n",
    "    Args:\n",
    "        file (str): This is the array of amplitudes before compression\n",
    "        compressed_file (str): This is the compressed representation of\n",
    "                               the amplitudes after the method of\n",
    "                               compression has been applied.\n",
    "        start_time (int): This is the initial starting time in\n",
    "                          nanoseconds.\n",
    "        stop_time (int): This is the final time in nanoseconds of the\n",
    "                         chosen method of compression.\n",
    "        method (str): This is the string representing the\n",
    "                                method of compression.\n",
    "    \"\"\"\n",
    "    compare_compression_ratio(file=file, compressed_file=compressed_file, method=method)\n",
    "    process_signal.print_time_each_function_takes_to_complete_processing(\n",
    "        start_time=start_time, stop_time=stop_time, executed_line=method\n",
    "    )"
   ]
  },
  {
   "cell_type": "markdown",
   "metadata": {},
   "source": [
    "## Data Import & Formatting\n"
   ]
  },
  {
   "cell_type": "code",
   "execution_count": 26,
   "metadata": {},
   "outputs": [],
   "source": [
    "data_dir = \"../../data/\"\n",
    "data_file_list = glob(data_dir + \"*.wav\")\n",
    "# current_file = data_file_list[0]"
   ]
  },
  {
   "cell_type": "code",
   "execution_count": 31,
   "metadata": {},
   "outputs": [],
   "source": [
    "current_file = \"../../data/102b47d9-371e-412a-8995-0dc6115ab2bb.wav\"\n",
    "debug_file = \"../../data/0052503c-2849-4f41-ab51-db382103690c.wav\"\n",
    "\n",
    "current_compressed_file = current_file + \".brainwire\"\n",
    "debug_compressed_file = debug_file + \".brainwire\""
   ]
  },
  {
   "cell_type": "code",
   "execution_count": 32,
   "metadata": {},
   "outputs": [
    {
     "name": "stdout",
     "output_type": "stream",
     "text": [
      "current_file: \n",
      "\t../../data/102b47d9-371e-412a-8995-0dc6115ab2bb.wav\n",
      "\n",
      "Number of unique elements: \n",
      "158\n",
      "\n",
      "debug_file: \n",
      "\t../../data/0052503c-2849-4f41-ab51-db382103690c.wav\n",
      "\n",
      "Number of unique elements: \n",
      "266\n",
      "\n"
     ]
    }
   ],
   "source": [
    "# Current file has less than 256 elements:\n",
    "print(f\"current_file: \\n\\t{current_file}\\n\")\n",
    "sr, current_file_data = wavfile.read(current_file)\n",
    "print(f\"Number of unique elements: \\n{len(np.unique(current_file_data))}\\n\")\n",
    "\n",
    "# Debug file has more than 256 elements:\n",
    "print(f\"debug_file: \\n\\t{debug_file}\\n\")\n",
    "sr, debug_file_data = wavfile.read(debug_file)\n",
    "print(f\"Number of unique elements: \\n{len(np.unique(debug_file_data))}\\n\")"
   ]
  },
  {
   "cell_type": "markdown",
   "metadata": {},
   "source": [
    "## Brainwire\n"
   ]
  },
  {
   "cell_type": "code",
   "execution_count": null,
   "metadata": {},
   "outputs": [],
   "source": [
    "### Testing methods of compression where the unique amplitudes are > 256."
   ]
  },
  {
   "cell_type": "code",
   "execution_count": 8,
   "metadata": {},
   "outputs": [
    {
     "name": "stdout",
     "output_type": "stream",
     "text": [
      "\n",
      "Method of Compression: unique_amplitudes_l > 256; encode.compress(debug_file)\n",
      "Initial File Size: 197398 bytes.\n",
      "Compressed File Size: 114178 bytes.\n",
      "Reduction in File Size: 83220 bytes.\n",
      "Percent of Reduction: 42.16%\n",
      "The file was reduced in size by 42.16% of the original size of the file. \n",
      "Percent of Compression: 57.84%\n",
      "The compressed file size is 57.84% of the original file size.\n",
      "Compression Ratio: 1.73\n",
      "\n",
      "\n",
      "\n",
      "Executed Line: unique_amplitudes_l > 256; encode.compress(debug_file)...\n",
      "Time Δ Nanoseconds: 631641000\n",
      "Time Δ Microseconds: 631641.0\n",
      "Time Δ Milliseconds: 631.641\n",
      "Time Δ Seconds: 0.631641\n",
      "\n",
      "\n"
     ]
    }
   ],
   "source": [
    "# Debug_data: The number of unique amplitudes are > 256.\n",
    "# method_of_compression == 'w'\n",
    "start_time = time.time_ns()\n",
    "data_brainwire = encode.compress(debug_file, quick=True)\n",
    "stop_time = time.time_ns()\n",
    "\n",
    "process_signal.print_compression_efficiency_metrics_wrapper(\n",
    "    start_time=start_time,\n",
    "    stop_time=stop_time,\n",
    "    original_data=current_file_data,\n",
    "    compressed_data=data_brainwire,\n",
    "    method=\"unique_amplitudes_l > 256; encode.compress(debug_file)\",\n",
    ")"
   ]
  },
  {
   "cell_type": "code",
   "execution_count": 9,
   "metadata": {},
   "outputs": [
    {
     "name": "stdout",
     "output_type": "stream",
     "text": [
      "\n",
      "Method of Compression: unique_amplitudes_l > 256; encode.compress(debug_file)\n",
      "Initial File Size: 197378 bytes.\n",
      "Compressed File Size: 88604 bytes.\n",
      "Reduction in File Size: 108774 bytes.\n",
      "Percent of Reduction: 55.11%\n",
      "The file was reduced in size by 55.11% of the original size of the file. \n",
      "Percent of Compression: 44.89%\n",
      "The compressed file size is 44.89% of the original file size.\n",
      "Compression Ratio: 2.23\n",
      "\n",
      "\n",
      "\n",
      "Executed Line: unique_amplitudes_l > 256; encode.compress(debug_file)...\n",
      "Time Δ Nanoseconds: 3809468000\n",
      "Time Δ Microseconds: 3809468.0\n",
      "Time Δ Milliseconds: 3809.468\n",
      "Time Δ Seconds: 3.809468\n",
      "\n",
      "\n"
     ]
    }
   ],
   "source": [
    "# Debug_data: The number of unique amplitudes are > 256.\n",
    "# method_of_compression == 'n'\n",
    "\n",
    "start_time = time.time_ns()\n",
    "parser = encode.initialize_argument_parser()\n",
    "args = parser.parse_args([debug_file, debug_compressed_file, \"-m=n\"])\n",
    "encode.main(args)\n",
    "stop_time = time.time_ns()\n",
    "\n",
    "\n",
    "with open(debug_compressed_file, \"rb+\") as fp:\n",
    "    debug_compressed_file_data = fp.read()\n",
    "    fp.close()\n",
    "\n",
    "\n",
    "process_signal.print_compression_efficiency_metrics_wrapper(\n",
    "    start_time=start_time,\n",
    "    stop_time=stop_time,\n",
    "    original_data=debug_file_data,\n",
    "    compressed_data=debug_compressed_file_data,\n",
    "    method=\"unique_amplitudes_l > 256; encode.compress(debug_file)\",\n",
    ")"
   ]
  },
  {
   "cell_type": "code",
   "execution_count": 10,
   "metadata": {},
   "outputs": [
    {
     "name": "stdout",
     "output_type": "stream",
     "text": [
      "\n",
      "Method of Compression: unique_amplitudes_l < 256; encode.compress(current_file_data)\n",
      "Initial File Size: 197398 bytes.\n",
      "Compressed File Size: 80483 bytes.\n",
      "Reduction in File Size: 116915 bytes.\n",
      "Percent of Reduction: 59.23%\n",
      "The file was reduced in size by 59.23% of the original size of the file. \n",
      "Percent of Compression: 40.77%\n",
      "The compressed file size is 40.77% of the original file size.\n",
      "Compression Ratio: 2.45\n",
      "\n",
      "\n",
      "\n",
      "Executed Line: unique_amplitudes_l < 256; encode.compress(current_file_data)...\n",
      "Time Δ Nanoseconds: 158361000\n",
      "Time Δ Microseconds: 158361.0\n",
      "Time Δ Milliseconds: 158.361\n",
      "Time Δ Seconds: 0.158361\n",
      "\n",
      "\n"
     ]
    }
   ],
   "source": [
    "# Unique Amplitudes are < 256.\n",
    "# Method of compression == 'u'\n",
    "\n",
    "start_time = time.time_ns()\n",
    "current_file_data_brainwire = encode.compress(current_file)\n",
    "stop_time = time.time_ns()\n",
    "process_signal.print_compression_efficiency_metrics_wrapper(\n",
    "    start_time=start_time,\n",
    "    stop_time=stop_time,\n",
    "    original_data=current_file_data,\n",
    "    compressed_data=current_file_data_brainwire,\n",
    "    method=\"unique_amplitudes_l < 256; encode.compress(current_file_data)\",\n",
    ")"
   ]
  },
  {
   "cell_type": "code",
   "execution_count": 11,
   "metadata": {},
   "outputs": [
    {
     "name": "stdout",
     "output_type": "stream",
     "text": [
      "\n",
      "Method of Compression: unique_amplitudes_l < 256; encode.main(); method of compression = 'n'\n",
      "Initial File Size: 197398 bytes.\n",
      "Compressed File Size: 88473 bytes.\n",
      "Reduction in File Size: 108925 bytes.\n",
      "Percent of Reduction: 55.18%\n",
      "The file was reduced in size by 55.18% of the original size of the file. \n",
      "Percent of Compression: 44.82%\n",
      "The compressed file size is 44.82% of the original file size.\n",
      "Compression Ratio: 2.23\n",
      "\n",
      "\n",
      "\n",
      "Executed Line: unique_amplitudes_l < 256; encode.main(); method of compression = 'n'...\n",
      "Time Δ Nanoseconds: 3852025000\n",
      "Time Δ Microseconds: 3852025.0\n",
      "Time Δ Milliseconds: 3852.025\n",
      "Time Δ Seconds: 3.852025\n",
      "\n",
      "\n"
     ]
    }
   ],
   "source": [
    "start_time = time.time_ns()\n",
    "parser = encode.initialize_argument_parser()\n",
    "compressed_file = current_file + \".brainwire\"\n",
    "args = parser.parse_args([current_file, compressed_file, \"-m=n\"])\n",
    "encode.main(args)\n",
    "\n",
    "with open(current_file + \".brainwire\", \"rb+\") as fp:\n",
    "    compressed_file_data = fp.read()\n",
    "    fp.close()\n",
    "stop_time = time.time_ns()\n",
    "process_signal.print_compression_efficiency_metrics_wrapper(\n",
    "    start_time=start_time,\n",
    "    stop_time=stop_time,\n",
    "    original_data=current_file_data,\n",
    "    compressed_data=compressed_file_data,\n",
    "    method=\"unique_amplitudes_l < 256; encode.main(); method of compression = 'n'\",\n",
    ")"
   ]
  },
  {
   "cell_type": "code",
   "execution_count": 12,
   "metadata": {},
   "outputs": [
    {
     "name": "stdout",
     "output_type": "stream",
     "text": [
      "\n",
      "Method of Compression: unique_amplitudes_l < 256; encode.compress(current_file_data)\n",
      "Initial File Size: 197398 bytes.\n",
      "Compressed File Size: 130003 bytes.\n",
      "Reduction in File Size: 67395 bytes.\n",
      "Percent of Reduction: 34.14%\n",
      "The file was reduced in size by 34.14% of the original size of the file. \n",
      "Percent of Compression: 65.86%\n",
      "The compressed file size is 65.86% of the original file size.\n",
      "Compression Ratio: 1.52\n",
      "\n",
      "\n",
      "\n",
      "Executed Line: unique_amplitudes_l < 256; encode.compress(current_file_data)...\n",
      "Time Δ Nanoseconds: 507702000\n",
      "Time Δ Microseconds: 507702.0\n",
      "Time Δ Milliseconds: 507.702\n",
      "Time Δ Seconds: 0.507702\n",
      "\n",
      "\n"
     ]
    }
   ],
   "source": [
    "start_time = time.time_ns()\n",
    "parser = encode.initialize_argument_parser()\n",
    "compressed_file = current_file + \".brainwire\"\n",
    "args = parser.parse_args([current_file, compressed_file, \"-m=h\"])\n",
    "encode.main(args)\n",
    "\n",
    "with open(current_file + \".brainwire\", \"rb+\") as fp:\n",
    "    compressed_file_data = fp.read()\n",
    "    fp.close()\n",
    "stop_time = time.time_ns()\n",
    "process_signal.print_compression_efficiency_metrics_wrapper(\n",
    "    start_time=start_time,\n",
    "    stop_time=stop_time,\n",
    "    original_data=current_file_data,\n",
    "    compressed_data=compressed_file_data,\n",
    "    method=\"unique_amplitudes_l < 256; encode.compress(current_file_data)\",\n",
    ")"
   ]
  },
  {
   "cell_type": "code",
   "execution_count": 13,
   "metadata": {},
   "outputs": [
    {
     "name": "stdout",
     "output_type": "stream",
     "text": [
      "\n",
      "Method of Compression: unique_amplitudes_l < 256; encode.compress(current_file_data)\n",
      "Initial File Size: 197398 bytes.\n",
      "Compressed File Size: 80483 bytes.\n",
      "Reduction in File Size: 116915 bytes.\n",
      "Percent of Reduction: 59.23%\n",
      "The file was reduced in size by 59.23% of the original size of the file. \n",
      "Percent of Compression: 40.77%\n",
      "The compressed file size is 40.77% of the original file size.\n",
      "Compression Ratio: 2.45\n",
      "\n",
      "\n",
      "\n",
      "Executed Line: unique_amplitudes_l < 256; encode.compress(current_file_data)...\n",
      "Time Δ Nanoseconds: 189542000\n",
      "Time Δ Microseconds: 189542.0\n",
      "Time Δ Milliseconds: 189.542\n",
      "Time Δ Seconds: 0.189542\n",
      "\n",
      "\n"
     ]
    }
   ],
   "source": [
    "start_time = time.time_ns()\n",
    "parser = encode.initialize_argument_parser()\n",
    "compressed_file = current_file + \".brainwire\"\n",
    "args = parser.parse_args([current_file, compressed_file, \"-m=u\"])\n",
    "encode.main(args)\n",
    "\n",
    "with open(current_file + \".brainwire\", \"rb+\") as fp:\n",
    "    compressed_file_data = fp.read()\n",
    "    fp.close()\n",
    "stop_time = time.time_ns()\n",
    "process_signal.print_compression_efficiency_metrics_wrapper(\n",
    "    start_time=start_time,\n",
    "    stop_time=stop_time,\n",
    "    original_data=current_file_data,\n",
    "    compressed_data=compressed_file_data,\n",
    "    method=\"unique_amplitudes_l < 256; encode.compress(current_file_data)\",\n",
    ")"
   ]
  },
  {
   "cell_type": "code",
   "execution_count": 14,
   "metadata": {},
   "outputs": [],
   "source": [
    "start_time = time.time_ns()\n",
    "sample_rate, data_brainwire_amplitude_current_file = decode.decompress(\n",
    "    current_file_data_brainwire\n",
    ")\n",
    "stop_time = time.time_ns()"
   ]
  },
  {
   "cell_type": "code",
   "execution_count": 15,
   "metadata": {},
   "outputs": [
    {
     "name": "stdout",
     "output_type": "stream",
     "text": [
      "False\n"
     ]
    }
   ],
   "source": [
    "not_equal = False\n",
    "for index, value in enumerate(current_file_data):\n",
    "    if data_brainwire_amplitude_current_file[index] != value:\n",
    "        not_equal = True\n",
    "\n",
    "print(not_equal)"
   ]
  },
  {
   "cell_type": "code",
   "execution_count": 16,
   "metadata": {},
   "outputs": [],
   "source": [
    "data_brainwire_amplitude_pd = pd.DataFrame(\n",
    "    data_brainwire_amplitude_current_file, columns=[\"Amplitude\"]\n",
    ")"
   ]
  },
  {
   "cell_type": "code",
   "execution_count": 17,
   "metadata": {},
   "outputs": [
    {
     "data": {
      "image/png": "[encoded data removed]",
      "text/plain": [
       "<Figure size 1200x400 with 1 Axes>"
      ]
     },
     "metadata": {},
     "output_type": "display_data"
    }
   ],
   "source": [
    "# Plotting the reconstructed neural current_file_data and the original raw neural current_file_data.\n",
    "\n",
    "plt.figure(figsize=(12, 4))\n",
    "plt.style.use(\"ggplot\")\n",
    "\n",
    "plt.title(\"Reconstructed Compressed Neural Data of Detected Neural Spikes\")\n",
    "plt.plot(current_file_data, color=\"purple\", linewidth=1, label=\"Raw Neural Data\")\n",
    "plt.plot(\n",
    "    data_brainwire_amplitude_pd,\n",
    "    linewidth=0.5,\n",
    "    color=\"teal\",\n",
    "    label=\"Decompressed Neural Data\",\n",
    ")\n",
    "plt.grid(True)\n",
    "plt.xlabel(\"Sample\")\n",
    "plt.ylabel(\"Amplitude\")\n",
    "plt.legend()\n",
    "plt.axhline(y=0, color=\"black\")\n",
    "plt.show()"
   ]
  },
  {
   "cell_type": "code",
   "execution_count": 18,
   "metadata": {},
   "outputs": [],
   "source": [
    "file_path = os.getcwd() + \"/data/test_compression.brainwire\""
   ]
  },
  {
   "cell_type": "code",
   "execution_count": 19,
   "metadata": {},
   "outputs": [],
   "source": [
    "with open(file_path, \"wb+\") as fp:\n",
    "    written_data = fp.write(data_brainwire)\n",
    "    fp.close()"
   ]
  },
  {
   "cell_type": "code",
   "execution_count": 20,
   "metadata": {},
   "outputs": [
    {
     "data": {
      "text/plain": [
       "114178"
      ]
     },
     "execution_count": 20,
     "metadata": {},
     "output_type": "execute_result"
    }
   ],
   "source": [
    "written_data"
   ]
  },
  {
   "cell_type": "markdown",
   "metadata": {},
   "source": [
    "## zlib\n"
   ]
  },
  {
   "cell_type": "code",
   "execution_count": 21,
   "metadata": {},
   "outputs": [
    {
     "name": "stdout",
     "output_type": "stream",
     "text": [
      "\n",
      "Method of Compression: zlib.compress(current_file_data)\n",
      "Initial file size: 197398 bytes.\n",
      "Compressed File Size: 87243 bytes.\n",
      "Percent of Compression: 55.80%\n",
      "\n",
      "\n",
      "\n",
      "Executed Line: zlib.compress(current_file_data)...\n",
      "Time Δ Nanoseconds: 30568000\n",
      "Time Δ Microseconds: 30568.0\n",
      "Time Δ Milliseconds: 30.568\n",
      "Time Δ Seconds: 0.030568\n",
      "\n",
      "\n"
     ]
    }
   ],
   "source": [
    "start_time = time.time_ns()\n",
    "data_zlib = zlib.compress(current_file_data)\n",
    "stop_time = time.time_ns()\n",
    "\n",
    "print_compression_efficiency_metrics_wrapper(\n",
    "    start_time=start_time,\n",
    "    stop_time=stop_time,\n",
    "    file=current_file_data,\n",
    "    compressed_file=data_zlib,\n",
    "    method=\"zlib.compress(current_file_data)\",\n",
    ")"
   ]
  },
  {
   "cell_type": "markdown",
   "metadata": {},
   "source": [
    "## Gzip\n"
   ]
  },
  {
   "cell_type": "code",
   "execution_count": 22,
   "metadata": {},
   "outputs": [
    {
     "name": "stdout",
     "output_type": "stream",
     "text": [
      "\n",
      "Method of Compression: gzip.compress(current_file_data)\n",
      "Initial file size: 197398 bytes.\n",
      "Compressed File Size: 86176 bytes.\n",
      "Percent of Compression: 56.34%\n",
      "\n",
      "\n",
      "\n",
      "Executed Line: gzip.compress(current_file_data)...\n",
      "Time Δ Nanoseconds: 38800000\n",
      "Time Δ Microseconds: 38800.0\n",
      "Time Δ Milliseconds: 38.8\n",
      "Time Δ Seconds: 0.0388\n",
      "\n",
      "\n"
     ]
    }
   ],
   "source": [
    "start_time = time.time_ns()\n",
    "data_gz = gzip.compress(current_file_data)\n",
    "stop_time = time.time_ns()\n",
    "\n",
    "print_compression_efficiency_metrics_wrapper(\n",
    "    start_time=start_time,\n",
    "    stop_time=stop_time,\n",
    "    file=current_file_data,\n",
    "    compressed_file=data_gz,\n",
    "    method=\"gzip.compress(current_file_data)\",\n",
    ")"
   ]
  },
  {
   "cell_type": "markdown",
   "metadata": {},
   "source": [
    "## bz2\n"
   ]
  },
  {
   "cell_type": "code",
   "execution_count": 23,
   "metadata": {},
   "outputs": [
    {
     "name": "stdout",
     "output_type": "stream",
     "text": [
      "\n",
      "Method of Compression: bz2.compress(current_file_data)\n",
      "Initial file size: 197398 bytes.\n",
      "Compressed File Size: 63435 bytes.\n",
      "Percent of Compression: 67.86%\n",
      "\n",
      "\n",
      "\n",
      "Executed Line: bz2.compress(current_file_data)...\n",
      "Time Δ Nanoseconds: 13500000\n",
      "Time Δ Microseconds: 13500.0\n",
      "Time Δ Milliseconds: 13.5\n",
      "Time Δ Seconds: 0.0135\n",
      "\n",
      "\n"
     ]
    }
   ],
   "source": [
    "start_time = time.time_ns()\n",
    "data_bz2 = bz2.compress(current_file_data)\n",
    "stop_time = time.time_ns()\n",
    "\n",
    "print_compression_efficiency_metrics_wrapper(\n",
    "    start_time=start_time,\n",
    "    stop_time=stop_time,\n",
    "    file=current_file_data,\n",
    "    compressed_file=data_bz2,\n",
    "    method=\"bz2.compress(current_file_data)\",\n",
    ")"
   ]
  },
  {
   "cell_type": "markdown",
   "metadata": {},
   "source": [
    "## lzma\n"
   ]
  },
  {
   "cell_type": "code",
   "execution_count": 24,
   "metadata": {},
   "outputs": [
    {
     "name": "stdout",
     "output_type": "stream",
     "text": [
      "\n",
      "Method of Compression: lzma.compress(current_file_data)\n",
      "Initial file size: 197398 bytes.\n",
      "Compressed File Size: 63435 bytes.\n",
      "Percent of Compression: 67.86%\n",
      "\n",
      "\n",
      "\n",
      "Executed Line: lzma.compress(current_file_data)...\n",
      "Time Δ Nanoseconds: 44071000\n",
      "Time Δ Microseconds: 44071.0\n",
      "Time Δ Milliseconds: 44.071\n",
      "Time Δ Seconds: 0.044071\n",
      "\n",
      "\n"
     ]
    }
   ],
   "source": [
    "start_time = time.time_ns()\n",
    "data_lzma = lzma.compress(current_file_data)\n",
    "stop_time = time.time_ns()\n",
    "\n",
    "print_compression_efficiency_metrics_wrapper(\n",
    "    start_time=start_time,\n",
    "    stop_time=stop_time,\n",
    "    file=current_file_data,\n",
    "    compressed_file=data_bz2,\n",
    "    method=\"lzma.compress(current_file_data)\",\n",
    ")"
   ]
  }
 ],
 "metadata": {
  "kernelspec": {
   "display_name": "py_encoding_env",
   "language": "python",
   "name": "python3"
  },
  "language_info": {
   "codemirror_mode": {
    "name": "ipython",
    "version": 3
   },
   "file_extension": ".py",
   "mimetype": "text/x-python",
   "name": "python",
   "nbconvert_exporter": "python",
   "pygments_lexer": "ipython3",
   "version": "3.11.5"
  }
 },
 "nbformat": 4,
 "nbformat_minor": 2
}
