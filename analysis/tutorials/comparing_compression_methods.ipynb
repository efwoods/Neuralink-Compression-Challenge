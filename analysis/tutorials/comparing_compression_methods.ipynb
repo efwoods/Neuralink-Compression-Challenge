{
 "cells": [
  {
   "cell_type": "markdown",
   "metadata": {},
   "source": [
    "# Comparing and Contrasting Different Compression Methods\n"
   ]
  },
  {
   "cell_type": "code",
   "execution_count": 1,
   "metadata": {},
   "outputs": [],
   "source": [
    "# Imports\n",
    "from glob import glob\n",
    "from scipy.io import wavfile\n",
    "from signal_processing_utilities import process_signal\n",
    "import time\n",
    "import zlib\n",
    "import gzip\n",
    "import bz2\n",
    "import lzma\n",
    "\n",
    "from importlib.util import spec_from_loader, module_from_spec\n",
    "from importlib.machinery import SourceFileLoader\n",
    "\n",
    "# Import encode\n",
    "spec = spec_from_loader(\"encode\", SourceFileLoader(\"encode\", \"../.././encode\"))\n",
    "encode = module_from_spec(spec)\n",
    "spec.loader.exec_module(encode)"
   ]
  },
  {
   "cell_type": "code",
   "execution_count": 2,
   "metadata": {},
   "outputs": [],
   "source": [
    "def compare_compression_ratio(file, compressed_file: str, method: str = None):\n",
    "    \"\"\"This function prints the compression ratio of two files.\n",
    "\n",
    "    Args:\n",
    "        file (numpy.ndarray): This is the array of amplitudes before\n",
    "                              compression.\n",
    "        compressed_file (str): This is the compressed representation of\n",
    "                               the amplitudes after the method of\n",
    "                               compression has been applied.\n",
    "        method (str):  This is the string representing the method of\n",
    "                       compression. Defaults to None.\n",
    "    \"\"\"\n",
    "    percent_compression = (1 - (len(compressed_file) / len(file.tobytes()))) * 100\n",
    "    if method != None:\n",
    "        print(f\"\\nMethod of Compression: {method}\")\n",
    "    else:\n",
    "        print(\"\\n\")\n",
    "    print(f\"Initial file size: {len(file.tobytes())} bytes.\")\n",
    "    print(f\"Compressed File Size: {len(compressed_file)} bytes.\")\n",
    "    print(f\"Percent of Compression: {percent_compression:.2f}%\")\n",
    "    print(f\"\\n\")"
   ]
  },
  {
   "cell_type": "code",
   "execution_count": 3,
   "metadata": {},
   "outputs": [],
   "source": [
    "def print_compression_efficiency_metrics_wrapper(\n",
    "    file: str, compressed_file: str, start_time: int, stop_time: int, method: str\n",
    "):\n",
    "    \"\"\"This is a wrapper function to print the start and stop times as\n",
    "       well as the ratio of compression.\n",
    "\n",
    "    Args:\n",
    "        file (str): This is the array of amplitudes before compression\n",
    "        compressed_file (str): This is the compressed representation of\n",
    "                               the amplitudes after the method of\n",
    "                               compression has been applied.\n",
    "        start_time (int): This is the initial starting time in\n",
    "                          nanoseconds.\n",
    "        stop_time (int): This is the final time in nanoseconds of the\n",
    "                         chosen method of compression.\n",
    "        method (str): This is the string representing the\n",
    "                                method of compression.\n",
    "    \"\"\"\n",
    "    compare_compression_ratio(file=file, compressed_file=compressed_file, method=method)\n",
    "    process_signal.print_time_each_function_takes_to_complete_processing(\n",
    "        start_time=start_time, stop_time=stop_time, executed_line=method\n",
    "    )"
   ]
  },
  {
   "cell_type": "code",
   "execution_count": 4,
   "metadata": {},
   "outputs": [],
   "source": [
    "data_dir = \"../../data\"\n",
    "data_file_list = glob(data_dir + \"/*.wav\")"
   ]
  },
  {
   "cell_type": "code",
   "execution_count": 5,
   "metadata": {},
   "outputs": [],
   "source": [
    "current_file = data_file_list[0]"
   ]
  },
  {
   "cell_type": "code",
   "execution_count": 6,
   "metadata": {},
   "outputs": [
    {
     "data": {
      "text/plain": [
       "'../../data/102b47d9-371e-412a-8995-0dc6115ab2bb.wav'"
      ]
     },
     "execution_count": 6,
     "metadata": {},
     "output_type": "execute_result"
    }
   ],
   "source": [
    "current_file"
   ]
  },
  {
   "cell_type": "code",
   "execution_count": 7,
   "metadata": {},
   "outputs": [],
   "source": [
    "rate, data = wavfile.read(current_file)"
   ]
  },
  {
   "cell_type": "markdown",
   "metadata": {},
   "source": [
    "## Brainwire\n"
   ]
  },
  {
   "cell_type": "code",
   "execution_count": 9,
   "metadata": {},
   "outputs": [
    {
     "name": "stdout",
     "output_type": "stream",
     "text": [
      "\n",
      "Method of Compression: encode.compress(data)\n",
      "Initial file size: 197398 bytes.\n",
      "Compressed File Size: 88118 bytes.\n",
      "Percent of Compression: 55.36%\n",
      "\n",
      "\n",
      "\n",
      "Executed Line: encode.compress(data)...\n",
      "Time Δ Nanoseconds: 8074647000\n",
      "Time Δ Microseconds: 8074647.0\n",
      "Time Δ Milliseconds: 8074.647\n",
      "Time Δ Seconds: 8.074647\n",
      "\n",
      "\n"
     ]
    }
   ],
   "source": [
    "start_time = time.time_ns()\n",
    "data_brainwire = encode.compress(current_file)\n",
    "stop_time = time.time_ns()\n",
    "\n",
    "print_compression_efficiency_metrics_wrapper(\n",
    "    start_time=start_time,\n",
    "    stop_time=stop_time,\n",
    "    file=data,\n",
    "    compressed_file=data_brainwire,\n",
    "    method=\"encode.compress(data)\",\n",
    ")"
   ]
  },
  {
   "cell_type": "markdown",
   "metadata": {},
   "source": [
    "## zlib\n"
   ]
  },
  {
   "cell_type": "code",
   "execution_count": 19,
   "metadata": {},
   "outputs": [
    {
     "name": "stdout",
     "output_type": "stream",
     "text": [
      "\n",
      "Method of Compression: zlib.compress(data)\n",
      "Initial file size: 197398 bytes.\n",
      "Compressed File Size: 87243 bytes.\n",
      "Percent of Compression: 55.80%\n",
      "\n",
      "\n",
      "\n",
      "Executed Line: zlib.compress(data)...\n",
      "Time Δ Nanoseconds: 44358000\n",
      "Time Δ Microseconds: 44358.0\n",
      "Time Δ Milliseconds: 44.358\n",
      "Time Δ Seconds: 0.044358\n",
      "\n",
      "\n"
     ]
    }
   ],
   "source": [
    "start_time = time.time_ns()\n",
    "data_zlib = zlib.compress(data)\n",
    "stop_time = time.time_ns()\n",
    "\n",
    "print_compression_efficiency_metrics_wrapper(\n",
    "    start_time=start_time,\n",
    "    stop_time=stop_time,\n",
    "    file=data,\n",
    "    compressed_file=data_zlib,\n",
    "    method=\"zlib.compress(data)\",\n",
    ")"
   ]
  },
  {
   "cell_type": "markdown",
   "metadata": {},
   "source": [
    "## Gzip\n"
   ]
  },
  {
   "cell_type": "code",
   "execution_count": 20,
   "metadata": {},
   "outputs": [
    {
     "name": "stdout",
     "output_type": "stream",
     "text": [
      "\n",
      "Method of Compression: gzip.compress(data)\n",
      "Initial file size: 197398 bytes.\n",
      "Compressed File Size: 86176 bytes.\n",
      "Percent of Compression: 56.34%\n",
      "\n",
      "\n",
      "\n",
      "Executed Line: gzip.compress(data)...\n",
      "Time Δ Nanoseconds: 59341000\n",
      "Time Δ Microseconds: 59341.0\n",
      "Time Δ Milliseconds: 59.341\n",
      "Time Δ Seconds: 0.059341\n",
      "\n",
      "\n"
     ]
    }
   ],
   "source": [
    "start_time = time.time_ns()\n",
    "data_gz = gzip.compress(data)\n",
    "stop_time = time.time_ns()\n",
    "\n",
    "print_compression_efficiency_metrics_wrapper(\n",
    "    start_time=start_time,\n",
    "    stop_time=stop_time,\n",
    "    file=data,\n",
    "    compressed_file=data_gz,\n",
    "    method=\"gzip.compress(data)\",\n",
    ")"
   ]
  },
  {
   "cell_type": "markdown",
   "metadata": {},
   "source": [
    "## bz2\n"
   ]
  },
  {
   "cell_type": "code",
   "execution_count": 21,
   "metadata": {},
   "outputs": [
    {
     "name": "stdout",
     "output_type": "stream",
     "text": [
      "\n",
      "Method of Compression: bz2.compress(data)\n",
      "Initial file size: 197398 bytes.\n",
      "Compressed File Size: 63435 bytes.\n",
      "Percent of Compression: 67.86%\n",
      "\n",
      "\n",
      "\n",
      "Executed Line: bz2.compress(data)...\n",
      "Time Δ Nanoseconds: 22897000\n",
      "Time Δ Microseconds: 22897.0\n",
      "Time Δ Milliseconds: 22.897\n",
      "Time Δ Seconds: 0.022897\n",
      "\n",
      "\n"
     ]
    }
   ],
   "source": [
    "start_time = time.time_ns()\n",
    "data_bz2 = bz2.compress(data)\n",
    "stop_time = time.time_ns()\n",
    "\n",
    "print_compression_efficiency_metrics_wrapper(\n",
    "    start_time=start_time,\n",
    "    stop_time=stop_time,\n",
    "    file=data,\n",
    "    compressed_file=data_bz2,\n",
    "    method=\"bz2.compress(data)\",\n",
    ")"
   ]
  },
  {
   "cell_type": "markdown",
   "metadata": {},
   "source": [
    "## lzma\n"
   ]
  },
  {
   "cell_type": "code",
   "execution_count": 23,
   "metadata": {},
   "outputs": [
    {
     "name": "stdout",
     "output_type": "stream",
     "text": [
      "\n",
      "Method of Compression: lzma.compress(data)\n",
      "Initial file size: 197398 bytes.\n",
      "Compressed File Size: 63435 bytes.\n",
      "Percent of Compression: 67.86%\n",
      "\n",
      "\n",
      "\n",
      "Executed Line: lzma.compress(data)...\n",
      "Time Δ Nanoseconds: 59806000\n",
      "Time Δ Microseconds: 59806.0\n",
      "Time Δ Milliseconds: 59.806\n",
      "Time Δ Seconds: 0.059806\n",
      "\n",
      "\n"
     ]
    }
   ],
   "source": [
    "start_time = time.time_ns()\n",
    "data_lzma = lzma.compress(data)\n",
    "stop_time = time.time_ns()\n",
    "\n",
    "print_compression_efficiency_metrics_wrapper(\n",
    "    start_time=start_time,\n",
    "    stop_time=stop_time,\n",
    "    file=data,\n",
    "    compressed_file=data_bz2,\n",
    "    method=\"lzma.compress(data)\",\n",
    ")"
   ]
  }
 ],
 "metadata": {
  "kernelspec": {
   "display_name": "py_encoding_env",
   "language": "python",
   "name": "python3"
  },
  "language_info": {
   "codemirror_mode": {
    "name": "ipython",
    "version": 3
   },
   "file_extension": ".py",
   "mimetype": "text/x-python",
   "name": "python",
   "nbconvert_exporter": "python",
   "pygments_lexer": "ipython3",
   "version": "3.11.5"
  }
 },
 "nbformat": 4,
 "nbformat_minor": 2
}
