{
 "cells": [
  {
   "cell_type": "markdown",
   "metadata": {},
   "source": [
    "# Comparing and Contrasting Different Compression Methods\n"
   ]
  },
  {
   "cell_type": "code",
   "execution_count": 2,
   "metadata": {},
   "outputs": [],
   "source": [
    "# Imports\n",
    "from glob import glob\n",
    "from scipy.io import wavfile\n",
    "from signal_processing_utilities import process_signal\n",
    "import time\n",
    "\n",
    "import zlib\n",
    "import gzip\n",
    "import bz2\n",
    "import lzma"
   ]
  },
  {
   "cell_type": "code",
   "execution_count": 25,
   "metadata": {},
   "outputs": [],
   "source": [
    "def compare_compression_ratio(file, compressed_file: str, method: str = None):\n",
    "    \"\"\"This function prints the compression ratio of two files.\n",
    "\n",
    "    Args:\n",
    "        file (numpy.ndarray): This is the array of amplitudes before\n",
    "                              compression.\n",
    "        compressed_file (str): This is the compressed representation of\n",
    "                               the amplitudes after the method of\n",
    "                               compression has been applied.\n",
    "        method (str):  This is the string representing the method of\n",
    "                       compression. Defaults to None.\n",
    "    \"\"\"\n",
    "    percent_compression = (len(compressed_file) / len(file.tobytes())) * 100\n",
    "    if method != None:\n",
    "        print(f\"\\nMethod of Compression: {method}\")\n",
    "    else:\n",
    "        print(\"\\n\")\n",
    "    print(f\"Initial file size: {len(file.tobytes())} bytes.\")\n",
    "    print(f\"Compressed File Size: {len(compressed_file)} bytes.\")\n",
    "    print(f\"Percent of Compression: {percent_compression:.2f}%\")\n",
    "    print(f\"\\n\")"
   ]
  },
  {
   "cell_type": "code",
   "execution_count": 29,
   "metadata": {},
   "outputs": [],
   "source": [
    "def print_compression_efficiency_metrics_wrapper(\n",
    "    file: str, compressed_file: str, start_time: int, stop_time: int, method: str\n",
    "):\n",
    "    \"\"\"This is a wrapper function to print the start and stop times as\n",
    "       well as the ratio of compression.\n",
    "\n",
    "    Args:\n",
    "        file (str): This is the array of amplitudes before compression\n",
    "        compressed_file (str): This is the compressed representation of\n",
    "                               the amplitudes after the method of\n",
    "                               compression has been applied.\n",
    "        start_time (int): This is the initial starting time in\n",
    "                          nanoseconds.\n",
    "        stop_time (int): This is the final time in nanoseconds of the\n",
    "                         chosen method of compression.\n",
    "        method (str): This is the string representing the\n",
    "                                method of compression.\n",
    "    \"\"\"\n",
    "    compare_compression_ratio(file=file, compressed_file=compressed_file, method=method)\n",
    "    process_signal.print_time_each_function_takes_to_complete_processing(\n",
    "        start_time=start_time, stop_time=stop_time, executed_line=method\n",
    "    )"
   ]
  },
  {
   "cell_type": "code",
   "execution_count": 30,
   "metadata": {},
   "outputs": [],
   "source": [
    "data_dir = \"../../data\"\n",
    "data_file_list = glob(data_dir + \"/*.wav\")"
   ]
  },
  {
   "cell_type": "code",
   "execution_count": 31,
   "metadata": {},
   "outputs": [],
   "source": [
    "current_file = data_file_list[0]"
   ]
  },
  {
   "cell_type": "code",
   "execution_count": 32,
   "metadata": {},
   "outputs": [
    {
     "data": {
      "text/plain": [
       "'../../data/102b47d9-371e-412a-8995-0dc6115ab2bb.wav'"
      ]
     },
     "execution_count": 32,
     "metadata": {},
     "output_type": "execute_result"
    }
   ],
   "source": [
    "current_file"
   ]
  },
  {
   "cell_type": "code",
   "execution_count": 33,
   "metadata": {},
   "outputs": [],
   "source": [
    "rate, data = wavfile.read(current_file)"
   ]
  },
  {
   "cell_type": "markdown",
   "metadata": {},
   "source": [
    "## zlib\n"
   ]
  },
  {
   "cell_type": "code",
   "execution_count": 39,
   "metadata": {},
   "outputs": [
    {
     "name": "stdout",
     "output_type": "stream",
     "text": [
      "\n",
      "Executed Line: zlib.compress(data)...\n",
      "Time Δ Nanoseconds: 40383000\n",
      "Time Δ Microseconds: 40383.0\n",
      "Time Δ Milliseconds: 40.383\n",
      "Time Δ Seconds: 0.040383\n",
      "\n",
      "\n",
      "\n",
      "Method of Compression: zlib.compress(data)\n",
      "Initial file size: 197398 bytes.\n",
      "Compressed File Size: 87243 bytes.\n",
      "Percent of Compression: 44.20%\n",
      "\n",
      "\n"
     ]
    }
   ],
   "source": [
    "start_time = time.time_ns()\n",
    "data_zlib = zlib.compress(data)\n",
    "stop_time = time.time_ns()\n",
    "\n",
    "print_compression_efficiency_metrics_wrapper(\n",
    "    start_time=start_time,\n",
    "    stop_time=stop_time,\n",
    "    file=data,\n",
    "    compressed_file=data_zlib,\n",
    "    method=\"zlib.compress(data)\",\n",
    ")"
   ]
  },
  {
   "cell_type": "markdown",
   "metadata": {},
   "source": [
    "## Gzip\n"
   ]
  },
  {
   "cell_type": "code",
   "execution_count": 40,
   "metadata": {},
   "outputs": [
    {
     "name": "stdout",
     "output_type": "stream",
     "text": [
      "\n",
      "Executed Line: gzip.compress(data)...\n",
      "Time Δ Nanoseconds: 55205000\n",
      "Time Δ Microseconds: 55205.0\n",
      "Time Δ Milliseconds: 55.205\n",
      "Time Δ Seconds: 0.055205\n",
      "\n",
      "\n",
      "\n",
      "Method of Compression: gzip.compress(data)\n",
      "Initial file size: 197398 bytes.\n",
      "Compressed File Size: 86176 bytes.\n",
      "Percent of Compression: 43.66%\n",
      "\n",
      "\n"
     ]
    }
   ],
   "source": [
    "start_time = time.time_ns()\n",
    "data_gz = gzip.compress(data)\n",
    "stop_time = time.time_ns()\n",
    "\n",
    "print_compression_efficiency_metrics_wrapper(\n",
    "    start_time=start_time,\n",
    "    stop_time=stop_time,\n",
    "    file=data,\n",
    "    compressed_file=data_gz,\n",
    "    method=\"gzip.compress(data)\",\n",
    ")"
   ]
  },
  {
   "cell_type": "markdown",
   "metadata": {},
   "source": [
    "## bz2\n"
   ]
  },
  {
   "cell_type": "code",
   "execution_count": 41,
   "metadata": {},
   "outputs": [
    {
     "name": "stdout",
     "output_type": "stream",
     "text": [
      "\n",
      "Executed Line: bz2.compress(data)...\n",
      "Time Δ Nanoseconds: 49975000\n",
      "Time Δ Microseconds: 49975.0\n",
      "Time Δ Milliseconds: 49.975\n",
      "Time Δ Seconds: 0.049975\n",
      "\n",
      "\n",
      "\n",
      "Method of Compression: bz2.compress(data)\n",
      "Initial file size: 197398 bytes.\n",
      "Compressed File Size: 63435 bytes.\n",
      "Percent of Compression: 32.14%\n",
      "\n",
      "\n"
     ]
    }
   ],
   "source": [
    "start_time = time.time_ns()\n",
    "data_bz2 = bz2.compress(data)\n",
    "stop_time = time.time_ns()\n",
    "\n",
    "print_compression_efficiency_metrics_wrapper(\n",
    "    start_time=start_time,\n",
    "    stop_time=stop_time,\n",
    "    file=data,\n",
    "    compressed_file=data_bz2,\n",
    "    method=\"bz2.compress(data)\",\n",
    ")"
   ]
  },
  {
   "cell_type": "markdown",
   "metadata": {},
   "source": [
    "## lzma\n"
   ]
  },
  {
   "cell_type": "code",
   "execution_count": 43,
   "metadata": {},
   "outputs": [
    {
     "name": "stdout",
     "output_type": "stream",
     "text": [
      "\n",
      "Executed Line: lzma.compress(data)...\n",
      "Time Δ Nanoseconds: 59149000\n",
      "Time Δ Microseconds: 59149.0\n",
      "Time Δ Milliseconds: 59.149\n",
      "Time Δ Seconds: 0.059149\n",
      "\n",
      "\n",
      "\n",
      "Method of Compression: lzma.compress(data)\n",
      "Initial file size: 197398 bytes.\n",
      "Compressed File Size: 63435 bytes.\n",
      "Percent of Compression: 32.14%\n",
      "\n",
      "\n"
     ]
    }
   ],
   "source": [
    "start_time = time.time_ns()\n",
    "data_lzma = lzma.compress(data)\n",
    "stop_time = time.time_ns()\n",
    "\n",
    "print_compression_efficiency_metrics_wrapper(\n",
    "    start_time=start_time,\n",
    "    stop_time=stop_time,\n",
    "    file=data,\n",
    "    compressed_file=data_bz2,\n",
    "    method=\"lzma.compress(data)\",\n",
    ")"
   ]
  }
 ],
 "metadata": {
  "kernelspec": {
   "display_name": "py_encoding_env",
   "language": "python",
   "name": "python3"
  },
  "language_info": {
   "codemirror_mode": {
    "name": "ipython",
    "version": 3
   },
   "file_extension": ".py",
   "mimetype": "text/x-python",
   "name": "python",
   "nbconvert_exporter": "python",
   "pygments_lexer": "ipython3",
   "version": "3.11.5"
  }
 },
 "nbformat": 4,
 "nbformat_minor": 2
}
