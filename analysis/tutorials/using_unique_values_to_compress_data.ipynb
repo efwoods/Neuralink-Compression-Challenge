{
 "cells": [
  {
   "cell_type": "markdown",
   "metadata": {},
   "source": [
    "# Using unique values to compress data\n"
   ]
  },
  {
   "cell_type": "markdown",
   "metadata": {},
   "source": [
    "## Imports\n"
   ]
  },
  {
   "cell_type": "code",
   "execution_count": 43,
   "metadata": {},
   "outputs": [],
   "source": [
    "import numpy as np\n",
    "from signal_processing_utilities import process_signal\n",
    "from glob import glob\n",
    "from scipy.io import wavfile\n",
    "import pandas as pd\n",
    "import matplotlib.pyplot as plt\n",
    "import time \n",
    "plt.style.use(\"ggplot\")"
   ]
  },
  {
   "cell_type": "markdown",
   "metadata": {},
   "source": [
    "## Creating the data\n"
   ]
  },
  {
   "cell_type": "code",
   "execution_count": 45,
   "metadata": {},
   "outputs": [
    {
     "data": {
      "text/plain": [
       "'../../data/102b47d9-371e-412a-8995-0dc6115ab2bb.wav'"
      ]
     },
     "execution_count": 45,
     "metadata": {},
     "output_type": "execute_result"
    }
   ],
   "source": [
    "data_dir = \"../../data/\"\n",
    "data_dir_l = glob(data_dir + \"*.wav\")\n",
    "current_file = data_dir_l[0]\n",
    "current_file"
   ]
  },
  {
   "cell_type": "code",
   "execution_count": 164,
   "metadata": {},
   "outputs": [],
   "source": [
    "def encode_unique_amplitudes_indices(current_file:str):\n",
    "    sample_rate, data = wavfile.read(current_file)\n",
    "    data_df = pd.DataFrame(data)\n",
    "    data_df.columns = [\"Amplitude\"]\n",
    "\n",
    "    unique_amplitudes = pd.DataFrame(np.unique(data_df))\n",
    "    unique_amplitudes_index_l = []\n",
    "\n",
    "    for index in range(0, len(data_df)):\n",
    "        unique_amplitudes_index_l.append(unique_amplitudes.index[unique_amplitudes[0]==data_df[\"Amplitude\"][index]][0])\n",
    "\n",
    "    data_df[\"unique_amplitudes_index_l\"] = np.array(unique_amplitudes_index_l)\n",
    "    indices_uint8 = np.array(data_df[\"unique_amplitudes_index_l\"].values, dtype=np.uint8)\n",
    "    unique_amplitudes_l = unique_amplitudes[0].values\n",
    "    return unique_amplitudes_l, indices_uint8"
   ]
  },
  {
   "cell_type": "code",
   "execution_count": 165,
   "metadata": {},
   "outputs": [],
   "source": [
    "unique_amplitudes_l, indices_uint8 = encode_unique_amplitudes_indices(current_file)"
   ]
  },
  {
   "cell_type": "code",
   "execution_count": 75,
   "metadata": {},
   "outputs": [
    {
     "name": "stdout",
     "output_type": "stream",
     "text": [
      "[-4132 -4068 -3940 -3876 -3812 -3748 -3684 -3619 -3555 -3491 -3427 -3363\n",
      " -3299 -3235 -3171 -3107 -3043 -2979 -2915 -2851 -2787 -2723 -2659 -2594\n",
      " -2530 -2466 -2402 -2338 -2274 -2210 -2146 -2082 -2018 -1954 -1890 -1826\n",
      " -1762 -1698 -1634 -1570 -1505 -1441 -1377 -1313 -1249 -1185 -1121 -1057\n",
      "  -993  -929  -865  -801  -737  -673  -609  -545  -480  -416  -352  -288\n",
      "  -224  -160   -96    31    95   159   223   287   351   415   479   544\n",
      "   608   672   736   800   864   928   992  1056  1120  1184  1248  1312\n",
      "  1376  1440  1504  1569  1633  1697  1761  1825  1889  1953  2017  2081\n",
      "  2145  2209  2273  2337  2401  2465  2529  2593  2658  2722  2786  2850\n",
      "  2914  2978  3042  3106  3170  3234  3298  3362  3426  3490  3554  3618\n",
      "  3683  3747  3811  3875  3939  4003  4067  4131  4195  4259  4323  4387\n",
      "  4451  4515  4579  4643  4708  4772  4836  4900  4964  5028  5092  5156\n",
      "  5220  5284  5348  5412  5476  5540  5604  5668  5797  5861  5925  6053\n",
      "  6181  6437]\n"
     ]
    },
    {
     "data": {
      "text/plain": [
       "array([58, 57, 59, ..., 67, 66, 59], dtype=uint8)"
      ]
     },
     "execution_count": 75,
     "metadata": {},
     "output_type": "execute_result"
    }
   ],
   "source": [
    "print(f\"{unique_amplitudes_l}\")\n",
    "indices_uint8"
   ]
  },
  {
   "cell_type": "code",
   "execution_count": 49,
   "metadata": {},
   "outputs": [],
   "source": [
    "compressed_file_path = 'data/sample_data.brainwire'\n",
    "# Format: \n",
    "# ∙ 1 byte is length of the unique amplitudes list\n",
    "# ∙ 2 bytes per amplitude in the unique amplitudes list for the length of the list\n",
    "# ∙ 1 byte for the rest of the length of the file\n",
    "\n",
    "with open(\"data/sample_data.brainwire\", 'wb+') as fp:\n",
    "    fp.write(np.array(len(unique_amplitudes_l), dtype=np.uint8))\n",
    "    for index, value in enumerate(unique_amplitudes_l):\n",
    "        fp.write(value)\n",
    "    for index, value in enumerate(indices_uint8):\n",
    "        fp.write(value)\n",
    "    fp.close()\n"
   ]
  },
  {
   "cell_type": "code",
   "execution_count": 50,
   "metadata": {},
   "outputs": [
    {
     "name": "stdout",
     "output_type": "stream",
     "text": [
      "Original File Size: 197442\n",
      "Compressed File Size: 99016\n",
      "Percent of Compression: 49.85%\n",
      "Percent of Compressed File Size Relative to Required File Size: 10032.016%\n"
     ]
    }
   ],
   "source": [
    "process_signal.print_size_of_file_compression(file_path=current_file, compressed_file_path=compressed_file_path)"
   ]
  },
  {
   "cell_type": "markdown",
   "metadata": {},
   "source": [
    "## Decoding the data\n"
   ]
  },
  {
   "cell_type": "code",
   "execution_count": 163,
   "metadata": {},
   "outputs": [
    {
     "name": "stdout",
     "output_type": "stream",
     "text": [
      "\n",
      "\n",
      "Time Δ Nanoseconds: 2611000\n",
      "Time Δ Microseconds: 2611.0\n",
      "Time Δ Milliseconds: 2.611\n",
      "Time Δ Seconds: 0.002611\n",
      "\n",
      "\n"
     ]
    }
   ],
   "source": [
    "start_time = time.time_ns()\n",
    "with open(compressed_file_path, \"rb+\") as fp:\n",
    "    file = fp.read()\n",
    "    fp.close()\n",
    "cutoff_index = ((2*file[0]) + 1)\n",
    "unique_amplitudes_reconstructed_values = np.frombuffer(file[1:cutoff_index], dtype=np.int16, count=file[0])\n",
    "indices_reconstructed = np.frombuffer(file[cutoff_index:], dtype=np.uint8)\n",
    "stop_time = time.time_ns()\n",
    "process_signal.print_time_each_function_takes_to_complete_processing(start_time, stop_time)\n"
   ]
  },
  {
   "cell_type": "code",
   "execution_count": 152,
   "metadata": {},
   "outputs": [
    {
     "data": {
      "text/plain": [
       "array([58, 57, 59, ..., 67, 66, 59], dtype=uint8)"
      ]
     },
     "execution_count": 152,
     "metadata": {},
     "output_type": "execute_result"
    }
   ],
   "source": [
    "unique_amplitudes_reconstructed_values\n",
    "indices_reconstructed"
   ]
  },
  {
   "cell_type": "code",
   "execution_count": 161,
   "metadata": {},
   "outputs": [],
   "source": [
    "original_data = unique_amplitudes_reconstructed_values[indices_reconstructed]"
   ]
  },
  {
   "cell_type": "code",
   "execution_count": 162,
   "metadata": {},
   "outputs": [
    {
     "data": {
      "text/plain": [
       "array([-352, -416, -288, ...,  287,  223, -288], dtype=int16)"
      ]
     },
     "execution_count": 162,
     "metadata": {},
     "output_type": "execute_result"
    }
   ],
   "source": [
    "original_data"
   ]
  },
  {
   "cell_type": "code",
   "execution_count": 160,
   "metadata": {},
   "outputs": [
    {
     "data": {
      "text/plain": [
       "<matplotlib.lines.Line2D at 0x163bcd890>"
      ]
     },
     "execution_count": 160,
     "metadata": {},
     "output_type": "execute_result"
    },
    {
     "data": {
      "image/png": "[encoded data removed]",
      "text/plain": [
       "<Figure size 640x480 with 1 Axes>"
      ]
     },
     "metadata": {},
     "output_type": "display_data"
    }
   ],
   "source": [
    "pd.DataFrame(unique_amplitudes_reconstructed_values[indices_reconstructed]).plot()\n",
    "plt.axhline(y=0, color='black')"
   ]
  }
 ],
 "metadata": {
  "kernelspec": {
   "display_name": "py_encoding_env",
   "language": "python",
   "name": "python3"
  },
  "language_info": {
   "codemirror_mode": {
    "name": "ipython",
    "version": 3
   },
   "file_extension": ".py",
   "mimetype": "text/x-python",
   "name": "python",
   "nbconvert_exporter": "python",
   "pygments_lexer": "ipython3",
   "version": "3.11.5"
  }
 },
 "nbformat": 4,
 "nbformat_minor": 2
}
