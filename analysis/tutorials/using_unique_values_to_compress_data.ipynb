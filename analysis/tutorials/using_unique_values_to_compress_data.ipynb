{
 "cells": [
  {
   "cell_type": "markdown",
   "metadata": {},
   "source": [
    "# Using unique values to compress data\n"
   ]
  },
  {
   "cell_type": "markdown",
   "metadata": {},
   "source": [
    "## Imports\n"
   ]
  },
  {
   "cell_type": "code",
   "execution_count": 33,
   "metadata": {},
   "outputs": [],
   "source": [
    "import numpy as np\n",
    "from signal_processing_utilities import process_signal\n",
    "from glob import glob\n",
    "from scipy.io import wavfile\n",
    "import pandas as pd\n",
    "import matplotlib.pyplot as plt\n",
    "import time\n",
    "\n",
    "plt.style.use(\"ggplot\")"
   ]
  },
  {
   "cell_type": "markdown",
   "metadata": {},
   "source": [
    "## Creating the data\n"
   ]
  },
  {
   "cell_type": "code",
   "execution_count": 34,
   "metadata": {},
   "outputs": [
    {
     "data": {
      "text/plain": [
       "'../../data/102b47d9-371e-412a-8995-0dc6115ab2bb.wav'"
      ]
     },
     "execution_count": 34,
     "metadata": {},
     "output_type": "execute_result"
    }
   ],
   "source": [
    "data_dir = \"../../data/\"\n",
    "data_dir_l = glob(data_dir + \"*.wav\")\n",
    "current_file = data_dir_l[0]\n",
    "current_file"
   ]
  },
  {
   "cell_type": "code",
   "execution_count": 35,
   "metadata": {},
   "outputs": [],
   "source": [
    "SAMPLE_RATE, data = wavfile.read(current_file)"
   ]
  },
  {
   "cell_type": "code",
   "execution_count": 36,
   "metadata": {},
   "outputs": [
    {
     "data": {
      "text/plain": [
       "numpy.ndarray"
      ]
     },
     "execution_count": 36,
     "metadata": {},
     "output_type": "execute_result"
    }
   ],
   "source": [
    "type(data)"
   ]
  },
  {
   "cell_type": "code",
   "execution_count": 37,
   "metadata": {},
   "outputs": [],
   "source": [
    "def encode_unique_amplitudes_indices(data):\n",
    "    \"\"\"This function will identify the number of unique amplitudes in the data. It will\n",
    "\n",
    "    Args:\n",
    "        data (numpy.ndarray): This is the array of amplitudes to be\n",
    "                                compressed.\n",
    "\n",
    "    Returns:\n",
    "        unique_amlitudes_l (list): This is an array containing all the\n",
    "                                    unique amplitudes in the original\n",
    "                                    data.\n",
    "        indices_unit8 (list): These are the amplitudes of the original\n",
    "                                data interpolated as indicies in the\n",
    "                                unique_amplitudes_l.\n",
    "    \"\"\"\n",
    "    data_df = pd.DataFrame(data)\n",
    "    data_df.columns = [\"Amplitude\"]\n",
    "\n",
    "    unique_amplitudes = pd.DataFrame(np.unique(data_df))\n",
    "    unique_amplitudes_index_l = []\n",
    "\n",
    "    for index in range(0, len(data_df)):\n",
    "        unique_amplitudes_index_l.append(\n",
    "            unique_amplitudes.index[\n",
    "                unique_amplitudes[0] == data_df[\"Amplitude\"][index]\n",
    "            ][0]\n",
    "        )\n",
    "\n",
    "    data_df[\"unique_amplitudes_index_l\"] = np.array(unique_amplitudes_index_l)\n",
    "    indices_uint8 = np.array(\n",
    "        data_df[\"unique_amplitudes_index_l\"].values, dtype=np.uint8\n",
    "    )\n",
    "    unique_amplitudes_l = unique_amplitudes[0].values\n",
    "    return unique_amplitudes_l, indices_uint8"
   ]
  },
  {
   "cell_type": "code",
   "execution_count": 38,
   "metadata": {},
   "outputs": [
    {
     "name": "stdout",
     "output_type": "stream",
     "text": [
      "\n",
      "\n",
      "Time Δ Nanoseconds: 2414913000\n",
      "Time Δ Microseconds: 2414913.0\n",
      "Time Δ Milliseconds: 2414.913\n",
      "Time Δ Seconds: 2.414913\n",
      "\n",
      "\n"
     ]
    }
   ],
   "source": [
    "start_time = time.time_ns()\n",
    "unique_amplitudes_l, indices_uint8 = encode_unique_amplitudes_indices(data=data)\n",
    "stop_time = time.time_ns()\n",
    "process_signal.print_time_each_function_takes_to_complete_processing(\n",
    "    start_time, stop_time\n",
    ")"
   ]
  },
  {
   "cell_type": "code",
   "execution_count": 44,
   "metadata": {},
   "outputs": [],
   "source": [
    "# Encode\n",
    "temp_byte_string = unique_amplitudes_l.tobytes()"
   ]
  },
  {
   "cell_type": "code",
   "execution_count": 47,
   "metadata": {},
   "outputs": [
    {
     "data": {
      "text/plain": [
       "316"
      ]
     },
     "execution_count": 47,
     "metadata": {},
     "output_type": "execute_result"
    }
   ],
   "source": [
    "# Length\n",
    "len(temp_byte_string)"
   ]
  },
  {
   "cell_type": "code",
   "execution_count": 46,
   "metadata": {},
   "outputs": [
    {
     "data": {
      "text/plain": [
       "array([-4132, -4068, -3940, -3876, -3812, -3748, -3684, -3619, -3555,\n",
       "       -3491, -3427, -3363, -3299, -3235, -3171, -3107, -3043, -2979,\n",
       "       -2915, -2851, -2787, -2723, -2659, -2594, -2530, -2466, -2402,\n",
       "       -2338, -2274, -2210, -2146, -2082, -2018, -1954, -1890, -1826,\n",
       "       -1762, -1698, -1634, -1570, -1505, -1441, -1377, -1313, -1249,\n",
       "       -1185, -1121, -1057,  -993,  -929,  -865,  -801,  -737,  -673,\n",
       "        -609,  -545,  -480,  -416,  -352,  -288,  -224,  -160,   -96,\n",
       "          31,    95,   159,   223,   287,   351,   415,   479,   544,\n",
       "         608,   672,   736,   800,   864,   928,   992,  1056,  1120,\n",
       "        1184,  1248,  1312,  1376,  1440,  1504,  1569,  1633,  1697,\n",
       "        1761,  1825,  1889,  1953,  2017,  2081,  2145,  2209,  2273,\n",
       "        2337,  2401,  2465,  2529,  2593,  2658,  2722,  2786,  2850,\n",
       "        2914,  2978,  3042,  3106,  3170,  3234,  3298,  3362,  3426,\n",
       "        3490,  3554,  3618,  3683,  3747,  3811,  3875,  3939,  4003,\n",
       "        4067,  4131,  4195,  4259,  4323,  4387,  4451,  4515,  4579,\n",
       "        4643,  4708,  4772,  4836,  4900,  4964,  5028,  5092,  5156,\n",
       "        5220,  5284,  5348,  5412,  5476,  5540,  5604,  5668,  5797,\n",
       "        5861,  5925,  6053,  6181,  6437], dtype=int16)"
      ]
     },
     "execution_count": 46,
     "metadata": {},
     "output_type": "execute_result"
    }
   ],
   "source": [
    "# Decode\n",
    "np.frombuffer(temp_byte_string, dtype=np.int16)"
   ]
  },
  {
   "cell_type": "code",
   "execution_count": 8,
   "metadata": {},
   "outputs": [
    {
     "name": "stdout",
     "output_type": "stream",
     "text": [
      "[-4132 -4068 -3940 -3876 -3812 -3748 -3684 -3619 -3555 -3491 -3427 -3363\n",
      " -3299 -3235 -3171 -3107 -3043 -2979 -2915 -2851 -2787 -2723 -2659 -2594\n",
      " -2530 -2466 -2402 -2338 -2274 -2210 -2146 -2082 -2018 -1954 -1890 -1826\n",
      " -1762 -1698 -1634 -1570 -1505 -1441 -1377 -1313 -1249 -1185 -1121 -1057\n",
      "  -993  -929  -865  -801  -737  -673  -609  -545  -480  -416  -352  -288\n",
      "  -224  -160   -96    31    95   159   223   287   351   415   479   544\n",
      "   608   672   736   800   864   928   992  1056  1120  1184  1248  1312\n",
      "  1376  1440  1504  1569  1633  1697  1761  1825  1889  1953  2017  2081\n",
      "  2145  2209  2273  2337  2401  2465  2529  2593  2658  2722  2786  2850\n",
      "  2914  2978  3042  3106  3170  3234  3298  3362  3426  3490  3554  3618\n",
      "  3683  3747  3811  3875  3939  4003  4067  4131  4195  4259  4323  4387\n",
      "  4451  4515  4579  4643  4708  4772  4836  4900  4964  5028  5092  5156\n",
      "  5220  5284  5348  5412  5476  5540  5604  5668  5797  5861  5925  6053\n",
      "  6181  6437]\n"
     ]
    },
    {
     "data": {
      "text/plain": [
       "array([58, 57, 59, ..., 67, 66, 59], dtype=uint8)"
      ]
     },
     "execution_count": 8,
     "metadata": {},
     "output_type": "execute_result"
    }
   ],
   "source": [
    "print(f\"{unique_amplitudes_l}\")\n",
    "indices_uint8"
   ]
  },
  {
   "cell_type": "code",
   "execution_count": 9,
   "metadata": {},
   "outputs": [
    {
     "data": {
      "text/plain": [
       "<matplotlib.legend.Legend at 0x16a529110>"
      ]
     },
     "execution_count": 9,
     "metadata": {},
     "output_type": "execute_result"
    },
    {
     "data": {
      "image/png": "[encoded data removed]",
      "text/plain": [
       "<Figure size 640x480 with 1 Axes>"
      ]
     },
     "metadata": {},
     "output_type": "display_data"
    }
   ],
   "source": [
    "pd.DataFrame(indices_uint8).plot(color=\"teal\", title=\"Plot of Encoded Neural Data\")\n",
    "plt.legend([\"Amplitude\"])"
   ]
  },
  {
   "cell_type": "code",
   "execution_count": 10,
   "metadata": {},
   "outputs": [],
   "source": [
    "compressed_file_path = \"data/sample_data.brainwire\"\n",
    "# Format:\n",
    "# ∙ 1 byte is length of the unique amplitudes list\n",
    "# ∙ 2 bytes per amplitude in the unique amplitudes list for the length of the list\n",
    "# ∙ 1 byte for the rest of the length of the file\n",
    "\n",
    "with open(\"data/sample_data.brainwire\", \"wb+\") as fp:\n",
    "    fp.write(np.array(len(unique_amplitudes_l), dtype=np.uint8))\n",
    "    for index, value in enumerate(unique_amplitudes_l):\n",
    "        fp.write(value)\n",
    "    for index, value in enumerate(indices_uint8):\n",
    "        fp.write(value)\n",
    "    fp.close()"
   ]
  },
  {
   "cell_type": "code",
   "execution_count": 11,
   "metadata": {},
   "outputs": [
    {
     "name": "stdout",
     "output_type": "stream",
     "text": [
      "Original File Size: 197442\n",
      "Compressed File Size: 99016\n",
      "Percent of Compression: 49.85%\n",
      "Percent of Compressed File Size Relative to Required File Size: 10032.016%\n"
     ]
    }
   ],
   "source": [
    "process_signal.print_size_of_file_compression(\n",
    "    file_path=current_file, compressed_file_path=compressed_file_path\n",
    ")"
   ]
  },
  {
   "cell_type": "markdown",
   "metadata": {},
   "source": [
    "## Decoding the data\n"
   ]
  },
  {
   "cell_type": "code",
   "execution_count": 12,
   "metadata": {},
   "outputs": [
    {
     "name": "stdout",
     "output_type": "stream",
     "text": [
      "\n",
      "\n",
      "Time Δ Nanoseconds: 1063000\n",
      "Time Δ Microseconds: 1063.0\n",
      "Time Δ Milliseconds: 1.063\n",
      "Time Δ Seconds: 0.001063\n",
      "\n",
      "\n"
     ]
    }
   ],
   "source": [
    "start_time = time.time_ns()\n",
    "with open(compressed_file_path, \"rb+\") as fp:\n",
    "    file = fp.read()\n",
    "    fp.close()\n",
    "cutoff_index = (2 * file[0]) + 1\n",
    "unique_amplitudes_reconstructed_values = np.frombuffer(\n",
    "    file[1:cutoff_index], dtype=np.int16, count=file[0]\n",
    ")\n",
    "indices_reconstructed = np.frombuffer(file[cutoff_index:], dtype=np.uint8)\n",
    "stop_time = time.time_ns()\n",
    "process_signal.print_time_each_function_takes_to_complete_processing(\n",
    "    start_time, stop_time\n",
    ")"
   ]
  },
  {
   "cell_type": "code",
   "execution_count": 13,
   "metadata": {},
   "outputs": [
    {
     "data": {
      "text/plain": [
       "array([58, 57, 59, ..., 67, 66, 59], dtype=uint8)"
      ]
     },
     "execution_count": 13,
     "metadata": {},
     "output_type": "execute_result"
    }
   ],
   "source": [
    "unique_amplitudes_reconstructed_values\n",
    "indices_reconstructed"
   ]
  },
  {
   "cell_type": "code",
   "execution_count": 14,
   "metadata": {},
   "outputs": [],
   "source": [
    "original_data = unique_amplitudes_reconstructed_values[indices_reconstructed]"
   ]
  },
  {
   "cell_type": "code",
   "execution_count": 15,
   "metadata": {},
   "outputs": [
    {
     "data": {
      "text/plain": [
       "array([-352, -416, -288, ...,  287,  223, -288], dtype=int16)"
      ]
     },
     "execution_count": 15,
     "metadata": {},
     "output_type": "execute_result"
    }
   ],
   "source": [
    "original_data"
   ]
  },
  {
   "cell_type": "code",
   "execution_count": 16,
   "metadata": {},
   "outputs": [
    {
     "data": {
      "text/plain": [
       "<matplotlib.lines.Line2D at 0x16ac5e010>"
      ]
     },
     "execution_count": 16,
     "metadata": {},
     "output_type": "execute_result"
    },
    {
     "data": {
      "image/png": "[encoded data removed]",
      "text/plain": [
       "<Figure size 640x480 with 1 Axes>"
      ]
     },
     "metadata": {},
     "output_type": "display_data"
    }
   ],
   "source": [
    "pd.DataFrame(unique_amplitudes_reconstructed_values[indices_reconstructed]).plot(\n",
    "    color=\"teal\", title=\"Plot of Raw Neural Data\"\n",
    ")\n",
    "plt.legend([\"Amplitude\"])\n",
    "plt.axhline(y=0, color=\"black\")"
   ]
  },
  {
   "cell_type": "markdown",
   "metadata": {},
   "source": [
    "## Huffman Encoding the indices\n"
   ]
  },
  {
   "cell_type": "code",
   "execution_count": 17,
   "metadata": {},
   "outputs": [],
   "source": [
    "from brainwire import encode"
   ]
  },
  {
   "cell_type": "code",
   "execution_count": 18,
   "metadata": {},
   "outputs": [],
   "source": [
    "sample_rate, data = wavfile.read(current_file)"
   ]
  },
  {
   "cell_type": "code",
   "execution_count": 19,
   "metadata": {},
   "outputs": [
    {
     "name": "stdout",
     "output_type": "stream",
     "text": [
      "File Name: \"sample_data.brainwire\".\n",
      "Size: 80162 Bytes.\n",
      "Original File Size: 197442\n",
      "Compressed File Size: 80162\n",
      "Percent of Compression: 59.40%\n",
      "Percent of Compressed File Size Relative to Required File Size: 8121.783%\n"
     ]
    }
   ],
   "source": [
    "# Encoding using unique amplitudes prior to huffman encoding\n",
    "unique_amplitudes_l, indices_uint8 = encode_unique_amplitudes_indices(data)\n",
    "\n",
    "# Encode using huffman encoding\n",
    "byte_string = encode.create_huffman_encoded_file(indices_uint8)\n",
    "\n",
    "# Writing the file as a byte_string\n",
    "process_signal.write_file_bytes(file_path=compressed_file_path, data_bytes=byte_string)\n",
    "\n",
    "# Metrics\n",
    "process_signal.print_file_size(file_path=compressed_file_path)\n",
    "\n",
    "process_signal.print_size_of_file_compression(\n",
    "    file_path=current_file, compressed_file_path=compressed_file_path\n",
    ")"
   ]
  },
  {
   "cell_type": "code",
   "execution_count": null,
   "metadata": {},
   "outputs": [],
   "source": [
    "print(f\"{current_file}\")\n",
    "print(f\"{compressed_file_path}\")"
   ]
  },
  {
   "cell_type": "markdown",
   "metadata": {},
   "source": [
    "### Regular Huffman Encoding\n"
   ]
  },
  {
   "cell_type": "code",
   "execution_count": 20,
   "metadata": {},
   "outputs": [
    {
     "name": "stdout",
     "output_type": "stream",
     "text": [
      "File Name: \"sample_data.brainwire\".\n",
      "Size: 130002 Bytes.\n",
      "Original File Size: 197442\n",
      "Compressed File Size: 130002\n",
      "Percent of Compression: 34.16%\n",
      "Percent of Compressed File Size Relative to Required File Size: 13171.429%\n"
     ]
    }
   ],
   "source": [
    "# Create Arguments to parse the file\n",
    "parser = encode.initialize_argument_parser()\n",
    "args = parser.parse_args([current_file, compressed_file_path, \"-q\"])\n",
    "\n",
    "# Read the file\n",
    "sample_rate, input_wav = wavfile.read(filename=args.file_path)\n",
    "\n",
    "# Huffman encoding the file\n",
    "byte_string = encode.create_huffman_encoded_file(input_wav)\n",
    "\n",
    "process_signal.write_file_bytes(\n",
    "    file_path=args.compressed_file_path, data_bytes=byte_string\n",
    ")\n",
    "process_signal.print_file_size(file_path=compressed_file_path)\n",
    "\n",
    "process_signal.print_size_of_file_compression(\n",
    "    file_path=current_file, compressed_file_path=compressed_file_path\n",
    ")"
   ]
  },
  {
   "cell_type": "code",
   "execution_count": null,
   "metadata": {},
   "outputs": [],
   "source": [
    "print(f\"{args.file_path}\")\n",
    "print(f\"{current_file}\")\n",
    "print(f\"{compressed_file_path}\")"
   ]
  },
  {
   "cell_type": "code",
   "execution_count": null,
   "metadata": {},
   "outputs": [],
   "source": [
    "print(\"This results in an increase of file compression of %0.2f%%.\" % (59.4 - 34.16))"
   ]
  },
  {
   "cell_type": "markdown",
   "metadata": {},
   "source": [
    "### Comparing the spike detection module\n"
   ]
  },
  {
   "cell_type": "code",
   "execution_count": 21,
   "metadata": {},
   "outputs": [
    {
     "name": "stdout",
     "output_type": "stream",
     "text": [
      "\n",
      "\n",
      "Time Δ Nanoseconds: 3712781000\n",
      "Time Δ Microseconds: 3712781.0\n",
      "Time Δ Milliseconds: 3712.781\n",
      "Time Δ Seconds: 3.712781\n",
      "\n",
      "\n",
      "File Name: \"sample_data.brainwire\".\n",
      "Size: 88472 Bytes.\n",
      "Original File Size: 197442\n",
      "Compressed File Size: 88472\n",
      "Percent of Compression: 55.19%\n",
      "Percent of Compressed File Size Relative to Required File Size: 8963.728%\n"
     ]
    }
   ],
   "source": [
    "# Regular spike detection:\n",
    "start_time = time.time_ns()\n",
    "parser = encode.initialize_argument_parser()\n",
    "args = parser.parse_args([current_file, compressed_file_path, \"-q\"])\n",
    "sample_rate, input_wave = wavfile.read(filename=args.file_path)\n",
    "\n",
    "# Neural spike detection module\n",
    "byte_string = encode.implement_spike_detection_module_and_huffman_encode_file(\n",
    "    sample_rate, input_wav\n",
    ")\n",
    "\n",
    "process_signal.write_file_bytes(\n",
    "    file_path=args.compressed_file_path, data_bytes=byte_string\n",
    ")\n",
    "stop_time = time.time_ns()\n",
    "\n",
    "process_signal.print_time_each_function_takes_to_complete_processing(\n",
    "    start_time, stop_time\n",
    ")\n",
    "\n",
    "process_signal.print_file_size(file_path=compressed_file_path)\n",
    "\n",
    "process_signal.print_size_of_file_compression(\n",
    "    file_path=current_file, compressed_file_path=compressed_file_path\n",
    ")"
   ]
  },
  {
   "cell_type": "markdown",
   "metadata": {},
   "source": [
    "#### Calling encode_unique_amplitudes_indices before implement_spike_detection_module_and_huffman_encode_file\n"
   ]
  },
  {
   "cell_type": "code",
   "execution_count": 29,
   "metadata": {},
   "outputs": [],
   "source": [
    "# Preprocess Data & Detect Spikes\n",
    "start_time = time.time_ns()\n",
    "sample_rate, input_wav = wavfile.read(current_file)\n",
    "\n",
    "filtered_data_bandpass = process_signal.preprocess_signal(\n",
    "    raw_neural_signal=input_wav, sample_rate=SAMPLE_RATE\n",
    ")\n",
    "\n",
    "# unique_amplitudes_l, indices_uint8 = encode_unique_amplitudes_indices(data=input_wav)\n",
    "\n",
    "spike_train_time_index_list = process_signal.detect_neural_spikes(\n",
    "    filtered_data_bandpass\n",
    ")\n",
    "encoded_data = process_signal.create_encoded_data(\n",
    "    sample_rate=SAMPLE_RATE,\n",
    "    number_of_samples=len(filtered_data_bandpass),\n",
    "    spike_train_time_index_list=spike_train_time_index_list,\n",
    "    neural_data=filtered_data_bandpass,\n",
    ")\n",
    "encoded_data_byte_string = process_signal.convert_encoded_data_to_byte_string(\n",
    "    encoded_data\n",
    ")\n",
    "node_mapping_dict, bit_string, end_zero_padding = encode.huffman_encoding(\n",
    "    input_data=encoded_data_byte_string,\n",
    ")\n",
    "byte_string = encode.create_byte_string(node_mapping_dict, bit_string, end_zero_padding)\n",
    "\n",
    "process_signal.write_file_bytes(\n",
    "    file_path=args.compressed_file_path, data_bytes=byte_string\n",
    ")\n",
    "\n",
    "stop_time = time.time_ns()\n",
    "\n",
    "process_signal.print_time_each_function_takes_to_complete_processing(\n",
    "    start_time, stop_time\n",
    ")\n",
    "process_signal.print_file_size(file_path=compressed_file_path)\n",
    "process_signal.print_size_of_file_compression(\n",
    "    file_path=current_file, compressed_file_path=compressed_file_path\n",
    ")"
   ]
  },
  {
   "cell_type": "code",
   "execution_count": 27,
   "metadata": {},
   "outputs": [],
   "source": [
    "# pd.DataFrame(filtered_data_bandpass)[0:100].plot()\n",
    "# pd.DataFrame(indices_uint8)[0:100].plot()"
   ]
  },
  {
   "cell_type": "code",
   "execution_count": null,
   "metadata": {},
   "outputs": [],
   "source": [
    "print(\n",
    "    \"The maximum amount of compression is 73.62%%; a reduction in file size of %0.2f%%\"\n",
    "    % (73.62 - 55.19)\n",
    ")\n",
    "print(\n",
    "    \"The cost is a increase in processing time of %0.2f seconds.\"\n",
    "    % (5.965707 - 3.817595)\n",
    ")"
   ]
  },
  {
   "cell_type": "code",
   "execution_count": null,
   "metadata": {},
   "outputs": [],
   "source": [
    "\"\"\" To integrate this algorithm into encode & decode:\n",
    "        ∙ create a byte to indicate which method of compression was\n",
    "            implemented.\n",
    "        ∙ create a option into to use specifically the spike detection\n",
    "            module or the maximum compression ratio where the maximum\n",
    "            compression ratio is created using huffman encoding and the\n",
    "            unique amplitudes if the number of unique amplitudes are \n",
    "            less than 256.\n",
    "        ∙ Integrate the encode_unique_amplitude_indices into the encode \n",
    "            module.\n",
    "        ∙ Create a decode method for encode_unique_amplitude_indices.\n",
    "        ∙ Identify the number of unique amplitudes when max compression\n",
    "            is selected as an option.\n",
    "\"\"\""
   ]
  }
 ],
 "metadata": {
  "kernelspec": {
   "display_name": "py_encoding_env",
   "language": "python",
   "name": "python3"
  },
  "language_info": {
   "codemirror_mode": {
    "name": "ipython",
    "version": 3
   },
   "file_extension": ".py",
   "mimetype": "text/x-python",
   "name": "python",
   "nbconvert_exporter": "python",
   "pygments_lexer": "ipython3",
   "version": "3.11.5"
  }
 },
 "nbformat": 4,
 "nbformat_minor": 2
}
