{
 "cells": [
  {
   "cell_type": "markdown",
   "metadata": {},
   "source": [
    "# Metrics\n"
   ]
  },
  {
   "cell_type": "markdown",
   "metadata": {},
   "source": [
    "## Using encode.main([file, compressed_file_path, '-m=u']):\n"
   ]
  },
  {
   "cell_type": "code",
   "execution_count": 2,
   "metadata": {},
   "outputs": [
    {
     "data": {
      "text/plain": [
       "\" Using encode.main([file, compressed_file_path, '-m=u']):\\nAll recordings successfully compressed.\\nOriginal size (bytes): 146800526\\nCompressed size (bytes): 62921770\\nCompression ratio: 2.33\\n58 minutes 44 seconds\\n\""
      ]
     },
     "execution_count": 2,
     "metadata": {},
     "output_type": "execute_result"
    }
   ],
   "source": [
    "\"\"\" \n",
    "All recordings successfully compressed.\n",
    "Original size (bytes): 146800526\n",
    "Compressed size (bytes): 62921770\n",
    "Compression ratio: 2.33\n",
    "58 minutes 44 seconds\n",
    "\"\"\""
   ]
  },
  {
   "cell_type": "markdown",
   "metadata": {},
   "source": [
    "## Using Baseline functions:\n",
    "\n",
    "- (Read File, tobytes(), write file, read file, np.frombuffer(data, dtype=np.int16), write file)\n"
   ]
  },
  {
   "cell_type": "code",
   "execution_count": null,
   "metadata": {},
   "outputs": [],
   "source": [
    "\"\"\"All recordings successfully compressed.\n",
    "Original size (bytes): 146800526\n",
    "Compressed size (bytes): 146814507\n",
    "Compression ratio: .99\n",
    "11 minutes 37 seconds\n",
    "\"\"\""
   ]
  },
  {
   "cell_type": "markdown",
   "metadata": {},
   "source": [
    "## Using Zip Compression\n"
   ]
  },
  {
   "cell_type": "code",
   "execution_count": null,
   "metadata": {},
   "outputs": [],
   "source": []
  }
 ],
 "metadata": {
  "kernelspec": {
   "display_name": "py_encoding_env",
   "language": "python",
   "name": "python3"
  },
  "language_info": {
   "codemirror_mode": {
    "name": "ipython",
    "version": 3
   },
   "file_extension": ".py",
   "mimetype": "text/x-python",
   "name": "python",
   "nbconvert_exporter": "python",
   "pygments_lexer": "ipython3",
   "version": "3.11.5"
  }
 },
 "nbformat": 4,
 "nbformat_minor": 2
}
