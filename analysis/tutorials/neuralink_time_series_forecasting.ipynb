{
 "cells": [
  {
   "cell_type": "markdown",
   "metadata": {},
   "source": [
    "# [Neuralink Time Series Forecasting](https://www.tensorflow.org/tutorials/structured_data/time_series)\n"
   ]
  },
  {
   "cell_type": "markdown",
   "metadata": {},
   "source": [
    "## Imports\n"
   ]
  },
  {
   "cell_type": "code",
   "execution_count": 1,
   "metadata": {},
   "outputs": [],
   "source": [
    "import os\n",
    "import matplotlib.pyplot as plt\n",
    "import numpy as np\n",
    "import pandas as pd\n",
    "import seaborn as sns\n",
    "import tensorflow as tf\n",
    "from glob import glob\n",
    "import scipy.io\n",
    "import IPython"
   ]
  },
  {
   "cell_type": "markdown",
   "metadata": {},
   "source": [
    "## Configure Tensorflow\n"
   ]
  },
  {
   "cell_type": "code",
   "execution_count": null,
   "metadata": {},
   "outputs": [],
   "source": [
    "# Identify if the GPU is detected\n",
    "# tf.config.list_physical_devices()\n",
    "\n",
    "# Identify if the GPU is being used.\n",
    "# tf.debugging.set_log_device_placement(False)"
   ]
  },
  {
   "cell_type": "markdown",
   "metadata": {},
   "source": [
    "## Import Data\n"
   ]
  },
  {
   "cell_type": "code",
   "execution_count": null,
   "metadata": {},
   "outputs": [],
   "source": [
    "data_dir = \"../../data/\"\n",
    "data_file_l = glob(data_dir + \"*.wav\")\n",
    "rate, data = scipy.io.wavfile.read(data_file_l[0])\n",
    "data_df = pd.DataFrame(data, columns=[\"Amplitude\"])\n",
    "time = np.arange(0, len(data_df) / rate, (1 / rate))\n",
    "data_df.insert(loc=1, column=\"Time\", value=time, allow_duplicates=True)\n",
    "data_df.index.name = \"Sample Number\"\n",
    "data_df.plot(\n",
    "    xlabel=\"Time [s]\", x=\"Time\", grid=True, linewidth=0.5, title=\"Raw Neural Signal\"\n",
    ")"
   ]
  },
  {
   "cell_type": "code",
   "execution_count": null,
   "metadata": {},
   "outputs": [],
   "source": [
    "data_df.__len__()"
   ]
  },
  {
   "cell_type": "code",
   "execution_count": null,
   "metadata": {},
   "outputs": [],
   "source": [
    "df = data_df.drop(\"Time\", axis=1)"
   ]
  },
  {
   "cell_type": "markdown",
   "metadata": {},
   "source": [
    "## Defining Training, Validation, & Test Sets\n"
   ]
  },
  {
   "cell_type": "code",
   "execution_count": null,
   "metadata": {},
   "outputs": [],
   "source": [
    "column_indices = {name: i for i, name in enumerate(df.columns)}\n",
    "\n",
    "n = df.__len__()\n",
    "\n",
    "train_df = df[0 : int(n * 0.7)]\n",
    "val_df = df[int(n * 0.7) : int(n * 0.9)]\n",
    "test_df = df[int(n * 0.9) :]\n",
    "\n",
    "num_features = df.shape[1]"
   ]
  },
  {
   "cell_type": "code",
   "execution_count": null,
   "metadata": {},
   "outputs": [],
   "source": [
    "train_mean = train_df.mean()\n",
    "train_std = train_df.std()\n",
    "\n",
    "train_df = (train_df - train_mean) / train_std\n",
    "val_df = (val_df - train_mean) / train_std\n",
    "test_df = (test_df - train_mean) / train_std"
   ]
  },
  {
   "cell_type": "code",
   "execution_count": null,
   "metadata": {},
   "outputs": [],
   "source": [
    "df_std = (df - train_mean) / train_std\n",
    "df_std = df_std.melt(var_name=\"Column\", value_name=\"Normalized\")\n",
    "plt.figure(figsize=(12, 6))\n",
    "ax = sns.violinplot(x=\"Column\", y=\"Normalized\", data=df_std)\n",
    "_ = ax.set_xticklabels(df.keys(), rotation=90)"
   ]
  },
  {
   "cell_type": "code",
   "execution_count": null,
   "metadata": {},
   "outputs": [],
   "source": [
    "class WindowGenerator:\n",
    "    def __init__(\n",
    "        self,\n",
    "        input_width,\n",
    "        label_width,\n",
    "        shift,\n",
    "        train_df=train_df,\n",
    "        val_df=val_df,\n",
    "        test_df=test_df,\n",
    "        label_columns=None,\n",
    "    ):\n",
    "        # Store the raw data\n",
    "        self.train_df = train_df\n",
    "        self.val_df = val_df\n",
    "        self.test_df = test_df\n",
    "\n",
    "        # Work out the label column indices.\n",
    "        self.label_columns = label_columns\n",
    "        if label_columns is not None:\n",
    "            self.label_columns_indices = {\n",
    "                name: i for i, name in enumerate(label_columns)\n",
    "            }\n",
    "        self.column_indices = {name: i for i, name in enumerate(train_df.columns)}\n",
    "\n",
    "        # Work out the window parameters.\n",
    "        self.input_width = input_width\n",
    "        self.label_width = label_width\n",
    "        self.shift = shift\n",
    "\n",
    "        self.total_window_size = input_width + shift\n",
    "\n",
    "        self.input_slice = slice(0, input_width)\n",
    "        self.input_indices = np.arange(self.total_window_size)[self.input_slice]\n",
    "\n",
    "        self.label_start = self.total_window_size - self.label_width\n",
    "        self.labels_slice = slice(self.label_start, None)\n",
    "        self.label_indices = np.arange(self.total_window_size)[self.labels_slice]\n",
    "\n",
    "    def __repr__(self):\n",
    "        return \"\\n\".join(\n",
    "            [\n",
    "                f\"Total window size: {self.total_window_size}\",\n",
    "                f\"Input indices: {self.input_indices}\",\n",
    "                f\"Label indices: {self.label_indices}\",\n",
    "                f\"Label column name(s): {self.label_columns}\",\n",
    "            ]\n",
    "        )"
   ]
  },
  {
   "cell_type": "code",
   "execution_count": null,
   "metadata": {},
   "outputs": [],
   "source": [
    "w1 = WindowGenerator(\n",
    "    input_width=24, label_width=1, shift=24, label_columns=[\"Amplitude\"]\n",
    ")"
   ]
  },
  {
   "cell_type": "code",
   "execution_count": null,
   "metadata": {},
   "outputs": [],
   "source": [
    "w2 = WindowGenerator(input_width=6, label_width=1, shift=1, label_columns=[\"Amplitude\"])"
   ]
  },
  {
   "cell_type": "code",
   "execution_count": null,
   "metadata": {},
   "outputs": [],
   "source": [
    "def split_window(self, features):\n",
    "    inputs = features[:, self.input_slice, :]\n",
    "    labels = features[:, self.labels_slice, :]\n",
    "    if self.label_columns is not None:\n",
    "        labels = tf.stack(\n",
    "            [labels[:, :, self.column_indices[name]] for name in self.label_columns],\n",
    "            axis=-1,\n",
    "        )\n",
    "\n",
    "    # Slicing doesn't preserve static shape information, so set the shapes manually. This way the `tf.data.Datasets` are easier to inspect.\n",
    "    inputs.set_shape([None, self.input_width, None])\n",
    "    labels.set_shape([None, self.label_width, None])\n",
    "\n",
    "    return inputs, labels\n",
    "\n",
    "\n",
    "WindowGenerator.split_window = split_window"
   ]
  },
  {
   "cell_type": "code",
   "execution_count": null,
   "metadata": {},
   "outputs": [],
   "source": [
    "# Stack three slices, the length of the total window.\n",
    "example_window = tf.stack(\n",
    "    [\n",
    "        np.array(train_df[: w2.total_window_size]),\n",
    "        np.array(train_df[100 : 100 + w2.total_window_size]),\n",
    "        np.array(train_df[200 : 200 + w2.total_window_size]),\n",
    "    ]\n",
    ")\n",
    "\n",
    "example_inputs, example_labels = w2.split_window(example_window)\n",
    "\n",
    "print(\"All shapes are: (batch, time, features)\")\n",
    "print(f\"Window shape: {example_window.shape}\")\n",
    "print(f\"Inputs shape: {example_inputs.shape}\")\n",
    "print(f\"Labels shape: {example_labels.shape}\")"
   ]
  },
  {
   "cell_type": "code",
   "execution_count": null,
   "metadata": {},
   "outputs": [],
   "source": [
    "w2.example = example_inputs, example_labels"
   ]
  },
  {
   "cell_type": "code",
   "execution_count": null,
   "metadata": {},
   "outputs": [],
   "source": [
    "def plot(self, model=None, plot_col=\"Amplitude\", max_subplots=3):\n",
    "    inputs, labels = self.example\n",
    "    plt.figure(figsize=(12, 8))\n",
    "    plot_col_index = self.column_indices[plot_col]\n",
    "    max_n = min(max_subplots, len(inputs))\n",
    "    for n in range(max_n):\n",
    "        plt.subplot(max_n, 1, n + 1)\n",
    "        plt.ylabel(f\"{plot_col} [normed]\")\n",
    "        plt.plot(\n",
    "            self.input_indices,\n",
    "            inputs[n, :, plot_col_index],\n",
    "            label=\"Inputs\",\n",
    "            marker=\".\",\n",
    "            zorder=-10,\n",
    "        )\n",
    "\n",
    "        if self.label_columns:\n",
    "            label_col_index = self.label_columns_indices.get(plot_col, None)\n",
    "        else:\n",
    "            label_col_index = plot_col_index\n",
    "\n",
    "        if label_col_index is None:\n",
    "            continue\n",
    "\n",
    "        plt.scatter(\n",
    "            self.label_indices,\n",
    "            labels[n, :, label_col_index],\n",
    "            edgecolors=\"k\",\n",
    "            label=\"Labels\",\n",
    "            c=\"#2ca02c\",\n",
    "            s=64,\n",
    "        )\n",
    "        if model is not None:\n",
    "            predictions = model(inputs)\n",
    "            plt.scatter(\n",
    "                self.label_indices,\n",
    "                predictions[n, :, label_col_index],\n",
    "                marker=\"X\",\n",
    "                edgecolors=\"k\",\n",
    "                label=\"Predictions\",\n",
    "                c=\"#ff7f0e\",\n",
    "                s=64,\n",
    "            )\n",
    "\n",
    "        if n == 0:\n",
    "            plt.legend()\n",
    "\n",
    "    plt.xlabel(\"Time [h]\")\n",
    "\n",
    "\n",
    "WindowGenerator.plot = plot"
   ]
  },
  {
   "cell_type": "code",
   "execution_count": null,
   "metadata": {},
   "outputs": [],
   "source": [
    "w2.label_columns_indices"
   ]
  },
  {
   "cell_type": "code",
   "execution_count": null,
   "metadata": {},
   "outputs": [],
   "source": [
    "w2.plot()"
   ]
  },
  {
   "cell_type": "code",
   "execution_count": null,
   "metadata": {},
   "outputs": [],
   "source": [
    "def make_dataset(self, data):\n",
    "    data = np.array(data, dtype=np.float32)\n",
    "    ds = tf.keras.utils.timeseries_dataset_from_array(\n",
    "        data=data,\n",
    "        targets=None,\n",
    "        sequence_length=self.total_window_size,\n",
    "        sequence_stride=1,\n",
    "        shuffle=True,\n",
    "        batch_size=32,\n",
    "    )\n",
    "    ds = ds.map(self.split_window)\n",
    "\n",
    "    return ds\n",
    "\n",
    "\n",
    "WindowGenerator.make_dataset = make_dataset"
   ]
  },
  {
   "cell_type": "code",
   "execution_count": null,
   "metadata": {},
   "outputs": [],
   "source": [
    "@property\n",
    "def train(self):\n",
    "    return self.make_dataset(self.train_df)\n",
    "\n",
    "\n",
    "@property\n",
    "def val(self):\n",
    "    return self.make_dataset(self.val_df)\n",
    "\n",
    "\n",
    "@property\n",
    "def test(self):\n",
    "    return self.make_dataset(self.test_df)\n",
    "\n",
    "\n",
    "@property\n",
    "def example(self):\n",
    "    \"\"\"get and cache an example batch of `inputs, labels` for ploting.\"\"\"\n",
    "    result = getattr(self, \"_example\", None)\n",
    "    if result is None:\n",
    "        # No example batch was found, so get one from the `.train` dataset\n",
    "        result = next(iter(self.train))\n",
    "        # And cache it for next time\n",
    "        self._example = result\n",
    "    return result\n",
    "\n",
    "\n",
    "WindowGenerator.train = train\n",
    "WindowGenerator.val = val\n",
    "WindowGenerator.test = test\n",
    "WindowGenerator.example = example"
   ]
  },
  {
   "cell_type": "code",
   "execution_count": null,
   "metadata": {},
   "outputs": [],
   "source": [
    "# Each element is an (inputs, label) pair.\n",
    "w2.train.element_spec"
   ]
  },
  {
   "cell_type": "code",
   "execution_count": null,
   "metadata": {},
   "outputs": [],
   "source": [
    "for example_inputs, example_labels in w2.train.take(1):\n",
    "    print(f\"Inputs shape (batch, time, features): {example_inputs.shape}\")\n",
    "    print(f\"Labels shape (batch, time, features): {example_labels.shape}\")"
   ]
  },
  {
   "cell_type": "markdown",
   "metadata": {},
   "source": [
    "## Single Step Model\n"
   ]
  },
  {
   "cell_type": "code",
   "execution_count": null,
   "metadata": {},
   "outputs": [],
   "source": [
    "single_step_window = WindowGenerator(\n",
    "    input_width=1, label_width=1, shift=1, label_columns=[\"Amplitude\"]\n",
    ")\n",
    "single_step_window"
   ]
  },
  {
   "cell_type": "code",
   "execution_count": null,
   "metadata": {},
   "outputs": [],
   "source": [
    "for example_inputs, example_labels in single_step_window.train.take(1):\n",
    "    print(f\"Inputs shape (batch, time, features): {example_inputs.shape}\")\n",
    "    print(f\"Labels shape (batch, time, features): {example_labels.shape}\")"
   ]
  },
  {
   "cell_type": "markdown",
   "metadata": {},
   "source": [
    "### Baseline\n"
   ]
  },
  {
   "cell_type": "code",
   "execution_count": null,
   "metadata": {},
   "outputs": [],
   "source": [
    "class Baseline(tf.keras.Model):\n",
    "    def __init__(self, label_index=None):\n",
    "        super().__init__()\n",
    "        self.label_index = label_index\n",
    "\n",
    "    def call(self, inputs):\n",
    "        if self.label_index is None:\n",
    "            return inputs\n",
    "        result = inputs[:, :, self.label_index]\n",
    "        return result[:, :, tf.newaxis]"
   ]
  },
  {
   "cell_type": "code",
   "execution_count": null,
   "metadata": {},
   "outputs": [],
   "source": [
    "baseline = Baseline(label_index=column_indices[\"Amplitude\"])\n",
    "\n",
    "baseline.compile(\n",
    "    loss=tf.keras.losses.MeanSquaredError(),\n",
    "    metrics=[tf.keras.metrics.MeanAbsoluteError()],\n",
    ")\n",
    "\n",
    "val_performance = {}\n",
    "performance = {}\n",
    "val_performance[\"Baseline\"] = baseline.evaluate(\n",
    "    single_step_window.val, return_dict=True\n",
    ")\n",
    "performance[\"Baseline\"] = baseline.evaluate(\n",
    "    single_step_window.test, verbose=0, return_dict=True\n",
    ")"
   ]
  },
  {
   "cell_type": "code",
   "execution_count": null,
   "metadata": {},
   "outputs": [],
   "source": [
    "wide_window = WindowGenerator(\n",
    "    input_width=24, label_width=24, shift=1, label_columns=[\"Amplitude\"]\n",
    ")\n",
    "wide_window"
   ]
  },
  {
   "cell_type": "code",
   "execution_count": null,
   "metadata": {},
   "outputs": [],
   "source": [
    "print(\"Input shape:\", wide_window.example[0].shape)\n",
    "print(\"Output shape:\", baseline(wide_window.example[0]).shape)"
   ]
  },
  {
   "cell_type": "code",
   "execution_count": null,
   "metadata": {},
   "outputs": [],
   "source": [
    "wide_window.plot(baseline)"
   ]
  },
  {
   "cell_type": "markdown",
   "metadata": {},
   "source": [
    "### Linear Model\n"
   ]
  },
  {
   "cell_type": "code",
   "execution_count": null,
   "metadata": {},
   "outputs": [],
   "source": [
    "linear = tf.keras.Sequential([tf.keras.layers.Dense(units=1)])"
   ]
  },
  {
   "cell_type": "code",
   "execution_count": null,
   "metadata": {},
   "outputs": [],
   "source": [
    "print(\"Input shape:\", single_step_window.example[0].shape)\n",
    "print(\"Output shape:\", linear(single_step_window.example[0]).shape)"
   ]
  },
  {
   "cell_type": "code",
   "execution_count": null,
   "metadata": {},
   "outputs": [],
   "source": [
    "MAX_EPOCHS = 20\n",
    "\n",
    "\n",
    "def compile_and_fit(model, window, patience=2):\n",
    "    early_stopping = tf.keras.callbacks.EarlyStopping(\n",
    "        monitor=\"val_loss\", patience=patience, mode=\"min\"\n",
    "    )\n",
    "\n",
    "    model.compile(\n",
    "        loss=tf.keras.losses.MeanSquaredError(),\n",
    "        optimizer=tf.keras.optimizers.Adam(),\n",
    "        metrics=[tf.keras.metrics.MeanAbsoluteError()],\n",
    "    )\n",
    "\n",
    "    history = model.fit(\n",
    "        window.train,\n",
    "        epochs=MAX_EPOCHS,\n",
    "        validation_data=window.val,\n",
    "        callbacks=[early_stopping],\n",
    "    )\n",
    "    return history"
   ]
  },
  {
   "cell_type": "code",
   "execution_count": null,
   "metadata": {},
   "outputs": [],
   "source": [
    "history = compile_and_fit(linear, single_step_window)\n",
    "\n",
    "val_performance[\"Linear\"] = linear.evaluate(single_step_window.val, return_dict=True)\n",
    "performance[\"Linear\"] = linear.evaluate(\n",
    "    single_step_window.test, verbose=0, return_dict=True\n",
    ")"
   ]
  },
  {
   "cell_type": "code",
   "execution_count": null,
   "metadata": {},
   "outputs": [],
   "source": [
    "print(\"Input shape:\", wide_window.example[0].shape)\n",
    "print(\"Output shape:\", wide_window.example[0].shape)"
   ]
  },
  {
   "cell_type": "code",
   "execution_count": null,
   "metadata": {},
   "outputs": [],
   "source": [
    "wide_window.plot(linear)"
   ]
  },
  {
   "cell_type": "code",
   "execution_count": null,
   "metadata": {},
   "outputs": [],
   "source": [
    "linear.layers[0].kernel[:, 0].numpy()"
   ]
  },
  {
   "cell_type": "code",
   "execution_count": null,
   "metadata": {},
   "outputs": [],
   "source": [
    "# Visualizing the model's weights assigned to each input\n",
    "\n",
    "plt.bar(x=range(len(train_df.columns)), height=linear.layers[0].kernel[:, 0].numpy())\n",
    "axis = plt.gca()\n",
    "axis.set_xticks(range(len(train_df.columns)))\n",
    "_ = axis.set_xticklabels(train_df.columns, rotation=90)"
   ]
  },
  {
   "cell_type": "markdown",
   "metadata": {},
   "source": [
    "### Dense\n"
   ]
  },
  {
   "cell_type": "code",
   "execution_count": null,
   "metadata": {},
   "outputs": [],
   "source": [
    "dense = tf.keras.Sequential(\n",
    "    [\n",
    "        tf.keras.layers.Dense(units=64, activation=\"relu\"),\n",
    "        tf.keras.layers.Dense(units=64, activation=\"relu\"),\n",
    "        tf.keras.layers.Dense(units=1),\n",
    "    ]\n",
    ")\n",
    "\n",
    "history = compile_and_fit(dense, single_step_window)\n",
    "\n",
    "val_performance[\"Dense\"] = dense.evaluate(single_step_window.val, return_dict=True)\n",
    "performance[\"Dense\"] = dense.evaluate(\n",
    "    single_step_window.test, verbose=0, return_dict=True\n",
    ")"
   ]
  },
  {
   "cell_type": "code",
   "execution_count": null,
   "metadata": {},
   "outputs": [],
   "source": [
    "wide_window.plot(dense)"
   ]
  },
  {
   "cell_type": "code",
   "execution_count": null,
   "metadata": {},
   "outputs": [],
   "source": [
    "wide_window.plot(linear)"
   ]
  },
  {
   "cell_type": "markdown",
   "metadata": {},
   "source": [
    "### Multi-step dense\n"
   ]
  },
  {
   "cell_type": "code",
   "execution_count": null,
   "metadata": {},
   "outputs": [],
   "source": [
    "CONV_WIDTH = 3\n",
    "conv_window = WindowGenerator(\n",
    "    input_width=CONV_WIDTH, label_width=1, shift=1, label_columns=[\"Amplitude\"]\n",
    ")\n",
    "conv_window"
   ]
  },
  {
   "cell_type": "code",
   "execution_count": null,
   "metadata": {},
   "outputs": [],
   "source": [
    "conv_window.plot()\n",
    "plt.suptitle(\"Given 3 hours of inputs, predict 1 hour into the future.\")"
   ]
  },
  {
   "cell_type": "code",
   "execution_count": null,
   "metadata": {},
   "outputs": [],
   "source": [
    "multi_step_dense = tf.keras.Sequential(\n",
    "    [\n",
    "        # Shape: (time, features) => (time*features)\n",
    "        tf.keras.layers.Flatten(),\n",
    "        tf.keras.layers.Dense(units=32, activation=\"relu\"),\n",
    "        tf.keras.layers.Dense(units=32, activation=\"relu\"),\n",
    "        tf.keras.layers.Dense(units=1),\n",
    "        # Add back the time dimension.\n",
    "        # Shape: (outputs) => (1, outputs)\n",
    "        tf.keras.layers.Reshape([1, -1]),\n",
    "    ]\n",
    ")"
   ]
  },
  {
   "cell_type": "code",
   "execution_count": null,
   "metadata": {},
   "outputs": [],
   "source": [
    "print(\"Input shape:\", conv_window.example[0].shape)\n",
    "print(\"Output shape:\", multi_step_dense(conv_window.example[0]).shape)"
   ]
  },
  {
   "cell_type": "code",
   "execution_count": 134,
   "metadata": {},
   "outputs": [
    {
     "name": "stdout",
     "output_type": "stream",
     "text": [
      "\u001b[1m1847/2159\u001b[0m \u001b[32m━━━━━━━━━━━━━━━━━\u001b[0m\u001b[37m━━━\u001b[0m \u001b[1m2s\u001b[0m 7ms/step - loss: 0.0854 - mean_absolute_error: 0.2322"
     ]
    }
   ],
   "source": [
    "history = compile_and_fit(multi_step_dense, conv_window)\n",
    "\n",
    "IPython.display.clear_output()\n",
    "val_performance[\"Multi step dense\"] = multi_step_dense.evaluate(\n",
    "    conv_window.val, return_dict=True\n",
    ")\n",
    "performance[\"Multi step dense\"] = multi_step_dense.evaluate(\n",
    "    conv_window.test, verbose=0, return_dict=True\n",
    ")"
   ]
  },
  {
   "cell_type": "code",
   "execution_count": null,
   "metadata": {},
   "outputs": [],
   "source": [
    "conv_window.plot(multi_step_dense)"
   ]
  },
  {
   "cell_type": "code",
   "execution_count": null,
   "metadata": {},
   "outputs": [],
   "source": [
    "# This method is only compatible with inputs of a specific shape.\n",
    "\n",
    "print(\"Input shape:\", wide_window.example[0].shape)\n",
    "try:\n",
    "    print(\"Output shape:\", multi_step_dense(wide_window.example[0]).shape)\n",
    "except Exception as e:\n",
    "    print(f\"\\n{type(e).__name__}:{e}\")"
   ]
  },
  {
   "cell_type": "markdown",
   "metadata": {},
   "source": [
    "### Convolutional Neural Network\n"
   ]
  },
  {
   "cell_type": "code",
   "execution_count": null,
   "metadata": {},
   "outputs": [],
   "source": [
    "conv_model = tf.keras.Sequential(\n",
    "    [\n",
    "        tf.keras.layers.Conv1D(\n",
    "            filters=32, kernel_size=(CONV_WIDTH,), activation=\"relu\"\n",
    "        ),\n",
    "        tf.keras.layers.Dense(units=32, activation=\"relu\"),\n",
    "        tf.keras.layers.Dense(units=1),\n",
    "    ]\n",
    ")"
   ]
  },
  {
   "cell_type": "code",
   "execution_count": null,
   "metadata": {},
   "outputs": [],
   "source": [
    "print(\"Conv model on `conv_window`\")\n",
    "print(\"Input shape:\", conv_window.example[0].shape)\n",
    "print(\"Output shape:\", conv_model(conv_window.example[0]).shape)"
   ]
  },
  {
   "cell_type": "code",
   "execution_count": null,
   "metadata": {},
   "outputs": [],
   "source": [
    "history = compile_and_fit(conv_model, conv_window)\n",
    "\n",
    "IPython.display.clear_output()\n",
    "val_performance[\"Conv\"] = conv_model.evaluate(conv_window.val, return_dict=True)\n",
    "performance[\"Conv\"] = conv_model.evaluate(conv_window.test, verbose=0, return_dict=True)"
   ]
  },
  {
   "cell_type": "code",
   "execution_count": null,
   "metadata": {},
   "outputs": [],
   "source": [
    "print(\"Wide window\")\n",
    "print(\"Input shape:\", wide_window.example[0].shape)\n",
    "print(\"Labels shape:\", wide_window.example[1].shape)\n",
    "print(\"Output shape:\", conv_model(wide_window.example[0]).shape)"
   ]
  },
  {
   "cell_type": "code",
   "execution_count": null,
   "metadata": {},
   "outputs": [],
   "source": [
    "LABEL_WIDTH = 24\n",
    "INPUT_WIDTH = LABEL_WIDTH + (CONV_WIDTH - 1)\n",
    "wide_conv_window = WindowGenerator(\n",
    "    input_width=INPUT_WIDTH,\n",
    "    label_width=LABEL_WIDTH,\n",
    "    shift=1,\n",
    "    label_columns=[\"Amplitude\"],\n",
    ")\n",
    "\n",
    "wide_conv_window"
   ]
  },
  {
   "cell_type": "code",
   "execution_count": null,
   "metadata": {},
   "outputs": [],
   "source": [
    "print(\"Wide conv window\")\n",
    "print(\"Input shape:\", wide_conv_window.example[0].shape)\n",
    "print(\"Labels shape:\", wide_conv_window.example[1].shape)\n",
    "print(\"Output shape:\", conv_model(wide_conv_window.example[0]).shape)"
   ]
  },
  {
   "cell_type": "code",
   "execution_count": null,
   "metadata": {},
   "outputs": [],
   "source": [
    "wide_conv_window.plot(conv_model)"
   ]
  },
  {
   "cell_type": "markdown",
   "metadata": {},
   "source": [
    "### Recurrent Neural Network\n"
   ]
  },
  {
   "cell_type": "code",
   "execution_count": null,
   "metadata": {},
   "outputs": [],
   "source": [
    "lstm_model = tf.keras.models.Sequential(\n",
    "    [\n",
    "        # Shape [batch, time, features] => [batch, time, lstm_units]\n",
    "        tf.keras.layers.LSTM(32, return_sequences=True),\n",
    "        # Shape => [batch, time, features]\n",
    "        tf.keras.layers.Dense(units=1),\n",
    "    ]\n",
    ")"
   ]
  },
  {
   "cell_type": "code",
   "execution_count": null,
   "metadata": {},
   "outputs": [],
   "source": [
    "print(\"Input shape:\", wide_window.example[0].shape)\n",
    "print(\"Output shape:\", lstm_model(wide_window.example[0]).shape)"
   ]
  },
  {
   "cell_type": "code",
   "execution_count": null,
   "metadata": {},
   "outputs": [],
   "source": [
    "history = compile_and_fit(lstm_model, wide_window)\n",
    "\n",
    "IPython.display.clear_output()\n",
    "val_performance[\"LSTM\"] = lstm_model.evaluate(wide_window.val, return_dict=True)\n",
    "performance[\"LSTM\"] = lstm_model.evaluate(wide_window.test, verbose=0, return_dict=True)"
   ]
  },
  {
   "cell_type": "code",
   "execution_count": null,
   "metadata": {},
   "outputs": [],
   "source": [
    "wide_window.plot(lstm_model)"
   ]
  },
  {
   "cell_type": "markdown",
   "metadata": {},
   "source": [
    "### Performance\n"
   ]
  },
  {
   "cell_type": "code",
   "execution_count": null,
   "metadata": {},
   "outputs": [],
   "source": [
    "cm = lstm_model.metrics[1]\n",
    "cm.metrics"
   ]
  },
  {
   "cell_type": "code",
   "execution_count": null,
   "metadata": {},
   "outputs": [],
   "source": [
    "val_performance"
   ]
  },
  {
   "cell_type": "code",
   "execution_count": null,
   "metadata": {},
   "outputs": [],
   "source": [
    "x = np.arange(len(performance))\n",
    "width = 0.3\n",
    "metric_name = \"mean_absolute_error\"\n",
    "val_mae = [v[metric_name] for v in val_performance.values()]\n",
    "test_mae = [v[metric_name] for v in performance.values()]\n",
    "\n",
    "plt.ylabel(\"mean_absolute_error [Amplitude, normalized]\")\n",
    "plt.bar(x - 0.17, val_mae, width, label=\"Validation\")\n",
    "plt.bar(x + 0.17, test_mae, width, label=\"Test\")\n",
    "plt.xticks(ticks=x, labels=performance.keys(), rotation=45)\n",
    "_ = plt.legend()"
   ]
  },
  {
   "cell_type": "code",
   "execution_count": null,
   "metadata": {},
   "outputs": [],
   "source": [
    "for name, value in performance.items():\n",
    "    print(f\"{name:12s}: {value[metric_name]:0.4f}\")"
   ]
  },
  {
   "cell_type": "markdown",
   "metadata": {},
   "source": [
    "### Multi-output models\n"
   ]
  },
  {
   "cell_type": "code",
   "execution_count": null,
   "metadata": {},
   "outputs": [],
   "source": [
    "single_step_window = WindowGenerator(\n",
    "    # `WindowGenerator` returns all features as labels if you\n",
    "    # don't set the `label_columns` argument.\n",
    "    input_width=1,\n",
    "    label_width=1,\n",
    "    shift=1,\n",
    ")\n",
    "\n",
    "wide_window = WindowGenerator(input_width=24, label_width=24, shift=1)\n",
    "\n",
    "for example_inputs, example_labels in wide_window.train.take(1):\n",
    "    print(f\"Inputs shape (batch, time, features): {example_inputs.shape}\")\n",
    "    print(f\"Labels shape (batch, time, features): {example_labels.shape}\")"
   ]
  },
  {
   "cell_type": "markdown",
   "metadata": {},
   "source": [
    "#### Baseline\n"
   ]
  },
  {
   "cell_type": "code",
   "execution_count": null,
   "metadata": {},
   "outputs": [],
   "source": [
    "baseline = Baseline()\n",
    "baseline.compile(\n",
    "    loss=tf.keras.losses.MeanSquaredError(),\n",
    "    metrics=[tf.keras.metrics.MeanAbsoluteError()],\n",
    ")"
   ]
  },
  {
   "cell_type": "code",
   "execution_count": null,
   "metadata": {},
   "outputs": [],
   "source": [
    "val_performance = {}\n",
    "performance = {}\n",
    "val_performance[\"Baseline\"] = baseline.evaluate(wide_window.val, return_dict=True)\n",
    "performance[\"Baseline\"] = baseline.evaluate(\n",
    "    wide_window.test, verbose=0, return_dict=True\n",
    ")"
   ]
  },
  {
   "cell_type": "markdown",
   "metadata": {},
   "source": [
    "#### Dense\n"
   ]
  },
  {
   "cell_type": "code",
   "execution_count": null,
   "metadata": {},
   "outputs": [],
   "source": [
    "dense = tf.keras.Sequential(\n",
    "    [\n",
    "        tf.keras.layers.Dense(units=64, activation=\"relu\"),\n",
    "        tf.keras.layers.Dense(units=64, activation=\"relu\"),\n",
    "        tf.keras.layers.Dense(units=num_features),\n",
    "    ]\n",
    ")"
   ]
  },
  {
   "cell_type": "markdown",
   "metadata": {},
   "source": [
    "#### RNN\n"
   ]
  },
  {
   "cell_type": "code",
   "execution_count": null,
   "metadata": {},
   "outputs": [],
   "source": [
    "%%time\n",
    "wide_window = WindowGenerator(\n",
    "    input_width=24, label_width=24, shift=1\n",
    ")\n",
    "\n",
    "lstm_model = tf.keras.models.Sequential([\n",
    "    # Shape [batch, time, features] => [batch, time, lstm_units]\n",
    "    tf.keras.layers.Dense(units=num_features)\n",
    "])\n",
    "\n",
    "history = compile_and_fit(lstm_model, wide_window)\n",
    "\n",
    "IPython.display.clear_output()\n",
    "val_performance['LSTM'] = lstm_model.evaluate(wide_window.val, return_dict=True)\n",
    "performance['LSTM'] = lstm_model.evaluate(wide_window.test, verbose=0, return_dict=True)\n",
    "\n",
    "print()"
   ]
  },
  {
   "cell_type": "markdown",
   "metadata": {},
   "source": [
    "#### Advanced Residual Connections\n"
   ]
  },
  {
   "cell_type": "code",
   "execution_count": null,
   "metadata": {},
   "outputs": [],
   "source": [
    "class ResidualWrapper(tf.keras.Model):\n",
    "    def __init__(self, model):\n",
    "        super().__init__()\n",
    "        self.model = model\n",
    "\n",
    "    def call(self, inputs, *args, **kwargs):\n",
    "        delta = self.model(inputs, *args, **kwargs)\n",
    "\n",
    "        # The prediction for each time step is the input\n",
    "        # from the previous time step plut the delta\n",
    "        # calculated by the model.\n",
    "        return inputs + delta"
   ]
  },
  {
   "cell_type": "code",
   "execution_count": null,
   "metadata": {},
   "outputs": [],
   "source": [
    "%%time\n",
    "residual_lstm = ResidualWrapper(\n",
    "    tf.keras.Sequential([\n",
    "        tf.keras.layers.LSTM(32, return_sequences=True),\n",
    "        tf.keras.layers.Dense(\n",
    "            num_features, \n",
    "            # The predicted deltas should start small.\n",
    "            # Therefore, initialize the output layer with zeros.\n",
    "            kernel_initializer=tf.initializers.zeros()\n",
    "        )\n",
    "    ]\n",
    "    )\n",
    ")\n",
    "\n",
    "history = compile_and_fit(residual_lstm, wide_window)\n",
    "\n",
    "IPython.display.clear_output()\n",
    "val_performance['Residual LSTM'] = residual_lstm.evaluate(wide_window.val, return_dict=True)\n",
    "performance['Residual LSTM'] = residual_lstm.evaluate(wide_window.test, verbose=0, return_dict=True)\n",
    "print()"
   ]
  },
  {
   "cell_type": "markdown",
   "metadata": {},
   "source": [
    "#### Performance\n"
   ]
  },
  {
   "cell_type": "code",
   "execution_count": null,
   "metadata": {},
   "outputs": [],
   "source": [
    "x = np.arange(len(performance))\n",
    "width = 0.3\n",
    "\n",
    "metric_name = \"mean_absolute_error\"\n",
    "val_mae = [v[metric_name] for v in val_performance.values()]\n",
    "test_mae = [v[metric_name] for v in performance.values()]\n",
    "\n",
    "plt.bar(x - 0.17, val_mae, width, label=\"Validation\")\n",
    "plt.bar(x + 0.17, test_mae, width, label=\"Test\")\n",
    "plt.xticks(ticks=x, labels=performance.keys(), rotation=45)\n",
    "plt.ylabel(\"MAE (average over all outputs)\")\n",
    "_ = plt.legend()"
   ]
  },
  {
   "cell_type": "code",
   "execution_count": null,
   "metadata": {},
   "outputs": [],
   "source": [
    "for name, value in performance.items():\n",
    "    print(f\"{name:15s}: {value[metric_name]:0.4f}\")"
   ]
  },
  {
   "cell_type": "markdown",
   "metadata": {},
   "source": [
    "### Multi-step models\n"
   ]
  },
  {
   "cell_type": "code",
   "execution_count": null,
   "metadata": {},
   "outputs": [],
   "source": [
    "OUT_STEPS = 24\n",
    "multi_window = WindowGenerator(input_width=24, label_width=OUT_STEPS, shift=OUT_STEPS)\n",
    "\n",
    "multi_window.plot()\n",
    "multi_window"
   ]
  },
  {
   "cell_type": "code",
   "execution_count": null,
   "metadata": {},
   "outputs": [],
   "source": [
    "class MultiStepLastBaseline(tf.keras.Model):\n",
    "    def call(self, inputs):\n",
    "        tile = tf.tile(inputs[:, -1, :], [1, OUT_STEPS, 1])\n",
    "        return tile"
   ]
  },
  {
   "cell_type": "code",
   "execution_count": null,
   "metadata": {},
   "outputs": [],
   "source": [
    "last_baseline = MultiStepLastBaseline()\n",
    "last_baseline.compile(\n",
    "    loss=tf.keras.losses.MeanSquaredError(),\n",
    "    metrics=[tf.keras.metrics.MeanAbsoluteError()],\n",
    ")"
   ]
  },
  {
   "cell_type": "code",
   "execution_count": null,
   "metadata": {},
   "outputs": [],
   "source": [
    "multi_val_performance = {}\n",
    "multi_performance = {}"
   ]
  },
  {
   "cell_type": "code",
   "execution_count": null,
   "metadata": {},
   "outputs": [],
   "source": [
    "multi_window.val"
   ]
  },
  {
   "cell_type": "code",
   "execution_count": null,
   "metadata": {},
   "outputs": [],
   "source": [
    "# multi_val_performance[\"Last\"] = last_baseline.evaluate(\n",
    "#     multi_window.val, return_dict=True\n",
    "# )\n",
    "# multi_performance[\"Last\"] = last_baseline.evaluate(\n",
    "#     multi_window.test, verbose=0, return_dict=True\n",
    "# )"
   ]
  },
  {
   "cell_type": "markdown",
   "metadata": {},
   "source": [
    "### Repeat Baseline\n"
   ]
  },
  {
   "cell_type": "code",
   "execution_count": null,
   "metadata": {},
   "outputs": [],
   "source": [
    "class RepeatBaseline(tf.keras.Model):\n",
    "    def call(self, inputs):\n",
    "        return inputs\n",
    "\n",
    "\n",
    "repeat_baseline = RepeatBaseline()\n",
    "repeat_baseline.compile(\n",
    "    loss=tf.keras.losses.MeanSquaredError(),\n",
    "    metrics=[tf.keras.metrics.MeanAbsoluteError()],\n",
    ")"
   ]
  },
  {
   "cell_type": "code",
   "execution_count": null,
   "metadata": {},
   "outputs": [],
   "source": [
    "multi_val_performance[\"Repeat\"] = repeat_baseline.evaluate(\n",
    "    multi_window.val, return_dict=True\n",
    ")\n",
    "multi_performance[\"Repeat\"] = repeat_baseline.evaluate(\n",
    "    multi_window.test, verbose=0, return_dict=True\n",
    ")\n",
    "multi_window.plot(repeat_baseline)"
   ]
  },
  {
   "cell_type": "markdown",
   "metadata": {},
   "source": [
    "### Single-shot models\n"
   ]
  },
  {
   "cell_type": "code",
   "execution_count": null,
   "metadata": {},
   "outputs": [],
   "source": [
    "multi_linear_model = tf.keras.Sequential(\n",
    "    [\n",
    "        # Take the last time-step.\n",
    "        # Shape [batch, time, features] => [batch, 1, features]\n",
    "        tf.keras.layers.Lambda(lambda x: x[:, -1:, :]),\n",
    "        # Shape => [batch, 1, out_steps*features]\n",
    "        tf.keras.layers.Dense(\n",
    "            OUT_STEPS * num_features, kernel_initializer=tf.initializers.zeros()\n",
    "        ),\n",
    "        # Shape => [batch, out_steps, features]\n",
    "        tf.keras.layers.Reshape([OUT_STEPS, num_features]),\n",
    "    ]\n",
    ")\n",
    "\n",
    "history = compile_and_fit(multi_linear_model, multi_window)\n",
    "\n",
    "IPython.display.clear_output()\n",
    "multi_val_performance[\"Linear\"] = multi_linear_model.evaluate(\n",
    "    multi_window.val, return_dict=True\n",
    ")\n",
    "multi_performance[\"Linear\"] = multi_linear_model.evaluate(\n",
    "    multi_window.test, verbose=0, return_dict=True\n",
    ")\n",
    "multi_window.plot(multi_linear_model)"
   ]
  },
  {
   "cell_type": "markdown",
   "metadata": {},
   "source": [
    "### Dense Multi-Output Model\n"
   ]
  },
  {
   "cell_type": "code",
   "execution_count": null,
   "metadata": {},
   "outputs": [],
   "source": [
    "multi_dense_model = tf.keras.Sequential(\n",
    "    [\n",
    "        # Take the last time step.\n",
    "        # Shape [batch, time, features] => [batch, 1, features]\n",
    "        tf.keras.layers.Lambda(lambda x: x[:, -1:, :]),\n",
    "        # Shape => [batch, 1, dense_units]\n",
    "        tf.keras.layers.Dense(512, activation=\"relu\"),\n",
    "        # Shape => [batch, out_steps*features]\n",
    "        tf.keras.layers.Dense(\n",
    "            OUT_STEPS * num_features, kernel_initializer=tf.initializers.zeros()\n",
    "        ),\n",
    "        # Shape => [batch, out_steps, features]\n",
    "        tf.keras.layers.Reshape([OUT_STEPS, num_features]),\n",
    "    ]\n",
    ")\n",
    "\n",
    "history = compile_and_fit(multi_dense_model, multi_window)"
   ]
  },
  {
   "cell_type": "code",
   "execution_count": null,
   "metadata": {},
   "outputs": [],
   "source": [
    "IPython.display.clear_output()\n",
    "multi_val_performance[\"Dense\"] = multi_dense_model.evaluate(\n",
    "    multi_window.val, return_dict=True\n",
    ")\n",
    "multi_performance[\"Dense\"] = multi_dense_model.evaluate(\n",
    "    multi_window.test, verbose=0, return_dict=True\n",
    ")\n",
    "multi_window.plot(multi_dense_model)"
   ]
  },
  {
   "cell_type": "markdown",
   "metadata": {},
   "source": [
    "#### CNN\n"
   ]
  },
  {
   "cell_type": "code",
   "execution_count": null,
   "metadata": {},
   "outputs": [],
   "source": [
    "import IPython.display\n",
    "\n",
    "\n",
    "CONV_WIDTH = 3\n",
    "multi_conv_model = tf.keras.Sequential(\n",
    "    [\n",
    "        # Shape [batch, time, features] => [batch, CONV_WIDTH, features]\n",
    "        tf.keras.layers.Lambda(lambda x: x[:, -CONV_WIDTH:, :]),\n",
    "        # Shape => [batch, 1, conv_units]\n",
    "        tf.keras.layers.Conv1D(256, activation=\"relu\", kernel_size=(CONV_WIDTH)),\n",
    "        # Shape => [batch, 1, out_steps*features]\n",
    "        tf.keras.layers.Dense(\n",
    "            OUT_STEPS * num_features, kernel_initializer=tf.initializers.zeros()\n",
    "        ),\n",
    "        # Shape => [batch, out_steps, features]\n",
    "        tf.keras.layers.Reshape([OUT_STEPS, num_features]),\n",
    "    ]\n",
    ")\n",
    "\n",
    "history = compile_and_fit(multi_conv_model, multi_window)\n",
    "\n",
    "IPython.display.clear_output()\n",
    "\n",
    "multi_val_performance[\"Conv\"] = multi_conv_model.evaluate(\n",
    "    multi_window.val, return_dict=True\n",
    ")\n",
    "multi_performance[\"Conv\"] = multi_conv_model.evaluate(\n",
    "    multi_window.test, verbose=0, return_dict=True\n",
    ")\n",
    "multi_window.plot(multi_conv_model)"
   ]
  },
  {
   "cell_type": "code",
   "execution_count": null,
   "metadata": {},
   "outputs": [],
   "source": [
    "multi_lstm_model = tf.keras.Sequential(\n",
    "    [\n",
    "        # Shape [batch, time, features] => [batch, lstm_units].\n",
    "        # Adding more`lstm_units` just overfits more quickly.\n",
    "        tf.keras.layers.LSTM(32, return_sequences=False),\n",
    "        # Shape => [batch, out_steps*features].\n",
    "        tf.keras.layers.Dense(\n",
    "            OUT_STEPS * num_features, kernel_initializer=tf.initializers.zeros()\n",
    "        ),\n",
    "        # Shape => [batch, out_steps, features].\n",
    "        tf.keras.layers.Reshape([OUT_STEPS, num_features]),\n",
    "    ]\n",
    ")\n",
    "\n",
    "history = compile_and_fit(multi_lstm_model, multi_window)\n",
    "\n",
    "IPython.display.clear_output()\n",
    "\n",
    "multi_val_performance[\"LSTM\"] = multi_lstm_model.evaluate(\n",
    "    multi_window.val, return_dict=True\n",
    ")\n",
    "multi_performance[\"LSTM\"] = multi_lstm_model.evaluate(\n",
    "    multi_window.test, verbose=0, return_dict=True\n",
    ")\n",
    "multi_window.plot(multi_lstm_model)"
   ]
  },
  {
   "cell_type": "markdown",
   "metadata": {},
   "source": [
    "### Autoregressive model\n"
   ]
  },
  {
   "cell_type": "markdown",
   "metadata": {},
   "source": [
    "#### RNN\n"
   ]
  },
  {
   "cell_type": "code",
   "execution_count": null,
   "metadata": {},
   "outputs": [],
   "source": [
    "class FeedBack(tf.keras.Model):\n",
    "    def __init__(self, units, out_steps):\n",
    "        super().__init__()\n",
    "        self.out_steps = out_steps\n",
    "        self.units = units\n",
    "        self.lstm_cell = tf.keras.layers.LSTMCell(units)\n",
    "        # Also wrap the LSTMCell in a RNN to simplify the `warmup` method.\n",
    "        self.lstm_rnn = tf.keras.layers.RNN(self.lstm_cell, return_state=True)\n",
    "        self.dense = tf.keras.layers.Dense(num_features)"
   ]
  },
  {
   "cell_type": "code",
   "execution_count": null,
   "metadata": {},
   "outputs": [],
   "source": [
    "feedback_model = FeedBack(units=32, out_steps=OUT_STEPS)"
   ]
  },
  {
   "cell_type": "code",
   "execution_count": null,
   "metadata": {},
   "outputs": [],
   "source": [
    "def warmup(self, inputs):\n",
    "    # inputs.shape => (batch, time, features)\n",
    "    # x.shape => (batch, lstm_units)\n",
    "    x, *state = self.lstm_rnn(inputs)\n",
    "\n",
    "    # predictions.shape => (batch, features)\n",
    "    prediction = self.dense(x)\n",
    "    return prediction, state\n",
    "\n",
    "\n",
    "FeedBack.warmup = warmup"
   ]
  },
  {
   "cell_type": "code",
   "execution_count": null,
   "metadata": {},
   "outputs": [],
   "source": [
    "prediction, state = feedback_model.warmup(multi_window.example[0])\n",
    "prediction.shape"
   ]
  },
  {
   "cell_type": "code",
   "execution_count": null,
   "metadata": {},
   "outputs": [],
   "source": [
    "def call(self, inputs, training=None):\n",
    "    # Use a TensorArray to capture dynamically unrolled outputs.\n",
    "    predictions = []\n",
    "    # Initialize the LSTM state.\n",
    "    prediction, state = self.warmup(inputs)\n",
    "\n",
    "    # Insert the first prediction\n",
    "    predictions.append(prediction)\n",
    "\n",
    "    # Run the rest of the prediction steps.\n",
    "    for n in range(1, self.out_steps):\n",
    "        # Use the last prediction as input.\n",
    "        x = prediction\n",
    "        # Execute one lstm step.\n",
    "        x, state = self.lstm_cell(x, states=state, training=training)\n",
    "        # Convert the lstm output to a prediction.\n",
    "        prediction = self.dense(x)\n",
    "        # add the prediction to the output.\n",
    "        predictions.append(prediction)\n",
    "\n",
    "    # predictions.shape => (time, batch, features)\n",
    "    predictions = tf.stack(predictions)\n",
    "    # predictions.shape => (batch, time, features)\n",
    "    predictions = tf.transpose(predictions, [1, 0, 2])\n",
    "    return predictions\n",
    "\n",
    "\n",
    "FeedBack.call = call"
   ]
  },
  {
   "cell_type": "code",
   "execution_count": null,
   "metadata": {},
   "outputs": [],
   "source": [
    "print(\n",
    "    \"Output shape (batch, time, features): \",\n",
    "    feedback_model(multi_window.example[0]).shape,\n",
    ")"
   ]
  },
  {
   "cell_type": "code",
   "execution_count": null,
   "metadata": {},
   "outputs": [],
   "source": [
    "history = compile_and_fit(feedback_model, multi_window)"
   ]
  },
  {
   "cell_type": "code",
   "execution_count": null,
   "metadata": {},
   "outputs": [],
   "source": [
    "IPython.display.clear_output()\n",
    "\n",
    "multi_val_performance[\"AR LSTM\"] = feedback_model.evaluate(\n",
    "    multi_window.val, return_dict=True\n",
    ")"
   ]
  },
  {
   "cell_type": "code",
   "execution_count": null,
   "metadata": {},
   "outputs": [],
   "source": [
    "multi_performance[\"AR LSTM\"] = feedback_model.evaluate(\n",
    "    multi_window.test, verbose=0, return_dict=True\n",
    ")\n",
    "multi_window.plot(feedback_model)"
   ]
  },
  {
   "cell_type": "markdown",
   "metadata": {},
   "source": [
    "#### Performance of the AutoRegressive Model\n"
   ]
  },
  {
   "cell_type": "code",
   "execution_count": null,
   "metadata": {},
   "outputs": [],
   "source": [
    "x = np.arange(len(multi_performance))\n",
    "width = 0.3\n",
    "\n",
    "metric_name = \"mean_absolute_error\"\n",
    "val_mae = [v[metric_name] for v in multi_val_performance.values()]\n",
    "test_mae = [v[metric_name] for v in multi_performance.values()]\n",
    "\n",
    "plt.bar(x - 0.17, val_mae, width, label=\"Validation\")\n",
    "plt.bar(x + 0.17, test_mae, width, label=\"Test\")\n",
    "plt.xticks(ticks=x, labels=multi_performance.keys(), rotation=45)\n",
    "plt.ylabel(f\"MAE (average over all times and outputs)\")\n",
    "_ = plt.legend()"
   ]
  },
  {
   "cell_type": "code",
   "execution_count": null,
   "metadata": {},
   "outputs": [],
   "source": [
    "for name, value in multi_performance.items():\n",
    "    print(f\"{name:8s}: {value[metric_name]:0.4f}\")"
   ]
  },
  {
   "cell_type": "markdown",
   "metadata": {},
   "source": [
    "## GRU\n"
   ]
  },
  {
   "cell_type": "markdown",
   "metadata": {},
   "source": [
    "### Example GRU\n"
   ]
  },
  {
   "cell_type": "code",
   "execution_count": 2,
   "metadata": {},
   "outputs": [],
   "source": [
    "datapath = os.getcwd() + \"/data/AMZN_2006-01-01_to_2018-01-01.csv\""
   ]
  },
  {
   "cell_type": "code",
   "execution_count": 3,
   "metadata": {},
   "outputs": [
    {
     "data": {
      "text/plain": [
       "'/Volumes/T7/Github/Neuralink-Compression-Challenge/analysis/tutorials/data/AMZN_2006-01-01_to_2018-01-01.csv'"
      ]
     },
     "execution_count": 3,
     "metadata": {},
     "output_type": "execute_result"
    }
   ],
   "source": [
    "datapath"
   ]
  },
  {
   "cell_type": "code",
   "execution_count": 4,
   "metadata": {},
   "outputs": [
    {
     "data": {
      "text/html": [
       "<div>\n",
       "<style scoped>\n",
       "    .dataframe tbody tr th:only-of-type {\n",
       "        vertical-align: middle;\n",
       "    }\n",
       "\n",
       "    .dataframe tbody tr th {\n",
       "        vertical-align: top;\n",
       "    }\n",
       "\n",
       "    .dataframe thead th {\n",
       "        text-align: right;\n",
       "    }\n",
       "</style>\n",
       "<table border=\"1\" class=\"dataframe\">\n",
       "  <thead>\n",
       "    <tr style=\"text-align: right;\">\n",
       "      <th></th>\n",
       "      <th>Date</th>\n",
       "      <th>Open</th>\n",
       "      <th>High</th>\n",
       "      <th>Low</th>\n",
       "      <th>Close</th>\n",
       "      <th>Volume</th>\n",
       "      <th>Name</th>\n",
       "    </tr>\n",
       "  </thead>\n",
       "  <tbody>\n",
       "    <tr>\n",
       "      <th>0</th>\n",
       "      <td>2006-01-03</td>\n",
       "      <td>47.47</td>\n",
       "      <td>47.85</td>\n",
       "      <td>46.25</td>\n",
       "      <td>47.58</td>\n",
       "      <td>7582127</td>\n",
       "      <td>AMZN</td>\n",
       "    </tr>\n",
       "    <tr>\n",
       "      <th>1</th>\n",
       "      <td>2006-01-04</td>\n",
       "      <td>47.48</td>\n",
       "      <td>47.73</td>\n",
       "      <td>46.69</td>\n",
       "      <td>47.25</td>\n",
       "      <td>7440914</td>\n",
       "      <td>AMZN</td>\n",
       "    </tr>\n",
       "    <tr>\n",
       "      <th>2</th>\n",
       "      <td>2006-01-05</td>\n",
       "      <td>47.16</td>\n",
       "      <td>48.20</td>\n",
       "      <td>47.11</td>\n",
       "      <td>47.65</td>\n",
       "      <td>5417258</td>\n",
       "      <td>AMZN</td>\n",
       "    </tr>\n",
       "    <tr>\n",
       "      <th>3</th>\n",
       "      <td>2006-01-06</td>\n",
       "      <td>47.97</td>\n",
       "      <td>48.58</td>\n",
       "      <td>47.32</td>\n",
       "      <td>47.87</td>\n",
       "      <td>6154285</td>\n",
       "      <td>AMZN</td>\n",
       "    </tr>\n",
       "    <tr>\n",
       "      <th>4</th>\n",
       "      <td>2006-01-09</td>\n",
       "      <td>46.55</td>\n",
       "      <td>47.10</td>\n",
       "      <td>46.40</td>\n",
       "      <td>47.08</td>\n",
       "      <td>8945056</td>\n",
       "      <td>AMZN</td>\n",
       "    </tr>\n",
       "  </tbody>\n",
       "</table>\n",
       "</div>"
      ],
      "text/plain": [
       "         Date   Open   High    Low  Close   Volume  Name\n",
       "0  2006-01-03  47.47  47.85  46.25  47.58  7582127  AMZN\n",
       "1  2006-01-04  47.48  47.73  46.69  47.25  7440914  AMZN\n",
       "2  2006-01-05  47.16  48.20  47.11  47.65  5417258  AMZN\n",
       "3  2006-01-06  47.97  48.58  47.32  47.87  6154285  AMZN\n",
       "4  2006-01-09  46.55  47.10  46.40  47.08  8945056  AMZN"
      ]
     },
     "execution_count": 4,
     "metadata": {},
     "output_type": "execute_result"
    }
   ],
   "source": [
    "data = pd.read_csv(datapath)\n",
    "data = data.sort_values(\"Date\")\n",
    "data.head()"
   ]
  },
  {
   "cell_type": "code",
   "execution_count": 5,
   "metadata": {},
   "outputs": [
    {
     "data": {
      "image/png": "[encoded data removed]",
      "text/plain": [
       "<Figure size 1500x900 with 1 Axes>"
      ]
     },
     "metadata": {},
     "output_type": "display_data"
    }
   ],
   "source": [
    "import matplotlib.pyplot as plt\n",
    "import seaborn as sns\n",
    "\n",
    "sns.set_style(\"darkgrid\")\n",
    "plt.figure(figsize=(15, 9))\n",
    "plt.plot(data[[\"Close\"]])\n",
    "plt.xticks(range(0, data.shape[0], 500), data[\"Date\"].loc[::500], rotation=45)\n",
    "plt.title(\"Amazon Stock Price\", fontsize=18, fontweight=\"bold\")\n",
    "plt.xlabel(\"Date\", fontsize=18)\n",
    "plt.ylabel(\"Close Price (USD)\", fontsize=18)\n",
    "plt.show()"
   ]
  },
  {
   "cell_type": "markdown",
   "metadata": {},
   "source": [
    "##### Normalizing data\n"
   ]
  },
  {
   "cell_type": "code",
   "execution_count": 6,
   "metadata": {},
   "outputs": [
    {
     "name": "stdout",
     "output_type": "stream",
     "text": [
      "<class 'pandas.core.frame.DataFrame'>\n",
      "RangeIndex: 3019 entries, 0 to 3018\n",
      "Data columns (total 1 columns):\n",
      " #   Column  Non-Null Count  Dtype  \n",
      "---  ------  --------------  -----  \n",
      " 0   Close   3019 non-null   float64\n",
      "dtypes: float64(1)\n",
      "memory usage: 23.7 KB\n"
     ]
    }
   ],
   "source": [
    "price = data[[\"Close\"]]\n",
    "price.info()"
   ]
  },
  {
   "cell_type": "code",
   "execution_count": 7,
   "metadata": {},
   "outputs": [
    {
     "name": "stderr",
     "output_type": "stream",
     "text": [
      "/var/folders/km/lr9wgyjj0z737tmwxblc5d980000gn/T/ipykernel_17576/2806466906.py:4: SettingWithCopyWarning: \n",
      "A value is trying to be set on a copy of a slice from a DataFrame.\n",
      "Try using .loc[row_indexer,col_indexer] = value instead\n",
      "\n",
      "See the caveats in the documentation: https://pandas.pydata.org/pandas-docs/stable/user_guide/indexing.html#returning-a-view-versus-a-copy\n",
      "  price[\"Close\"] = scaler.fit_transform(price[\"Close\"].values.reshape(-1, 1))\n"
     ]
    }
   ],
   "source": [
    "from sklearn.preprocessing import MinMaxScaler\n",
    "\n",
    "scaler = MinMaxScaler(feature_range=(-1, 1))\n",
    "price[\"Close\"] = scaler.fit_transform(price[\"Close\"].values.reshape(-1, 1))"
   ]
  },
  {
   "cell_type": "code",
   "execution_count": 8,
   "metadata": {},
   "outputs": [],
   "source": [
    "def split_data(stock, lookback):\n",
    "    data_raw = stock.to_numpy()  # convert to numpy array\n",
    "    data = []\n",
    "\n",
    "    # create all possible sequences of length seq_len\n",
    "    for index in range(len(data_raw) - lookback):\n",
    "        data.append(data_raw[index : index + lookback])\n",
    "\n",
    "    data = np.array(data)\n",
    "    test_set_size = int(np.round(0.2 * data.shape[0]))\n",
    "    train_set_size = data.shape[0] - (test_set_size)\n",
    "\n",
    "    x_train = data[:train_set_size, :-1, :]\n",
    "    y_train = data[:train_set_size, -1, :]\n",
    "\n",
    "    x_test = data[train_set_size:, :-1]\n",
    "    y_test = data[train_set_size:, -1, :]\n",
    "\n",
    "    return [x_train, y_train, x_test, y_test]"
   ]
  },
  {
   "cell_type": "code",
   "execution_count": 9,
   "metadata": {},
   "outputs": [],
   "source": [
    "import torch\n",
    "import torch.nn as nn"
   ]
  },
  {
   "cell_type": "code",
   "execution_count": 10,
   "metadata": {},
   "outputs": [
    {
     "name": "stdout",
     "output_type": "stream",
     "text": [
      "x_train.shape =  (2399, 19, 1)\n",
      "y_train.shape =  (2399, 1)\n",
      "x_test.shape =  (600, 19, 1)\n",
      "y_test.shape =  (600, 1)\n"
     ]
    }
   ],
   "source": [
    "lookback = 20  # choose sequence length\n",
    "x_train, y_train, x_test, y_test = split_data(price, lookback)\n",
    "print(\"x_train.shape = \", x_train.shape)\n",
    "print(\"y_train.shape = \", y_train.shape)\n",
    "print(\"x_test.shape = \", x_test.shape)\n",
    "print(\"y_test.shape = \", y_test.shape)"
   ]
  },
  {
   "cell_type": "code",
   "execution_count": 11,
   "metadata": {},
   "outputs": [],
   "source": [
    "x_train = torch.from_numpy(x_train).type(torch.Tensor)\n",
    "x_test = torch.from_numpy(x_test).type(torch.Tensor)\n",
    "y_train = torch.from_numpy(y_train).type(torch.Tensor)\n",
    "y_test = torch.from_numpy(y_test).type(torch.Tensor)"
   ]
  },
  {
   "cell_type": "code",
   "execution_count": 12,
   "metadata": {},
   "outputs": [],
   "source": [
    "input_dim = 1\n",
    "hidden_dim = 32\n",
    "num_layers = 2\n",
    "output_dim = 1\n",
    "num_epochs = 100"
   ]
  },
  {
   "cell_type": "code",
   "execution_count": 13,
   "metadata": {},
   "outputs": [],
   "source": [
    "class GRU(nn.Module):\n",
    "    def __init__(self, input_dim, hidden_dim, num_layers, output_dim):\n",
    "        super(GRU, self).__init__()\n",
    "        self.hidden_dim = hidden_dim\n",
    "        self.num_layers = num_layers\n",
    "\n",
    "        self.gru = nn.GRU(input_dim, hidden_dim, num_layers, batch_first=True)\n",
    "        self.fc = nn.Linear(hidden_dim, output_dim)\n",
    "\n",
    "    def forward(self, x):\n",
    "        h0 = torch.zeros(self.num_layers, x.size(0), self.hidden_dim).requires_grad_()\n",
    "        out, (hn) = self.gru(x, (h0.detach()))\n",
    "        out = self.fc(out[:, -1, :])\n",
    "        return out"
   ]
  },
  {
   "cell_type": "code",
   "execution_count": 14,
   "metadata": {},
   "outputs": [],
   "source": [
    "model = GRU(\n",
    "    input_dim=input_dim,\n",
    "    hidden_dim=hidden_dim,\n",
    "    output_dim=output_dim,\n",
    "    num_layers=num_layers,\n",
    ")\n",
    "criterion = torch.nn.MSELoss(reduction=\"mean\")\n",
    "optimiser = torch.optim.Adam(model.parameters(), lr=0.01)"
   ]
  },
  {
   "cell_type": "code",
   "execution_count": 15,
   "metadata": {},
   "outputs": [
    {
     "name": "stdout",
     "output_type": "stream",
     "text": [
      "Epoch  0 MSE:  0.46257340908050537\n",
      "Epoch  1 MSE:  0.20881696045398712\n",
      "Epoch  2 MSE:  0.053116194903850555\n",
      "Epoch  3 MSE:  0.06718796491622925\n",
      "Epoch  4 MSE:  0.08377677202224731\n",
      "Epoch  5 MSE:  0.037137508392333984\n",
      "Epoch  6 MSE:  0.028668424114584923\n",
      "Epoch  7 MSE:  0.04510870203375816\n",
      "Epoch  8 MSE:  0.05186653137207031\n",
      "Epoch  9 MSE:  0.0429358072578907\n",
      "Epoch  10 MSE:  0.02840258926153183\n",
      "Epoch  11 MSE:  0.020355870947241783\n",
      "Epoch  12 MSE:  0.024295322597026825\n",
      "Epoch  13 MSE:  0.031371865421533585\n",
      "Epoch  14 MSE:  0.02863270975649357\n",
      "Epoch  15 MSE:  0.019134288653731346\n",
      "Epoch  16 MSE:  0.013471508398652077\n",
      "Epoch  17 MSE:  0.014810237102210522\n",
      "Epoch  18 MSE:  0.018160324543714523\n",
      "Epoch  19 MSE:  0.01743272878229618\n",
      "Epoch  20 MSE:  0.011615414172410965\n",
      "Epoch  21 MSE:  0.005649135913699865\n",
      "Epoch  22 MSE:  0.005355258472263813\n",
      "Epoch  23 MSE:  0.008573736995458603\n",
      "Epoch  24 MSE:  0.006498205941170454\n",
      "Epoch  25 MSE:  0.0009462835150770843\n",
      "Epoch  26 MSE:  0.0019019230967387557\n",
      "Epoch  27 MSE:  0.00653485395014286\n",
      "Epoch  28 MSE:  0.0038805524818599224\n",
      "Epoch  29 MSE:  0.0010426425142213702\n",
      "Epoch  30 MSE:  0.003828249406069517\n",
      "Epoch  31 MSE:  0.004184522666037083\n",
      "Epoch  32 MSE:  0.001044867793098092\n",
      "Epoch  33 MSE:  0.0004899228806607425\n",
      "Epoch  34 MSE:  0.0022353720851242542\n",
      "Epoch  35 MSE:  0.002469261409714818\n",
      "Epoch  36 MSE:  0.0010335571132600307\n",
      "Epoch  37 MSE:  0.00039850236498750746\n",
      "Epoch  38 MSE:  0.0013072506990283728\n",
      "Epoch  39 MSE:  0.0019734709057956934\n",
      "Epoch  40 MSE:  0.0013327818596735597\n",
      "Epoch  41 MSE:  0.0005720214103348553\n",
      "Epoch  42 MSE:  0.0007694400264881551\n",
      "Epoch  43 MSE:  0.0012928599026054144\n",
      "Epoch  44 MSE:  0.0011241937754675746\n",
      "Epoch  45 MSE:  0.0004639520193450153\n",
      "Epoch  46 MSE:  0.00027424568543210626\n",
      "Epoch  47 MSE:  0.0006565648363903165\n",
      "Epoch  48 MSE:  0.0007337999413721263\n",
      "Epoch  49 MSE:  0.0003147316165268421\n",
      "Epoch  50 MSE:  0.00017473692423664033\n",
      "Epoch  51 MSE:  0.0004905626410618424\n",
      "Epoch  52 MSE:  0.0005967850447632372\n",
      "Epoch  53 MSE:  0.0003222419763915241\n",
      "Epoch  54 MSE:  0.00022332831576932222\n",
      "Epoch  55 MSE:  0.0004278219712432474\n",
      "Epoch  56 MSE:  0.00044531759340316057\n",
      "Epoch  57 MSE:  0.00022194131452124566\n",
      "Epoch  58 MSE:  0.00017249261145479977\n",
      "Epoch  59 MSE:  0.0003027496859431267\n",
      "Epoch  60 MSE:  0.0002934733056463301\n",
      "Epoch  61 MSE:  0.0001584440324222669\n",
      "Epoch  62 MSE:  0.00015116904978640378\n",
      "Epoch  63 MSE:  0.00024971418315544724\n",
      "Epoch  64 MSE:  0.00024258247867692262\n",
      "Epoch  65 MSE:  0.00015829113544896245\n",
      "Epoch  66 MSE:  0.00016402362962253392\n",
      "Epoch  67 MSE:  0.0002231858961749822\n",
      "Epoch  68 MSE:  0.00020229353685863316\n",
      "Epoch  69 MSE:  0.00013954741007182747\n",
      "Epoch  70 MSE:  0.00014559603005181998\n",
      "Epoch  71 MSE:  0.00017956410010810941\n",
      "Epoch  72 MSE:  0.00015309956506825984\n",
      "Epoch  73 MSE:  0.00011621305748121813\n",
      "Epoch  74 MSE:  0.00013514461170416325\n",
      "Epoch  75 MSE:  0.0001551127206766978\n",
      "Epoch  76 MSE:  0.00013097039482090622\n",
      "Epoch  77 MSE:  0.0001171644325950183\n",
      "Epoch  78 MSE:  0.0001380000467179343\n",
      "Epoch  79 MSE:  0.00014016928616911173\n",
      "Epoch  80 MSE:  0.00011777470353990793\n",
      "Epoch  81 MSE:  0.00011692225962178782\n",
      "Epoch  82 MSE:  0.0001288494822802022\n",
      "Epoch  83 MSE:  0.00011921994882868603\n",
      "Epoch  84 MSE:  0.00010628146992530674\n",
      "Epoch  85 MSE:  0.00011303253268124536\n",
      "Epoch  86 MSE:  0.00011724034993676469\n",
      "Epoch  87 MSE:  0.00010725460742833093\n",
      "Epoch  88 MSE:  0.00010503681551199406\n",
      "Epoch  89 MSE:  0.000112099529360421\n",
      "Epoch  90 MSE:  0.00010960523650282994\n",
      "Epoch  91 MSE:  0.00010265731543768197\n",
      "Epoch  92 MSE:  0.00010485248640179634\n",
      "Epoch  93 MSE:  0.00010691329225664958\n",
      "Epoch  94 MSE:  0.00010127595305675641\n",
      "Epoch  95 MSE:  9.891435183817521e-05\n",
      "Epoch  96 MSE:  0.0001017225076793693\n",
      "Epoch  97 MSE:  9.995514119509608e-05\n",
      "Epoch  98 MSE:  9.633808076614514e-05\n",
      "Epoch  99 MSE:  9.770721953827888e-05\n",
      "Training time: 5.9146740436553955\n"
     ]
    }
   ],
   "source": [
    "hist = np.zeros(num_epochs)\n",
    "start_time = time.time()\n",
    "gru = []\n",
    "\n",
    "for t in range(num_epochs):\n",
    "    y_train_pred = model(x_train)\n",
    "\n",
    "    loss = criterion(y_train_pred, y_train)\n",
    "    print(\"Epoch \", t, \"MSE: \", loss.item())\n",
    "    hist[t] = loss.item()\n",
    "\n",
    "    optimiser.zero_grad()\n",
    "    loss.backward()\n",
    "    optimiser.step()\n",
    "\n",
    "training_time = time.time() - start_time\n",
    "print(\"Training time: {}\".format(training_time))"
   ]
  },
  {
   "cell_type": "code",
   "execution_count": 16,
   "metadata": {},
   "outputs": [],
   "source": [
    "predict = pd.DataFrame(scaler.inverse_transform(y_train_pred.detach().numpy()))\n",
    "original = pd.DataFrame(scaler.inverse_transform(y_train.detach().numpy()))"
   ]
  },
  {
   "cell_type": "code",
   "execution_count": 17,
   "metadata": {},
   "outputs": [
    {
     "data": {
      "image/png": "[encoded data removed]",
      "text/plain": [
       "<Figure size 1600x600 with 2 Axes>"
      ]
     },
     "metadata": {},
     "output_type": "display_data"
    }
   ],
   "source": [
    "import seaborn as sns\n",
    "\n",
    "sns.set_style(\"darkgrid\")\n",
    "\n",
    "fig = plt.figure()\n",
    "fig.subplots_adjust(hspace=0.2, wspace=0.2)\n",
    "\n",
    "plt.subplot(1, 2, 1)\n",
    "ax = sns.lineplot(x=original.index, y=original[0], label=\"data\", color=\"royalblue\")\n",
    "ax = sns.lineplot(\n",
    "    x=predict.index, y=predict[0], label=\"Training Prediction (GRU)\", color=\"tomato\"\n",
    ")\n",
    "ax.set_title(\"Stock price\", size=14, fontweight=\"bold\")\n",
    "ax.set_xlabel(\"Days\", size=14)\n",
    "ax.set_ylabel(\"Cost (USD\", size=14)\n",
    "ax.set_xticklabels(\"\", size=10)\n",
    "\n",
    "plt.subplot(1, 2, 2)\n",
    "ax = sns.lineplot(data=hist, color=\"royalblue\")\n",
    "ax.set_xlabel(\"Epoch\", size=14)\n",
    "ax.set_ylabel(\"Loss\", size=14)\n",
    "ax.set_title(\"Training Loss\", size=14, fontweight=\"bold\")\n",
    "fig.set_figheight(6)\n",
    "fig.set_figwidth(16)"
   ]
  },
  {
   "cell_type": "code",
   "execution_count": 18,
   "metadata": {},
   "outputs": [
    {
     "name": "stdout",
     "output_type": "stream",
     "text": [
      "Train Score: 5.78 RMSE\n",
      "Test Score: 40.58 RMSE\n"
     ]
    }
   ],
   "source": [
    "import math, time\n",
    "from sklearn.metrics import mean_squared_error\n",
    "\n",
    "# make predictions\n",
    "y_test_pred = model(x_test)\n",
    "\n",
    "# invert predictions\n",
    "y_train_pred = scaler.inverse_transform(y_train_pred.detach().numpy())\n",
    "y_train = scaler.inverse_transform(y_train.detach().numpy())\n",
    "y_test_pred = scaler.inverse_transform(y_test_pred.detach().numpy())\n",
    "y_test = scaler.inverse_transform(y_test.detach().numpy())\n",
    "\n",
    "# calculate root mean squared error\n",
    "trainScore = math.sqrt(mean_squared_error(y_train[:, 0], y_train_pred[:, 0]))\n",
    "print(\"Train Score: %.2f RMSE\" % (trainScore))\n",
    "testScore = math.sqrt(mean_squared_error(y_test[:, 0], y_test_pred[:, 0]))\n",
    "print(\"Test Score: %.2f RMSE\" % (testScore))\n",
    "gru.append(trainScore)\n",
    "gru.append(testScore)\n",
    "gru.append(training_time)"
   ]
  },
  {
   "cell_type": "code",
   "execution_count": 29,
   "metadata": {},
   "outputs": [
    {
     "data": {
      "text/html": [
       "<div>\n",
       "<style scoped>\n",
       "    .dataframe tbody tr th:only-of-type {\n",
       "        vertical-align: middle;\n",
       "    }\n",
       "\n",
       "    .dataframe tbody tr th {\n",
       "        vertical-align: top;\n",
       "    }\n",
       "\n",
       "    .dataframe thead th {\n",
       "        text-align: right;\n",
       "    }\n",
       "</style>\n",
       "<table border=\"1\" class=\"dataframe\">\n",
       "  <thead>\n",
       "    <tr style=\"text-align: right;\">\n",
       "      <th></th>\n",
       "      <th>Close</th>\n",
       "    </tr>\n",
       "  </thead>\n",
       "  <tbody>\n",
       "    <tr>\n",
       "      <th>0</th>\n",
       "      <td>-0.963223</td>\n",
       "    </tr>\n",
       "    <tr>\n",
       "      <th>1</th>\n",
       "      <td>-0.963787</td>\n",
       "    </tr>\n",
       "    <tr>\n",
       "      <th>2</th>\n",
       "      <td>-0.963104</td>\n",
       "    </tr>\n",
       "    <tr>\n",
       "      <th>3</th>\n",
       "      <td>-0.962727</td>\n",
       "    </tr>\n",
       "    <tr>\n",
       "      <th>4</th>\n",
       "      <td>-0.964078</td>\n",
       "    </tr>\n",
       "    <tr>\n",
       "      <th>...</th>\n",
       "      <td>...</td>\n",
       "    </tr>\n",
       "    <tr>\n",
       "      <th>3014</th>\n",
       "      <td>0.953033</td>\n",
       "    </tr>\n",
       "    <tr>\n",
       "      <th>3015</th>\n",
       "      <td>0.967395</td>\n",
       "    </tr>\n",
       "    <tr>\n",
       "      <th>3016</th>\n",
       "      <td>0.976799</td>\n",
       "    </tr>\n",
       "    <tr>\n",
       "      <th>3017</th>\n",
       "      <td>0.983364</td>\n",
       "    </tr>\n",
       "    <tr>\n",
       "      <th>3018</th>\n",
       "      <td>0.954931</td>\n",
       "    </tr>\n",
       "  </tbody>\n",
       "</table>\n",
       "<p>3019 rows × 1 columns</p>\n",
       "</div>"
      ],
      "text/plain": [
       "         Close\n",
       "0    -0.963223\n",
       "1    -0.963787\n",
       "2    -0.963104\n",
       "3    -0.962727\n",
       "4    -0.964078\n",
       "...        ...\n",
       "3014  0.953033\n",
       "3015  0.967395\n",
       "3016  0.976799\n",
       "3017  0.983364\n",
       "3018  0.954931\n",
       "\n",
       "[3019 rows x 1 columns]"
      ]
     },
     "execution_count": 29,
     "metadata": {},
     "output_type": "execute_result"
    }
   ],
   "source": [
    "price"
   ]
  },
  {
   "cell_type": "code",
   "execution_count": 19,
   "metadata": {},
   "outputs": [],
   "source": [
    "# shift train predictions for plotting\n",
    "trainPredictPlot = np.empty_like(price)\n",
    "trainPredictPlot[:, :] = np.nan\n",
    "trainPredictPlot[lookback : len(y_train_pred) + lookback, :] = y_train_pred\n",
    "\n",
    "# shift test prediction for plotting\n",
    "testPredictPlot = np.empty_like(price)\n",
    "testPredictPlot[:, :] = np.nan\n",
    "testPredictPlot[len(y_train_pred) + lookback - 1 : len(price) - 1, :] = y_test_pred\n",
    "\n",
    "original = scaler.inverse_transform(price[\"Close\"].values.reshape(-1, 1))\n",
    "\n",
    "predictions = np.append(trainPredictPlot, testPredictPlot, axis=1)\n",
    "predictions = np.append(predictions, original, axis=1)\n",
    "result = pd.DataFrame(predictions)"
   ]
  },
  {
   "cell_type": "code",
   "execution_count": 30,
   "metadata": {},
   "outputs": [
    {
     "data": {
      "image/png": "[encoded data removed]",
      "text/plain": [
       "<Figure size 640x480 with 1 Axes>"
      ]
     },
     "metadata": {},
     "output_type": "display_data"
    }
   ],
   "source": [
    "plt.title(\"GRU Results\")\n",
    "plt.plot(result.index, result[0], label=\"train\")\n",
    "plt.plot(result.index, result[1], label=\"test\")\n",
    "# plt.plot(result.index, result[2], label=\"original\", linewidth=0.5)\n",
    "plt.legend()\n",
    "plt.show()"
   ]
  },
  {
   "cell_type": "code",
   "execution_count": 21,
   "metadata": {},
   "outputs": [
    {
     "data": {
      "text/plain": [
       "[<matplotlib.lines.Line2D at 0x31c5dda10>]"
      ]
     },
     "execution_count": 21,
     "metadata": {},
     "output_type": "execute_result"
    },
    {
     "data": {
      "image/png": "[encoded data removed]",
      "text/plain": [
       "<Figure size 640x480 with 1 Axes>"
      ]
     },
     "metadata": {},
     "output_type": "display_data"
    }
   ],
   "source": [
    "plt.plot(result[1])"
   ]
  },
  {
   "cell_type": "code",
   "execution_count": 22,
   "metadata": {},
   "outputs": [],
   "source": [
    "sub_original_values = result[2][result[1] > 0]"
   ]
  },
  {
   "cell_type": "code",
   "execution_count": 23,
   "metadata": {},
   "outputs": [],
   "source": [
    "sub_original_values[\"Test\"] = result[1]"
   ]
  },
  {
   "cell_type": "code",
   "execution_count": 24,
   "metadata": {},
   "outputs": [],
   "source": [
    "sub_test_values = result[1][result[1] > 0]"
   ]
  },
  {
   "cell_type": "code",
   "execution_count": 25,
   "metadata": {},
   "outputs": [
    {
     "ename": "NameError",
     "evalue": "name 'sub_original_value' is not defined",
     "output_type": "error",
     "traceback": [
      "\u001b[0;31m---------------------------------------------------------------------------\u001b[0m",
      "\u001b[0;31mNameError\u001b[0m                                 Traceback (most recent call last)",
      "Cell \u001b[0;32mIn[25], line 1\u001b[0m\n\u001b[0;32m----> 1\u001b[0m \u001b[43msub_original_value\u001b[49m\n",
      "\u001b[0;31mNameError\u001b[0m: name 'sub_original_value' is not defined"
     ]
    }
   ],
   "source": [
    "sub_original_value"
   ]
  },
  {
   "cell_type": "code",
   "execution_count": null,
   "metadata": {},
   "outputs": [],
   "source": [
    "sub_test_values"
   ]
  },
  {
   "cell_type": "code",
   "execution_count": null,
   "metadata": {},
   "outputs": [],
   "source": [
    "sub_df = pd.concat([sub_original_values, sub_test_values], axis=1)\n",
    "sub_df.columns = [\"Original\", \"Test\"]"
   ]
  },
  {
   "cell_type": "code",
   "execution_count": null,
   "metadata": {},
   "outputs": [],
   "source": [
    "sub_df[\"Residuals\"] = sub_df[\"Original\"] - sub_df[\"Test\"]"
   ]
  },
  {
   "cell_type": "code",
   "execution_count": null,
   "metadata": {},
   "outputs": [],
   "source": [
    "sub_df.loc[(sub_df[\"Residuals\"] < 1) & (sub_df[\"Residuals\"] > -1)]"
   ]
  },
  {
   "cell_type": "code",
   "execution_count": null,
   "metadata": {},
   "outputs": [],
   "source": [
    "plt.title(\"Test Values Vs. Original Values\")\n",
    "plt.plot(\n",
    "    result[2][result[1] > 0].index, result[2][result[1] > 0], label=\"Original values\"\n",
    ")\n",
    "plt.plot(result[1], label=\"Test Values\")\n",
    "plt.plot(sub_df[\"Residuals\"], label=\"Residuals\")\n",
    "plt.axhline(y=0)\n",
    "plt.legend()\n",
    "plt.show()"
   ]
  }
 ],
 "metadata": {
  "kernelspec": {
   "display_name": "py_encoding_env",
   "language": "python",
   "name": "python3"
  },
  "language_info": {
   "codemirror_mode": {
    "name": "ipython",
    "version": 3
   },
   "file_extension": ".py",
   "mimetype": "text/x-python",
   "name": "python",
   "nbconvert_exporter": "python",
   "pygments_lexer": "ipython3",
   "version": "3.11.5"
  }
 },
 "nbformat": 4,
 "nbformat_minor": 2
}
