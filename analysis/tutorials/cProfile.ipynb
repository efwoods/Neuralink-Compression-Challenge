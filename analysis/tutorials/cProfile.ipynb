{
 "cells": [
  {
   "cell_type": "markdown",
   "metadata": {
    "vscode": {
     "languageId": "plaintext"
    }
   },
   "source": [
    "# Profiling Code Execution with cProfile\n"
   ]
  },
  {
   "cell_type": "code",
   "execution_count": 1,
   "metadata": {},
   "outputs": [],
   "source": [
    "import cProfile, pstats, io\n",
    "from pstats import SortKey\n",
    "import pandas as pd\n",
    "import time\n",
    "from signal_processing_utilities import process_signal\n",
    "\n",
    "from importlib.util import spec_from_loader, module_from_spec\n",
    "from importlib.machinery import SourceFileLoader\n",
    "\n",
    "# Custom import of local file \"decode\"\n",
    "spec = spec_from_loader(\"decode\", SourceFileLoader(\"decode\", \"../../decode\"))\n",
    "decode = module_from_spec(spec)\n",
    "spec.loader.exec_module(decode)\n",
    "\n",
    "# Custom import of local file \"encode\"\n",
    "spec = spec_from_loader(\"encode\", SourceFileLoader(\"encode\", \"../../encode\"))\n",
    "encode = module_from_spec(spec)\n",
    "spec.loader.exec_module(encode)"
   ]
  },
  {
   "cell_type": "code",
   "execution_count": 2,
   "metadata": {},
   "outputs": [],
   "source": [
    "def print_full(data_frame):\n",
    "    \"\"\"This function will display all rows of the dataframe.\n",
    "\n",
    "    Args:\n",
    "        data_frame (DataFrame): This is a pandas dataframe of\n",
    "                                arbitrary length.\n",
    "    \"\"\"\n",
    "    pd.set_option(\"display.max_rows\", len(data_frame))\n",
    "    pd.set_option(\"display.width\", 1000)\n",
    "    print(data_frame)\n",
    "    pd.reset_option(\"display.max_rows\")\n",
    "    pd.reset_option(\"display.width\")"
   ]
  },
  {
   "cell_type": "code",
   "execution_count": 3,
   "metadata": {},
   "outputs": [],
   "source": [
    "file = \"../../data/0ab237b7-fb12-4687-afed-8d1e2070d621.wav\"\n",
    "compressed_file_path = \"../../data/0ab237b7-fb12-4687-afed-8d1e2070d621.wav.brainwire\"\n",
    "decompressed_file_path = \"../../data/0ab237b7-fb12-4687-afed-8d1e2070d621.wav.copy\""
   ]
  },
  {
   "cell_type": "code",
   "execution_count": 11,
   "metadata": {},
   "outputs": [
    {
     "name": "stdout",
     "output_type": "stream",
     "text": [
      "\n",
      "Executed Line: unique huffman compression...\n",
      "Time Δ Nanoseconds: 149207000\n",
      "Time Δ Microseconds: 149207.0\n",
      "Time Δ Milliseconds: 149.207\n",
      "Time Δ Seconds: 0.149207\n",
      "\n",
      "\n",
      "Original File Size: 197526\n",
      "Compressed File Size: 74054\n",
      "Percent of Compression: 62.51%\n",
      "Percent of Compressed File Size Relative to Required File Size: 7502.938%\n",
      "\n",
      "Executed Line: decode unique huffman compression...\n",
      "Time Δ Nanoseconds: 1968372000\n",
      "Time Δ Microseconds: 1968372.0\n",
      "Time Δ Milliseconds: 1968.372\n",
      "Time Δ Seconds: 1.968372\n",
      "\n",
      "\n",
      "Original File Size: 197526\n",
      "Compressed File Size: 74054\n",
      "Percent of Compression: 62.51%\n",
      "Percent of Compressed File Size Relative to Required File Size: 7502.938%\n"
     ]
    }
   ],
   "source": [
    "parser = encode.initialize_argument_parser()\n",
    "args = parser.parse_args([file, compressed_file_path, \"-m=u\"])\n",
    "start_time = time.time_ns()\n",
    "encode.main(args)\n",
    "stop_time = time.time_ns()\n",
    "process_signal.print_time_each_function_takes_to_complete_processing(\n",
    "    start_time, stop_time, executed_line=\"unique huffman compression\"\n",
    ")\n",
    "process_signal.print_size_of_file_compression(\n",
    "    file_path=file, compressed_file_path=compressed_file_path\n",
    ")\n",
    "\n",
    "\n",
    "decode_parser = decode.initialize_argument_parser()\n",
    "decode_args = decode_parser.parse_args([compressed_file_path, decompressed_file_path])\n",
    "start_time = time.time_ns()\n",
    "decode.main(decode_args)\n",
    "stop_time = time.time_ns()\n",
    "process_signal.print_time_each_function_takes_to_complete_processing(\n",
    "    start_time, stop_time, executed_line=\"decode unique huffman compression\"\n",
    ")\n",
    "process_signal.print_size_of_file_compression(\n",
    "    file_path=file, compressed_file_path=compressed_file_path\n",
    ")"
   ]
  },
  {
   "cell_type": "code",
   "execution_count": null,
   "metadata": {},
   "outputs": [],
   "source": [
    "pr = cProfile.Profile()\n",
    "pr.enable()\n",
    "encode.main(args)\n",
    "s = io.StringIO()\n",
    "sortby = SortKey.TIME\n",
    "ps = pstats.Stats(pr, stream=s).sort_stats(sortby)\n",
    "ps.print_stats()\n",
    "print(s.getvalue())"
   ]
  },
  {
   "cell_type": "code",
   "execution_count": null,
   "metadata": {},
   "outputs": [],
   "source": [
    "s.getvalue()"
   ]
  },
  {
   "cell_type": "code",
   "execution_count": 7,
   "metadata": {},
   "outputs": [],
   "source": [
    "with cProfile.Profile() as pr:\n",
    "\n",
    "    encode.main(args)\n",
    "\n",
    "df = pd.DataFrame(\n",
    "    pr.getstats(),\n",
    "    columns=[\"func\", \"ncalls\", \"ccalls\", \"tottime\", \"cumtime\", \"callers\"],\n",
    ")"
   ]
  },
  {
   "cell_type": "code",
   "execution_count": null,
   "metadata": {},
   "outputs": [],
   "source": [
    "df[df[\"cumtime\"] == df[\"cumtime\"].max()]"
   ]
  },
  {
   "cell_type": "code",
   "execution_count": null,
   "metadata": {},
   "outputs": [],
   "source": [
    "df.sort_values(\"tottime\", ascending=False)"
   ]
  },
  {
   "cell_type": "code",
   "execution_count": null,
   "metadata": {},
   "outputs": [],
   "source": [
    "df.iloc(1)"
   ]
  },
  {
   "cell_type": "code",
   "execution_count": null,
   "metadata": {},
   "outputs": [],
   "source": [
    "print_full(df.sort_values(\"tottime\", ascending=False))"
   ]
  }
 ],
 "metadata": {
  "kernelspec": {
   "display_name": "py_encoding_env",
   "language": "python",
   "name": "python3"
  },
  "language_info": {
   "codemirror_mode": {
    "name": "ipython",
    "version": 3
   },
   "file_extension": ".py",
   "mimetype": "text/x-python",
   "name": "python",
   "nbconvert_exporter": "python",
   "pygments_lexer": "ipython3",
   "version": "3.11.5"
  }
 },
 "nbformat": 4,
 "nbformat_minor": 2
}
