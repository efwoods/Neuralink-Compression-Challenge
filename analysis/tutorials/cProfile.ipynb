{
 "cells": [
  {
   "cell_type": "markdown",
   "metadata": {
    "vscode": {
     "languageId": "plaintext"
    }
   },
   "source": [
    "# Profiling Code Execution with cProfile\n"
   ]
  },
  {
   "cell_type": "code",
   "execution_count": 1,
   "metadata": {},
   "outputs": [],
   "source": [
    "import cProfile, pstats, io\n",
    "from pstats import SortKey\n",
    "import pandas as pd\n",
    "import time\n",
    "from signal_processing_utilities import process_signal\n",
    "\n",
    "from importlib.util import spec_from_loader, module_from_spec\n",
    "from importlib.machinery import SourceFileLoader\n",
    "from scipy.io import wavfile"
   ]
  },
  {
   "cell_type": "code",
   "execution_count": 2,
   "metadata": {},
   "outputs": [],
   "source": [
    "# Custom import of local file \"decode\"\n",
    "spec = spec_from_loader(\"decode\", SourceFileLoader(\"decode\", \"../../decode\"))\n",
    "decode = module_from_spec(spec)\n",
    "spec.loader.exec_module(decode)\n",
    "\n",
    "# Custom import of local file \"encode\"\n",
    "spec = spec_from_loader(\"encode\", SourceFileLoader(\"encode\", \"../../encode\"))\n",
    "encode = module_from_spec(spec)\n",
    "spec.loader.exec_module(encode)"
   ]
  },
  {
   "cell_type": "code",
   "execution_count": 3,
   "metadata": {},
   "outputs": [],
   "source": [
    "def print_full(data_frame):\n",
    "    \"\"\"This function will display all rows of the dataframe.\n",
    "\n",
    "    Args:\n",
    "        data_frame (DataFrame): This is a pandas dataframe of\n",
    "                                arbitrary length.\n",
    "    \"\"\"\n",
    "    pd.set_option(\"display.max_rows\", len(data_frame))\n",
    "    pd.set_option(\"display.width\", 1000)\n",
    "    print(data_frame)\n",
    "    pd.reset_option(\"display.max_rows\")\n",
    "    pd.reset_option(\"display.width\")"
   ]
  },
  {
   "cell_type": "code",
   "execution_count": 4,
   "metadata": {},
   "outputs": [],
   "source": [
    "file = \"../../data/0ab237b7-fb12-4687-afed-8d1e2070d621.wav\"\n",
    "compressed_file_path = \"../../data/0ab237b7-fb12-4687-afed-8d1e2070d621.wav.brainwire\"\n",
    "decompressed_file_path = \"../../data/0ab237b7-fb12-4687-afed-8d1e2070d621.wav.copy\""
   ]
  },
  {
   "cell_type": "code",
   "execution_count": 16,
   "metadata": {},
   "outputs": [
    {
     "name": "stdout",
     "output_type": "stream",
     "text": [
      "\n",
      "Executed Line: unique huffman compression...\n",
      "Time Δ Nanoseconds: 148734000\n",
      "Time Δ Microseconds: 148734.0\n",
      "Time Δ Milliseconds: 148.734\n",
      "Time Δ Seconds: 0.148734\n",
      "\n",
      "\n",
      "Original File Size: 197526\n",
      "Compressed File Size: 74054\n",
      "Percent of Compression: 62.51%\n",
      "Percent of Compressed File Size Relative to Required File Size: 7502.938%\n",
      "\n",
      "Executed Line: decode unique huffman compression...\n",
      "Time Δ Nanoseconds: 1995818000\n",
      "Time Δ Microseconds: 1995818.0\n",
      "Time Δ Milliseconds: 1995.818\n",
      "Time Δ Seconds: 1.995818\n",
      "\n",
      "\n",
      "Original File Size: 197526\n",
      "Compressed File Size: 74054\n",
      "Percent of Compression: 62.51%\n",
      "Percent of Compressed File Size Relative to Required File Size: 7502.938%\n"
     ]
    }
   ],
   "source": [
    "parser = encode.initialize_argument_parser()\n",
    "args = parser.parse_args([file, compressed_file_path, \"-m=u\"])\n",
    "start_time = time.time_ns()\n",
    "encode.main(args)\n",
    "stop_time = time.time_ns()\n",
    "process_signal.print_time_each_function_takes_to_complete_processing(\n",
    "    start_time, stop_time, executed_line=\"unique huffman compression\"\n",
    ")\n",
    "process_signal.print_size_of_file_compression(\n",
    "    file_path=file, compressed_file_path=compressed_file_path\n",
    ")\n",
    "\n",
    "\n",
    "decode_parser = decode.initialize_argument_parser()\n",
    "decode_args = decode_parser.parse_args([compressed_file_path, decompressed_file_path])\n",
    "start_time = time.time_ns()\n",
    "decode.main(decode_args)\n",
    "stop_time = time.time_ns()\n",
    "process_signal.print_time_each_function_takes_to_complete_processing(\n",
    "    start_time, stop_time, executed_line=\"decode unique huffman compression\"\n",
    ")\n",
    "process_signal.print_size_of_file_compression(\n",
    "    file_path=file, compressed_file_path=compressed_file_path\n",
    ")"
   ]
  },
  {
   "cell_type": "code",
   "execution_count": 6,
   "metadata": {},
   "outputs": [
    {
     "data": {
      "text/plain": [
       "(19531, array([1697, 1889, 1569, ...,  928, 1184, 1504], dtype=int16))"
      ]
     },
     "execution_count": 6,
     "metadata": {},
     "output_type": "execute_result"
    }
   ],
   "source": [
    "wavfile.read(decompressed_file_path)"
   ]
  },
  {
   "cell_type": "code",
   "execution_count": 7,
   "metadata": {},
   "outputs": [
    {
     "data": {
      "text/plain": [
       "(19531, array([1697, 1889, 1569, ...,  928, 1184, 1504], dtype=int16))"
      ]
     },
     "execution_count": 7,
     "metadata": {},
     "output_type": "execute_result"
    }
   ],
   "source": [
    "wavfile.read(file)"
   ]
  },
  {
   "cell_type": "code",
   "execution_count": 8,
   "metadata": {},
   "outputs": [],
   "source": [
    "args = parser.parse_args([file, compressed_file_path, \"-m=u\"])"
   ]
  },
  {
   "cell_type": "code",
   "execution_count": null,
   "metadata": {},
   "outputs": [],
   "source": []
  },
  {
   "cell_type": "code",
   "execution_count": 9,
   "metadata": {},
   "outputs": [
    {
     "name": "stdout",
     "output_type": "stream",
     "text": [
      "         180679 function calls (180429 primitive calls) in 0.194 seconds\n",
      "\n",
      "   Ordered by: internal time\n",
      "\n",
      "   ncalls  tottime  percall  cumtime  percall filename:lineno(function)\n",
      "        1    0.090    0.090    0.095    0.095 ../../encode:141(create_byte_string)\n",
      "    98741    0.043    0.000    0.043    0.000 {method 'index' of 'list' objects}\n",
      "        1    0.019    0.019    0.019    0.019 ../../encode:66(determine_hex_freq)\n",
      "        1    0.010    0.010    0.053    0.053 ../../encode:489(<listcomp>)\n",
      "        1    0.009    0.009    0.009    0.009 ../../encode:124(<listcomp>)\n",
      "        1    0.005    0.005    0.005    0.005 ../../encode:127(<listcomp>)\n",
      "    72359    0.003    0.000    0.003    0.000 {method 'to_bytes' of 'int' objects}\n",
      "        1    0.002    0.002    0.002    0.002 {method 'sort' of 'numpy.ndarray' objects}\n",
      "        2    0.002    0.001    0.002    0.001 {built-in method numpy.asanyarray}\n",
      "        2    0.002    0.001    0.002    0.001 {built-in method numpy.array}\n",
      "        2    0.001    0.001    0.001    0.001 {method 'tolist' of 'numpy.ndarray' objects}\n",
      "        1    0.001    0.001    0.035    0.035 ../../encode:331(huffman_encoding)\n",
      "        2    0.001    0.000    0.001    0.000 {method 'join' of 'str' objects}\n",
      "        1    0.001    0.001    0.001    0.001 /Volumes/T7/Github/Neuralink-Compression-Challenge/py_encoding_env/lib/python3.11/site-packages/signal_processing_utilities/process_signal.py:931(rle_bit_compression)\n",
      "        1    0.001    0.001    0.001    0.001 {method 'close' of '_io.BufferedRandom' objects}\n",
      "        1    0.000    0.000    0.194    0.194 ../../encode:679(main)\n",
      "        2    0.000    0.000    0.000    0.000 {built-in method io.open}\n",
      "        3    0.000    0.000    0.000    0.000 {method 'hex' of 'bytes' objects}\n",
      "     1776    0.000    0.000    0.000    0.000 ../../encode:27(__lt__)\n",
      "     3990    0.000    0.000    0.000    0.000 {built-in method builtins.len}\n",
      "        1    0.000    0.000    0.003    0.003 /Volumes/T7/Github/Neuralink-Compression-Challenge/py_encoding_env/lib/python3.11/site-packages/numpy/lib/arraysetops.py:323(_unique1d)\n",
      "    251/1    0.000    0.000    0.000    0.000 ../../encode:31(create_node_mapping_dictionary)\n",
      "        1    0.000    0.000    0.192    0.192 ../../encode:460(encode_using_amplitude_indices)\n",
      "      250    0.000    0.000    0.000    0.000 {built-in method _heapq.heappop}\n",
      "     2492    0.000    0.000    0.000    0.000 {method 'append' of 'list' objects}\n",
      "        1    0.000    0.000    0.000    0.000 /Volumes/T7/Github/Neuralink-Compression-Challenge/py_encoding_env/lib/python3.11/site-packages/scipy/io/wavfile.py:568(read)\n",
      "        1    0.000    0.000    0.015    0.015 ../../encode:96(convertHexToBit)\n",
      "        4    0.000    0.000    0.000    0.000 {built-in method builtins.compile}\n",
      "        1    0.000    0.000    0.000    0.000 {method 'flatten' of 'numpy.ndarray' objects}\n",
      "        1    0.000    0.000    0.000    0.000 {built-in method numpy.fromfile}\n",
      "        1    0.000    0.000    0.194    0.194 /var/folders/km/lr9wgyjj0z737tmwxblc5d980000gn/T/ipykernel_53206/872504529.py:1(<module>)\n",
      "        1    0.000    0.000    0.000    0.000 /Volumes/T7/Github/Neuralink-Compression-Challenge/py_encoding_env/lib/python3.11/site-packages/signal_processing_utilities/process_signal.py:822(encode_rle)\n",
      "      251    0.000    0.000    0.000    0.000 ../../encode:20(__init__)\n",
      "      251    0.000    0.000    0.000    0.000 {built-in method _heapq.heappush}\n",
      "        1    0.000    0.000    0.000    0.000 {method 'reduce' of 'numpy.ufunc' objects}\n",
      "        1    0.000    0.000    0.000    0.000 {method 'write' of '_io.BufferedRandom' objects}\n",
      "        1    0.000    0.000    0.000    0.000 {built-in method builtins.sorted}\n",
      "        1    0.000    0.000    0.000    0.000 ../../encode:245(<listcomp>)\n",
      "        1    0.000    0.000    0.000    0.000 ../../encode:233(<listcomp>)\n",
      "        1    0.000    0.000    0.000    0.000 ../../encode:283(<listcomp>)\n",
      "        1    0.000    0.000    0.000    0.000 {method 'any' of 'numpy.ndarray' objects}\n",
      "        8    0.000    0.000    0.000    0.000 {method 'read' of '_io.BufferedReader' objects}\n",
      "        1    0.000    0.000    0.000    0.000 ../../encode:271(<listcomp>)\n",
      "        1    0.000    0.000    0.000    0.000 /Volumes/T7/Github/Neuralink-Compression-Challenge/py_encoding_env/lib/python3.11/site-packages/scipy/io/wavfile.py:520(_read_riff_chunk)\n",
      "        3    0.000    0.000    0.000    0.000 {method 'tobytes' of 'numpy.ndarray' objects}\n",
      "        1    0.000    0.000    0.000    0.000 /Volumes/T7/Github/Neuralink-Compression-Challenge/py_encoding_env/lib/python3.11/site-packages/scipy/io/wavfile.py:320(_read_fmt_chunk)\n",
      "        1    0.000    0.000    0.000    0.000 /opt/anaconda3/lib/python3.11/pstats.py:118(init)\n",
      "        2    0.000    0.000    0.000    0.000 /Volumes/T7/Github/Neuralink-Compression-Challenge/py_encoding_env/lib/python3.11/site-packages/ipykernel/ipkernel.py:775(_clean_thread_parent_frames)\n",
      "        1    0.000    0.000    0.005    0.005 /Volumes/T7/Github/Neuralink-Compression-Challenge/py_encoding_env/lib/python3.11/site-packages/numpy/lib/arraysetops.py:138(unique)\n",
      "        1    0.000    0.000    0.000    0.000 {built-in method numpy.empty}\n",
      "        1    0.000    0.000    0.000    0.000 /Volumes/T7/Github/Neuralink-Compression-Challenge/py_encoding_env/lib/python3.11/site-packages/scipy/io/wavfile.py:399(_read_data_chunk)\n",
      "        1    0.000    0.000    0.001    0.001 /Volumes/T7/Github/Neuralink-Compression-Challenge/py_encoding_env/lib/python3.11/site-packages/signal_processing_utilities/process_signal.py:671(write_file_bytes)\n",
      "      126    0.000    0.000    0.000    0.000 ../../encode:91(<lambda>)\n",
      "        4    0.000    0.000    0.000    0.000 /opt/anaconda3/lib/python3.11/codeop.py:117(__call__)\n",
      "        4    0.000    0.000    0.000    0.000 /opt/anaconda3/lib/python3.11/contextlib.py:104(__init__)\n",
      "        4    0.000    0.000    0.000    0.000 {method 'tell' of '_io.BufferedReader' objects}\n",
      "        4    0.000    0.000    0.000    0.000 /Volumes/T7/Github/Neuralink-Compression-Challenge/py_encoding_env/lib/python3.11/site-packages/traitlets/traitlets.py:676(__get__)\n",
      "        4    0.000    0.000    0.194    0.049 /Volumes/T7/Github/Neuralink-Compression-Challenge/py_encoding_env/lib/python3.11/site-packages/IPython/core/interactiveshell.py:3541(run_code)\n",
      "        4    0.000    0.000    0.000    0.000 {built-in method _struct.unpack}\n",
      "        1    0.000    0.000    0.000    0.000 /Volumes/T7/Github/Neuralink-Compression-Challenge/py_encoding_env/lib/python3.11/site-packages/ipykernel/ipkernel.py:790(<setcomp>)\n",
      "        1    0.000    0.000    0.000    0.000 {method 'close' of '_io.BufferedReader' objects}\n",
      "        1    0.000    0.000    0.000    0.000 /opt/anaconda3/lib/python3.11/threading.py:1494(enumerate)\n",
      "        4    0.000    0.000    0.194    0.049 {built-in method builtins.exec}\n",
      "        8    0.000    0.000    0.000    0.000 /Volumes/T7/Github/Neuralink-Compression-Challenge/py_encoding_env/lib/python3.11/site-packages/IPython/core/compilerop.py:180(extra_flags)\n",
      "        4    0.000    0.000    0.000    0.000 /opt/anaconda3/lib/python3.11/contextlib.py:141(__exit__)\n",
      "        4    0.000    0.000    0.000    0.000 /opt/anaconda3/lib/python3.11/contextlib.py:287(helper)\n",
      "        1    0.000    0.000    0.000    0.000 /Volumes/T7/Github/Neuralink-Compression-Challenge/py_encoding_env/lib/python3.11/site-packages/signal_processing_utilities/process_signal.py:1044(<listcomp>)\n",
      "        8    0.000    0.000    0.000    0.000 {built-in method builtins.next}\n",
      "        1    0.000    0.000    0.000    0.000 /opt/anaconda3/lib/python3.11/pstats.py:108(__init__)\n",
      "        4    0.000    0.000    0.000    0.000 /Volumes/T7/Github/Neuralink-Compression-Challenge/py_encoding_env/lib/python3.11/site-packages/traitlets/traitlets.py:629(get)\n",
      "        7    0.000    0.000    0.000    0.000 /opt/anaconda3/lib/python3.11/threading.py:1161(ident)\n",
      "        4    0.000    0.000    0.000    0.000 /Volumes/T7/Github/Neuralink-Compression-Challenge/py_encoding_env/lib/python3.11/site-packages/IPython/core/interactiveshell.py:3493(compare)\n",
      "        1    0.000    0.000    0.000    0.000 ../../encode:319(<listcomp>)\n",
      "        8    0.000    0.000    0.000    0.000 {built-in method builtins.getattr}\n",
      "        4    0.000    0.000    0.000    0.000 /opt/anaconda3/lib/python3.11/contextlib.py:132(__enter__)\n",
      "        1    0.000    0.000    0.000    0.000 /Volumes/T7/Github/Neuralink-Compression-Challenge/py_encoding_env/lib/python3.11/site-packages/numpy/core/_methods.py:55(_any)\n",
      "        2    0.000    0.000    0.000    0.000 /Volumes/T7/Github/Neuralink-Compression-Challenge/py_encoding_env/lib/python3.11/site-packages/scipy/io/wavfile.py:561(_handle_pad_byte)\n",
      "        1    0.000    0.000    0.000    0.000 /opt/anaconda3/lib/python3.11/pstats.py:137(load_stats)\n",
      "        1    0.000    0.000    0.000    0.000 {built-in method _abc._abc_instancecheck}\n",
      "        3    0.000    0.000    0.000    0.000 {built-in method builtins.isinstance}\n",
      "        1    0.000    0.000    0.000    0.000 /Volumes/T7/Github/Neuralink-Compression-Challenge/py_encoding_env/lib/python3.11/site-packages/numpy/lib/arraysetops.py:125(_unpack_tuple)\n",
      "        1    0.000    0.000    0.000    0.000 <frozen abc>:117(__instancecheck__)\n",
      "        1    0.000    0.000    0.000    0.000 /opt/anaconda3/lib/python3.11/cProfile.py:51(create_stats)\n",
      "        1    0.000    0.000    0.000    0.000 /opt/anaconda3/lib/python3.11/enum.py:193(__get__)\n",
      "        3    0.000    0.000    0.000    0.000 {built-in method builtins.hasattr}\n",
      "        4    0.000    0.000    0.000    0.000 /Volumes/T7/Github/Neuralink-Compression-Challenge/py_encoding_env/lib/python3.11/site-packages/IPython/core/interactiveshell.py:1277(user_global_ns)\n",
      "        6    0.000    0.000    0.000    0.000 {method 'keys' of 'dict' objects}\n",
      "        8    0.000    0.000    0.000    0.000 /opt/anaconda3/lib/python3.11/typing.py:2256(cast)\n",
      "        1    0.000    0.000    0.000    0.000 {method 'items' of 'dict' objects}\n",
      "        4    0.000    0.000    0.000    0.000 {method 'values' of 'dict' objects}\n",
      "        1    0.000    0.000    0.000    0.000 {method 'lstrip' of 'str' objects}\n",
      "        1    0.000    0.000    0.000    0.000 {method '__exit__' of '_io._IOBase' objects}\n",
      "        1    0.000    0.000    0.000    0.000 {method 'disable' of '_lsprof.Profiler' objects}\n",
      "        1    0.000    0.000    0.000    0.000 {method 'rstrip' of 'str' objects}\n",
      "        1    0.000    0.000    0.000    0.000 {method '__exit__' of '_thread.RLock' objects}\n",
      "        1    0.000    0.000    0.000    0.000 /Volumes/T7/Github/Neuralink-Compression-Challenge/py_encoding_env/lib/python3.11/site-packages/numpy/lib/arraysetops.py:133(_unique_dispatcher)\n",
      "\n",
      "\n",
      "\n"
     ]
    }
   ],
   "source": [
    "pr = cProfile.Profile()\n",
    "pr.enable()\n",
    "encode.main(args)\n",
    "s = io.StringIO()\n",
    "sortby = SortKey.TIME\n",
    "ps = pstats.Stats(pr, stream=s).sort_stats(sortby)\n",
    "ps.print_stats()\n",
    "print(s.getvalue())"
   ]
  },
  {
   "cell_type": "code",
   "execution_count": 10,
   "metadata": {},
   "outputs": [
    {
     "data": {
      "text/plain": [
       "\"         180679 function calls (180429 primitive calls) in 0.194 seconds\\n\\n   Ordered by: internal time\\n\\n   ncalls  tottime  percall  cumtime  percall filename:lineno(function)\\n        1    0.090    0.090    0.095    0.095 ../../encode:141(create_byte_string)\\n    98741    0.043    0.000    0.043    0.000 {method 'index' of 'list' objects}\\n        1    0.019    0.019    0.019    0.019 ../../encode:66(determine_hex_freq)\\n        1    0.010    0.010    0.053    0.053 ../../encode:489(<listcomp>)\\n        1    0.009    0.009    0.009    0.009 ../../encode:124(<listcomp>)\\n        1    0.005    0.005    0.005    0.005 ../../encode:127(<listcomp>)\\n    72359    0.003    0.000    0.003    0.000 {method 'to_bytes' of 'int' objects}\\n        1    0.002    0.002    0.002    0.002 {method 'sort' of 'numpy.ndarray' objects}\\n        2    0.002    0.001    0.002    0.001 {built-in method numpy.asanyarray}\\n        2    0.002    0.001    0.002    0.001 {built-in method numpy.array}\\n        2    0.001    0.001    0.001    0.001 {method 'tolist' of 'numpy.ndarray' objects}\\n        1    0.001    0.001    0.035    0.035 ../../encode:331(huffman_encoding)\\n        2    0.001    0.000    0.001    0.000 {method 'join' of 'str' objects}\\n        1    0.001    0.001    0.001    0.001 /Volumes/T7/Github/Neuralink-Compression-Challenge/py_encoding_env/lib/python3.11/site-packages/signal_processing_utilities/process_signal.py:931(rle_bit_compression)\\n        1    0.001    0.001    0.001    0.001 {method 'close' of '_io.BufferedRandom' objects}\\n        1    0.000    0.000    0.194    0.194 ../../encode:679(main)\\n        2    0.000    0.000    0.000    0.000 {built-in method io.open}\\n        3    0.000    0.000    0.000    0.000 {method 'hex' of 'bytes' objects}\\n     1776    0.000    0.000    0.000    0.000 ../../encode:27(__lt__)\\n     3990    0.000    0.000    0.000    0.000 {built-in method builtins.len}\\n        1    0.000    0.000    0.003    0.003 /Volumes/T7/Github/Neuralink-Compression-Challenge/py_encoding_env/lib/python3.11/site-packages/numpy/lib/arraysetops.py:323(_unique1d)\\n    251/1    0.000    0.000    0.000    0.000 ../../encode:31(create_node_mapping_dictionary)\\n        1    0.000    0.000    0.192    0.192 ../../encode:460(encode_using_amplitude_indices)\\n      250    0.000    0.000    0.000    0.000 {built-in method _heapq.heappop}\\n     2492    0.000    0.000    0.000    0.000 {method 'append' of 'list' objects}\\n        1    0.000    0.000    0.000    0.000 /Volumes/T7/Github/Neuralink-Compression-Challenge/py_encoding_env/lib/python3.11/site-packages/scipy/io/wavfile.py:568(read)\\n        1    0.000    0.000    0.015    0.015 ../../encode:96(convertHexToBit)\\n        4    0.000    0.000    0.000    0.000 {built-in method builtins.compile}\\n        1    0.000    0.000    0.000    0.000 {method 'flatten' of 'numpy.ndarray' objects}\\n        1    0.000    0.000    0.000    0.000 {built-in method numpy.fromfile}\\n        1    0.000    0.000    0.194    0.194 /var/folders/km/lr9wgyjj0z737tmwxblc5d980000gn/T/ipykernel_53206/872504529.py:1(<module>)\\n        1    0.000    0.000    0.000    0.000 /Volumes/T7/Github/Neuralink-Compression-Challenge/py_encoding_env/lib/python3.11/site-packages/signal_processing_utilities/process_signal.py:822(encode_rle)\\n      251    0.000    0.000    0.000    0.000 ../../encode:20(__init__)\\n      251    0.000    0.000    0.000    0.000 {built-in method _heapq.heappush}\\n        1    0.000    0.000    0.000    0.000 {method 'reduce' of 'numpy.ufunc' objects}\\n        1    0.000    0.000    0.000    0.000 {method 'write' of '_io.BufferedRandom' objects}\\n        1    0.000    0.000    0.000    0.000 {built-in method builtins.sorted}\\n        1    0.000    0.000    0.000    0.000 ../../encode:245(<listcomp>)\\n        1    0.000    0.000    0.000    0.000 ../../encode:233(<listcomp>)\\n        1    0.000    0.000    0.000    0.000 ../../encode:283(<listcomp>)\\n        1    0.000    0.000    0.000    0.000 {method 'any' of 'numpy.ndarray' objects}\\n        8    0.000    0.000    0.000    0.000 {method 'read' of '_io.BufferedReader' objects}\\n        1    0.000    0.000    0.000    0.000 ../../encode:271(<listcomp>)\\n        1    0.000    0.000    0.000    0.000 /Volumes/T7/Github/Neuralink-Compression-Challenge/py_encoding_env/lib/python3.11/site-packages/scipy/io/wavfile.py:520(_read_riff_chunk)\\n        3    0.000    0.000    0.000    0.000 {method 'tobytes' of 'numpy.ndarray' objects}\\n        1    0.000    0.000    0.000    0.000 /Volumes/T7/Github/Neuralink-Compression-Challenge/py_encoding_env/lib/python3.11/site-packages/scipy/io/wavfile.py:320(_read_fmt_chunk)\\n        1    0.000    0.000    0.000    0.000 /opt/anaconda3/lib/python3.11/pstats.py:118(init)\\n        2    0.000    0.000    0.000    0.000 /Volumes/T7/Github/Neuralink-Compression-Challenge/py_encoding_env/lib/python3.11/site-packages/ipykernel/ipkernel.py:775(_clean_thread_parent_frames)\\n        1    0.000    0.000    0.005    0.005 /Volumes/T7/Github/Neuralink-Compression-Challenge/py_encoding_env/lib/python3.11/site-packages/numpy/lib/arraysetops.py:138(unique)\\n        1    0.000    0.000    0.000    0.000 {built-in method numpy.empty}\\n        1    0.000    0.000    0.000    0.000 /Volumes/T7/Github/Neuralink-Compression-Challenge/py_encoding_env/lib/python3.11/site-packages/scipy/io/wavfile.py:399(_read_data_chunk)\\n        1    0.000    0.000    0.001    0.001 /Volumes/T7/Github/Neuralink-Compression-Challenge/py_encoding_env/lib/python3.11/site-packages/signal_processing_utilities/process_signal.py:671(write_file_bytes)\\n      126    0.000    0.000    0.000    0.000 ../../encode:91(<lambda>)\\n        4    0.000    0.000    0.000    0.000 /opt/anaconda3/lib/python3.11/codeop.py:117(__call__)\\n        4    0.000    0.000    0.000    0.000 /opt/anaconda3/lib/python3.11/contextlib.py:104(__init__)\\n        4    0.000    0.000    0.000    0.000 {method 'tell' of '_io.BufferedReader' objects}\\n        4    0.000    0.000    0.000    0.000 /Volumes/T7/Github/Neuralink-Compression-Challenge/py_encoding_env/lib/python3.11/site-packages/traitlets/traitlets.py:676(__get__)\\n        4    0.000    0.000    0.194    0.049 /Volumes/T7/Github/Neuralink-Compression-Challenge/py_encoding_env/lib/python3.11/site-packages/IPython/core/interactiveshell.py:3541(run_code)\\n        4    0.000    0.000    0.000    0.000 {built-in method _struct.unpack}\\n        1    0.000    0.000    0.000    0.000 /Volumes/T7/Github/Neuralink-Compression-Challenge/py_encoding_env/lib/python3.11/site-packages/ipykernel/ipkernel.py:790(<setcomp>)\\n        1    0.000    0.000    0.000    0.000 {method 'close' of '_io.BufferedReader' objects}\\n        1    0.000    0.000    0.000    0.000 /opt/anaconda3/lib/python3.11/threading.py:1494(enumerate)\\n        4    0.000    0.000    0.194    0.049 {built-in method builtins.exec}\\n        8    0.000    0.000    0.000    0.000 /Volumes/T7/Github/Neuralink-Compression-Challenge/py_encoding_env/lib/python3.11/site-packages/IPython/core/compilerop.py:180(extra_flags)\\n        4    0.000    0.000    0.000    0.000 /opt/anaconda3/lib/python3.11/contextlib.py:141(__exit__)\\n        4    0.000    0.000    0.000    0.000 /opt/anaconda3/lib/python3.11/contextlib.py:287(helper)\\n        1    0.000    0.000    0.000    0.000 /Volumes/T7/Github/Neuralink-Compression-Challenge/py_encoding_env/lib/python3.11/site-packages/signal_processing_utilities/process_signal.py:1044(<listcomp>)\\n        8    0.000    0.000    0.000    0.000 {built-in method builtins.next}\\n        1    0.000    0.000    0.000    0.000 /opt/anaconda3/lib/python3.11/pstats.py:108(__init__)\\n        4    0.000    0.000    0.000    0.000 /Volumes/T7/Github/Neuralink-Compression-Challenge/py_encoding_env/lib/python3.11/site-packages/traitlets/traitlets.py:629(get)\\n        7    0.000    0.000    0.000    0.000 /opt/anaconda3/lib/python3.11/threading.py:1161(ident)\\n        4    0.000    0.000    0.000    0.000 /Volumes/T7/Github/Neuralink-Compression-Challenge/py_encoding_env/lib/python3.11/site-packages/IPython/core/interactiveshell.py:3493(compare)\\n        1    0.000    0.000    0.000    0.000 ../../encode:319(<listcomp>)\\n        8    0.000    0.000    0.000    0.000 {built-in method builtins.getattr}\\n        4    0.000    0.000    0.000    0.000 /opt/anaconda3/lib/python3.11/contextlib.py:132(__enter__)\\n        1    0.000    0.000    0.000    0.000 /Volumes/T7/Github/Neuralink-Compression-Challenge/py_encoding_env/lib/python3.11/site-packages/numpy/core/_methods.py:55(_any)\\n        2    0.000    0.000    0.000    0.000 /Volumes/T7/Github/Neuralink-Compression-Challenge/py_encoding_env/lib/python3.11/site-packages/scipy/io/wavfile.py:561(_handle_pad_byte)\\n        1    0.000    0.000    0.000    0.000 /opt/anaconda3/lib/python3.11/pstats.py:137(load_stats)\\n        1    0.000    0.000    0.000    0.000 {built-in method _abc._abc_instancecheck}\\n        3    0.000    0.000    0.000    0.000 {built-in method builtins.isinstance}\\n        1    0.000    0.000    0.000    0.000 /Volumes/T7/Github/Neuralink-Compression-Challenge/py_encoding_env/lib/python3.11/site-packages/numpy/lib/arraysetops.py:125(_unpack_tuple)\\n        1    0.000    0.000    0.000    0.000 <frozen abc>:117(__instancecheck__)\\n        1    0.000    0.000    0.000    0.000 /opt/anaconda3/lib/python3.11/cProfile.py:51(create_stats)\\n        1    0.000    0.000    0.000    0.000 /opt/anaconda3/lib/python3.11/enum.py:193(__get__)\\n        3    0.000    0.000    0.000    0.000 {built-in method builtins.hasattr}\\n        4    0.000    0.000    0.000    0.000 /Volumes/T7/Github/Neuralink-Compression-Challenge/py_encoding_env/lib/python3.11/site-packages/IPython/core/interactiveshell.py:1277(user_global_ns)\\n        6    0.000    0.000    0.000    0.000 {method 'keys' of 'dict' objects}\\n        8    0.000    0.000    0.000    0.000 /opt/anaconda3/lib/python3.11/typing.py:2256(cast)\\n        1    0.000    0.000    0.000    0.000 {method 'items' of 'dict' objects}\\n        4    0.000    0.000    0.000    0.000 {method 'values' of 'dict' objects}\\n        1    0.000    0.000    0.000    0.000 {method 'lstrip' of 'str' objects}\\n        1    0.000    0.000    0.000    0.000 {method '__exit__' of '_io._IOBase' objects}\\n        1    0.000    0.000    0.000    0.000 {method 'disable' of '_lsprof.Profiler' objects}\\n        1    0.000    0.000    0.000    0.000 {method 'rstrip' of 'str' objects}\\n        1    0.000    0.000    0.000    0.000 {method '__exit__' of '_thread.RLock' objects}\\n        1    0.000    0.000    0.000    0.000 /Volumes/T7/Github/Neuralink-Compression-Challenge/py_encoding_env/lib/python3.11/site-packages/numpy/lib/arraysetops.py:133(_unique_dispatcher)\\n\\n\\n\""
      ]
     },
     "execution_count": 10,
     "metadata": {},
     "output_type": "execute_result"
    }
   ],
   "source": [
    "s.getvalue()"
   ]
  },
  {
   "cell_type": "code",
   "execution_count": 11,
   "metadata": {},
   "outputs": [],
   "source": [
    "with cProfile.Profile() as pr:\n",
    "\n",
    "    encode.main(args)\n",
    "\n",
    "df = pd.DataFrame(\n",
    "    pr.getstats(),\n",
    "    columns=[\"func\", \"ncalls\", \"ccalls\", \"tottime\", \"cumtime\", \"callers\"],\n",
    ")"
   ]
  },
  {
   "cell_type": "code",
   "execution_count": 12,
   "metadata": {},
   "outputs": [
    {
     "data": {
      "text/html": [
       "<div>\n",
       "<style scoped>\n",
       "    .dataframe tbody tr th:only-of-type {\n",
       "        vertical-align: middle;\n",
       "    }\n",
       "\n",
       "    .dataframe tbody tr th {\n",
       "        vertical-align: top;\n",
       "    }\n",
       "\n",
       "    .dataframe thead th {\n",
       "        text-align: right;\n",
       "    }\n",
       "</style>\n",
       "<table border=\"1\" class=\"dataframe\">\n",
       "  <thead>\n",
       "    <tr style=\"text-align: right;\">\n",
       "      <th></th>\n",
       "      <th>func</th>\n",
       "      <th>ncalls</th>\n",
       "      <th>ccalls</th>\n",
       "      <th>tottime</th>\n",
       "      <th>cumtime</th>\n",
       "      <th>callers</th>\n",
       "    </tr>\n",
       "  </thead>\n",
       "  <tbody>\n",
       "    <tr>\n",
       "      <th>54</th>\n",
       "      <td>&lt;code object create_byte_string at 0x12ba58e00...</td>\n",
       "      <td>1</td>\n",
       "      <td>0</td>\n",
       "      <td>0.093329</td>\n",
       "      <td>0.088693</td>\n",
       "      <td>[(&lt;method 'tobytes' of 'numpy.ndarray' objects...</td>\n",
       "    </tr>\n",
       "  </tbody>\n",
       "</table>\n",
       "</div>"
      ],
      "text/plain": [
       "                                                 func  ncalls  ccalls  \\\n",
       "54  <code object create_byte_string at 0x12ba58e00...       1       0   \n",
       "\n",
       "     tottime   cumtime                                            callers  \n",
       "54  0.093329  0.088693  [(<method 'tobytes' of 'numpy.ndarray' objects...  "
      ]
     },
     "execution_count": 12,
     "metadata": {},
     "output_type": "execute_result"
    }
   ],
   "source": [
    "df[df[\"cumtime\"] == df[\"cumtime\"].max()]"
   ]
  },
  {
   "cell_type": "code",
   "execution_count": 13,
   "metadata": {},
   "outputs": [
    {
     "data": {
      "text/html": [
       "<div>\n",
       "<style scoped>\n",
       "    .dataframe tbody tr th:only-of-type {\n",
       "        vertical-align: middle;\n",
       "    }\n",
       "\n",
       "    .dataframe tbody tr th {\n",
       "        vertical-align: top;\n",
       "    }\n",
       "\n",
       "    .dataframe thead th {\n",
       "        text-align: right;\n",
       "    }\n",
       "</style>\n",
       "<table border=\"1\" class=\"dataframe\">\n",
       "  <thead>\n",
       "    <tr style=\"text-align: right;\">\n",
       "      <th></th>\n",
       "      <th>func</th>\n",
       "      <th>ncalls</th>\n",
       "      <th>ccalls</th>\n",
       "      <th>tottime</th>\n",
       "      <th>cumtime</th>\n",
       "      <th>callers</th>\n",
       "    </tr>\n",
       "  </thead>\n",
       "  <tbody>\n",
       "    <tr>\n",
       "      <th>49</th>\n",
       "      <td>&lt;code object main at 0x10fdfba90, file \"../../...</td>\n",
       "      <td>1</td>\n",
       "      <td>0</td>\n",
       "      <td>1.939390e-01</td>\n",
       "      <td>3.986670e-04</td>\n",
       "      <td>[(&lt;code object read at 0x14e74fe00, file \"/Vol...</td>\n",
       "    </tr>\n",
       "    <tr>\n",
       "      <th>47</th>\n",
       "      <td>&lt;code object encode_using_amplitude_indices at...</td>\n",
       "      <td>1</td>\n",
       "      <td>0</td>\n",
       "      <td>1.901935e-01</td>\n",
       "      <td>1.704990e-04</td>\n",
       "      <td>[(&lt;code object huffman_encoding at 0x12ba56c00...</td>\n",
       "    </tr>\n",
       "    <tr>\n",
       "      <th>54</th>\n",
       "      <td>&lt;code object create_byte_string at 0x12ba58e00...</td>\n",
       "      <td>1</td>\n",
       "      <td>0</td>\n",
       "      <td>9.332933e-02</td>\n",
       "      <td>8.869346e-02</td>\n",
       "      <td>[(&lt;method 'tobytes' of 'numpy.ndarray' objects...</td>\n",
       "    </tr>\n",
       "    <tr>\n",
       "      <th>74</th>\n",
       "      <td>&lt;code object &lt;listcomp&gt; at 0x158654130, file \"...</td>\n",
       "      <td>1</td>\n",
       "      <td>0</td>\n",
       "      <td>5.364554e-02</td>\n",
       "      <td>1.030833e-02</td>\n",
       "      <td>[(&lt;method 'index' of 'list' objects&gt;, 98741, 0...</td>\n",
       "    </tr>\n",
       "    <tr>\n",
       "      <th>2</th>\n",
       "      <td>&lt;method 'index' of 'list' objects&gt;</td>\n",
       "      <td>98741</td>\n",
       "      <td>0</td>\n",
       "      <td>4.333722e-02</td>\n",
       "      <td>4.333722e-02</td>\n",
       "      <td>None</td>\n",
       "    </tr>\n",
       "    <tr>\n",
       "      <th>...</th>\n",
       "      <td>...</td>\n",
       "      <td>...</td>\n",
       "      <td>...</td>\n",
       "      <td>...</td>\n",
       "      <td>...</td>\n",
       "      <td>...</td>\n",
       "    </tr>\n",
       "    <tr>\n",
       "      <th>6</th>\n",
       "      <td>&lt;method 'values' of 'dict' objects&gt;</td>\n",
       "      <td>4</td>\n",
       "      <td>0</td>\n",
       "      <td>4.170000e-07</td>\n",
       "      <td>4.170000e-07</td>\n",
       "      <td>None</td>\n",
       "    </tr>\n",
       "    <tr>\n",
       "      <th>21</th>\n",
       "      <td>&lt;method '__exit__' of '_thread.RLock' objects&gt;</td>\n",
       "      <td>1</td>\n",
       "      <td>0</td>\n",
       "      <td>3.330000e-07</td>\n",
       "      <td>3.330000e-07</td>\n",
       "      <td>None</td>\n",
       "    </tr>\n",
       "    <tr>\n",
       "      <th>11</th>\n",
       "      <td>&lt;built-in method builtins.isinstance&gt;</td>\n",
       "      <td>2</td>\n",
       "      <td>0</td>\n",
       "      <td>2.920000e-07</td>\n",
       "      <td>2.920000e-07</td>\n",
       "      <td>None</td>\n",
       "    </tr>\n",
       "    <tr>\n",
       "      <th>35</th>\n",
       "      <td>&lt;code object _unique_dispatcher at 0x105e62730...</td>\n",
       "      <td>1</td>\n",
       "      <td>0</td>\n",
       "      <td>2.090000e-07</td>\n",
       "      <td>2.090000e-07</td>\n",
       "      <td>None</td>\n",
       "    </tr>\n",
       "    <tr>\n",
       "      <th>9</th>\n",
       "      <td>&lt;method 'rstrip' of 'str' objects&gt;</td>\n",
       "      <td>1</td>\n",
       "      <td>0</td>\n",
       "      <td>2.090000e-07</td>\n",
       "      <td>2.090000e-07</td>\n",
       "      <td>None</td>\n",
       "    </tr>\n",
       "  </tbody>\n",
       "</table>\n",
       "<p>75 rows × 6 columns</p>\n",
       "</div>"
      ],
      "text/plain": [
       "                                                 func  ncalls  ccalls  \\\n",
       "49  <code object main at 0x10fdfba90, file \"../../...       1       0   \n",
       "47  <code object encode_using_amplitude_indices at...       1       0   \n",
       "54  <code object create_byte_string at 0x12ba58e00...       1       0   \n",
       "74  <code object <listcomp> at 0x158654130, file \"...       1       0   \n",
       "2                  <method 'index' of 'list' objects>   98741       0   \n",
       "..                                                ...     ...     ...   \n",
       "6                 <method 'values' of 'dict' objects>       4       0   \n",
       "21     <method '__exit__' of '_thread.RLock' objects>       1       0   \n",
       "11              <built-in method builtins.isinstance>       2       0   \n",
       "35  <code object _unique_dispatcher at 0x105e62730...       1       0   \n",
       "9                  <method 'rstrip' of 'str' objects>       1       0   \n",
       "\n",
       "         tottime       cumtime  \\\n",
       "49  1.939390e-01  3.986670e-04   \n",
       "47  1.901935e-01  1.704990e-04   \n",
       "54  9.332933e-02  8.869346e-02   \n",
       "74  5.364554e-02  1.030833e-02   \n",
       "2   4.333722e-02  4.333722e-02   \n",
       "..           ...           ...   \n",
       "6   4.170000e-07  4.170000e-07   \n",
       "21  3.330000e-07  3.330000e-07   \n",
       "11  2.920000e-07  2.920000e-07   \n",
       "35  2.090000e-07  2.090000e-07   \n",
       "9   2.090000e-07  2.090000e-07   \n",
       "\n",
       "                                              callers  \n",
       "49  [(<code object read at 0x14e74fe00, file \"/Vol...  \n",
       "47  [(<code object huffman_encoding at 0x12ba56c00...  \n",
       "54  [(<method 'tobytes' of 'numpy.ndarray' objects...  \n",
       "74  [(<method 'index' of 'list' objects>, 98741, 0...  \n",
       "2                                                None  \n",
       "..                                                ...  \n",
       "6                                                None  \n",
       "21                                               None  \n",
       "11                                               None  \n",
       "35                                               None  \n",
       "9                                                None  \n",
       "\n",
       "[75 rows x 6 columns]"
      ]
     },
     "execution_count": 13,
     "metadata": {},
     "output_type": "execute_result"
    }
   ],
   "source": [
    "df.sort_values(\"tottime\", ascending=False)"
   ]
  },
  {
   "cell_type": "code",
   "execution_count": 14,
   "metadata": {},
   "outputs": [
    {
     "data": {
      "text/plain": [
       "<pandas.core.indexing._iLocIndexer at 0x1586334d0>"
      ]
     },
     "execution_count": 14,
     "metadata": {},
     "output_type": "execute_result"
    }
   ],
   "source": [
    "df.iloc(1)"
   ]
  },
  {
   "cell_type": "code",
   "execution_count": 15,
   "metadata": {},
   "outputs": [
    {
     "name": "stdout",
     "output_type": "stream",
     "text": [
      "                                                 func  ncalls  ccalls       tottime       cumtime                                            callers\n",
      "49  <code object main at 0x10fdfba90, file \"../../...       1       0  1.939390e-01  3.986670e-04  [(<code object read at 0x14e74fe00, file \"/Vol...\n",
      "47  <code object encode_using_amplitude_indices at...       1       0  1.901935e-01  1.704990e-04  [(<code object huffman_encoding at 0x12ba56c00...\n",
      "54  <code object create_byte_string at 0x12ba58e00...       1       0  9.332933e-02  8.869346e-02  [(<method 'tobytes' of 'numpy.ndarray' objects...\n",
      "74  <code object <listcomp> at 0x158654130, file \"...       1       0  5.364554e-02  1.030833e-02  [(<method 'index' of 'list' objects>, 98741, 0...\n",
      "2                  <method 'index' of 'list' objects>   98741       0  4.333722e-02  4.333722e-02                                               None\n",
      "53  <code object huffman_encoding at 0x12ba56c00, ...       1       0  3.510575e-02  1.050753e-03  [(<method 'tobytes' of 'numpy.ndarray' objects...\n",
      "48  <code object determine_hex_freq at 0x10fdf9650...       1       0  1.867867e-02  1.851412e-02  [(<built-in method builtins.sorted>, 1, 0, 3.7...\n",
      "62  <code object convertHexToBit at 0x14fd7fa50, f...       1       0  1.488888e-02  5.070900e-05  [(<method 'hex' of 'bytes' objects>, 1, 0, 6.3...\n",
      "69  <code object <listcomp> at 0x1584fb780, file \"...       1       0  8.719791e-03  8.719791e-03                                               None\n",
      "72  <code object <listcomp> at 0x1585d9ed0, file \"...       1       0  5.125667e-03  5.125667e-03                                               None\n",
      "51  <code object unique at 0x12b905200, file \"/Vol...       1       0  5.123042e-03  8.791000e-06  [(<code object _unique1d at 0x12b917e00, file ...\n",
      "3                <method 'to_bytes' of 'int' objects>   72359       0  3.389840e-03  3.389840e-03                                               None\n",
      "42                 <built-in method numpy.asanyarray>       2       0  2.615042e-03  2.615042e-03                                               None\n",
      "52  <code object _unique1d at 0x12b917e00, file \"/...       1       0  2.498375e-03  7.762400e-05  [(<method 'sort' of 'numpy.ndarray' objects>, ...\n",
      "38         <method 'sort' of 'numpy.ndarray' objects>       1       0  2.282875e-03  2.282875e-03                                               None\n",
      "60  <code object read at 0x14e74fe00, file \"/Volum...       1       0  1.860583e-03  1.824900e-05  [(<built-in method io.open>, 1, 0, 0.001231583...\n",
      "41                      <built-in method numpy.array>       2       0  1.834125e-03  1.834125e-03                                               None\n",
      "55  <code object write_file_bytes at 0x12c64d5c0, ...       1       0  1.486250e-03  1.270900e-05  [(<built-in method io.open>, 1, 0, 0.000125583...\n",
      "14                          <built-in method io.open>       2       0  1.357166e-03  1.357166e-03                                               None\n",
      "19   <method 'close' of '_io.BufferedRandom' objects>       1       0  1.315167e-03  1.315167e-03                                               None\n",
      "56  <code object rle_bit_compression at 0x13b6d0a0...       1       0  1.088500e-03  8.914000e-04  [(<built-in method builtins.len>, 3558, 0, 0.0...\n",
      "40       <method 'tolist' of 'numpy.ndarray' objects>       2       0  9.849580e-04  9.849580e-04                                               None\n",
      "7                    <method 'join' of 'str' objects>       2       0  9.331250e-04  9.331250e-04                                               None\n",
      "57  <code object _read_riff_chunk at 0x14e734c00, ...       1       0  2.881250e-04  6.166600e-05  [(<built-in method _struct.unpack>, 1, 0, 2.12...\n",
      "59  <code object _read_data_chunk at 0x14e74f000, ...       1       0  2.848330e-04  7.334000e-06  [(<code object _handle_pad_byte at 0x15841fc30...\n",
      "44                   <built-in method numpy.fromfile>       1       0  2.634580e-04  2.599990e-04  [(<code object __instancecheck__ at 0x102bff18...\n",
      "28                   <built-in method _heapq.heappop>     250       0  2.344710e-04  1.235120e-04  [(<code object __lt__ at 0x1585d9df0, file \".....\n",
      "17    <method 'read' of '_io.BufferedReader' objects>       8       0  2.247520e-04  2.247520e-04                                               None\n",
      "0                   <method 'hex' of 'bytes' objects>       3       0  1.896250e-04  1.896250e-04                                               None\n",
      "71  <code object __lt__ at 0x1585d9df0, file \"../....    1776       0  1.379670e-04  1.379670e-04                                               None\n",
      "37      <method 'flatten' of 'numpy.ndarray' objects>       1       0  1.325420e-04  1.325420e-04                                               None\n",
      "12                     <built-in method builtins.len>    3989       0  1.306730e-04  1.306730e-04                                               None\n",
      "70  <code object create_node_mapping_dictionary at...     251     250  1.046250e-04  1.046250e-04  [(<code object create_node_mapping_dictionary ...\n",
      "1                 <method 'append' of 'list' objects>    2492       0  8.216800e-05  8.216800e-05                                               None\n",
      "27                  <built-in method _heapq.heappush>     251       0  7.275200e-05  4.574400e-05  [(<code object __lt__ at 0x1585d9df0, file \".....\n",
      "50  <code object encode_rle at 0x12ad72030, file \"...       1       0  5.516700e-05  4.473600e-05  [(<built-in method builtins.len>, 159, 0, 4.65...\n",
      "67  <code object __init__ at 0x15847a9a0, file \".....     251       0  4.294900e-05  4.294900e-05                                               None\n",
      "13                  <built-in method builtins.sorted>       1       0  3.729200e-05  2.949400e-05  [(<code object <lambda> at 0x14ee8e800, file \"...\n",
      "20   <method 'write' of '_io.BufferedRandom' objects>       1       0  3.225000e-05  3.225000e-05                                               None\n",
      "68  <code object <listcomp> at 0x15847abc0, file \"...       1       0  2.670800e-05  1.794800e-05  [(<method 'to_bytes' of 'int' objects>, 158, 0...\n",
      "65  <code object <listcomp> at 0x15841fd30, file \"...       1       0  2.345800e-05  2.345800e-05                                               None\n",
      "36          <method 'any' of 'numpy.ndarray' objects>       1       0  2.270800e-05  2.249000e-06  [(<code object _any at 0x105d1c810, file \"/Vol...\n",
      "16   <method 'close' of '_io.BufferedReader' objects>       1       0  2.200000e-05  2.200000e-05                                               None\n",
      "18    <method 'tell' of '_io.BufferedReader' objects>       4       0  2.058200e-05  2.058200e-05                                               None\n",
      "33  <code object _any at 0x105d1c810, file \"/Volum...       1       0  2.045900e-05  2.084000e-06  [(<method 'reduce' of 'numpy.ufunc' objects>, ...\n",
      "45         <method 'reduce' of 'numpy.ufunc' objects>       1       0  1.837500e-05  1.837500e-05                                               None\n",
      "46  <code object _clean_thread_parent_frames at 0x...       2       0  1.833300e-05  5.958000e-06  [(<code object enumerate at 0x10302dbd0, file ...\n",
      "63  <code object <listcomp> at 0x15841c930, file \"...       1       0  1.716700e-05  1.716700e-05                                               None\n",
      "66  <code object <listcomp> at 0x15841fe30, file \"...       1       0  1.633400e-05  1.210300e-05  [(<built-in method builtins.len>, 126, 0, 4.23...\n",
      "39      <method 'tobytes' of 'numpy.ndarray' objects>       3       0  9.541000e-06  9.541000e-06                                               None\n",
      "61  <code object <lambda> at 0x14ee8e800, file \".....     126       0  7.798000e-06  7.798000e-06                                               None\n",
      "58  <code object _read_fmt_chunk at 0x14e74ca00, f...       1       0  7.542000e-06  6.041000e-06  [(<code object _handle_pad_byte at 0x15841fc30...\n",
      "31  <code object <setcomp> at 0x10547c110, file \"/...       1       0  7.000000e-06  4.124000e-06  [(<code object ident at 0x1032756b0, file \"/op...\n",
      "43                      <built-in method numpy.empty>       1       0  4.959000e-06  4.959000e-06                                               None\n",
      "24  <code object enumerate at 0x10302dbd0, file \"/...       1       0  4.750000e-06  4.292000e-06  [(<method '__exit__' of '_thread.RLock' object...\n",
      "32  <code object <listcomp> at 0x105b46560, file \"...       1       0  3.709000e-06  2.291000e-06  [(<method 'to_bytes' of 'int' objects>, 7, 0, ...\n",
      "23  <code object __instancecheck__ at 0x102bff188,...       1       0  3.459000e-06  1.709000e-06  [(<built-in method _abc._abc_instancecheck>, 1...\n",
      "26                   <built-in method _struct.unpack>       4       0  2.958000e-06  2.958000e-06                                               None\n",
      "25  <code object ident at 0x1032756b0, file \"/opt/...       7       0  2.876000e-06  2.876000e-06                                               None\n",
      "30  <code object __exit__ at 0x10534bc30, file \"/o...       1       0  2.583000e-06  2.041000e-06  [(<method 'disable' of '_lsprof.Profiler' obje...\n",
      "73  <code object <listcomp> at 0x158654030, file \"...       1       0  2.500000e-06  2.040000e-06  [(<method 'to_bytes' of 'int' objects>, 7, 0, ...\n",
      "22          <built-in method _abc._abc_instancecheck>       1       0  1.750000e-06  1.750000e-06                                               None\n",
      "34  <code object _unpack_tuple at 0x105e0ba30, fil...       1       0  1.209000e-06  7.500000e-07  [(<built-in method builtins.len>, 1, 0, 4.59e-...\n",
      "64  <code object _handle_pad_byte at 0x15841fc30, ...       2       0  9.590000e-07  9.590000e-07                                               None\n",
      "10                 <built-in method builtins.hasattr>       2       0  7.500000e-07  7.500000e-07                                               None\n",
      "8                  <method 'lstrip' of 'str' objects>       1       0  6.250000e-07  6.250000e-07                                               None\n",
      "5                  <method 'items' of 'dict' objects>       1       0  6.250000e-07  6.250000e-07                                               None\n",
      "4                   <method 'keys' of 'dict' objects>       6       0  6.240000e-07  6.240000e-07                                               None\n",
      "29   <method 'disable' of '_lsprof.Profiler' objects>       1       0  5.420000e-07  5.420000e-07                                               None\n",
      "15       <method '__exit__' of '_io._IOBase' objects>       1       0  5.410000e-07  5.410000e-07                                               None\n",
      "6                 <method 'values' of 'dict' objects>       4       0  4.170000e-07  4.170000e-07                                               None\n",
      "21     <method '__exit__' of '_thread.RLock' objects>       1       0  3.330000e-07  3.330000e-07                                               None\n",
      "11              <built-in method builtins.isinstance>       2       0  2.920000e-07  2.920000e-07                                               None\n",
      "35  <code object _unique_dispatcher at 0x105e62730...       1       0  2.090000e-07  2.090000e-07                                               None\n",
      "9                  <method 'rstrip' of 'str' objects>       1       0  2.090000e-07  2.090000e-07                                               None\n"
     ]
    }
   ],
   "source": [
    "print_full(df.sort_values(\"tottime\", ascending=False))"
   ]
  }
 ],
 "metadata": {
  "kernelspec": {
   "display_name": "py_encoding_env",
   "language": "python",
   "name": "python3"
  },
  "language_info": {
   "codemirror_mode": {
    "name": "ipython",
    "version": 3
   },
   "file_extension": ".py",
   "mimetype": "text/x-python",
   "name": "python",
   "nbconvert_exporter": "python",
   "pygments_lexer": "ipython3",
   "version": "3.11.5"
  }
 },
 "nbformat": 4,
 "nbformat_minor": 2
}
