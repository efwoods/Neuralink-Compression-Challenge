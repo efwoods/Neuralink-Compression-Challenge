{
 "cells": [
  {
   "cell_type": "code",
   "execution_count": 1,
   "metadata": {},
   "outputs": [],
   "source": [
    "import gzip\n",
    "import shutil\n",
    "import sys\n",
    "import os\n",
    "import time\n",
    "\n",
    "sys.path.insert(0, os.path.join(os.getcwd(), \"../..\"))\n",
    "from utility import signal_process"
   ]
  },
  {
   "cell_type": "code",
   "execution_count": 2,
   "metadata": {},
   "outputs": [],
   "source": [
    "test_file = \"../../data/0ab237b7-fb12-4687-afed-8d1e2070d621.wav\""
   ]
  },
  {
   "cell_type": "code",
   "execution_count": 4,
   "metadata": {},
   "outputs": [
    {
     "name": "stdout",
     "output_type": "stream",
     "text": [
      "\n",
      "Executed Line: fp.read()...\n",
      "Time Δ Nanoseconds: 1513000\n",
      "Time Δ Microseconds: 1513.0\n",
      "Time Δ Milliseconds: 1.513\n",
      "Time Δ Seconds: 0.001513\n",
      "\n",
      "\n"
     ]
    }
   ],
   "source": [
    "start_time = time.time_ns()\n",
    "with open(test_file, \"rb\") as fp:\n",
    "    file_bytes = fp.read()\n",
    "    fp.close()\n",
    "stop_time = time.time_ns()\n",
    "\n",
    "signal_process.print_time_each_function_takes_to_complete_processing(\n",
    "    start_time, stop_time, executed_line=\"fp.read()\"\n",
    ")"
   ]
  },
  {
   "cell_type": "code",
   "execution_count": 6,
   "metadata": {},
   "outputs": [
    {
     "name": "stdout",
     "output_type": "stream",
     "text": [
      "\n",
      "Executed Line: fp.read()...\n",
      "Time Δ Nanoseconds: 71711000\n",
      "Time Δ Microseconds: 71711.0\n",
      "Time Δ Milliseconds: 71.711\n",
      "Time Δ Seconds: 0.071711\n",
      "\n",
      "\n"
     ]
    },
    {
     "ename": "ValueError",
     "evalue": "stat: embedded null character in path",
     "output_type": "error",
     "traceback": [
      "\u001b[0;31m---------------------------------------------------------------------------\u001b[0m",
      "\u001b[0;31mValueError\u001b[0m                                Traceback (most recent call last)",
      "Cell \u001b[0;32mIn[6], line 9\u001b[0m\n\u001b[1;32m      3\u001b[0m stop_time \u001b[38;5;241m=\u001b[39m time\u001b[38;5;241m.\u001b[39mtime_ns()\n\u001b[1;32m      5\u001b[0m signal_process\u001b[38;5;241m.\u001b[39mprint_time_each_function_takes_to_complete_processing(\n\u001b[1;32m      6\u001b[0m     start_time, stop_time, executed_line\u001b[38;5;241m=\u001b[39m\u001b[38;5;124m\"\u001b[39m\u001b[38;5;124mfp.read()\u001b[39m\u001b[38;5;124m\"\u001b[39m\n\u001b[1;32m      7\u001b[0m )\n\u001b[0;32m----> 9\u001b[0m \u001b[43msignal_process\u001b[49m\u001b[38;5;241;43m.\u001b[39;49m\u001b[43mprint_size_of_file_compression\u001b[49m\u001b[43m(\u001b[49m\n\u001b[1;32m     10\u001b[0m \u001b[43m    \u001b[49m\u001b[43mfile_path\u001b[49m\u001b[38;5;241;43m=\u001b[39;49m\u001b[43mtest_file\u001b[49m\u001b[43m,\u001b[49m\u001b[43m \u001b[49m\u001b[43mcompressed_file_path\u001b[49m\u001b[38;5;241;43m=\u001b[39;49m\u001b[43mfile_compressed\u001b[49m\n\u001b[1;32m     11\u001b[0m \u001b[43m)\u001b[49m\n",
      "File \u001b[0;32m/Volumes/T7/Github/Neuralink-Compression-Challenge/analysis/tutorials/../../utility/signal_process.py:619\u001b[0m, in \u001b[0;36mprint_size_of_file_compression\u001b[0;34m(file_path, compressed_file_path)\u001b[0m\n\u001b[1;32m    611\u001b[0m \u001b[38;5;250m\u001b[39m\u001b[38;5;124;03m\"\"\"This function prints the file size, the compressed file size, and\u001b[39;00m\n\u001b[1;32m    612\u001b[0m \u001b[38;5;124;03mthe percent the file has been compressed.\u001b[39;00m\n\u001b[1;32m    613\u001b[0m \n\u001b[0;32m   (...)\u001b[0m\n\u001b[1;32m    616\u001b[0m \u001b[38;5;124;03m    compressed_file_path (str): This is the path of the compressed file.\u001b[39;00m\n\u001b[1;32m    617\u001b[0m \u001b[38;5;124;03m\"\"\"\u001b[39;00m\n\u001b[1;32m    618\u001b[0m file_size \u001b[38;5;241m=\u001b[39m os\u001b[38;5;241m.\u001b[39mpath\u001b[38;5;241m.\u001b[39mgetsize(file_path)\n\u001b[0;32m--> 619\u001b[0m compressed_file_size \u001b[38;5;241m=\u001b[39m \u001b[43mos\u001b[49m\u001b[38;5;241;43m.\u001b[39;49m\u001b[43mpath\u001b[49m\u001b[38;5;241;43m.\u001b[39;49m\u001b[43mgetsize\u001b[49m\u001b[43m(\u001b[49m\u001b[43mcompressed_file_path\u001b[49m\u001b[43m)\u001b[49m\n\u001b[1;32m    620\u001b[0m percent_of_compression \u001b[38;5;241m=\u001b[39m (\u001b[38;5;241m1\u001b[39m \u001b[38;5;241m-\u001b[39m (compressed_file_size \u001b[38;5;241m/\u001b[39m file_size)) \u001b[38;5;241m*\u001b[39m \u001b[38;5;241m100\u001b[39m\n\u001b[1;32m    621\u001b[0m file_size_requirement \u001b[38;5;241m=\u001b[39m file_size \u001b[38;5;241m/\u001b[39m\u001b[38;5;241m/\u001b[39m \u001b[38;5;241m200\u001b[39m\n",
      "File \u001b[0;32m<frozen genericpath>:50\u001b[0m, in \u001b[0;36mgetsize\u001b[0;34m(filename)\u001b[0m\n",
      "\u001b[0;31mValueError\u001b[0m: stat: embedded null character in path"
     ]
    }
   ],
   "source": [
    "start_time = time.time_ns()\n",
    "file_compressed = gzip.compress(file_bytes)\n",
    "stop_time = time.time_ns()\n",
    "\n",
    "signal_process.print_time_each_function_takes_to_complete_processing(\n",
    "    start_time, stop_time, executed_line=\"fp.read()\"\n",
    ")\n",
    "\n",
    "signal_process.print_size_of_file_compression(\n",
    "    file_path=test_file, compressed_file_path=file_compressed\n",
    ")"
   ]
  },
  {
   "cell_type": "code",
   "execution_count": 17,
   "metadata": {},
   "outputs": [
    {
     "data": {
      "text/plain": [
       "83515"
      ]
     },
     "execution_count": 17,
     "metadata": {},
     "output_type": "execute_result"
    }
   ],
   "source": [
    "len(file_compressed)"
   ]
  },
  {
   "cell_type": "code",
   "execution_count": 7,
   "metadata": {},
   "outputs": [
    {
     "name": "stdout",
     "output_type": "stream",
     "text": [
      "\n",
      "Executed Line: ../../data/0ab237b7-fb12-4687-afed-8d1e2070d621.wav...\n",
      "Time Δ Nanoseconds: 76989000\n",
      "Time Δ Microseconds: 76989.0\n",
      "Time Δ Milliseconds: 76.989\n",
      "Time Δ Seconds: 0.076989\n",
      "\n",
      "\n",
      "Original File Size: 197526\n",
      "Compressed File Size: 83524\n",
      "Percent of Compression: 57.71%\n",
      "Percent of Compressed File Size Relative to Required File Size:8462.411%\n"
     ]
    }
   ],
   "source": [
    "start_time = time.time_ns()\n",
    "with open(\"../../data/0ab237b7-fb12-4687-afed-8d1e2070d621.wav\", \"rb\") as fp_in:\n",
    "    with gzip.open(\"./data.wav.gz\", \"wb\") as fp_out:\n",
    "        shutil.copyfileobj(fp_in, fp_out)\n",
    "stop_time = time.time_ns()\n",
    "\n",
    "signal_process.print_time_each_function_takes_to_complete_processing(\n",
    "    start_time,\n",
    "    stop_time,\n",
    "    executed_line='with gzip.open(\"./data.wav.gz\", \"wb\") as fp_out: shutil.copyfileobj(fp_in, fp_out)',\n",
    ")\n",
    "\n",
    "signal_process.print_size_of_file_compression(\n",
    "    file_path=\"../../data/0ab237b7-fb12-4687-afed-8d1e2070d621.wav\",\n",
    "    compressed_file_path=\"./data.wav.gz\",\n",
    ")"
   ]
  },
  {
   "cell_type": "code",
   "execution_count": null,
   "metadata": {},
   "outputs": [],
   "source": []
  }
 ],
 "metadata": {
  "kernelspec": {
   "display_name": "py_encoding_env",
   "language": "python",
   "name": "python3"
  },
  "language_info": {
   "codemirror_mode": {
    "name": "ipython",
    "version": 3
   },
   "file_extension": ".py",
   "mimetype": "text/x-python",
   "name": "python",
   "nbconvert_exporter": "python",
   "pygments_lexer": "ipython3",
   "version": "3.11.7"
  }
 },
 "nbformat": 4,
 "nbformat_minor": 2
}
