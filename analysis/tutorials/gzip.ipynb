{
 "cells": [
  {
   "cell_type": "code",
   "execution_count": 1,
   "metadata": {},
   "outputs": [],
   "source": [
    "import gzip\n",
    "import shutil\n",
    "import sys\n",
    "import os\n",
    "import time\n",
    "\n",
    "sys.path.insert(0, os.path.join(os.getcwd(), \"../..\"))\n",
    "from utility import signal_process"
   ]
  },
  {
   "cell_type": "code",
   "execution_count": 2,
   "metadata": {},
   "outputs": [],
   "source": [
    "test_file = \"../../data/0ab237b7-fb12-4687-afed-8d1e2070d621.wav\""
   ]
  },
  {
   "cell_type": "code",
   "execution_count": 3,
   "metadata": {},
   "outputs": [],
   "source": [
    "def compare_compression_ratio(file, compressed_file: str, method: str = None):\n",
    "    \"\"\"This function prints the compression ratio of two files.\n",
    "\n",
    "    Args:\n",
    "        file (numpy.ndarray): This is the array of amplitudes before\n",
    "                              compression.\n",
    "        compressed_file (str): This is the compressed representation of\n",
    "                               the amplitudes after the method of\n",
    "                               compression has been applied.\n",
    "        method (str):  This is the string representing the method of\n",
    "                       compression. Defaults to None.\n",
    "    \"\"\"\n",
    "\n",
    "    if method != None:\n",
    "        print(f\"\\nMethod of Compression: {method}\")\n",
    "    else:\n",
    "        print(\"\\n\")\n",
    "    if type(file) == bytes:\n",
    "        percent_compression = (len(compressed_file) / len(file)) * 100\n",
    "        print(f\"Initial file size: {len(file)} bytes.\")\n",
    "    else:\n",
    "        print(f\"Initial file size: {len(file.tobytes())} bytes.\")\n",
    "        percent_compression = (len(compressed_file) / len(file.tobytes())) * 100\n",
    "    print(f\"Compressed File Size: {len(compressed_file)} bytes.\")\n",
    "    print(f\"Percent of Compression: {percent_compression:.2f}%\")\n",
    "    print(f\"\\n\")"
   ]
  },
  {
   "cell_type": "code",
   "execution_count": 4,
   "metadata": {},
   "outputs": [
    {
     "name": "stdout",
     "output_type": "stream",
     "text": [
      "\n",
      "Executed Line: fp.read()...\n",
      "Time Δ Nanoseconds: 1534000\n",
      "Time Δ Microseconds: 1534.0\n",
      "Time Δ Milliseconds: 1.534\n",
      "Time Δ Seconds: 0.001534\n",
      "\n",
      "\n"
     ]
    }
   ],
   "source": [
    "start_time = time.time_ns()\n",
    "with open(test_file, \"rb\") as fp:\n",
    "    file_bytes = fp.read()\n",
    "    fp.close()\n",
    "stop_time = time.time_ns()\n",
    "\n",
    "signal_process.print_time_each_function_takes_to_complete_processing(\n",
    "    start_time, stop_time, executed_line=\"fp.read()\"\n",
    ")"
   ]
  },
  {
   "cell_type": "code",
   "execution_count": 5,
   "metadata": {},
   "outputs": [
    {
     "name": "stdout",
     "output_type": "stream",
     "text": [
      "\n",
      "Executed Line: fp.read()...\n",
      "Time Δ Nanoseconds: 58866000\n",
      "Time Δ Microseconds: 58866.0\n",
      "Time Δ Milliseconds: 58.866\n",
      "Time Δ Seconds: 0.058866\n",
      "\n",
      "\n",
      "\n",
      "\n",
      "Initial file size: 197526 bytes.\n",
      "Compressed File Size: 83515 bytes.\n",
      "Percent of Compression: 42.28%\n",
      "\n",
      "\n"
     ]
    }
   ],
   "source": [
    "start_time = time.time_ns()\n",
    "file_compressed = gzip.compress(file_bytes)\n",
    "stop_time = time.time_ns()\n",
    "\n",
    "signal_process.print_time_each_function_takes_to_complete_processing(\n",
    "    start_time, stop_time, executed_line=\"fp.read()\"\n",
    ")\n",
    "\n",
    "compare_compression_ratio(file=file_bytes, compressed_file=file_compressed)"
   ]
  },
  {
   "cell_type": "code",
   "execution_count": 6,
   "metadata": {},
   "outputs": [
    {
     "data": {
      "text/plain": [
       "83515"
      ]
     },
     "execution_count": 6,
     "metadata": {},
     "output_type": "execute_result"
    }
   ],
   "source": [
    "len(file_compressed)"
   ]
  },
  {
   "cell_type": "code",
   "execution_count": 7,
   "metadata": {},
   "outputs": [
    {
     "name": "stdout",
     "output_type": "stream",
     "text": [
      "\n",
      "Executed Line: with gzip.open(\"./data.wav.gz\", \"wb\") as fp_out: shutil.copyfileobj(fp_in, fp_out)...\n",
      "Time Δ Nanoseconds: 100639000\n",
      "Time Δ Microseconds: 100639.0\n",
      "Time Δ Milliseconds: 100.639\n",
      "Time Δ Seconds: 0.100639\n",
      "\n",
      "\n",
      "Original File Size: 197526\n",
      "Compressed File Size: 83524\n",
      "Percent of Compression: 42.29%\n",
      "Percent of Compressed File Size Relative to Required File Size:8462.411%\n"
     ]
    }
   ],
   "source": [
    "start_time = time.time_ns()\n",
    "with open(\"../../data/0ab237b7-fb12-4687-afed-8d1e2070d621.wav\", \"rb\") as fp_in:\n",
    "    with gzip.open(\"./data.wav.gz\", \"wb\") as fp_out:\n",
    "        shutil.copyfileobj(fp_in, fp_out)\n",
    "stop_time = time.time_ns()\n",
    "\n",
    "signal_process.print_time_each_function_takes_to_complete_processing(\n",
    "    start_time,\n",
    "    stop_time,\n",
    "    executed_line='with gzip.open(\"./data.wav.gz\", \"wb\") as fp_out: shutil.copyfileobj(fp_in, fp_out)',\n",
    ")\n",
    "\n",
    "signal_process.print_size_of_file_compression(\n",
    "    file_path=\"../../data/0ab237b7-fb12-4687-afed-8d1e2070d621.wav\",\n",
    "    compressed_file_path=\"./data.wav.gz\",\n",
    ")"
   ]
  }
 ],
 "metadata": {
  "kernelspec": {
   "display_name": "py_encoding_env",
   "language": "python",
   "name": "python3"
  },
  "language_info": {
   "codemirror_mode": {
    "name": "ipython",
    "version": 3
   },
   "file_extension": ".py",
   "mimetype": "text/x-python",
   "name": "python",
   "nbconvert_exporter": "python",
   "pygments_lexer": "ipython3",
   "version": "3.11.7"
  }
 },
 "nbformat": 4,
 "nbformat_minor": 2
}
