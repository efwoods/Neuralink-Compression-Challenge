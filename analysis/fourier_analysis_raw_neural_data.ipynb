{
 "cells": [
  {
   "cell_type": "code",
   "execution_count": null,
   "metadata": {},
   "outputs": [],
   "source": [
    "import matplotlib.pyplot as plt\n",
    "from glob import glob\n",
    "import numpy as np\n",
    "import scipy.signal\n",
    "import pandas as pd\n",
    "import IPython.display as ipd\n",
    "import librosa\n",
    "import matplotlib.colors as mcolors\n",
    "from scipy.io import wavfile"
   ]
  },
  {
   "cell_type": "code",
   "execution_count": null,
   "metadata": {},
   "outputs": [],
   "source": [
    "data_dir = '../data/'"
   ]
  },
  {
   "cell_type": "code",
   "execution_count": null,
   "metadata": {},
   "outputs": [],
   "source": [
    "data_file_list = glob(data_dir + '*.wav')"
   ]
  },
  {
   "cell_type": "code",
   "execution_count": null,
   "metadata": {},
   "outputs": [],
   "source": [
    "data_file_list[0]"
   ]
  },
  {
   "cell_type": "code",
   "execution_count": null,
   "metadata": {},
   "outputs": [],
   "source": [
    "ipd.Audio(data_file_list[0])"
   ]
  },
  {
   "cell_type": "code",
   "execution_count": null,
   "metadata": {},
   "outputs": [],
   "source": [
    "SAMPLE_RATE = 20000"
   ]
  },
  {
   "cell_type": "code",
   "execution_count": null,
   "metadata": {},
   "outputs": [],
   "source": [
    "raw_neural_data, sr = librosa.load(data_file_list[0], sr = SAMPLE_RATE)"
   ]
  },
  {
   "cell_type": "code",
   "execution_count": null,
   "metadata": {},
   "outputs": [],
   "source": [
    "raw_neural_data_bytes = raw_neural_data.tobytes()"
   ]
  },
  {
   "cell_type": "code",
   "execution_count": null,
   "metadata": {},
   "outputs": [],
   "source": [
    "len(raw_neural_data_bytes)"
   ]
  },
  {
   "cell_type": "code",
   "execution_count": null,
   "metadata": {},
   "outputs": [],
   "source": [
    "stop_time = len(raw_neural_data) / SAMPLE_RATE\n",
    "time = np.arange(0, stop_time, step=(1/SAMPLE_RATE))"
   ]
  },
  {
   "cell_type": "code",
   "execution_count": null,
   "metadata": {},
   "outputs": [],
   "source": [
    "plt.figure(figsize=(12, 4))\n",
    "plt.plot(time, raw_neural_data)\n",
    "plt.title('Raw Neural Data Vs. Time [s]')\n",
    "plt.xlabel('Time [s]')\n",
    "plt.ylabel('Amplitude')\n",
    "plt.legend(['Raw Neural Signal'])\n",
    "plt.show()"
   ]
  },
  {
   "cell_type": "code",
   "execution_count": null,
   "metadata": {},
   "outputs": [],
   "source": [
    "# It appears there is a trend in the data that is non-zero\n",
    "detrend_y = scipy.signal.detrend(raw_neural_data)\n"
   ]
  },
  {
   "cell_type": "code",
   "execution_count": null,
   "metadata": {},
   "outputs": [],
   "source": [
    "# Plotting the Detrended Signal\n",
    "plt.figure(figsize=(12, 4))\n",
    "plt.plot(time, detrend_y, label='Detrended Signal')\n",
    "plt.plot(time, raw_neural_data, label='Raw Signal')\n",
    "plt.title('Detrended Neural Signal')\n",
    "plt.xlabel('Time [s]')\n",
    "plt.ylabel('Amplitude')\n",
    "plt.legend()\n",
    "plt.show()\n"
   ]
  },
  {
   "cell_type": "markdown",
   "metadata": {},
   "source": [
    "## Frequency Analysis of Raw Neural Data"
   ]
  },
  {
   "cell_type": "code",
   "execution_count": null,
   "metadata": {},
   "outputs": [],
   "source": [
    "FFT = np.fft.fft(detrend_y)\n",
    "half_length_of_the_FFT = int(len(FFT)/2)\n",
    "\n",
    "# Creating frequency bins\n",
    "N = len(FFT)\n",
    "\n",
    "freq_bins = np.arange(start=0, stop=(sr/2), step=(sr/N))"
   ]
  },
  {
   "cell_type": "code",
   "execution_count": null,
   "metadata": {},
   "outputs": [],
   "source": [
    "len(freq_bins) == int(len(FFT)/2)"
   ]
  },
  {
   "cell_type": "code",
   "execution_count": null,
   "metadata": {},
   "outputs": [],
   "source": [
    "psd = FFT * np.conj(FFT)/ len(FFT)"
   ]
  },
  {
   "cell_type": "code",
   "execution_count": null,
   "metadata": {},
   "outputs": [],
   "source": [
    "psd = psd[0:len(psd)//2]"
   ]
  },
  {
   "cell_type": "code",
   "execution_count": null,
   "metadata": {},
   "outputs": [],
   "source": [
    "# Plot the Frequency Domain Transform of the Detrended Neural Data\n",
    "plt.figure(figsize=(36,4))\n",
    "plt.plot(freq_bins, abs(FFT[0:len(FFT)//2]), \n",
    "         label='FFT of the Detrended Neural Signal', linewidth=.1)\n",
    "plt.title('Magnitude of the FFT of the Detrended Neural Data', fontsize=20)\n",
    "plt.xlabel('Frequencies [Hz]', fontsize=20)\n",
    "plt.ylabel('Magnitude', fontsize=20)\n",
    "plt.legend()\n",
    "plt.show()"
   ]
  },
  {
   "cell_type": "code",
   "execution_count": null,
   "metadata": {},
   "outputs": [],
   "source": [
    "# Plot of the PSD of the Detrended Neural Data\n",
    "plt.figure(figsize=(12,4))\n",
    "plt.plot(freq_bins, psd, \n",
    "         label='Power of the Detrended Neural Signal', linewidth=1)\n",
    "plt.title('Power Spectral Density of the Detrended Neural Data', fontsize=20)\n",
    "plt.xlabel('Frequencies [Hz]', fontsize=20)\n",
    "plt.ylabel('Power', fontsize=20)\n",
    "plt.legend()\n",
    "plt.show()\n"
   ]
  },
  {
   "cell_type": "code",
   "execution_count": null,
   "metadata": {},
   "outputs": [],
   "source": [
    "# Sorting the peaks and printing the corresponding indices:\n",
    "freq_amplitudes = abs(FFT[0:int(len(FFT)/2)])\n",
    "freq_amplitudes_df = pd.DataFrame(freq_amplitudes, columns = ['Amplitude'])\n",
    "freq_amplitudes_df_sorted = freq_amplitudes_df.sort_values(by='Amplitude', ascending=False).head(20)"
   ]
  },
  {
   "cell_type": "code",
   "execution_count": null,
   "metadata": {},
   "outputs": [],
   "source": [
    "freq_amplitudes_df_sorted.head()"
   ]
  },
  {
   "cell_type": "code",
   "execution_count": null,
   "metadata": {},
   "outputs": [],
   "source": [
    "\n",
    "def fft_filter_custom(percentage, freq_bins, FFT):\n",
    "    threshold = percentage * (2 * abs(FFT[0:len(FFT)//2]) / len(freq_bins)).max()\n",
    "    print(f\"threshold: {threshold}\")\n",
    "    filtered_FFT = FFT.copy()\n",
    "    filtered_FFT_mag = np.abs(filtered_FFT)\n",
    "    filtered_FFT_mag = 2*filtered_FFT_mag / len(freq_bins)\n",
    "    filtered_FFT[filtered_FFT_mag <= threshold]=0\n",
    "    return filtered_FFT\n",
    "\n",
    "# Plotting the thresholded FFT\n",
    "# This is incorrect: the signal is mirrored about the vertical axis of the graph\n",
    "percentage = 0.2\n",
    "\n",
    "fft_filtered_custom = fft_filter_custom(percentage, freq_bins, FFT)\n",
    "time_filtered_custom = np.fft.ifft(fft_filtered_custom)\n",
    "\n",
    "plt.figure(figsize=(24, 4))\n",
    "plt.plot(time, time_filtered_custom)\n",
    "plt.show()\n"
   ]
  },
  {
   "cell_type": "code",
   "execution_count": null,
   "metadata": {},
   "outputs": [],
   "source": [
    "plt.plot(freq_bins, abs(FFT[0:len(FFT)//2]))\n",
    "\n",
    "iFFT = np.fft.ifft(FFT)\n",
    "plt.figure(figsize=(12,4))\n",
    "plt.plot(time, iFFT, label = 'iFFT of detrended_y')\n",
    "plt.plot(time, detrend_y, linewidth=0.1, label = 'detrended_y')\n",
    "plt.legend()\n",
    "plt.show()"
   ]
  },
  {
   "cell_type": "code",
   "execution_count": null,
   "metadata": {},
   "outputs": [],
   "source": [
    "type(freq_bins)"
   ]
  },
  {
   "cell_type": "code",
   "execution_count": null,
   "metadata": {},
   "outputs": [],
   "source": [
    "percentage = .6\n",
    "plt.figure(figsize=(12, 4))\n",
    "# plt.plot(time, detrend_y, label='Raw Neural Signal', color=list(mcolors.TABLEAU_COLORS.keys())[1])\n",
    "plt.plot(time, \n",
    "         np.fft.ifft(fft_filter_custom(percentage, freq_bins, FFT)), \n",
    "         color=list(mcolors.TABLEAU_COLORS.keys())[0],\n",
    "         label='Thresholded Detrended Signal')  \n",
    "plt.title('Filtered Signal Thresholded at %0.0f%% of the Maximum Frequency'% (percentage*100))\n",
    "plt.xlabel('Time [s]')\n",
    "plt.ylabel('Amplitude')\n",
    "plt.legend(loc='upper right')\n",
    "plt.show()"
   ]
  },
  {
   "cell_type": "markdown",
   "metadata": {},
   "source": [
    "##### [Detecting noise by examining the correllation between the residual and the original waveform.](https://towardsdatascience.com/noise-cancellation-with-python-and-fourier-transform-97303314aa71)"
   ]
  },
  {
   "cell_type": "markdown",
   "metadata": {},
   "source": [
    "## Reading the audio bytes using scipy.io.wavfile"
   ]
  },
  {
   "cell_type": "code",
   "execution_count": null,
   "metadata": {},
   "outputs": [],
   "source": [
    "sample_rate, raw_audio_bytes_scipy = scipy.io.wavfile.read(data_file_list[0])"
   ]
  },
  {
   "cell_type": "code",
   "execution_count": null,
   "metadata": {},
   "outputs": [],
   "source": [
    "print(len(raw_neural_data))\n",
    "print(len(raw_audio_bytes_scipy))"
   ]
  },
  {
   "cell_type": "code",
   "execution_count": null,
   "metadata": {},
   "outputs": [],
   "source": [
    "time_end = len(raw_audio_bytes_scipy) / sample_rate \n",
    "time_end"
   ]
  },
  {
   "cell_type": "code",
   "execution_count": null,
   "metadata": {},
   "outputs": [],
   "source": [
    "time_raw_audio_bytes_scipy = np.arange(start=0, stop=time_end, step=(1/sample_rate))"
   ]
  },
  {
   "cell_type": "code",
   "execution_count": null,
   "metadata": {},
   "outputs": [],
   "source": [
    "plt.plot(time_raw_audio_bytes_scipy, raw_audio_bytes_scipy)\n",
    "len(time_raw_audio_bytes_scipy)\n"
   ]
  },
  {
   "cell_type": "code",
   "execution_count": null,
   "metadata": {},
   "outputs": [],
   "source": [
    "SAMPLE_RATE = 20000\n",
    "raw_neural_data, sr = librosa.load(data_file_list[0], sr = SAMPLE_RATE)\n",
    "\n",
    "# It appears there is a trend in the data that is non-zero\n",
    "detrend_y = scipy.signal.detrend(raw_neural_data)\n",
    "\n",
    "# FFT = np.fft.fft(detrend_y)\n",
    "FFT = np.fft.fft(detrend_y)\n",
    "half_length_of_the_FFT = int(len(FFT)/2)\n",
    "\n",
    "# Creating frequency bins\n",
    "N = len(FFT)\n",
    "\n",
    "freq_bins = np.arange(start=0, stop=(sr/2), step=(sr/N))\n",
    "\n",
    "def fft_filter_custom(percentage, freq_bins, FFT):\n",
    "    threshold = percentage * (2 * abs(FFT[0:len(FFT)//2]) / len(freq_bins)).max()\n",
    "    print(f\"threshold: {threshold}\")\n",
    "    filtered_FFT = FFT.copy()\n",
    "    filtered_FFT_mag = np.abs(filtered_FFT)\n",
    "    filtered_FFT_mag = 2*filtered_FFT_mag / len(freq_bins)\n",
    "    filtered_FFT[filtered_FFT_mag <= threshold]=0\n",
    "    return filtered_FFT\n",
    "\n",
    "# Plotting the thresholded FFT\n",
    "percentage = 0.2\n",
    "\n",
    "fft_filtered_custom = fft_filter_custom(percentage, freq_bins, FFT)\n",
    "time_filtered_custom = np.fft.ifft(fft_filtered_custom)\n",
    "\n",
    "plt.figure(figsize=(24, 4))\n",
    "plt.plot(time, time_filtered_custom)\n",
    "plt.show()\n"
   ]
  },
  {
   "cell_type": "code",
   "execution_count": null,
   "metadata": {},
   "outputs": [],
   "source": [
    "time_filtered_custom_bytes = time_filtered_custom.tobytes()"
   ]
  },
  {
   "cell_type": "markdown",
   "metadata": {},
   "source": [
    "## [Identifying the optimal threshold at which to filter the signal](https://towardsdatascience.com/noise-cancellation-with-python-and-fourier-transform-97303314aa71)"
   ]
  },
  {
   "cell_type": "code",
   "execution_count": null,
   "metadata": {},
   "outputs": [],
   "source": [
    "type(freq_bins)"
   ]
  },
  {
   "cell_type": "code",
   "execution_count": null,
   "metadata": {},
   "outputs": [],
   "source": [
    "SAMPLE_RATE = 20000\n",
    "raw_neural_data, sr = librosa.load(data_file_list[0], sr = SAMPLE_RATE)\n",
    "\n",
    "# It appears there is a trend in the data that is non-zero\n",
    "detrend_y = scipy.signal.detrend(raw_neural_data)\n",
    "\n",
    "# FFT = np.fft.fft(detrend_y)\n",
    "FFT = np.fft.fft(detrend_y)\n",
    "half_length_of_the_FFT = int(len(FFT)/2)\n",
    "\n",
    "# Creating frequency bins\n",
    "N = len(FFT)\n",
    "\n",
    "freq_bins = np.arange(start=0, stop=(sr/2), step=(sr/N))\n",
    "\n"
   ]
  },
  {
   "cell_type": "code",
   "execution_count": 87,
   "metadata": {},
   "outputs": [],
   "source": [
    "\n",
    "\n",
    "def fft_filter_custom(percentage, freq_bins, FFT):\n",
    "    threshold = percentage * (2 * abs(FFT[0:len(FFT)//2]) / len(freq_bins)\n",
    "                              ).max()\n",
    "    # print(f\"threshold: {threshold}\")\n",
    "    filtered_FFT = FFT.copy()\n",
    "    filtered_FFT_mag = np.abs(filtered_FFT)\n",
    "    filtered_FFT_mag = 2*filtered_FFT_mag / len(freq_bins)\n",
    "    filtered_FFT[filtered_FFT_mag <= threshold]=0\n",
    "    return filtered_FFT\n",
    "\n"
   ]
  },
  {
   "cell_type": "code",
   "execution_count": null,
   "metadata": {},
   "outputs": [],
   "source": [
    "import scipy.stats as stats"
   ]
  },
  {
   "cell_type": "code",
   "execution_count": null,
   "metadata": {},
   "outputs": [],
   "source": [
    "percentage_list = np.linspace(0, 1, num=1000)"
   ]
  },
  {
   "cell_type": "code",
   "execution_count": 93,
   "metadata": {},
   "outputs": [
    {
     "data": {
      "text/plain": [
       "Text(0.5, 0, 'Percentage of Filter')"
      ]
     },
     "execution_count": 93,
     "metadata": {},
     "output_type": "execute_result"
    },
    {
     "data": {
      "image/png": "[encoded data removed]",
      "text/plain": [
       "<Figure size 2000x1000 with 1 Axes>"
      ]
     },
     "metadata": {},
     "output_type": "display_data"
    },
    {
     "data": {
      "image/png": "[encoded data removed]",
      "text/plain": [
       "<Figure size 2000x1000 with 1 Axes>"
      ]
     },
     "metadata": {},
     "output_type": "display_data"
    }
   ],
   "source": [
    "p_values = []\n",
    "correlation_values = []\n",
    "for percentage in percentage_list:\n",
    "    fft_filtered_custom = fft_filter_custom(percentage, freq_bins, FFT)    \n",
    "    filtered_signal = np.fft.ifft(fft_filtered_custom)\n",
    "    residuals = stats.spearmanr(detrend_y, detrend_y - filtered_signal)\n",
    "    p_values.append(residuals.pvalue)\n",
    "    correlation_values.append(residuals.correlation)\n",
    "\n",
    "plt.figure(figsize=(20,10))\n",
    "plt.subplot(1, 2, 1)\n",
    "plt.scatter(percentage_list, correlation_values, s=2, color='tab:green')\n",
    "plt.ylabel('Correlation Value')\n",
    "plt.xlabel('Percentage of Filter')\n",
    "\n",
    "plt.figure(figsize=(20, 10))\n",
    "plt.subplot(1, 2, 2)\n",
    "plt.plot(percentage_list, p_values)\n",
    "plt.ylabel('P-Value')\n",
    "plt.xlabel('Percentage of Filter')\n"
   ]
  },
  {
   "cell_type": "code",
   "execution_count": 95,
   "metadata": {},
   "outputs": [
    {
     "data": {
      "text/html": [
       "<div>\n",
       "<style scoped>\n",
       "    .dataframe tbody tr th:only-of-type {\n",
       "        vertical-align: middle;\n",
       "    }\n",
       "\n",
       "    .dataframe tbody tr th {\n",
       "        vertical-align: top;\n",
       "    }\n",
       "\n",
       "    .dataframe thead th {\n",
       "        text-align: right;\n",
       "    }\n",
       "</style>\n",
       "<table border=\"1\" class=\"dataframe\">\n",
       "  <thead>\n",
       "    <tr style=\"text-align: right;\">\n",
       "      <th></th>\n",
       "      <th>0</th>\n",
       "    </tr>\n",
       "  </thead>\n",
       "  <tbody>\n",
       "    <tr>\n",
       "      <th>count</th>\n",
       "      <td>1000.000000</td>\n",
       "    </tr>\n",
       "    <tr>\n",
       "      <th>mean</th>\n",
       "      <td>0.000313</td>\n",
       "    </tr>\n",
       "    <tr>\n",
       "      <th>std</th>\n",
       "      <td>0.009882</td>\n",
       "    </tr>\n",
       "    <tr>\n",
       "      <th>min</th>\n",
       "      <td>0.000000</td>\n",
       "    </tr>\n",
       "    <tr>\n",
       "      <th>25%</th>\n",
       "      <td>0.000000</td>\n",
       "    </tr>\n",
       "    <tr>\n",
       "      <th>50%</th>\n",
       "      <td>0.000000</td>\n",
       "    </tr>\n",
       "    <tr>\n",
       "      <th>75%</th>\n",
       "      <td>0.000000</td>\n",
       "    </tr>\n",
       "    <tr>\n",
       "      <th>max</th>\n",
       "      <td>0.312486</td>\n",
       "    </tr>\n",
       "  </tbody>\n",
       "</table>\n",
       "</div>"
      ],
      "text/plain": [
       "                 0\n",
       "count  1000.000000\n",
       "mean      0.000313\n",
       "std       0.009882\n",
       "min       0.000000\n",
       "25%       0.000000\n",
       "50%       0.000000\n",
       "75%       0.000000\n",
       "max       0.312486"
      ]
     },
     "execution_count": 95,
     "metadata": {},
     "output_type": "execute_result"
    }
   ],
   "source": [
    "pd.DataFrame(p_values).describe()\n"
   ]
  }
 ],
 "metadata": {
  "kernelspec": {
   "display_name": "py_encoding_env",
   "language": "python",
   "name": "python3"
  },
  "language_info": {
   "codemirror_mode": {
    "name": "ipython",
    "version": 3
   },
   "file_extension": ".py",
   "mimetype": "text/x-python",
   "name": "python",
   "nbconvert_exporter": "python",
   "pygments_lexer": "ipython3",
   "version": "3.12.3"
  }
 },
 "nbformat": 4,
 "nbformat_minor": 2
}
